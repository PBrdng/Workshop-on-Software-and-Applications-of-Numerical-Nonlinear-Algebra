{
 "cells": [
  {
   "cell_type": "markdown",
   "id": "daf00b02",
   "metadata": {},
   "source": [
    "# Best Practices"
   ]
  },
  {
   "cell_type": "code",
   "execution_count": 2,
   "id": "c19055d8",
   "metadata": {},
   "outputs": [
    {
     "data": {
      "text/plain": [
       ":none"
      ]
     },
     "execution_count": 2,
     "metadata": {},
     "output_type": "execute_result"
    }
   ],
   "source": [
    "using HomotopyContinuation, LinearAlgebra\n",
    "set_default_compile(:none)"
   ]
  },
  {
   "cell_type": "markdown",
   "id": "9aa68dc2",
   "metadata": {},
   "source": [
    "## Try to avoid determinants and minors \n",
    "\n",
    "For many problems it is necessary to formulate the condition that vectors are linearly dependent or that a matrix is singular.\n",
    "\n",
    "**Examples**\n",
    "* [Computing the narrowest bottleneck of a variety](https://www.juliahomotopycontinuation.org/examples/sampling_bottlenecks/)\n",
    "* Sampling the discriminant of a parameterized system\n",
    "\n",
    "\n",
    "Algebraic geometers in partcular, often reach to determinants and minors to formulate such a condition.\n",
    "However, for homotopy continuation approaches this can result in numerically challenging systems.\n",
    "\n",
    "**Why?**\n",
    "\n",
    "Homotopy continuation is a *geometric* solution method. We have a solution to a system, slightly perturb the coefficients of our system and try to find again a solution to the perturbed system. As a general rule of thumb, the larger the degree of the system the more difficult it is to find the solution to the perturbed system.\n",
    "\n",
    "**Better approach**\n",
    "\n",
    "1) Singular matrices\n",
    "\n",
    "Consider the case that we want to encode that an $n \\times n$ matrix $J$ is singular. Instead of requiring $\\det(J) = 0$ we use an additional n-dimensional vector $v$ and write the (partial) system\n",
    "$$\n",
    "\\begin{bmatrix} J \\\\ J * v \\\\ \\sum_i v_i - 1 \\end{bmatrix}\n",
    "$$\n",
    "\n",
    "### Example:"
   ]
  },
  {
   "cell_type": "code",
   "execution_count": 13,
   "id": "c0ae5a1a",
   "metadata": {},
   "outputs": [
    {
     "data": {
      "text/plain": [
       "2×2 Matrix{Expression}:\n",
       " a*y + 3*x^2    a*x\n",
       "           3  4*y^3"
      ]
     },
     "execution_count": 13,
     "metadata": {},
     "output_type": "execute_result"
    }
   ],
   "source": [
    "@var x y a\n",
    "F = System([x^3 + a*x*y + 1, y^4 + 3 * x - 2], parameters = [a])\n",
    "J = jacobian(F)"
   ]
  },
  {
   "cell_type": "code",
   "execution_count": 14,
   "id": "2c54a73e",
   "metadata": {},
   "outputs": [
    {
     "data": {
      "text/plain": [
       "System of length 3\n",
       " 3 variables: a, x, y\n",
       "\n",
       " 1 + a*x*y + x^3\n",
       " -2 + 3*x + y^4\n",
       " -3*a*x + 4*y^3*(a*y + 3*x^2)"
      ]
     },
     "execution_count": 14,
     "metadata": {},
     "output_type": "execute_result"
    }
   ],
   "source": [
    "# BAD approach\n",
    "G_bad = System([expressions(F); det(J)])"
   ]
  },
  {
   "cell_type": "code",
   "execution_count": 15,
   "id": "952fd92a",
   "metadata": {},
   "outputs": [
    {
     "data": {
      "text/plain": [
       "System of length 5\n",
       " 5 variables: a, v₁, v₂, x, y\n",
       "\n",
       " 1 + a*x*y + x^3\n",
       " -2 + 3*x + y^4\n",
       " v₁*(a*y + 3*x^2) + a*x*v₂\n",
       " 3*v₁ + 4*y^3*v₂\n",
       " -1 + v₁ + v₂"
      ]
     },
     "execution_count": 15,
     "metadata": {},
     "output_type": "execute_result"
    }
   ],
   "source": [
    "# GOOD approach\n",
    "@var v[1:2]\n",
    "G_good = System([expressions(F); J * v; sum(v) - 1])"
   ]
  },
  {
   "cell_type": "markdown",
   "id": "12e197b4",
   "metadata": {},
   "source": [
    "2) Linear dependent vectors\n",
    "\n",
    "If you want to model that two vectors $v$ and $w$ are linearly dependent is usually much better to just impose the condition that there exists an $\\lambda \\neq 0$ such that $v = \\lambda w$.\n",
    "If you use parameter homotopies and start with a start solution where $v$ and $w$ are dependent, then imposing the condition $\\lambda \\neq 0$ is often unnecessary."
   ]
  },
  {
   "cell_type": "markdown",
   "id": "04d22c46",
   "metadata": {},
   "source": [
    "## Parameter homotopies"
   ]
  },
  {
   "cell_type": "markdown",
   "id": "4bbfc643",
   "metadata": {},
   "source": [
    "A powerful feature of parameter homotopies is the possibility to use the offline-online approach."
   ]
  },
  {
   "cell_type": "markdown",
   "id": "e87c36c8",
   "metadata": {},
   "source": [
    "**Recall:**\n",
    "\n",
    "Our previous discussion gives us the following approach for repeatedly solving a parameterized polynomial system $F(x;p)$ with parameter space $\\mathbb{C}^m$.\n",
    "\n",
    "1. Compute all isolated solutions $S_q$ for a general $q \\in \\mathbb{C}^m$ by some method (offline part - needs to be done only once)\n",
    "2. For each parameter value $p \\in \\mathbb{C}^m$ of interest\n",
    "    1. Construct the homotopy $H(x, t) = F(x; t q + (1-t) p)$\n",
    "    2. For each $s \\in S_q$ track the solution from $t=1$ to $t=0$. The result is $S_p$."
   ]
  },
  {
   "cell_type": "markdown",
   "id": "5b9ffb03",
   "metadata": {},
   "source": [
    "Offline part:"
   ]
  },
  {
   "cell_type": "code",
   "execution_count": 16,
   "id": "641588bb",
   "metadata": {},
   "outputs": [
    {
     "data": {
      "text/plain": [
       "2-element Vector{Vector{ComplexF64}}:\n",
       " [0.2663202712744034 + 0.6864186388794614im]\n",
       " [0.7779845825624262 + 0.5872047571010558im]"
      ]
     },
     "execution_count": 16,
     "metadata": {},
     "output_type": "execute_result"
    }
   ],
   "source": [
    "@var x a b\n",
    "F = System([x^2 + a * x + b], parameters = [a, b])\n",
    "\n",
    "x₁, x₂ = randn(ComplexF64, 2)\n",
    "q = [-(x₁ + x₂), x₁ * x₂]\n",
    "S_q = [[x₁], [x₂]]"
   ]
  },
  {
   "cell_type": "code",
   "execution_count": 17,
   "id": "6223d6da",
   "metadata": {},
   "outputs": [],
   "source": [
    "write_parameters(\"quad_start_params.txt\", q)\n",
    "write_solutions(\"quad_start_sols.txt\", S_q)"
   ]
  },
  {
   "cell_type": "markdown",
   "id": "69c5759b",
   "metadata": {},
   "source": [
    "Online part:"
   ]
  },
  {
   "cell_type": "code",
   "execution_count": 18,
   "id": "57245b4d",
   "metadata": {},
   "outputs": [
    {
     "data": {
      "text/plain": [
       "2-element Vector{ComplexF64}:\n",
       "  -1.0443048538368296 - 1.2736233959805172im\n",
       " -0.19587522503752267 + 0.6904076484364798im"
      ]
     },
     "execution_count": 18,
     "metadata": {},
     "output_type": "execute_result"
    }
   ],
   "source": [
    "q = read_parameters(\"quad_start_params.txt\")"
   ]
  },
  {
   "cell_type": "code",
   "execution_count": 19,
   "id": "b47a4124",
   "metadata": {},
   "outputs": [
    {
     "data": {
      "text/plain": [
       "2-element Vector{Vector{ComplexF64}}:\n",
       " [0.2663202712744034 + 0.6864186388794614im]\n",
       " [0.7779845825624262 + 0.5872047571010558im]"
      ]
     },
     "execution_count": 19,
     "metadata": {},
     "output_type": "execute_result"
    }
   ],
   "source": [
    "S_q = read_solutions(\"quad_start_sols.txt\")"
   ]
  },
  {
   "cell_type": "code",
   "execution_count": 20,
   "id": "c51c8b9f",
   "metadata": {},
   "outputs": [
    {
     "data": {
      "text/plain": [
       "Result with 2 solutions\n",
       "=======================\n",
       "• 2 paths tracked\n",
       "• 2 non-singular solutions (0 real)\n",
       "• random_seed: 0x89af08c6\n"
      ]
     },
     "execution_count": 20,
     "metadata": {},
     "output_type": "execute_result"
    }
   ],
   "source": [
    "p = [-2.5, 3]\n",
    "R_p = solve(F, S_q; start_parameters = q, target_parameters = p)"
   ]
  },
  {
   "cell_type": "code",
   "execution_count": 21,
   "id": "7490fdb0",
   "metadata": {},
   "outputs": [
    {
     "data": {
      "text/plain": [
       "2-element Vector{Vector{ComplexF64}}:\n",
       " [1.25 - 1.1989578808281798im]\n",
       " [1.25 + 1.19895788082818im]"
      ]
     },
     "execution_count": 21,
     "metadata": {},
     "output_type": "execute_result"
    }
   ],
   "source": [
    "S_p = solutions(R_p)"
   ]
  },
  {
   "cell_type": "markdown",
   "id": "775e8c67",
   "metadata": {},
   "source": [
    "<div style=\"border:2px gray; border-style:solid; padding: 0.5em\"> This approach works best if the start parameters and target parameters are:\n",
    "   <ul>\n",
    "      <li>of the same scale, i.e., similar in magnitude</li>\n",
    "      <li>from similar probability distributions</li>\n",
    "  </ul>\n",
    "</div>"
   ]
  },
  {
   "cell_type": "markdown",
   "id": "aa364763",
   "metadata": {},
   "source": [
    "<div style=\"border:2px gray; border-style:solid; padding: 0.5em\"> Try to avoid \"random\" integers as e.g. produced by Macaulay2 since these result oft in numerically badly conditioned systems </div> "
   ]
  },
  {
   "cell_type": "markdown",
   "id": "3619ce5f",
   "metadata": {},
   "source": [
    "## Sparse > dense or why elimination is not always good"
   ]
  },
  {
   "cell_type": "markdown",
   "id": "848e0927",
   "metadata": {},
   "source": [
    "If you are used to work with a symbolic computer algebra system, you are used to formulate your problem such that the problem has a minimal number of variables, e.g.,  by eliminating some of the variables.\n",
    "\n",
    "The tradeoff there is often: less variables in exchange for a system with higher degrees and with more terms (i.e. \"more dense\").\n",
    "\n",
    "For homotopy continuation methods this approach can actually be harmful since the resulting system can be subtanially more expensive to evaluate, numerically worse, and of higher degree than the original system."
   ]
  },
  {
   "cell_type": "markdown",
   "id": "cf637720",
   "metadata": {},
   "source": [
    "#### Example:  Steiner's conic problem\n",
    "\n",
    "Consider Steiner's conic problem of computing plane conics tangents to five given conics.\n",
    "\n",
    "We can formulate the problem as"
   ]
  },
  {
   "cell_type": "code",
   "execution_count": 22,
   "id": "fa9757e3",
   "metadata": {},
   "outputs": [
    {
     "data": {
      "text/plain": [
       "(u₆ + u₁*x₁^2 + u₃*x₂^2 + u₄*x₁ + u₅*x₂ + u₂*x₂*x₁, Variable[u₁, u₂, u₃, u₄, u₅, u₆])"
      ]
     },
     "execution_count": 22,
     "metadata": {},
     "output_type": "execute_result"
    }
   ],
   "source": [
    "@var x[1:2]\n",
    "\n",
    "f, u = dense_poly(x, 2; coeff_name = :u)"
   ]
  },
  {
   "cell_type": "code",
   "execution_count": 23,
   "id": "3d123470",
   "metadata": {},
   "outputs": [
    {
     "data": {
      "text/plain": [
       "System of length 15\n",
       " 15 variables: u₁, u₂, u₃, u₄, u₅, P₁₋₁, P₂₋₁, P₁₋₂, P₂₋₂, P₁₋₃, P₂₋₃, P₁₋₄, P₂₋₄, P₁₋₅, P₂₋₅\n",
       " 30 parameters: C₁₋₁, C₂₋₁, C₃₋₁, C₄₋₁, C₅₋₁, C₆₋₁, C₁₋₂, C₂₋₂, C₃₋₂, C₄₋₂, C₅₋₂, C₆₋₂, C₁₋₃, C₂₋₃, C₃₋₃, C₄₋₃, C₅₋₃, C₆₋₃, C₁₋₄, C₂₋₄, C₃₋₄, C₄₋₄, C₅₋₄, C₆₋₄, C₁₋₅, C₂₋₅, C₃₋₅, C₄₋₅, C₅₋₅, C₆₋₅\n",
       "\n",
       " 1 + u₁*P₁₋₁^2 + u₃*P₂₋₁^2 + u₄*P₁₋₁ + u₅*P₂₋₁ + u₂*P₁₋₁*P₂₋₁\n",
       " C₆₋₁ + C₁₋₁*P₁₋₁^2 + C₃₋₁*P₂₋₁^2 + C₄₋₁*P₁₋₁ + C₅₋₁*P₂₋₁ + C₂₋₁*P₁₋₁*P₂₋₁\n",
       " (u₅ + u₂*P₁₋₁ + 2*u₃*P₂₋₁)*(C₄₋₁ + 2*C₁₋₁*P₁₋₁ + C₂₋₁*P₂₋₁) - (C₅₋₁ + C₂₋₁*P₁₋₁ + 2*C₃₋₁*P₂₋₁)*(u₄ + 2*u₁*P₁₋₁ + u₂*P₂₋₁)\n",
       " 1 + u₁*P₁₋₂^2 + u₃*P₂₋₂^2 + u₄*P₁₋₂ + u₅*P₂₋₂ + u₂*P₁₋₂*P₂₋₂\n",
       " C₆₋₂ + C₁₋₂*P₁₋₂^2 + C₃₋₂*P₂₋₂^2 + C₄₋₂*P₁₋₂ + C₅₋₂*P₂₋₂ + C₂₋₂*P₁₋₂*P₂₋₂\n",
       " (u₅ + u₂*P₁₋₂ + 2*u₃*P₂₋₂)*(C₄₋₂ + 2*C₁₋₂*P₁₋₂ + C₂₋₂*P₂₋₂) - (C₅₋₂ + C₂₋₂*P₁₋₂ + 2*C₃₋₂*P₂₋₂)*(u₄ + 2*u₁*P₁₋₂ + u₂*P₂₋₂)\n",
       " 1 + u₁*P₁₋₃^2 + u₃*P₂₋₃^2 + u₄*P₁₋₃ + u₅*P₂₋₃ + u₂*P₁₋₃*P₂₋₃\n",
       " C₆₋₃ + C₁₋₃*P₁₋₃^2 + C₃₋₃*P₂₋₃^2 + C₄₋₃*P₁₋₃ + C₅₋₃*P₂₋₃ + C₂₋₃*P₁₋₃*P₂₋₃\n",
       " (u₅ + u₂*P₁₋₃ + 2*u₃*P₂₋₃)*(C₄₋₃ + 2*C₁₋₃*P₁₋₃ + C₂₋₃*P₂₋₃) - (C₅₋₃ + C₂₋₃*P₁₋₃ + 2*C₃₋₃*P₂₋₃)*(u₄ + 2*u₁*P₁₋₃ + u₂*P₂₋₃)\n",
       " 1 + u₁*P₁₋₄^2 + u₃*P₂₋₄^2 + u₄*P₁₋₄ + u₅*P₂₋₄ + u₂*P₁₋₄*P₂₋₄\n",
       " C₆₋₄ + C₁₋₄*P₁₋₄^2 + C₃₋₄*P₂₋₄^2 + C₄₋₄*P₁₋₄ + C₅₋₄*P₂₋₄ + C₂₋₄*P₁₋₄*P₂₋₄\n",
       " (u₅ + u₂*P₁₋₄ + 2*u₃*P₂₋₄)*(C₄₋₄ + 2*C₁₋₄*P₁₋₄ + C₂₋₄*P₂₋₄) - (C₅₋₄ + C₂₋₄*P₁₋₄ + 2*C₃₋₄*P₂₋₄)*(u₄ + 2*u₁*P₁₋₄ + u₂*P₂₋₄)\n",
       " 1 + u₁*P₁₋₅^2 + u₃*P₂₋₅^2 + u₄*P₁₋₅ + u₅*P₂₋₅ + u₂*P₁₋₅*P₂₋₅\n",
       " C₆₋₅ + C₁₋₅*P₁₋₅^2 + C₃₋₅*P₂₋₅^2 + C₄₋₅*P₁₋₅ + C₅₋₅*P₂₋₅ + C₂₋₅*P₁₋₅*P₂₋₅\n",
       " (u₅ + u₂*P₁₋₅ + 2*u₃*P₂₋₅)*(C₄₋₅ + 2*C₁₋₅*P₁₋₅ + C₂₋₅*P₂₋₅) - (C₅₋₅ + C₂₋₅*P₁₋₅ + 2*C₃₋₅*P₂₋₅)*(u₄ + 2*u₁*P₁₋₅ + u₂*P₂₋₅)"
      ]
     },
     "execution_count": 23,
     "metadata": {},
     "output_type": "execute_result"
    }
   ],
   "source": [
    "# The coefficents of the five given conics\n",
    "@var C[1:6, 1:5]\n",
    "# The coordinates of the five points of tangency\n",
    "@var P[1:2,1:5]\n",
    "\n",
    "exprs = vcat(map(1:5) do i\n",
    "    cᵢ = f(u => C[:,i])\n",
    "    pᵢ = P[:,i]\n",
    "    # The conic f and cᵢ are tangent at pᵢ\n",
    "    # if f(pᵢ) = cᵢ(pᵢ) = det([∇f ∇Jᵢ])) = 0\n",
    "    Jᵢ = differentiate([cᵢ, f], x)\n",
    "    [\n",
    "        f(x => pᵢ, u[6] => 1)\n",
    "        cᵢ(x => pᵢ)\n",
    "        det(Jᵢ)(x => pᵢ, u[6] => 1)\n",
    "    ]\n",
    "end...)\n",
    "\n",
    "F = System(\n",
    "        exprs;\n",
    "        variables = [u[1:5]; vec(P)],\n",
    "        parameters = vec(C)\n",
    ")"
   ]
  },
  {
   "cell_type": "code",
   "execution_count": 24,
   "id": "ef86debb",
   "metadata": {},
   "outputs": [
    {
     "data": {
      "text/plain": [
       "27072"
      ]
     },
     "execution_count": 24,
     "metadata": {},
     "output_type": "execute_result"
    }
   ],
   "source": [
    "mixed_volume(F)"
   ]
  },
  {
   "cell_type": "markdown",
   "id": "2f9774f2",
   "metadata": {},
   "source": [
    "To solve the system symbolically, you would first eliminate the variables $P_{ij}$.\n",
    "\n",
    "Then our system would reduce to a system $T$ of five equations in five unknowns of degree 6.\n",
    "\n",
    "However, each polynomial in the system is dense and has 3210 terms (wrt to $u$) (This makes the system *very expensive* to evaluate).\n",
    "\n",
    "**There are tradeoffs**\n",
    "\n",
    "* System $T$ has only mixed volume $6^5=7776$ compared to mixed volume $27072$ for $F$.\n",
    "* $F$ is substantially cheaper to evaluate and substantially faster for performing parameter homotopy\n",
    "\n",
    "When you deal with parameterized systems the possibly larger mixed volume is often not a problem since you can use monodromy:"
   ]
  },
  {
   "cell_type": "code",
   "execution_count": null,
   "id": "88b3e4f4",
   "metadata": {},
   "outputs": [
    {
     "name": "stdout",
     "output_type": "stream",
     "text": [
      "\r",
      "\r",
      "\u001b[32mSolutions found: 384 \t Time: 0:00:00\u001b[39m\u001b[32mSolutions found: 385 \t Time: 0:00:00\u001b[39m\r",
      "\r\n",
      "\u001b[34m  tracked loops (queued):            397 (368)\u001b[39m\n",
      "\u001b[34m  tracked loops (queued):            398 (370)\u001b[39m\r",
      "\r\n",
      "\u001b[34m  solutions in current (last) loop:  381 (3)\u001b[39m\n",
      "\u001b[34m  solutions in current (last) loop:  380 (3)\u001b[39m\r",
      "\r\n",
      "\u001b[34m  generated loops (no change):       2 (0)\u001b[39m\n",
      "\u001b[34m  generated loops (no change):       2 (0)\u001b[39m"
     ]
    }
   ],
   "source": [
    "monodromy_solve(F; target_solutions_count = 3264)"
   ]
  },
  {
   "cell_type": "markdown",
   "id": "cbcab456",
   "metadata": {},
   "source": [
    "## Julia: Use local environments for your projects\n",
    "\n",
    "Often you need to get back to your projects after a couple months or even years. It would be great if the program you wrote for your project would still work, wouldn't it? Or did you ever experience that things work on your computer but not on you collaborators?\n",
    "\n",
    "Julia's package manager allows you create *local environments*. There you can list all you package dependencies (in a `Project.toml` file) and it automatically records the exact version used (in a `Manifest.toml`) file.\n",
    "\n",
    "*Hands on demo*"
   ]
  },
  {
   "cell_type": "markdown",
   "id": "b5aced69",
   "metadata": {},
   "source": [
    "## HomotopyContinuation.jl: Compiled and interpreted systems"
   ]
  },
  {
   "cell_type": "markdown",
   "id": "2a59e042",
   "metadata": {},
   "source": [
    "The `solve` and `monodromy_solve` routine HomotopyContinuation.jl have an important option: `compile`.\n",
    "\n",
    "This topic is a little bit more technical, but it will helper you better understand \n",
    "\n",
    "Take our system:"
   ]
  },
  {
   "cell_type": "code",
   "execution_count": 3,
   "id": "77d8206d",
   "metadata": {},
   "outputs": [
    {
     "data": {
      "text/plain": [
       "System of length 2\n",
       " 2 variables: x, y\n",
       "\n",
       " 4 - 2*x*y + x^2\n",
       " -4 + y^2"
      ]
     },
     "execution_count": 3,
     "metadata": {},
     "output_type": "execute_result"
    }
   ],
   "source": [
    "@var x y\n",
    "F = System([ x^2 - 2*x*y + 4, y^2 - 4])"
   ]
  },
  {
   "cell_type": "markdown",
   "id": "985b2be5",
   "metadata": {},
   "source": [
    "We defined our system `F` by using the *symbolic* variables `x` and `y`.\n",
    "When we pass `F` to `solve` we need to evaluate `F` and its Jacobian many many times. Therefore, we need to be able to do this *fast*. \n",
    "We could do:"
   ]
  },
  {
   "cell_type": "code",
   "execution_count": 62,
   "id": "e5a6e621",
   "metadata": {},
   "outputs": [
    {
     "name": "stdout",
     "output_type": "stream",
     "text": [
      "  6.225 μs (30 allocations: 720 bytes)\n"
     ]
    },
    {
     "data": {
      "text/plain": [
       "2-element Vector{ComplexF64}:\n",
       " -2.999999999999999 - 16.0im\n",
       "                3.0 + 23.999999999999996im"
      ]
     },
     "execution_count": 62,
     "metadata": {},
     "output_type": "execute_result"
    }
   ],
   "source": [
    "using BenchmarkTools\n",
    "pt = [2.0+1im, 4.0+3im]\n",
    "@btime F($pt)"
   ]
  },
  {
   "cell_type": "markdown",
   "id": "74981ff1",
   "metadata": {},
   "source": [
    "Can we do this any faster?  Yes!\n",
    "\n",
    "In `HomotopyContinuation.jl` there are actually two ways to do it much faster, using either a `CompiledSystem` or an `InterpretedSystem` (we get to what the difference is in a second):"
   ]
  },
  {
   "cell_type": "code",
   "execution_count": 63,
   "id": "5113d95d",
   "metadata": {},
   "outputs": [
    {
     "data": {
      "text/plain": [
       "Compiled: System of length 2\n",
       " 2 variables: x, y\n",
       "\n",
       " 4 + x*(x - 2*y)\n",
       " -4 + y^2"
      ]
     },
     "execution_count": 63,
     "metadata": {},
     "output_type": "execute_result"
    }
   ],
   "source": [
    "FC = CompiledSystem(F)"
   ]
  },
  {
   "cell_type": "code",
   "execution_count": 65,
   "id": "416bb4c5",
   "metadata": {},
   "outputs": [
    {
     "name": "stdout",
     "output_type": "stream",
     "text": [
      "  5.541 ns (0 allocations: 0 bytes)\n"
     ]
    },
    {
     "data": {
      "text/plain": [
       "2-element Vector{ComplexF64}:\n",
       " -3.0 - 16.0im\n",
       "  3.0 + 24.0im"
      ]
     },
     "execution_count": 65,
     "metadata": {},
     "output_type": "execute_result"
    }
   ],
   "source": [
    "u = zeros(ComplexF64, 2)\n",
    "@btime evaluate!($u, $FC, $pt)"
   ]
  },
  {
   "cell_type": "markdown",
   "id": "3b40589e",
   "metadata": {},
   "source": [
    "Let's see how much slower our original approach is:"
   ]
  },
  {
   "cell_type": "code",
   "execution_count": 67,
   "id": "32304e31",
   "metadata": {},
   "outputs": [
    {
     "data": {
      "text/plain": [
       "1167.0456596282258"
      ]
     },
     "execution_count": 67,
     "metadata": {},
     "output_type": "execute_result"
    }
   ],
   "source": [
    "(@belapsed F($pt)) / (@belapsed evaluate!($u, $FC, $pt))"
   ]
  },
  {
   "cell_type": "markdown",
   "id": "05b037a0",
   "metadata": {},
   "source": [
    "There is also the `InterpretedSystem` approach"
   ]
  },
  {
   "cell_type": "code",
   "execution_count": 68,
   "id": "c137ac21",
   "metadata": {},
   "outputs": [
    {
     "data": {
      "text/plain": [
       "Interpreted: System of length 2\n",
       " 2 variables: x, y\n",
       "\n",
       " 4 + x*(x - 2*y)\n",
       " -4 + y^2"
      ]
     },
     "execution_count": 68,
     "metadata": {},
     "output_type": "execute_result"
    }
   ],
   "source": [
    "FI = InterpretedSystem(F)"
   ]
  },
  {
   "cell_type": "code",
   "execution_count": 70,
   "id": "489276e6",
   "metadata": {},
   "outputs": [
    {
     "name": "stdout",
     "output_type": "stream",
     "text": [
      "  43.013 ns (0 allocations: 0 bytes)\n"
     ]
    },
    {
     "data": {
      "text/plain": [
       "2-element Vector{ComplexF64}:\n",
       " -3.0 - 16.0im\n",
       "  3.0 + 24.0im"
      ]
     },
     "execution_count": 70,
     "metadata": {},
     "output_type": "execute_result"
    }
   ],
   "source": [
    "@btime evaluate!($u, $FI, $pt)"
   ]
  },
  {
   "cell_type": "markdown",
   "id": "b57796ef",
   "metadata": {},
   "source": [
    "This is still much faster, but a little bit slower than `CompiledSystem`.\n",
    "\n",
    "The speedup compared to the original way is:"
   ]
  },
  {
   "cell_type": "code",
   "execution_count": 74,
   "id": "b6a4feb1",
   "metadata": {},
   "outputs": [
    {
     "data": {
      "text/plain": [
       "151.67201075217204"
      ]
     },
     "execution_count": 74,
     "metadata": {},
     "output_type": "execute_result"
    }
   ],
   "source": [
    "(@belapsed F($pt)) / (@belapsed evaluate!($u, $FI, $pt))"
   ]
  },
  {
   "cell_type": "markdown",
   "id": "f6d46ec7",
   "metadata": {},
   "source": [
    "### What is happening here?"
   ]
  },
  {
   "cell_type": "markdown",
   "id": "0655adcb",
   "metadata": {},
   "source": [
    "`CompiledSystem` and `InterpretedSystem` both take our `System` `F` and first transform it into a *straight line program* (SLP)."
   ]
  },
  {
   "cell_type": "code",
   "execution_count": 83,
   "id": "a2f500ad",
   "metadata": {},
   "outputs": [
    {
     "data": {
      "text/plain": [
       "ι_1 = INSTR_MUL(x, y)\n",
       "ι_2 = INSTR_MULADD(-2, ι_1, 4)\n",
       "ι_3 = INSTR_SQR(x)\n",
       "ι_4 = INSTR_ADD(ι_3, ι_2)\n",
       "ι_5 = INSTR_SQR(y)\n",
       "ι_6 = INSTR_ADD(ι_5, -4)\n"
      ]
     },
     "execution_count": 83,
     "metadata": {},
     "output_type": "execute_result"
    }
   ],
   "source": [
    "instructions, out = ModelKit.instruction_list(F.expressions);\n",
    "instructions"
   ]
  },
  {
   "cell_type": "markdown",
   "id": "2fe63899",
   "metadata": {},
   "source": [
    "Compare this again to `F`"
   ]
  },
  {
   "cell_type": "code",
   "execution_count": 84,
   "id": "32304406",
   "metadata": {},
   "outputs": [
    {
     "data": {
      "text/plain": [
       "System of length 2\n",
       " 2 variables: x, y\n",
       "\n",
       " 4 - 2*x*y + x^2\n",
       " -4 + y^2"
      ]
     },
     "execution_count": 84,
     "metadata": {},
     "output_type": "execute_result"
    }
   ],
   "source": [
    "F"
   ]
  },
  {
   "cell_type": "markdown",
   "id": "7ae9df7f",
   "metadata": {},
   "source": [
    "`out` tells us which instructions are the final values of the system entries."
   ]
  },
  {
   "cell_type": "code",
   "execution_count": 79,
   "id": "963bac4a",
   "metadata": {},
   "outputs": [
    {
     "data": {
      "text/plain": [
       "2-element Vector{HomotopyContinuation.ModelKit.InstructionRef}:\n",
       " ι_4\n",
       " ι_6"
      ]
     },
     "execution_count": 79,
     "metadata": {},
     "output_type": "execute_result"
    }
   ],
   "source": [
    "out"
   ]
  },
  {
   "cell_type": "markdown",
   "id": "85f04e60",
   "metadata": {},
   "source": [
    "The difference between `CompiledSystem` and `InterpretedSystem` is how they further process this SLP.\n",
    "\n",
    "**InterpretedSystem**\n",
    "\n",
    "This basically takes our SLP (which is just a list of instructions) and iterates over them, stores temporary values etc.\n",
    "\n",
    "**CompiledSystem**\n",
    "\n",
    "This actually automatically writes for you a function for your particular system which then gets *compiled*. This compiled function can be heavily optimized and most likely as fast or faster than what you would have implemented manually."
   ]
  },
  {
   "cell_type": "code",
   "execution_count": 89,
   "id": "f1eafb3d",
   "metadata": {},
   "outputs": [
    {
     "data": {
      "text/plain": [
       "quote\n",
       "    #= /Users/sascha/.julia/packages/HomotopyContinuation/XnHM3/src/model_kit/slp_compiler.jl:86 =#\n",
       "    begin\n",
       "        #= /Users/sascha/.julia/packages/HomotopyContinuation/XnHM3/src/model_kit/slp_compiler.jl:27 =# @boundscheck u === nothing || checkbounds(u, 1:2)\n",
       "        #= /Users/sascha/.julia/packages/HomotopyContinuation/XnHM3/src/model_kit/slp_compiler.jl:29 =# @boundscheck checkbounds(x, 1:2)\n",
       "        #= /Users/sascha/.julia/packages/HomotopyContinuation/XnHM3/src/model_kit/slp_compiler.jl:30 =# @boundscheck p === nothing || checkbounds(p, 1:0)\n",
       "    end\n",
       "    #= /Users/sascha/.julia/packages/HomotopyContinuation/XnHM3/src/model_kit/slp_compiler.jl:87 =#\n",
       "    #= /Users/sascha/.julia/packages/HomotopyContinuation/XnHM3/src/model_kit/slp_compiler.jl:87 =# @inbounds begin\n",
       "            #= /Users/sascha/.julia/packages/HomotopyContinuation/XnHM3/src/model_kit/slp_compiler.jl:88 =#\n",
       "            begin\n",
       "                ι1 = muladd_instr(-2, x[2], x[1])\n",
       "                ι2 = muladd_instr(ι1, x[1], 4)\n",
       "                ι3 = sqr_instr(x[2])\n",
       "                ι4 = add_instr(ι3, -4)\n",
       "            end\n",
       "            #= /Users/sascha/.julia/packages/HomotopyContinuation/XnHM3/src/model_kit/slp_compiler.jl:89 =#\n",
       "            u[1] = ι2\n",
       "            u[2] = ι4\n",
       "        end\n",
       "    #= /Users/sascha/.julia/packages/HomotopyContinuation/XnHM3/src/model_kit/slp_compiler.jl:91 =#\n",
       "    u\n",
       "end"
      ]
     },
     "execution_count": 89,
     "metadata": {},
     "output_type": "execute_result"
    }
   ],
   "source": [
    "ModelKit._evaluate!_impl(typeof(FC))"
   ]
  },
  {
   "cell_type": "code",
   "execution_count": 99,
   "id": "4e12c424",
   "metadata": {
    "scrolled": true
   },
   "outputs": [
    {
     "data": {
      "text/plain": [
       "CodeInfo(\n",
       "\u001b[90m1 ──\u001b[39m       goto #8 if not $(Expr(:boundscheck))\n",
       "\u001b[90m2 ──\u001b[39m       goto #4 if not false\n",
       "\u001b[90m3 ──\u001b[39m       nothing\u001b[90m::Nothing\u001b[39m\n",
       "\u001b[90m4 ┄─\u001b[39m %4  = Core.tuple($(QuoteNode(1:2)))\u001b[36m::Core.Const((1:2,))\u001b[39m\n",
       "\u001b[90m│   \u001b[39m %5  = Base.arraysize(u, 1)\u001b[36m::Int64\u001b[39m\n",
       "\u001b[90m│   \u001b[39m %6  = Base.slt_int(%5, 0)\u001b[36m::Bool\u001b[39m\n",
       "\u001b[90m│   \u001b[39m %7  = Base.ifelse(%6, 0, %5)\u001b[36m::Int64\u001b[39m\n",
       "\u001b[90m│   \u001b[39m %8  = Base.slt_int(2, 1)\u001b[36m::Bool\u001b[39m\n",
       "\u001b[90m│   \u001b[39m %9  = Base.sle_int(1, 1)\u001b[36m::Bool\u001b[39m\n",
       "\u001b[90m│   \u001b[39m %10 = Base.sle_int(1, %7)\u001b[36m::Bool\u001b[39m\n",
       "\u001b[90m│   \u001b[39m %11 = Base.and_int(%9, %10)\u001b[36m::Bool\u001b[39m\n",
       "\u001b[90m│   \u001b[39m %12 = Base.sle_int(1, 2)\u001b[36m::Bool\u001b[39m\n",
       "\u001b[90m│   \u001b[39m %13 = Base.sle_int(2, %7)\u001b[36m::Bool\u001b[39m\n",
       "\u001b[90m│   \u001b[39m %14 = Base.and_int(%12, %13)\u001b[36m::Bool\u001b[39m\n",
       "\u001b[90m│   \u001b[39m %15 = Base.and_int(%11, %14)\u001b[36m::Bool\u001b[39m\n",
       "\u001b[90m│   \u001b[39m %16 = Base.or_int(%8, %15)\u001b[36m::Bool\u001b[39m\n",
       "\u001b[90m└───\u001b[39m       goto #6 if not %16\n",
       "\u001b[90m5 ──\u001b[39m       goto #7\n",
       "\u001b[90m6 ──\u001b[39m       invoke Base.throw_boundserror(_2::Vector{ComplexF64}, %4::Tuple{UnitRange{Int64}})\u001b[90m::Union{}\u001b[39m\n",
       "\u001b[90m└───\u001b[39m       unreachable\n",
       "\u001b[90m7 ──\u001b[39m       nothing\u001b[90m::Nothing\u001b[39m\n",
       "\u001b[90m8 ┄─\u001b[39m       goto #13 if not $(Expr(:boundscheck))\n",
       "\u001b[90m9 ──\u001b[39m %23 = Core.tuple($(QuoteNode(1:2)))\u001b[36m::Core.Const((1:2,))\u001b[39m\n",
       "\u001b[90m│   \u001b[39m %24 = Base.arraysize(x, 1)\u001b[36m::Int64\u001b[39m\n",
       "\u001b[90m│   \u001b[39m %25 = Base.slt_int(%24, 0)\u001b[36m::Bool\u001b[39m\n",
       "\u001b[90m│   \u001b[39m %26 = Base.ifelse(%25, 0, %24)\u001b[36m::Int64\u001b[39m\n",
       "\u001b[90m│   \u001b[39m %27 = Base.slt_int(2, 1)\u001b[36m::Bool\u001b[39m\n",
       "\u001b[90m│   \u001b[39m %28 = Base.sle_int(1, 1)\u001b[36m::Bool\u001b[39m\n",
       "\u001b[90m│   \u001b[39m %29 = Base.sle_int(1, %26)\u001b[36m::Bool\u001b[39m\n",
       "\u001b[90m│   \u001b[39m %30 = Base.and_int(%28, %29)\u001b[36m::Bool\u001b[39m\n",
       "\u001b[90m│   \u001b[39m %31 = Base.sle_int(1, 2)\u001b[36m::Bool\u001b[39m\n",
       "\u001b[90m│   \u001b[39m %32 = Base.sle_int(2, %26)\u001b[36m::Bool\u001b[39m\n",
       "\u001b[90m│   \u001b[39m %33 = Base.and_int(%31, %32)\u001b[36m::Bool\u001b[39m\n",
       "\u001b[90m│   \u001b[39m %34 = Base.and_int(%30, %33)\u001b[36m::Bool\u001b[39m\n",
       "\u001b[90m│   \u001b[39m %35 = Base.or_int(%27, %34)\u001b[36m::Bool\u001b[39m\n",
       "\u001b[90m└───\u001b[39m       goto #11 if not %35\n",
       "\u001b[90m10 ─\u001b[39m       goto #12\n",
       "\u001b[90m11 ─\u001b[39m       invoke Base.throw_boundserror(_4::Vector{ComplexF64}, %23::Tuple{UnitRange{Int64}})\u001b[90m::Union{}\u001b[39m\n",
       "\u001b[90m└───\u001b[39m       unreachable\n",
       "\u001b[90m12 ─\u001b[39m       nothing\u001b[90m::Nothing\u001b[39m\n",
       "\u001b[90m13 ┄\u001b[39m       goto #15 if not $(Expr(:boundscheck))\n",
       "\u001b[90m14 ─\u001b[39m       nothing\u001b[90m::Nothing\u001b[39m\n",
       "\u001b[90m15 ┄\u001b[39m %43 = Base.arrayref(false, x, 2)\u001b[36m::ComplexF64\u001b[39m\n",
       "\u001b[90m│   \u001b[39m %44 = Base.arrayref(false, x, 1)\u001b[36m::ComplexF64\u001b[39m\n",
       "\u001b[90m│   \u001b[39m %45 = Base.getfield(%43, :re)\u001b[36m::Float64\u001b[39m\n",
       "\u001b[90m│   \u001b[39m %46 = Base.sitofp(Float64, -2)\u001b[36m::Float64\u001b[39m\n",
       "\u001b[90m│   \u001b[39m %47 = Base.mul_float(%46, %45)\u001b[36m::Float64\u001b[39m\n",
       "\u001b[90m│   \u001b[39m %48 = Base.getfield(%43, :im)\u001b[36m::Float64\u001b[39m\n",
       "\u001b[90m│   \u001b[39m %49 = Base.sitofp(Float64, -2)\u001b[36m::Float64\u001b[39m\n",
       "\u001b[90m│   \u001b[39m %50 = Base.mul_float(%49, %48)\u001b[36m::Float64\u001b[39m\n",
       "\u001b[90m│   \u001b[39m %51 = Base.getfield(%44, :re)\u001b[36m::Float64\u001b[39m\n",
       "\u001b[90m│   \u001b[39m %52 = Base.add_float(%47, %51)\u001b[36m::Float64\u001b[39m\n",
       "\u001b[90m│   \u001b[39m %53 = Base.getfield(%44, :im)\u001b[36m::Float64\u001b[39m\n",
       "\u001b[90m│   \u001b[39m %54 = Base.add_float(%50, %53)\u001b[36m::Float64\u001b[39m\n",
       "\u001b[90m│   \u001b[39m %55 = Base.arrayref(false, x, 1)\u001b[36m::ComplexF64\u001b[39m\n",
       "\u001b[90m│   \u001b[39m %56 = Base.getfield(%55, :re)\u001b[36m::Float64\u001b[39m\n",
       "\u001b[90m│   \u001b[39m %57 = Base.mul_float(%52, %56)\u001b[36m::Float64\u001b[39m\n",
       "\u001b[90m│   \u001b[39m %58 = Base.getfield(%55, :im)\u001b[36m::Float64\u001b[39m\n",
       "\u001b[90m│   \u001b[39m %59 = Base.mul_float(%54, %58)\u001b[36m::Float64\u001b[39m\n",
       "\u001b[90m│   \u001b[39m %60 = Base.sub_float(%57, %59)\u001b[36m::Float64\u001b[39m\n",
       "\u001b[90m│   \u001b[39m %61 = Base.getfield(%55, :im)\u001b[36m::Float64\u001b[39m\n",
       "\u001b[90m│   \u001b[39m %62 = Base.mul_float(%52, %61)\u001b[36m::Float64\u001b[39m\n",
       "\u001b[90m│   \u001b[39m %63 = Base.getfield(%55, :re)\u001b[36m::Float64\u001b[39m\n",
       "\u001b[90m│   \u001b[39m %64 = Base.mul_float(%54, %63)\u001b[36m::Float64\u001b[39m\n",
       "\u001b[90m│   \u001b[39m %65 = Base.add_float(%62, %64)\u001b[36m::Float64\u001b[39m\n",
       "\u001b[90m│   \u001b[39m %66 = Base.sitofp(Float64, 4)\u001b[36m::Float64\u001b[39m\n",
       "\u001b[90m│   \u001b[39m %67 = Base.add_float(%66, %60)\u001b[36m::Float64\u001b[39m\n",
       "\u001b[90m│   \u001b[39m %68 = %new(ComplexF64, %67, %65)\u001b[36m::ComplexF64\u001b[39m\n",
       "\u001b[90m│   \u001b[39m %69 = Base.arrayref(false, x, 2)\u001b[36m::ComplexF64\u001b[39m\n",
       "\u001b[90m│   \u001b[39m %70 = Base.getfield(%69, :re)\u001b[36m::Float64\u001b[39m\n",
       "\u001b[90m│   \u001b[39m %71 = Base.getfield(%69, :im)\u001b[36m::Float64\u001b[39m\n",
       "\u001b[90m│   \u001b[39m %72 = Base.add_float(%70, %71)\u001b[36m::Float64\u001b[39m\n",
       "\u001b[90m│   \u001b[39m %73 = Base.sub_float(%70, %71)\u001b[36m::Float64\u001b[39m\n",
       "\u001b[90m│   \u001b[39m %74 = Base.mul_float(%72, %73)\u001b[36m::Float64\u001b[39m\n",
       "\u001b[90m│   \u001b[39m %75 = Base.add_float(%70, %70)\u001b[36m::Float64\u001b[39m\n",
       "\u001b[90m│   \u001b[39m %76 = Base.mul_float(%75, %71)\u001b[36m::Float64\u001b[39m\n",
       "\u001b[90m│   \u001b[39m %77 = Base.sitofp(Float64, -4)\u001b[36m::Float64\u001b[39m\n",
       "\u001b[90m│   \u001b[39m %78 = Base.add_float(%77, %74)\u001b[36m::Float64\u001b[39m\n",
       "\u001b[90m│   \u001b[39m %79 = %new(ComplexF64, %78, %76)\u001b[36m::ComplexF64\u001b[39m\n",
       "\u001b[90m│   \u001b[39m       Base.arrayset(false, u, %68, 1)\u001b[90m::Vector{ComplexF64}\u001b[39m\n",
       "\u001b[90m│   \u001b[39m       Base.arrayset(false, u, %79, 2)\u001b[90m::Vector{ComplexF64}\u001b[39m\n",
       "\u001b[90m└───\u001b[39m       return u\n",
       ") => Vector{ComplexF64}"
      ]
     },
     "execution_count": 99,
     "metadata": {},
     "output_type": "execute_result"
    }
   ],
   "source": [
    "@code_typed evaluate!(u, FC, pt, nothing)"
   ]
  },
  {
   "cell_type": "markdown",
   "id": "72e77524",
   "metadata": {},
   "source": [
    "### What are the tradeoffs"
   ]
  },
  {
   "cell_type": "markdown",
   "id": "38791851",
   "metadata": {},
   "source": [
    "**CompiledSystem**:\n",
    "\n",
    "**+**\n",
    "* Fast\n",
    "\n",
    "**-**\n",
    "* Takes time to compile (doesn't scales so well for large systems)\n",
    "* Every \"new\" system has to be compiled\n",
    "\n",
    "\n",
    "**InterpretedSystem**:\n",
    "\n",
    "**+**\n",
    "* No need to compile things again\n",
    "\n",
    "**-**\n",
    "* Slower than the compiled approach"
   ]
  },
  {
   "cell_type": "markdown",
   "id": "f3225adc",
   "metadata": {},
   "source": [
    "Let me illustrate the reocompilation:"
   ]
  },
  {
   "cell_type": "code",
   "execution_count": 31,
   "id": "16e1d4a2",
   "metadata": {},
   "outputs": [
    {
     "data": {
      "text/latex": [
       "$$ 0.776107180875075 - 1.0320739105085*im + (-0.900096309058035 + 0.331002095610112*im)*x + (-0.226807450520723 + 0.325801962513008*im)*y + (1.55493527026397 - 0.039214892949345*im)*x*y + (-0.380826426470644 + 0.536489041143586*im)*x*y^2 + (-0.656980843146676 + 0.0930402172372995*im)*x*y^3 + (-0.270955911186525 - 0.0689222595566265*im)*x^2*y + (-1.54140686048056 + 0.0658991069839086*im)*x^2*y^2 + (0.28357043932699 - 0.717237366468823*im)*x^3*y + (0.849243014645667 - 0.890222156461549*im)*x^2 + (0.440076780798772 - 0.189911532332772*im)*x^3 + (0.12933892093546 - 0.131721501562058*im)*x^4 + (1.22228539582076 + 0.216040453876466*im)*y^2 + (0.535688087229747 + 0.490157083643858*im)*y^3 + (1.8089864017318 - 1.56680461211209*im)*y^4 $$"
      ],
      "text/plain": [
       "0.776107180875075 - 1.0320739105085*im + (-0.900096309058035 + 0.331002095610112*im)*x + (-0.226807450520723 + 0.325801962513008*im)*y + (1.55493527026397 - 0.039214892949345*im)*x*y + (-0.380826426470644 + 0.536489041143586*im)*x*y^2 + (-0.656980843146676 + 0.0930402172372995*im)*x*y^3 + (-0.270955911186525 - 0.0689222595566265*im)*x^2*y + (-1.54140686048056 + 0.0658991069839086*im)*x^2*y^2 + (0.28357043932699 - 0.717237366468823*im)*x^3*y + (0.849243014645667 - 0.890222156461549*im)*x^2 + (0.440076780798772 - 0.189911532332772*im)*x^3 + (0.12933892093546 - 0.131721501562058*im)*x^4 + (1.22228539582076 + 0.216040453876466*im)*y^2 + (0.535688087229747 + 0.490157083643858*im)*y^3 + (1.8089864017318 - 1.56680461211209*im)*y^4"
      ]
     },
     "execution_count": 31,
     "metadata": {},
     "output_type": "execute_result"
    }
   ],
   "source": [
    "rand_poly([x, y], 4)"
   ]
  },
  {
   "cell_type": "code",
   "execution_count": 57,
   "id": "c56c3875",
   "metadata": {},
   "outputs": [
    {
     "data": {
      "text/plain": [
       "System of length 2\n",
       " 2 variables: x, y\n",
       "\n",
       " 0.738761784399863 - 0.372426920836948*im + (-0.187577145023953 - 0.255128036356298*im)*x + (0.717169726889035 + 0.47416235885744*im)*y + (-0.906677739762466 - 0.44809294081095*im)*x*y + (1.23130971557186 + 1.29123091793069*im)*x*y^2 + (1.21062732119352 + 1.7208985495575*im)*x*y^3 + (0.687697019212547 - 0.568787127648395*im)*x^2*y + (0.440671810862765 + 0.863415263363971*im)*x^2*y^2 + (-0.143531848908182 + 0.00966251167574316*im)*x^3*y + (-0.184875886411293 + 1.05662710412844*im)*x^2 + (0.0626599357250505 - 0.245794588732154*im)*x^3 + (0.480709958018087 + 0.155642166993522*im)*x^4 + (0.356116579918516 + 0.638294204299868*im)*y^2 + (0.0673474546330565 + 0.202745387611684*im)*y^3 + (0.237656672296957 - 1.5807333989468*im)*y^4\n",
       " 0.0152147182540225 + 0.0951943624682839*im + (-0.302400739156019 + 0.589563090368547*im)*x + (-0.131686068503997 + 0.121945733163676*im)*y + (1.64897218067488 + 0.00757842300588281*im)*x*y + (0.0110537482994193 + 0.565841646682168*im)*x*y^2 + (-0.393456716612199 - 0.35438543904892*im)*x^2*y + (0.656731161274784 - 0.897896675986685*im)*x^2 + (-0.529032417738605 + 0.0886676368363951*im)*x^3 + (-0.613077334691913 - 0.145252308169483*im)*y^2 + (0.0571308257755177 - 1.598940334178*im)*y^3"
      ]
     },
     "execution_count": 57,
     "metadata": {},
     "output_type": "execute_result"
    }
   ],
   "source": [
    "G = System([rand_poly([x, y], 4), rand_poly([x, y], 3)])"
   ]
  },
  {
   "cell_type": "code",
   "execution_count": 58,
   "id": "ef909154",
   "metadata": {},
   "outputs": [
    {
     "data": {
      "text/plain": [
       "Interpreted: System of length 2\n",
       " 2 variables: x, y\n",
       "\n",
       " 0.738761784399863 - 0.372426920836948*im + x*(-0.187577145023953 - 0.255128036356298*im + x*(-0.184875886411293 + 1.05662710412844*im + x*(0.0626599357250505 - 0.245794588732154*im + (0.480709958018087 + 0.155642166993522*im)*x + (-0.143531848908182 + 0.00966251167574316*im)*y) + y*(0.687697019212547 - 0.568787127648395*im + (0.440671810862765 + 0.863415263363971*im)*y)) + y*(-0.906677739762466 - 0.44809294081095*im + y*(1.23130971557186 + 1.29123091793069*im + (1.21062732119352 + 1.7208985495575*im)*y))) + y*(0.717169726889035 + 0.47416235885744*im + y*(0.356116579918516 + 0.638294204299868*im + y*(0.0673474546330565 + 0.202745387611684*im + (0.237656672296957 - 1.5807333989468*im)*y)))\n",
       " 0.0152147182540225 + 0.0951943624682839*im + x*(-0.302400739156019 + 0.589563090368547*im + x*(0.656731161274784 - 0.897896675986685*im + (-0.529032417738605 + 0.0886676368363951*im)*x + (-0.393456716612199 - 0.35438543904892*im)*y) + y*(1.64897218067488 + 0.00757842300588281*im + (0.0110537482994193 + 0.565841646682168*im)*y)) + y*(-0.131686068503997 + 0.121945733163676*im + y*(-0.613077334691913 - 0.145252308169483*im + (0.0571308257755177 - 1.598940334178*im)*y))"
      ]
     },
     "execution_count": 58,
     "metadata": {},
     "output_type": "execute_result"
    }
   ],
   "source": [
    "GC = CompiledSystem(G)\n",
    "GI = InterpretedSystem(G)"
   ]
  },
  {
   "cell_type": "code",
   "execution_count": 59,
   "id": "6ff57594",
   "metadata": {},
   "outputs": [
    {
     "name": "stdout",
     "output_type": "stream",
     "text": [
      "  0.056136 seconds (170.21 k allocations: 10.076 MiB, 99.58% compilation time)\n",
      "  0.000005 seconds\n"
     ]
    }
   ],
   "source": [
    "@time evaluate!(u, GC, pt)\n",
    "@time evaluate!(u, GI, pt);"
   ]
  },
  {
   "cell_type": "code",
   "execution_count": 60,
   "id": "aa2b473c",
   "metadata": {},
   "outputs": [
    {
     "name": "stdout",
     "output_type": "stream",
     "text": [
      "  20.770 ns (0 allocations: 0 bytes)\n",
      "  163.860 ns (0 allocations: 0 bytes)\n"
     ]
    }
   ],
   "source": [
    "@btime evaluate!($u, $GC, $pt)\n",
    "@btime evaluate!($u, $GI, $pt);"
   ]
  },
  {
   "cell_type": "markdown",
   "id": "26c82e81",
   "metadata": {},
   "source": [
    "### What should I take away from this\n",
    "\n",
    "You most likely never constructed a `CompiledSystem` or `InterpretedSystem` explicitly.\n",
    "Instead you control this often by setting the `compile` flag in `solve`.\n",
    "\n",
    "The `compile` option has 3 possible values\n",
    "\n",
    "* `:none` (or `false`) (will only use `InterpredSystem`)\n",
    "* `:mixed` (will use the `CompiledSystem` for evaluating $F(x,p)$ and its Jacobian, the intpreted approach for the rest (higher order derivatives))\n",
    "* `:all` (or `true`) (will only use `CompiledSystem`)\n",
    "\n",
    "The default value is `:mixed`. Using `:all` can become quickly very expensive."
   ]
  },
  {
   "cell_type": "code",
   "execution_count": 107,
   "id": "cca33d31",
   "metadata": {},
   "outputs": [
    {
     "name": "stdout",
     "output_type": "stream",
     "text": [
      "  0.007992 seconds (11.78 k allocations: 667.812 KiB)\n"
     ]
    },
    {
     "data": {
      "text/plain": [
       "Result with 12 solutions\n",
       "========================\n",
       "• 12 paths tracked\n",
       "• 12 non-singular solutions (0 real)\n",
       "• random_seed: 0x4a1be277\n",
       "• start_system: :polyhedral\n"
      ]
     },
     "execution_count": 107,
     "metadata": {},
     "output_type": "execute_result"
    }
   ],
   "source": [
    "@time solve(G, compile = :none)"
   ]
  },
  {
   "cell_type": "code",
   "execution_count": 109,
   "id": "117455cc",
   "metadata": {},
   "outputs": [
    {
     "name": "stdout",
     "output_type": "stream",
     "text": [
      "  0.009016 seconds (15.10 k allocations: 910.648 KiB)\n"
     ]
    },
    {
     "data": {
      "text/plain": [
       "Result with 12 solutions\n",
       "========================\n",
       "• 12 paths tracked\n",
       "• 12 non-singular solutions (0 real)\n",
       "• random_seed: 0x19b0211b\n",
       "• start_system: :polyhedral\n"
      ]
     },
     "execution_count": 109,
     "metadata": {},
     "output_type": "execute_result"
    }
   ],
   "source": [
    "@time solve(G, compile = :mixed)"
   ]
  },
  {
   "cell_type": "markdown",
   "id": "d882a869",
   "metadata": {},
   "source": [
    "Instead of setting `compile` for every call, you also set it globally by using `set_default_compile`"
   ]
  },
  {
   "cell_type": "code",
   "execution_count": 110,
   "id": "75f417d5",
   "metadata": {},
   "outputs": [
    {
     "name": "stdout",
     "output_type": "stream",
     "text": [
      "search: \u001b[0m\u001b[1ms\u001b[22m\u001b[0m\u001b[1me\u001b[22m\u001b[0m\u001b[1mt\u001b[22m\u001b[0m\u001b[1m_\u001b[22m\u001b[0m\u001b[1md\u001b[22m\u001b[0m\u001b[1me\u001b[22m\u001b[0m\u001b[1mf\u001b[22m\u001b[0m\u001b[1ma\u001b[22m\u001b[0m\u001b[1mu\u001b[22m\u001b[0m\u001b[1ml\u001b[22m\u001b[0m\u001b[1mt\u001b[22m\u001b[0m\u001b[1m_\u001b[22m\u001b[0m\u001b[1mc\u001b[22m\u001b[0m\u001b[1mo\u001b[22m\u001b[0m\u001b[1mm\u001b[22m\u001b[0m\u001b[1mp\u001b[22m\u001b[0m\u001b[1mi\u001b[22m\u001b[0m\u001b[1ml\u001b[22m\u001b[0m\u001b[1me\u001b[22m\n",
      "\n"
     ]
    },
    {
     "data": {
      "text/latex": [
       "\\begin{verbatim}\n",
       "set_default_compile(mode::Symbol)\n",
       "\\end{verbatim}\n",
       "Set the default value for the \\texttt{compile} flag in \\href{@ref}{\\texttt{solve}} and other functions. Possible values are \\texttt{:mixed} (default), \\texttt{:all} and \\texttt{:none}.\n",
       "\n"
      ],
      "text/markdown": [
       "```\n",
       "set_default_compile(mode::Symbol)\n",
       "```\n",
       "\n",
       "Set the default value for the `compile` flag in [`solve`](@ref) and other functions. Possible values are `:mixed` (default), `:all` and `:none`.\n"
      ],
      "text/plain": [
       "\u001b[36m  set_default_compile(mode::Symbol)\u001b[39m\n",
       "\n",
       "  Set the default value for the \u001b[36mcompile\u001b[39m flag in \u001b[36msolve\u001b[39m and other functions.\n",
       "  Possible values are \u001b[36m:mixed\u001b[39m (default), \u001b[36m:all\u001b[39m and \u001b[36m:none\u001b[39m."
      ]
     },
     "execution_count": 110,
     "metadata": {},
     "output_type": "execute_result"
    }
   ],
   "source": [
    "?set_default_compile"
   ]
  },
  {
   "cell_type": "code",
   "execution_count": 111,
   "id": "5eddd3d3",
   "metadata": {},
   "outputs": [
    {
     "data": {
      "text/plain": [
       ":none"
      ]
     },
     "execution_count": 111,
     "metadata": {},
     "output_type": "execute_result"
    }
   ],
   "source": [
    "set_default_compile(:none)"
   ]
  }
 ],
 "metadata": {
  "kernelspec": {
   "display_name": "Julia 1.6.1",
   "language": "julia",
   "name": "julia-1.6"
  },
  "language_info": {
   "file_extension": ".jl",
   "mimetype": "application/julia",
   "name": "julia",
   "version": "1.6.1"
  }
 },
 "nbformat": 4,
 "nbformat_minor": 5
}
