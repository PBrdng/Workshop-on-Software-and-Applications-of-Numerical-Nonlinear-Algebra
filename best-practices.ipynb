{
 "cells": [
  {
   "cell_type": "markdown",
   "id": "daf00b02",
   "metadata": {},
   "source": [
    "# Best Practices"
   ]
  },
  {
   "cell_type": "code",
   "execution_count": 12,
   "id": "c19055d8",
   "metadata": {},
   "outputs": [
    {
     "data": {
      "text/plain": [
       ":none"
      ]
     },
     "execution_count": 12,
     "metadata": {},
     "output_type": "execute_result"
    }
   ],
   "source": [
    "using HomotopyContinuation, LinearAlgebra\n",
    "set_default_compile(:none)"
   ]
  },
  {
   "cell_type": "markdown",
   "id": "9aa68dc2",
   "metadata": {},
   "source": [
    "## Try to avoid determinants and minors \n",
    "\n",
    "For many problems it is necessary to formulate the condition that vectors are linearly dependent or that a matrix is singular.\n",
    "\n",
    "**Examples**\n",
    "* [Computing the narrowest bottleneck of a variety](https://www.juliahomotopycontinuation.org/examples/sampling_bottlenecks/)\n",
    "* Sampling the discriminant of a parameterized system\n",
    "\n",
    "\n",
    "Algebraic geometers in partcular, often reach to determinants and minors to formulate such a condition.\n",
    "However, for homotopy continuation approaches this can result in numerically challenging systems.\n",
    "\n",
    "**Why?**\n",
    "\n",
    "Homotopy continuation is a *geometric* solution method. We have a solution to a system, slightly perturb the coefficients of our system and try to find again a solution to the perturbed system. As a general rule of thumb, the larger the degree of the system the more difficult it is to find the solution to the perturbed system.\n",
    "\n",
    "**Better approach**\n",
    "\n",
    "1) Singular matrices\n",
    "\n",
    "Consider the case that we want to encode that an $n \\times n$ matrix $J$ is singular. Instead of requiring $\\det(J) = 0$ we use an additional n-dimensional vector $v$ and write the (partial) system\n",
    "$$\n",
    "\\begin{bmatrix} J \\\\ J * v \\\\ \\sum_i v_i - 1 \\end{bmatrix}\n",
    "$$\n",
    "\n",
    "### Example:"
   ]
  },
  {
   "cell_type": "code",
   "execution_count": 13,
   "id": "c0ae5a1a",
   "metadata": {},
   "outputs": [
    {
     "data": {
      "text/plain": [
       "2×2 Matrix{Expression}:\n",
       " a*y + 3*x^2    a*x\n",
       "           3  4*y^3"
      ]
     },
     "execution_count": 13,
     "metadata": {},
     "output_type": "execute_result"
    }
   ],
   "source": [
    "@var x y a\n",
    "F = System([x^3 + a*x*y + 1, y^4 + 3 * x - 2], parameters = [a])\n",
    "J = jacobian(F)"
   ]
  },
  {
   "cell_type": "code",
   "execution_count": 14,
   "id": "2c54a73e",
   "metadata": {},
   "outputs": [
    {
     "data": {
      "text/plain": [
       "System of length 3\n",
       " 3 variables: a, x, y\n",
       "\n",
       " 1 + a*x*y + x^3\n",
       " -2 + 3*x + y^4\n",
       " -3*a*x + 4*y^3*(a*y + 3*x^2)"
      ]
     },
     "execution_count": 14,
     "metadata": {},
     "output_type": "execute_result"
    }
   ],
   "source": [
    "# BAD approach\n",
    "G_bad = System([expressions(F); det(J)])"
   ]
  },
  {
   "cell_type": "code",
   "execution_count": 15,
   "id": "952fd92a",
   "metadata": {},
   "outputs": [
    {
     "data": {
      "text/plain": [
       "System of length 5\n",
       " 5 variables: a, v₁, v₂, x, y\n",
       "\n",
       " 1 + a*x*y + x^3\n",
       " -2 + 3*x + y^4\n",
       " v₁*(a*y + 3*x^2) + a*x*v₂\n",
       " 3*v₁ + 4*y^3*v₂\n",
       " -1 + v₁ + v₂"
      ]
     },
     "execution_count": 15,
     "metadata": {},
     "output_type": "execute_result"
    }
   ],
   "source": [
    "# GOOD approach\n",
    "@var v[1:2]\n",
    "G_good = System([expressions(F); J * v; sum(v) - 1])"
   ]
  },
  {
   "cell_type": "markdown",
   "id": "12e197b4",
   "metadata": {},
   "source": [
    "2) Linear dependent vectors\n",
    "\n",
    "If you want to model that two vectors $v$ and $w$ are linearly dependent is usually much better to just impose the condition that there exists an $\\lambda \\neq 0$ such that $v = \\lambda w$.\n",
    "If you use parameter homotopies and start with a start solution where $v$ and $w$ are dependent, then imposing the condition $\\lambda \\neq 0$ is often unnecessary."
   ]
  },
  {
   "cell_type": "markdown",
   "id": "04d22c46",
   "metadata": {},
   "source": [
    "## Parameter homotopies"
   ]
  },
  {
   "cell_type": "markdown",
   "id": "4bbfc643",
   "metadata": {},
   "source": [
    "A powerful feature of parameter homotopies is the possibility to use the offline-online approach."
   ]
  },
  {
   "cell_type": "markdown",
   "id": "e87c36c8",
   "metadata": {},
   "source": [
    "**Recall:**\n",
    "\n",
    "Our previous discussion gives us the following approach for repeatedly solving a parameterized polynomial system $F(x;p)$ with parameter space $\\mathbb{C}^m$.\n",
    "\n",
    "1. Compute all isolated solutions $S_q$ for a general $q \\in \\mathbb{C}^m$ by some method (offline part - needs to be done only once)\n",
    "2. For each parameter value $p \\in \\mathbb{C}^m$ of interest\n",
    "    1. Construct the homotopy $H(x, t) = F(x; t q + (1-t) p)$\n",
    "    2. For each $s \\in S_q$ track the solution from $t=1$ to $t=0$. The result is $S_p$."
   ]
  },
  {
   "cell_type": "markdown",
   "id": "5b9ffb03",
   "metadata": {},
   "source": [
    "Offline part:"
   ]
  },
  {
   "cell_type": "code",
   "execution_count": 16,
   "id": "641588bb",
   "metadata": {},
   "outputs": [
    {
     "data": {
      "text/plain": [
       "2-element Vector{Vector{ComplexF64}}:\n",
       " [0.2663202712744034 + 0.6864186388794614im]\n",
       " [0.7779845825624262 + 0.5872047571010558im]"
      ]
     },
     "execution_count": 16,
     "metadata": {},
     "output_type": "execute_result"
    }
   ],
   "source": [
    "@var x a b\n",
    "F = System([x^2 + a * x + b], parameters = [a, b])\n",
    "\n",
    "x₁, x₂ = randn(ComplexF64, 2)\n",
    "q = [-(x₁ + x₂), x₁ * x₂]\n",
    "S_q = [[x₁], [x₂]]"
   ]
  },
  {
   "cell_type": "code",
   "execution_count": 17,
   "id": "6223d6da",
   "metadata": {},
   "outputs": [],
   "source": [
    "write_parameters(\"quad_start_params.txt\", q)\n",
    "write_solutions(\"quad_start_sols.txt\", S_q)"
   ]
  },
  {
   "cell_type": "markdown",
   "id": "69c5759b",
   "metadata": {},
   "source": [
    "Online part:"
   ]
  },
  {
   "cell_type": "code",
   "execution_count": 18,
   "id": "57245b4d",
   "metadata": {},
   "outputs": [
    {
     "data": {
      "text/plain": [
       "2-element Vector{ComplexF64}:\n",
       "  -1.0443048538368296 - 1.2736233959805172im\n",
       " -0.19587522503752267 + 0.6904076484364798im"
      ]
     },
     "execution_count": 18,
     "metadata": {},
     "output_type": "execute_result"
    }
   ],
   "source": [
    "q = read_parameters(\"quad_start_params.txt\")"
   ]
  },
  {
   "cell_type": "code",
   "execution_count": 19,
   "id": "b47a4124",
   "metadata": {},
   "outputs": [
    {
     "data": {
      "text/plain": [
       "2-element Vector{Vector{ComplexF64}}:\n",
       " [0.2663202712744034 + 0.6864186388794614im]\n",
       " [0.7779845825624262 + 0.5872047571010558im]"
      ]
     },
     "execution_count": 19,
     "metadata": {},
     "output_type": "execute_result"
    }
   ],
   "source": [
    "S_q = read_solutions(\"quad_start_sols.txt\")"
   ]
  },
  {
   "cell_type": "code",
   "execution_count": 20,
   "id": "c51c8b9f",
   "metadata": {},
   "outputs": [
    {
     "data": {
      "text/plain": [
       "Result with 2 solutions\n",
       "=======================\n",
       "• 2 paths tracked\n",
       "• 2 non-singular solutions (0 real)\n",
       "• random_seed: 0x89af08c6\n"
      ]
     },
     "execution_count": 20,
     "metadata": {},
     "output_type": "execute_result"
    }
   ],
   "source": [
    "p = [-2.5, 3]\n",
    "R_p = solve(F, S_q; start_parameters = q, target_parameters = p)"
   ]
  },
  {
   "cell_type": "code",
   "execution_count": 21,
   "id": "7490fdb0",
   "metadata": {},
   "outputs": [
    {
     "data": {
      "text/plain": [
       "2-element Vector{Vector{ComplexF64}}:\n",
       " [1.25 - 1.1989578808281798im]\n",
       " [1.25 + 1.19895788082818im]"
      ]
     },
     "execution_count": 21,
     "metadata": {},
     "output_type": "execute_result"
    }
   ],
   "source": [
    "S_p = solutions(R_p)"
   ]
  },
  {
   "cell_type": "markdown",
   "id": "775e8c67",
   "metadata": {},
   "source": [
    "<div style=\"border:2px gray; border-style:solid; padding: 0.5em\"> This approach works best if the start parameters and target parameters are:\n",
    "   <ul>\n",
    "      <li>of the same scale, i.e., similar in magnitude</li>\n",
    "      <li>from similar probability distributions</li>\n",
    "  </ul>\n",
    "</div>"
   ]
  },
  {
   "cell_type": "markdown",
   "id": "aa364763",
   "metadata": {},
   "source": [
    "<div style=\"border:2px gray; border-style:solid; padding: 0.5em\"> Try to avoid \"random\" integers as e.g. produced by Macaulay2 since these result oft in numerically badly conditioned systems </div> "
   ]
  },
  {
   "cell_type": "markdown",
   "id": "3619ce5f",
   "metadata": {},
   "source": [
    "## Sparse > dense or why elimination is not always good"
   ]
  },
  {
   "cell_type": "markdown",
   "id": "848e0927",
   "metadata": {},
   "source": [
    "If you are used to work with a symbolic computer algebra system, you are used to formulate your problem such that the problem has a minimal number of variables, e.g.,  by eliminating some of the variables.\n",
    "\n",
    "The tradeoff there is often: less variables in exchange for a system with higher degrees and with more terms (i.e. \"more dense\").\n",
    "\n",
    "For homotopy continuation methods this approach can actually be harmful since the resulting system can be subtanially more expensive to evaluate, numerically worse, and of higher degree than the original system."
   ]
  },
  {
   "cell_type": "markdown",
   "id": "cf637720",
   "metadata": {},
   "source": [
    "#### Example:  Steiner's conic problem\n",
    "\n",
    "Consider Steiner's conic problem of computing plane conics tangents to five given conics.\n",
    "\n",
    "We can formulate the problem as"
   ]
  },
  {
   "cell_type": "code",
   "execution_count": 22,
   "id": "fa9757e3",
   "metadata": {},
   "outputs": [
    {
     "data": {
      "text/plain": [
       "(u₆ + u₁*x₁^2 + u₃*x₂^2 + u₄*x₁ + u₅*x₂ + u₂*x₂*x₁, Variable[u₁, u₂, u₃, u₄, u₅, u₆])"
      ]
     },
     "execution_count": 22,
     "metadata": {},
     "output_type": "execute_result"
    }
   ],
   "source": [
    "@var x[1:2]\n",
    "\n",
    "f, u = dense_poly(x, 2; coeff_name = :u)"
   ]
  },
  {
   "cell_type": "code",
   "execution_count": 23,
   "id": "3d123470",
   "metadata": {},
   "outputs": [
    {
     "data": {
      "text/plain": [
       "System of length 15\n",
       " 15 variables: u₁, u₂, u₃, u₄, u₅, P₁₋₁, P₂₋₁, P₁₋₂, P₂₋₂, P₁₋₃, P₂₋₃, P₁₋₄, P₂₋₄, P₁₋₅, P₂₋₅\n",
       " 30 parameters: C₁₋₁, C₂₋₁, C₃₋₁, C₄₋₁, C₅₋₁, C₆₋₁, C₁₋₂, C₂₋₂, C₃₋₂, C₄₋₂, C₅₋₂, C₆₋₂, C₁₋₃, C₂₋₃, C₃₋₃, C₄₋₃, C₅₋₃, C₆₋₃, C₁₋₄, C₂₋₄, C₃₋₄, C₄₋₄, C₅₋₄, C₆₋₄, C₁₋₅, C₂₋₅, C₃₋₅, C₄₋₅, C₅₋₅, C₆₋₅\n",
       "\n",
       " 1 + u₁*P₁₋₁^2 + u₃*P₂₋₁^2 + u₄*P₁₋₁ + u₅*P₂₋₁ + u₂*P₁₋₁*P₂₋₁\n",
       " C₆₋₁ + C₁₋₁*P₁₋₁^2 + C₃₋₁*P₂₋₁^2 + C₄₋₁*P₁₋₁ + C₅₋₁*P₂₋₁ + C₂₋₁*P₁₋₁*P₂₋₁\n",
       " (u₅ + u₂*P₁₋₁ + 2*u₃*P₂₋₁)*(C₄₋₁ + 2*C₁₋₁*P₁₋₁ + C₂₋₁*P₂₋₁) - (C₅₋₁ + C₂₋₁*P₁₋₁ + 2*C₃₋₁*P₂₋₁)*(u₄ + 2*u₁*P₁₋₁ + u₂*P₂₋₁)\n",
       " 1 + u₁*P₁₋₂^2 + u₃*P₂₋₂^2 + u₄*P₁₋₂ + u₅*P₂₋₂ + u₂*P₁₋₂*P₂₋₂\n",
       " C₆₋₂ + C₁₋₂*P₁₋₂^2 + C₃₋₂*P₂₋₂^2 + C₄₋₂*P₁₋₂ + C₅₋₂*P₂₋₂ + C₂₋₂*P₁₋₂*P₂₋₂\n",
       " (u₅ + u₂*P₁₋₂ + 2*u₃*P₂₋₂)*(C₄₋₂ + 2*C₁₋₂*P₁₋₂ + C₂₋₂*P₂₋₂) - (C₅₋₂ + C₂₋₂*P₁₋₂ + 2*C₃₋₂*P₂₋₂)*(u₄ + 2*u₁*P₁₋₂ + u₂*P₂₋₂)\n",
       " 1 + u₁*P₁₋₃^2 + u₃*P₂₋₃^2 + u₄*P₁₋₃ + u₅*P₂₋₃ + u₂*P₁₋₃*P₂₋₃\n",
       " C₆₋₃ + C₁₋₃*P₁₋₃^2 + C₃₋₃*P₂₋₃^2 + C₄₋₃*P₁₋₃ + C₅₋₃*P₂₋₃ + C₂₋₃*P₁₋₃*P₂₋₃\n",
       " (u₅ + u₂*P₁₋₃ + 2*u₃*P₂₋₃)*(C₄₋₃ + 2*C₁₋₃*P₁₋₃ + C₂₋₃*P₂₋₃) - (C₅₋₃ + C₂₋₃*P₁₋₃ + 2*C₃₋₃*P₂₋₃)*(u₄ + 2*u₁*P₁₋₃ + u₂*P₂₋₃)\n",
       " 1 + u₁*P₁₋₄^2 + u₃*P₂₋₄^2 + u₄*P₁₋₄ + u₅*P₂₋₄ + u₂*P₁₋₄*P₂₋₄\n",
       " C₆₋₄ + C₁₋₄*P₁₋₄^2 + C₃₋₄*P₂₋₄^2 + C₄₋₄*P₁₋₄ + C₅₋₄*P₂₋₄ + C₂₋₄*P₁₋₄*P₂₋₄\n",
       " (u₅ + u₂*P₁₋₄ + 2*u₃*P₂₋₄)*(C₄₋₄ + 2*C₁₋₄*P₁₋₄ + C₂₋₄*P₂₋₄) - (C₅₋₄ + C₂₋₄*P₁₋₄ + 2*C₃₋₄*P₂₋₄)*(u₄ + 2*u₁*P₁₋₄ + u₂*P₂₋₄)\n",
       " 1 + u₁*P₁₋₅^2 + u₃*P₂₋₅^2 + u₄*P₁₋₅ + u₅*P₂₋₅ + u₂*P₁₋₅*P₂₋₅\n",
       " C₆₋₅ + C₁₋₅*P₁₋₅^2 + C₃₋₅*P₂₋₅^2 + C₄₋₅*P₁₋₅ + C₅₋₅*P₂₋₅ + C₂₋₅*P₁₋₅*P₂₋₅\n",
       " (u₅ + u₂*P₁₋₅ + 2*u₃*P₂₋₅)*(C₄₋₅ + 2*C₁₋₅*P₁₋₅ + C₂₋₅*P₂₋₅) - (C₅₋₅ + C₂₋₅*P₁₋₅ + 2*C₃₋₅*P₂₋₅)*(u₄ + 2*u₁*P₁₋₅ + u₂*P₂₋₅)"
      ]
     },
     "execution_count": 23,
     "metadata": {},
     "output_type": "execute_result"
    }
   ],
   "source": [
    "# The coefficents of the five given conics\n",
    "@var C[1:6, 1:5]\n",
    "# The coordinates of the five points of tangency\n",
    "@var P[1:2,1:5]\n",
    "\n",
    "exprs = vcat(map(1:5) do i\n",
    "    cᵢ = f(u => C[:,i])\n",
    "    pᵢ = P[:,i]\n",
    "    # The conic f and cᵢ are tangent at pᵢ\n",
    "    # if f(pᵢ) = cᵢ(pᵢ) = det([∇f ∇Jᵢ])) = 0\n",
    "    Jᵢ = differentiate([cᵢ, f], x)\n",
    "    [\n",
    "        f(x => pᵢ, u[6] => 1)\n",
    "        cᵢ(x => pᵢ)\n",
    "        det(Jᵢ)(x => pᵢ, u[6] => 1)\n",
    "    ]\n",
    "end...)\n",
    "\n",
    "F = System(\n",
    "        exprs;\n",
    "        variables = [u[1:5]; vec(P)],\n",
    "        parameters = vec(C)\n",
    ")"
   ]
  },
  {
   "cell_type": "code",
   "execution_count": 24,
   "id": "ef86debb",
   "metadata": {},
   "outputs": [
    {
     "data": {
      "text/plain": [
       "27072"
      ]
     },
     "execution_count": 24,
     "metadata": {},
     "output_type": "execute_result"
    }
   ],
   "source": [
    "mixed_volume(F)"
   ]
  },
  {
   "cell_type": "markdown",
   "id": "2f9774f2",
   "metadata": {},
   "source": [
    "To solve the system symbolically, you would first eliminate the variables $P_{ij}$.\n",
    "\n",
    "Then our system would reduce to a system $T$ of five equations in five unknowns of degree 6.\n",
    "\n",
    "However, each polynomial in the system is dense and has 3210 terms (wrt to $u$) (This makes the system *very expensive* to evaluate).\n",
    "\n",
    "**There are tradeoffs**\n",
    "\n",
    "* System $T$ has only mixed volume $6^5=7776$ compared to mixed volume $27072$ for $F$.\n",
    "* $F$ is substantially cheaper to evaluate and substantially faster for performing parameter homotopy\n",
    "\n",
    "When you deal with parameterized systems the possibly larger mixed volume is often not a problem since you can use monodromy:"
   ]
  },
  {
   "cell_type": "code",
   "execution_count": null,
   "id": "88b3e4f4",
   "metadata": {},
   "outputs": [
    {
     "name": "stdout",
     "output_type": "stream",
     "text": [
      "\r",
      "\r",
      "\u001b[32mSolutions found: 384 \t Time: 0:00:00\u001b[39m\u001b[32mSolutions found: 385 \t Time: 0:00:00\u001b[39m\r",
      "\r\n",
      "\u001b[34m  tracked loops (queued):            397 (368)\u001b[39m\n",
      "\u001b[34m  tracked loops (queued):            398 (370)\u001b[39m\r",
      "\r\n",
      "\u001b[34m  solutions in current (last) loop:  381 (3)\u001b[39m\n",
      "\u001b[34m  solutions in current (last) loop:  380 (3)\u001b[39m\r",
      "\r\n",
      "\u001b[34m  generated loops (no change):       2 (0)\u001b[39m\n",
      "\u001b[34m  generated loops (no change):       2 (0)\u001b[39m"
     ]
    }
   ],
   "source": [
    "monodromy_solve(F; target_solutions_count = 3264)"
   ]
  },
  {
   "cell_type": "markdown",
   "id": "cbcab456",
   "metadata": {},
   "source": [
    "## Julia: Use local environments for your projects\n",
    "\n",
    "Often you need to get back to your projects after a couple months or even years. It would be great if the program you wrote for your project would still work, wouldn't it? Or did you ever experience that things work on your computer but not on you collaborators?\n",
    "\n",
    "Julia's package manager allows you create *local environments*. There you can list all you package dependencies (in a `Project.toml` file) and it automatically records the exact version used (in a `Manifest.toml`) file.\n",
    "\n",
    "*Hands on demo*"
   ]
  },
  {
   "cell_type": "markdown",
   "id": "b5aced69",
   "metadata": {},
   "source": [
    "## HC: Compiled and interpreted systems"
   ]
  },
  {
   "cell_type": "code",
   "execution_count": null,
   "id": "ee734750",
   "metadata": {},
   "outputs": [],
   "source": []
  }
 ],
 "metadata": {
  "kernelspec": {
   "display_name": "Julia 1.6.1",
   "language": "julia",
   "name": "julia-1.6"
  },
  "language_info": {
   "file_extension": ".jl",
   "mimetype": "application/julia",
   "name": "julia",
   "version": "1.6.1"
  }
 },
 "nbformat": 4,
 "nbformat_minor": 5
}
