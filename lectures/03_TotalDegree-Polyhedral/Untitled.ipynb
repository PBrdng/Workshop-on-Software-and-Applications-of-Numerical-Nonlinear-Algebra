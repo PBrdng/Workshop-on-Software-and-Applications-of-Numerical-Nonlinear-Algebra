{
 "cells": [
  {
   "cell_type": "code",
   "execution_count": 5,
   "metadata": {},
   "outputs": [],
   "source": [
    "using HomotopyContinuation\n",
    "using LinearAlgebra"
   ]
  },
  {
   "cell_type": "markdown",
   "metadata": {},
   "source": [
    "<hr style=\"border:1px solid gray\"> </hr>\n",
    "\n",
    "# Lecture: Total degree and polyhedral homotopies\n",
    "\n",
    "<hr style=\"border:1px solid gray\"> </hr>\n",
    "\n",
    "## Recap\n",
    "\n",
    "Our task is to solve a system of polynomial equations $F(x) = 0$ given by \n",
    "\n",
    "$$ F(x) = F(x_1, \\ldots, x_n) = (f_1(x), \\ldots, f_n(x)).$$\n",
    "\n",
    "Recall from Sascha's lecture that, in order to do this, we think of $F$ as a member of a *family* of polynomial systems ${\\cal F}_Q$, parametrized by an irrecudible affine variety $Q$. That is, \n",
    "\n",
    "$$ F = F_p \\in {\\cal F}_Q \\quad \\text{ for some } p \\in Q.$$\n",
    "\n",
    "Recall that we use the notation ${\\cal N}(q,Q)$ for the number of regular, isolated solutions of $F_q \\in {\\cal F}_Q$.\n",
    "\n",
    "A *generic member* of ${\\cal F}_Q$ is a polynomial system with ${\\cal N}(Q)$ regular, isolated solutions (you can take this as a definition). By the Parameter Continuation Theorem, there exists a proper subvariety $\\Sigma \\subsetneq Q$ such that all members $F_q, q \\in Q \\setminus \\Sigma$ are generic. \n",
    "\n",
    "If $p, q \\in Q \\setminus \\Sigma$, i.e. ${\\cal N}(q,Q) = {\\cal N}(p,Q) = {\\cal N}(Q)$, and we know all solutions to $F_q(x) = 0$, we can track them to all solutions of $F_p(x) = 0$ along a suitably random path $\\gamma$ connecting $q$ and $p$. \n",
    "\n",
    "<br>\n",
    "\n",
    "<img src=\"PicturesSANNA-1-1.png\" width=\"500\"> \n",
    "\n",
    "<br>\n",
    "\n",
    "<hr style=\"border:1px solid gray\"> </hr>\n",
    "\n",
    "## What is a good choice for ${\\cal F}_Q$?\n",
    "\n",
    "There are infinitely many choices for the family ${\\cal F}_Q$. A reasonable choice of ${\\cal F}_Q$ should satisfy at least the following two criteria.\n",
    "\n",
    "* We are able to solve $F_q(x) = 0$ for some $q \\in Q \\setminus \\Sigma$, and *this should be easier than solving $F_p(x) = 0$*.\n",
    "\n",
    "\n",
    "* We would like $F = F_p \\in {\\cal F}_Q$ such that ${\\cal N}(p,Q) \\approx {\\cal N}(Q)$. Preferably, we would like $p \\in Q \\setminus \\Sigma$. \n",
    "\n",
    "*Caveat: unlike in the offline-online approach, we're assuming here that we only want to solve one particular system of equations $F(x) = 0$. In case we want to solve many systems from the same family ${\\cal F}_Q$, it is reasonable to spend more effort on the offline computation.*\n",
    "\n",
    "Here are some simple examples: \n",
    "\n",
    "* Why not choose ${\\cal F}_Q = \\{ F \\}, Q = \\{\\text{pt} \\}$? \n",
    "\n",
    "\n",
    "* Consider $F(x) = 2x + 1$. What is ${\\cal N}(Q)$ for the families\n",
    "\n",
    "$$ F(x;b) = b x + 1 \\qquad \\qquad \\qquad \\qquad \\qquad F(x;a,b) = ax^2 + bx + 1 $$\n",
    "\n",
    "<br>\n",
    "\n",
    "<img src=\"picture3cropped.png\" width=\"700\"> \n",
    "\n",
    "<br>\n",
    "\n",
    "\n",
    "In this lecture, we will discuss two important choices for ${\\cal F}_Q$: \n",
    "\n",
    "* Total degree families ${\\cal F}(d_1, \\ldots, d_n)$.\n",
    "\n",
    "\\begin{align*}\n",
    "\\text{✅} &\\text{Solving $F_q(x) = 0$ is very easy.}\\\\[0.5em]\n",
    "\\text{❌} &\\text{In practice, often ${\\cal N}(Q) \\gg {\\cal N}(p,Q)$}.\n",
    "\\end{align*}\n",
    "\n",
    "* Sparse families or polyhedral families ${\\cal F}({\\scr A}_1, \\ldots, {\\scr A}_n)$.\n",
    "\n",
    "\\begin{align*}\n",
    "\\text{✅} &\\text{Often ${\\cal N}(Q)$ is much closer to ${\\cal N}(p,Q)$ than for the respective total degree family.}\\\\[0.5em]\n",
    "\\text{❌} &\\text{Solving $F_q(x) = 0$ takes a bit more work}.\n",
    "\\end{align*}\n",
    "\n",
    "To illustrate these claims, try to run the following piece of code and explain what's going on. "
   ]
  },
  {
   "cell_type": "code",
   "execution_count": null,
   "metadata": {},
   "outputs": [],
   "source": [
    "n = 9\n",
    "@polyvar x[1:n]\n",
    "mons_simplex = monomials((1+sum(x))^2)\n",
    "mons_block = monomials(prod([1+y for y in x]))\n",
    "F1 = [randn(length(mons_simplex))'*mons_simplex for i = 1:n-4]\n",
    "F2 = [randn(length(mons_block))'*mons_block for i = n-3:n]\n",
    "F = [F1;F2]\n",
    "#solve(F ; start_system = :total_degree)\n",
    "solve(F ; start_system = :polyhedral) # This is the default."
   ]
  },
  {
   "cell_type": "markdown",
   "metadata": {},
   "source": [
    "<hr style=\"border:1px solid gray\"> </hr>\n",
    "\n",
    "## Total degree homotopies\n",
    "\n",
    "### Total degree families \n",
    "\n",
    "Let $R = \\mathbb{C}[x_1,\\ldots, x_n]$ and $R_{\\leq d} = \\bigoplus_{|\\alpha| \\leq d} \\mathbb{C} \\cdot x^\\alpha$. For an $n$-tuple $(d_1, \\ldots, d_n) \\in (\\mathbb{N} \\setminus \\{0\\})^n$ we define the *total degree family*\n",
    "\n",
    "\\begin{align*}\n",
    "{\\cal F}(d_1,\\ldots, d_n) &:= \\{ F = (f_1, \\ldots, f_n) ~|~ f_i \\in R_{\\leq d_i} \\} \\\\\n",
    "&= R_{\\leq d_1} \\times \\cdots \\times R_{\\leq d_n} \\\\ \n",
    "&\\simeq Q := \\mathbb{C}^{D_1} \\times \\cdots \\times \\mathbb{C}^{D_n},\n",
    "\\end{align*}\n",
    "\n",
    "where $D_i = \\text{dim}_{\\mathbb{C}} R_{\\leq d_i}$ and we can think of the standard coordinates on $Q$ as the coefficients of $f_1, \\ldots, f_n$. We recall the following theorem, which we saw before in Paul's lecture. \n",
    "\n",
    "**Theorem**</u> (Bézout's theorem):\n",
    "<p style=\"border:3px; border-style:solid; padding: 0.2em; text-align:center;\"> \n",
    "For any $F \\in {\\cal F}(d_1, \\ldots, d_n)$, the number of isolated solutions to $F(x) = 0$ is bounded by \n",
    "$$ {\\cal N}_{\\text{Béz}} := \\prod_{i=1}^n d_i.$$\n",
    "Moreover, generic members of ${\\cal F}(d_1, \\ldots, d_n)$ have exactly ${\\cal N}_{\\text{Béz}}$ regular, isolated solutions. That is, ${\\cal N}(Q) = {\\cal N}_{\\text{Béz}}$.\n",
    "</p>\n",
    "\n",
    "As an example, consider the case where $n = 2$ and $(d_1, d_2) = (2,2)$. \n",
    "\n",
    "$$ {\\cal F}(2,2) = \\begin{pmatrix}\n",
    "f_1 = a_{00} + a_{10} x + a_{01} y + a_{20}x^2 + a_{11}xy + a_{02} y^2 \\\\\n",
    "f_2 = b_{00} + b_{10} x + b_{01} y + b_{20}x^2 + b_{11}xy + b_{02} y^2 \\\\\n",
    "\\end{pmatrix} $$\n",
    "<img src=\"Pictures SANNA-4-1.png\" width=\"300\"> \n",
    "\n",
    "\n",
    "We have ${\\cal N}_{\\text{Béz}} = 4$. There are strictly less than 4 solutions if either\n",
    "\n",
    "* 2 or more solutions *coincide*: \n",
    "$$ f_1 = f_2 = \\det \\begin{pmatrix} f_{1x} & f_{1y} \\\\ f_{2x} & f_{2y} \\end{pmatrix} = 0 \\quad \\text{has a solution},$$\n",
    "which is equivalent to the vanishing of a nonzero polynomial in the coefficients of $f_1, f_2$ called the *discriminant*. \n",
    "\n",
    "\n",
    "* or there are solutions *at infinity*:\n",
    "$$ \\det A_\\infty = \\det \\begin{pmatrix} a_{20} & a_{11} & a_{02} & \\\\ & a_{20} & a_{11} & a_{02} \\\\ b_{20} & b_{11} & b_{02} & \\\\ & b_{20} & b_{11} & b_{02} \\end{pmatrix} = 0.$$\n",
    "\n",
    "**Question**: what about the case where $f_1 = f_2 = 0$ has infinitely many solutions?\n",
    "\n",
    "Here is some code to illustrate this. Let us first solve a random member. "
   ]
  },
  {
   "cell_type": "code",
   "execution_count": 7,
   "metadata": {},
   "outputs": [
    {
     "data": {
      "text/plain": [
       "Result with 4 solutions\n",
       "=======================\n",
       "• 4 paths tracked\n",
       "• 4 non-singular solutions (2 real)\n",
       "• random_seed: 0x51c26461\n",
       "• start_system: :polyhedral\n"
      ]
     },
     "execution_count": 7,
     "metadata": {},
     "output_type": "execute_result"
    }
   ],
   "source": [
    "@var x y a[0:2,0:2] b[0:2,0:2]\n",
    "F = [sum([a[i,j]*x^(i-1)*y^(j-1) for i=1:3 for j = 1:4-i]); sum([b[i,j]*x^(i-1)*y^(j-1) for i=1:3 for j = 1:4-i])]\n",
    "F = System(F, parameters = setdiff(variables(F),[x;y]))\n",
    "solve(F;target_parameters = randn(12))"
   ]
  },
  {
   "cell_type": "markdown",
   "metadata": {},
   "source": [
    "Next, we construct a member with a solution at infinity, by imposing the vanishing of $\\det A_\\infty$."
   ]
  },
  {
   "cell_type": "code",
   "execution_count": 8,
   "metadata": {},
   "outputs": [
    {
     "data": {
      "text/plain": [
       "4×4 Array{Expression,2}:\n",
       " a₂₋₀  a₁₋₁  a₀₋₂     0\n",
       "    0  a₂₋₀  a₁₋₁  a₀₋₂\n",
       " b₂₋₀  b₁₋₁  b₀₋₂     0\n",
       "    0  b₂₋₀  b₁₋₁  b₀₋₂"
      ]
     },
     "execution_count": 8,
     "metadata": {},
     "output_type": "execute_result"
    }
   ],
   "source": [
    "a2 = [a[i,4-i] for i = 3:-1:1]\n",
    "b2 = [b[i,4-i] for i = 3:-1:1]\n",
    "A = [[a2' 0]; [0 a2']; [b2' 0]; [0 b2']]"
   ]
  },
  {
   "cell_type": "code",
   "execution_count": 9,
   "metadata": {},
   "outputs": [
    {
     "data": {
      "text/plain": [
       "Result with 3 solutions\n",
       "=======================\n",
       "• 4 paths tracked\n",
       "• 3 non-singular solutions (0 real)\n",
       "• random_seed: 0x225b36c8\n",
       "• start_system: :polyhedral\n"
      ]
     },
     "execution_count": 9,
     "metadata": {},
     "output_type": "execute_result"
    }
   ],
   "source": [
    "parsys = System([randn(11,12)*parameters(F) + randn(11); det(A)], variables = parameters(F))\n",
    "R = solve(parsys)\n",
    "solve(F;target_parameters = solutions(R)[1])"
   ]
  },
  {
   "cell_type": "markdown",
   "metadata": {},
   "source": [
    "### Total degree start systems\n",
    "\n",
    "For $(d_1, \\ldots, d_n)$, we consider the associated total degree family ${\\cal F}(d_1, \\ldots, d_n)$ and define $q \\in Q$ such that \n",
    "\n",
    "$$ F_q(x) = (x_1^{d_1} -1,~ x_2^{d_2}-1, \\ldots,~ x_n^{d_n}-1 ) \\quad \\in {\\cal F}(d_1, \\ldots, d_n).$$\n",
    "\n",
    "The set of solutions to $F_q(x) = 0$ is \n",
    "$$ W_{d_1} \\times W_{d_2} \\times \\cdots \\times W_{d_n} \\subset \\mathbb{C}^n, \\quad \\text{where } W_{d_i} = \\{ d_i \\text{-th roots of 1} \\}.$$\n",
    "\n",
    "Note that ${\\cal N}(q,Q) = {\\cal N}(Q) = {\\cal N}_{\\text{Béz}} = \\prod_{i=1}^n d_i$, so that $q \\notin \\Sigma$. \n",
    "\n",
    "In Sascha's lecture, we saw that for generic $q^* \\in Q \\setminus \\Sigma$ the *straight line homotopy* $H(x,t) = t F_{q^*}(x) + (1-t)F_p(x)$ has smooth solution paths whose endpoints, for $t$ from 1 to 0, include all isolated zeros of $F_p$. In practice, the parameters $q$ above are not generic in this sense. It turns out that in order to \"randomize\" our $q$, it suffices to use $\\lambda q$ for some random complex $\\lambda \\neq 0$ (note that this does not change the solutions: $F_q(x) = 0 \\Leftrightarrow F_{\\lambda q}(x) = 0$). \n",
    "\n",
    "$$ H(x,t) = t F_{q}(x) + (1-t)F_p(x) \\qquad \\qquad \\qquad \\qquad H(x,t) = \\lambda t F_{q}(x) + (1-t)F_p(x).$$\n",
    "\n",
    "<br>\n",
    "\n",
    "<img src=\"picture5cropped.png\" width=\"700\"> \n",
    "\n",
    "<br>\n",
    "\n",
    "\n",
    "\n",
    "\n",
    "### Algorithm \n",
    "\n",
    "This discussion leads to the following algorithm for computing the isolated solutions of $F(x) = 0$. \n",
    "\n",
    "1. For $i = 1, \\ldots, n$, set $d_i = \\min \\{ d \\in \\mathbb{N} ~|~ f_i \\in R_{\\leq d} \\}$.\n",
    "\n",
    "2. Set $F_q = (x_1^{d_1} -1,~ x_2^{d_2}-1, \\ldots,~ x_n^{d_n}-1 )$.\n",
    "\n",
    "3. Track the ${\\cal N}_{\\text{Béz}}$-many solutions $ W_{d_1} \\times W_{d_2} \\times \\cdots \\times W_{d_n}$ along the homotopy $H(x,t) = \\lambda t F_{q}(x) + (1-t)F_p(x)$ for $t$ going from 1 to 0. "
   ]
  },
  {
   "cell_type": "markdown",
   "metadata": {},
   "source": [
    "<hr style=\"border:1px solid gray\"> </hr>\n",
    "\n",
    "## Polyhedral homotopies\n",
    "\n",
    "### Introduction: improving Bézout's bound\n",
    "\n",
    "Consider the subfamily \n",
    "\n",
    "$$ {\\cal F}_Q = \\begin{pmatrix}\n",
    "f_1 = a_{00} + a_{10}x + a_{10}y + a_{11}xy \\\\\n",
    "f_2 = b_{00} + b_{10}x + b_{10}y + b_{11}xy \\\\\n",
    "\\end{pmatrix} \\subset {\\cal F}(2,2)$$\n",
    "\n",
    "**Question**: what is ${\\cal N}(Q)$ for this family?\n",
    "\n",
    "**Hint**: For a general member $F_q \\in {\\cal F}_Q$, we can find an invertible $2 \\times 2$ matrix $T$ such that \n",
    "\n",
    "$$ T \\begin{pmatrix} f_1 \\\\ f_2 \\end{pmatrix} = \\begin{pmatrix}\n",
    "c_{00} + c_{10}x + c_{10}y + c_{11}xy \\\\\n",
    "d_{00} + d_{10}x + d_{10}y \\\\\n",
    "\\end{pmatrix}.$$\n",
    "\n",
    "**Question**: what does this tell you about the degree of the surface in $\\mathbb{P}^3$ obtained by taking the closure of the image of $(x,y) \\mapsto (1:x:y:xy)$?\n",
    "\n",
    "The reason for the discrepancy ${\\cal N}(Q) < {\\cal N}_{\\text{Béz}}$ is that **a generic member of ${\\cal F}_Q$ is not a generic member of ${\\cal F}(2,2)$**:\n",
    "\n",
    "$$ \\begin{matrix}\n",
    "f_1 = a_{00} + a_{10}x + a_{10}y + a_{11}xy + 0 \\cdot x^2 + 0 \\cdot y^2 \\\\\n",
    "f_2 = b_{00} + b_{10}x + b_{10}y + b_{11}xy + 0 \\cdot x^2 + 0 \\cdot y^2 \\\\\n",
    "\\end{matrix} $$\n",
    "\n",
    "In fact, you can easily check that for all members of ${\\cal F}_Q \\subset {\\cal F}(2,2)$, $\\det A_\\infty = 0$. \n",
    "\n",
    "This suggests the following question.\n",
    "\n",
    "<p style=\"border:3px; border-style:solid; padding: 0.2em; text-align:center;\"> \n",
    "Can we improve Bézout's bound if we know which monomials occur in the $f_i$?\n",
    "</p>\n",
    "\n",
    "It turns out we can, and HomotopyContinuation.jl seems to know about this."
   ]
  },
  {
   "cell_type": "code",
   "execution_count": 13,
   "metadata": {},
   "outputs": [
    {
     "name": "stdout",
     "output_type": "stream",
     "text": [
      "\r",
      "\u001b[32mTracking 2 paths... 100%|███████████████████████████████| Time: 0:00:02\u001b[39m\r\n",
      "\u001b[34m  # paths tracked:                  2\u001b[39m\r\n",
      "\u001b[34m  # non-singular solutions (real):  2 (2)\u001b[39m\r\n",
      "\u001b[34m  # singular endpoints (real):      0 (0)\u001b[39m\r\n",
      "\u001b[34m  # total solutions (real):         2 (2)\u001b[39m\n"
     ]
    },
    {
     "data": {
      "text/plain": [
       "Result with 2 solutions\n",
       "=======================\n",
       "• 2 paths tracked\n",
       "• 2 non-singular solutions (2 real)\n",
       "• random_seed: 0xf0da2d71\n",
       "• start_system: :polyhedral\n"
      ]
     },
     "execution_count": 13,
     "metadata": {},
     "output_type": "execute_result"
    }
   ],
   "source": [
    "@polyvar x y \n",
    "F = [randn(4)'*monomials((1+x)*(1+y)); randn(4)'*monomials((1+x)*(1+y))]\n",
    "solve(F)"
   ]
  },
  {
   "cell_type": "markdown",
   "metadata": {},
   "source": [
    "### Newton polytopes\n",
    "\n",
    "definition of support, Newton polytope, Minkowski sum, mixed volume\n",
    "\n",
    "### Sparse families\n",
    "\n",
    "definition, BKK theorem \n",
    "\n",
    "### Sparse start systems \n",
    "\n",
    "high-level description of the approach in [Huber-Sturmfels]\n",
    "\n",
    "### Algorithm\n",
    "\n",
    "<hr style=\"border:1px solid gray\"> </hr>\n",
    "\n",
    "## Conclusions\n"
   ]
  },
  {
   "cell_type": "code",
   "execution_count": null,
   "metadata": {},
   "outputs": [],
   "source": []
  }
 ],
 "metadata": {
  "kernelspec": {
   "display_name": "Julia 1.5.2",
   "language": "julia",
   "name": "julia-1.5"
  },
  "language_info": {
   "file_extension": ".jl",
   "mimetype": "application/julia",
   "name": "julia",
   "version": "1.5.2"
  }
 },
 "nbformat": 4,
 "nbformat_minor": 4
}
