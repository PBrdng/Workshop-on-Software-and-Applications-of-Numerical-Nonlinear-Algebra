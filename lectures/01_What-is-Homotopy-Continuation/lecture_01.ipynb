{
 "cells": [
  {
   "cell_type": "markdown",
   "metadata": {},
   "source": [
    "# Lecture: What is Homotopy Continuation?\n",
    "\n",
    "Homotopy Continuation is a computational framework for solving systems of polynomials equations over the complex numbers $\\mathbb C$.\n",
    "\n",
    "#### Example:\n",
    "Polynomials in variables $x,y$: \n",
    "\n",
    "\\begin{align*}\n",
    "\\text{✅} \\quad f(x,y) &= 4x^2 + 2xy - (10 + 4i) (y-1)\\\\[0.5em]\n",
    "\\text{❌} \\quad g(x,y) &= 13 \\exp(x) + y + 1\\\\[0.5em]\n",
    "\\text{❌} \\quad h(x,y) &= \\sqrt{x+y} - y^2\\\\\n",
    "\\end{align*}\n",
    "\n"
   ]
  },
  {
   "cell_type": "markdown",
   "metadata": {},
   "source": [
    "In the following, let\n",
    "\n",
    "$$F(x_1,\\ldots,x_n) = \\begin{bmatrix} f_1(x_1,\\ldots,x_n)\\\\ \\vdots \\\\ f_m(x_1,\\ldots,x_m)\\end{bmatrix}$$\n",
    "\n",
    "be a **system** of $m$ polynomials in $n$ variables.\n",
    "\n",
    "* If $n=m$, we call $F$ a <u>square system</u>\n",
    "* If $n<m$, we call $F$ <u>overdetermined</u>\n",
    "* If $n>m$, we call $F$ <u>underdetermined</u>"
   ]
  },
  {
   "cell_type": "markdown",
   "metadata": {},
   "source": [
    "---\n",
    "\n",
    "\n",
    "## The basic idea\n",
    "\n",
    "We first discuss the basic idea underlying homotopy continuation. For this, we denote \n",
    "\n",
    "$$\\mathbb C[x_1,\\ldots,x_n]_{d} := \\{\\text{polynomials with coefficients in $\\mathbb C$ of degree at most $d$ in the variables $x_1,\\ldots,x_n$}\\}.$$\n",
    "\n",
    "Let $d_1,\\ldots,d_m$ be fixed and define\n",
    "\n",
    "$$\\mathcal R := \\mathbb C[x_1,\\ldots,x_n]_{d_1} \\times \\cdots \\times \\mathbb C[x_1,\\ldots,x_n]_{d_m}$$\n",
    "\n",
    "to be the vector space of systems of $m$ polynomials in $n$ variables with complex coefficients.\n",
    "\n",
    "Suppose that the <u>system we are interested in</u> is \n",
    "\n",
    "$$F(x) \\in \\mathcal R.$$\n",
    "\n",
    "Suppose further that there is another system\n",
    "\n",
    "$$G(x) \\in \\mathcal R,$$\n",
    "\n",
    "of which we know or can easily compute a zero $\\zeta$ with $G(\\zeta)=0$. Let $H(x,t): \\mathcal R \\times [0,1] \\to \\mathcal R$\n",
    "be a **homotopy** in $\\mathcal R$ with \n",
    "\n",
    "$$H(x,1) = G(x)\\quad \\text{and}\\quad H(x,0)=F(x).$$ \n",
    "\n"
   ]
  },
  {
   "cell_type": "markdown",
   "metadata": {},
   "source": [
    "<bdi style=\"background-color:powderblue;\">\n",
    "The idea is to track $\\zeta$ along the homotopy $H(x,t)$ from $t=1$ to $t=0$.\n",
    "</bdi>"
   ]
  },
  {
   "cell_type": "markdown",
   "metadata": {},
   "source": [
    "<img src=\"geometry.png\" width=\"250\"> "
   ]
  },
  {
   "cell_type": "markdown",
   "metadata": {},
   "source": [
    "#### Example\n",
    "\n",
    "<img src=\"tracking.gif\" width=\"450\" style=\"float:right;\">\n",
    "\n",
    "$n=m=1$ and $G(x)=x^8 -1$.\n",
    "\n",
    "The zeros of $G$ are $\\{\\exp(2\\pi i/8)\\mid 1\\leq i\\leq 8\\}$."
   ]
  },
  {
   "cell_type": "code",
   "execution_count": null,
   "metadata": {},
   "outputs": [],
   "source": []
  }
 ],
 "metadata": {
  "kernelspec": {
   "display_name": "Julia 1.5.3",
   "language": "julia",
   "name": "julia-1.5"
  },
  "language_info": {
   "file_extension": ".jl",
   "mimetype": "application/julia",
   "name": "julia",
   "version": "1.5.3"
  }
 },
 "nbformat": 4,
 "nbformat_minor": 2
}
