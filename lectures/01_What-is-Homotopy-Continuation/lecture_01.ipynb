{
 "cells": [
  {
   "cell_type": "markdown",
   "metadata": {},
   "source": [
    "<hr style=\"border:1px solid gray\"> </hr>\n",
    "\n",
    "# Lecture: What is Homotopy Continuation?\n",
    "\n",
    "Homotopy Continuation is a computational framework for solving systems of polynomials equations over the complex numbers $\\mathbb C$.\n",
    "\n",
    "## Example:\n",
    "Polynomials in variables $x,y$: \n",
    "\n",
    "\\begin{align*}\n",
    "\\text{❌} \\quad g(x,y) &= 13 \\exp(x) + y + 1\\\\[0.5em]\n",
    "\\text{❌} \\quad h(x,y) &= \\sqrt{x+y} - y^2\\\\[0.5em]\n",
    "\\text{✅} \\quad f(x,y) &= 4x^2 + 2xy - (10 + 4i) (y-1)\\\\\n",
    "\\end{align*}\n",
    "\n"
   ]
  },
  {
   "cell_type": "markdown",
   "metadata": {},
   "source": [
    "In the following, let\n",
    "\n",
    "$$F(x_1,\\ldots,x_n) = \\begin{bmatrix} f_1(x_1,\\ldots,x_n)\\\\ \\vdots \\\\ f_m(x_1,\\ldots,x_m)\\end{bmatrix}$$\n",
    "\n",
    "be a **system** of $m$ polynomials in $n$ variables.\n",
    "\n",
    "* If $n=m$, we call $F$ a <u>square system</u>\n",
    "* If $n<m$, we call $F$ <u>overdetermined</u>\n",
    "* If $n>m$, we call $F$ <u>underdetermined</u>"
   ]
  },
  {
   "cell_type": "markdown",
   "metadata": {},
   "source": [
    "<hr style=\"border:1px solid gray\"> </hr>\n",
    "\n",
    "# What solving means\n",
    "\n",
    "In the context of homotopy continuation *solving* means to compute **numerical approximations** of **isolated solutions**.\n",
    "\n",
    "Let us look at an example: take \n",
    "\n",
    "$$F(x,y,z) = \\begin{bmatrix} x^2 + y^2 + z^2 - 1\\\\ x^2 - y + z^2\\\\ x-z\\end{bmatrix}.$$\n",
    "\n",
    "A useful representation of $F=0$ is by expressing it with a *Gröbner basis*:\n",
    "\n",
    "$$ \\mathcal G = \\{x-z, \\; y-2z^2, \\; z^4+\\tfrac{1}{2} z^2 - \\tfrac{1}{4}\\}.$$\n",
    "\n",
    "We can read off from $\\mathcal G$ the number of solutions of $F=0$. \n",
    "\n",
    "And we can solve $F=0$ by iteratively solving *univariate equation*. \n",
    "\n",
    "<br>\n",
    "\n",
    "But this is a reduction to the problem we started with: solving equations.\n",
    "\n",
    "Homotopy Continuation takes a different approach. \n",
    "\n",
    "It keeps the multivariate structure and tries directly to compute points $\\xi\\in\\mathbb C^n$ such that the distance $\\Vert \\xi-\\zeta\\Vert$ to a true zero $\\zeta$ with $F(\\zeta)=0$ is small."
   ]
  },
  {
   "cell_type": "code",
   "execution_count": 32,
   "metadata": {},
   "outputs": [
    {
     "data": {
      "text/plain": [
       "Result with 4 solutions\n",
       "=======================\n",
       "• 4 paths tracked\n",
       "• 4 non-singular solutions (2 real)\n",
       "• random_seed: 0x8b97d294\n",
       "• start_system: :polyhedral\n"
      ]
     },
     "execution_count": 32,
     "metadata": {},
     "output_type": "execute_result"
    }
   ],
   "source": [
    "using HomotopyContinuation\n",
    "\n",
    "@var x y z\n",
    "F = [x^2 + y^2 + z^2 - 1; x^2 - y + z^2; x-z]\n",
    "\n",
    "zeros = solve(F)"
   ]
  },
  {
   "cell_type": "code",
   "execution_count": 25,
   "metadata": {},
   "outputs": [
    {
     "data": {
      "text/plain": [
       "4-element Array{Array{Complex{Float64},1},1}:\n",
       " [-0.0 - 0.899im, -1.618 - 0.0im, 0.0 - 0.899im]\n",
       " [0.556 + 0.0im, 0.618 - 0.0im, 0.556 + 0.0im]\n",
       " [-0.556 + 0.0im, 0.618 + 0.0im, -0.556 - 0.0im]\n",
       " [0.0 + 0.899im, -1.618 - 0.0im, -0.0 + 0.899im]"
      ]
     },
     "execution_count": 25,
     "metadata": {},
     "output_type": "execute_result"
    }
   ],
   "source": [
    "[round.(s, digits = 3) for s in solutions(zeros)]"
   ]
  },
  {
   "cell_type": "markdown",
   "metadata": {},
   "source": [
    "The true solutions are\n",
    "\n",
    "\\begin{align*}\n",
    "(x,y,z) &= (\\tfrac{1}{2}\\sqrt{\\sqrt{5} -1},\\; \\tfrac{1}{2}(\\sqrt{5} -1),\\; \\tfrac{1}{2}\\sqrt{\\sqrt{5} -1}\\,)\\\\[0.5em]\n",
    "(x,y,z) &= (-\\tfrac{1}{2}\\sqrt{\\sqrt{5} -1},\\; \\tfrac{1}{2}(\\sqrt{5} -1),\\; -\\tfrac{1}{2}\\sqrt{\\sqrt{5} -1}\\,)\\\\[0.5em]\n",
    "(x,y,z) &= (\\tfrac{i}{2}\\sqrt{\\sqrt{5} +1},\\; -(\\sqrt{5} +1),\\;\\tfrac{i}{2}\\sqrt{\\sqrt{5} +1}\\,)\\\\[0.5em]\n",
    "(x,y,z) &= (-\\tfrac{i}{2}\\sqrt{\\sqrt{5} +1},\\; -(\\sqrt{5} +1),\\;-\\tfrac{i}{2}\\sqrt{\\sqrt{5} +1}\\,)\\\\\n",
    "\\end{align*}\n",
    "\n",
    "<br>\n",
    "\n",
    "Why do we even compute numerical approximations when we can have such exact results?\n",
    "\n",
    "<u>Answer:</u> numerical methods are often much faster, especially when the problems become more complicated."
   ]
  },
  {
   "cell_type": "markdown",
   "metadata": {},
   "source": [
    "<hr style=\"border:1px solid gray\"> </hr>\n",
    "\n",
    "\n",
    "# The basic idea\n",
    "\n",
    "We first discuss the basic idea underlying homotopy continuation. For this, we denote \n",
    "\n",
    "$$\\mathbb C[x_1,\\ldots,x_n]_{d} := \\{\\text{polynomials with coefficients in $\\mathbb C$ of degree at most $d$ in the variables $x_1,\\ldots,x_n$}\\}.$$\n",
    "\n",
    "Let $d_1,\\ldots,d_m$ be fixed and define\n",
    "\n",
    "$$\\mathcal R := \\mathbb C[x_1,\\ldots,x_n]_{d_1} \\times \\cdots \\times \\mathbb C[x_1,\\ldots,x_n]_{d_m}$$\n",
    "\n",
    "to be the vector space of systems of $m$ polynomials in $n$ variables with complex coefficients.\n",
    "\n",
    "Suppose that the <u>system we are interested in</u> is \n",
    "\n",
    "$$F(x) \\in \\mathcal R.$$\n",
    "\n",
    "Suppose further that there is another system\n",
    "\n",
    "$$G(x) \\in \\mathcal R,$$\n",
    "\n",
    "of which we know or can easily compute a zero $\\zeta$ with $G(\\zeta)=0$. Let $H(x,t): \\mathcal R \\times [0,1] \\to \\mathcal R$\n",
    "be a **homotopy** in $\\mathcal R$ with \n",
    "\n",
    "$$H(x,1) = G(x)\\quad \\text{and}\\quad H(x,0)=F(x).$$ \n",
    "\n"
   ]
  },
  {
   "cell_type": "markdown",
   "metadata": {},
   "source": [
    "<bdi style=\"background-color:powderblue;\">\n",
    "The idea is to track $\\zeta$ along the homotopy $H(x,t)$ from $t=1$ to $t=0$.\n",
    "</bdi>"
   ]
  },
  {
   "cell_type": "markdown",
   "metadata": {},
   "source": [
    "<img src=\"tracking.gif\" width=\"500\" style=\"float:right;\">\n",
    "\n",
    "<img src=\"geometry.png\" width=\"400\"> \n",
    "\n",
    "## Example\n",
    "\n",
    "$n=m=1$ and $G(x)=x^8 -1$.\n",
    "\n",
    "The zeros of $G$ are $\\{\\exp(2\\pi i/8)\\mid 1\\leq i\\leq 8\\}$.\n",
    "\n",
    "(points on the unit circle)\n",
    "\n",
    "As $t$ moves from $1$ to $0$ the blue points move in the complex plane $\\mathbb C$."
   ]
  },
  {
   "cell_type": "markdown",
   "metadata": {},
   "source": [
    "<hr style=\"border:1px solid gray\"> </hr>"
   ]
  },
  {
   "cell_type": "markdown",
   "metadata": {},
   "source": [
    "# What tracking means\n",
    "\n",
    "Tracking means to compute a numerical approximation of the **solution curve** $x(t)$ with\n",
    "\n",
    "$$H(x(t), t) = 0.$$\n",
    "\n",
    "Differentiating at $t$ gives:\n",
    "\n",
    "$$\\frac{\\partial}{\\partial t} H(x,t) + \\frac{\\partial}{\\partial x} H(x,t) \\,\\frac{\\partial}{\\partial t} x(t) = 0.$$\n",
    "\n",
    "\n",
    "Computing $x(t)$ is equivalent to solving an \n",
    "<bdi style=\"background-color:powderblue;\">\n",
    "ODE initial value problem!\n",
    "</bdi>\n",
    "\n",
    "<br>\n",
    "\n",
    "Numerical approximation means that we want to compute discrete values $t_1,t_2,\\ldots,t_k,\\ldots,$ and points $\\widetilde{x}_1,\\widetilde{x}_2,\\ldots,\\widetilde{x}_k,\\ldots$ such that $\\Vert \\widetilde{x}_k - x(t_k)\\Vert$ is small for all $k$. Then, we can move $\\widetilde{x}_k$ towards $x(t_k)$ using *Newton's method*. This is called the <bdi style=\"background-color:powderblue;\">corrector</bdi>.\n",
    "\n",
    "<img src=\"predictor-corrector.png\" width=\"500\"> \n",
    "\n",
    "The <bdi style=\"background-color:powderblue;\">predictor</bdi> produces $\\widetilde{x}_{k}$ from an approximation of $x(t_{k-1})$. \n",
    "\n",
    "\n",
    "There are many predictor methods for ODEs. HomotopyContinuation.jl uses a variant of the so called Padé-predictor\n",
    "\n",
    "(Sascha and Simon can tell more about this)."
   ]
  },
  {
   "cell_type": "markdown",
   "metadata": {},
   "source": [
    "<hr style=\"border:1px solid gray\"> </hr>\n",
    "\n",
    "# Gotta catch them all\n",
    "\n",
    "So far, the discussion evolved around tracking a single solution curve and hence computing a single solutions.\n",
    "\n",
    "Polynomial homotopy continuation can do more: it can compute **all solutions**.\n",
    "\n",
    "Recall the definition \n",
    "\n",
    "$$\\mathbb C[x_1,\\ldots,x_n]_{d} := \\{\\text{polynomials with coefficients in $\\mathbb C$ of degree at most $d$ in the variables $x_1,\\ldots,x_n$}\\}.$$\n",
    "\n",
    "and\n",
    "\n",
    "$$\\mathcal R := \\mathbb C[x_1,\\ldots,x_n]_{d_1} \\times \\cdots \\times \\mathbb C[x_1,\\ldots,x_n]_{d_m}.$$\n",
    "\n",
    "Suppose $F(x)\\in\\mathcal R$. Then, we can take the following as start system\n",
    "\n",
    "$$G(x) = \\begin{bmatrix} x_1^{d_1} - 1\\\\ \\vdots \\\\ x_n^{d_n} - 1\\end{bmatrix}.$$\n",
    "\n",
    "$G(x)$ is called a **total degree start system**.\n",
    "\n",
    "<u> **Theorem**</u> (Bézout's theorem): $F(x)=0$ has at most $d_1\\cdots d_n$ isolated solutions.\n",
    "\n",
    "<br>\n",
    "\n",
    "This means that $G(x)$ has at least as many isolated solutions as $F(x)$. \n",
    "\n",
    "If we can find for each zero $F(\\zeta)=0$ a corresponding zero $G(\\xi)=0$, such that $\\xi$ gets tracked towards $\\zeta,$ we can compute all solutions of $F(x)=0$.\n",
    "\n",
    "<br>\n",
    "\n",
    "\n",
    "**Problem 1:** \n",
    "<bdi style=\"background-color:powderblue;\">\n",
    "Many zeros of $G(x)$ do not get tracked towards a zero of $F$. Computation is wasteful!\n",
    "</bdi>"
   ]
  },
  {
   "cell_type": "code",
   "execution_count": 35,
   "metadata": {},
   "outputs": [
    {
     "data": {
      "text/plain": [
       "Result with 4 solutions\n",
       "=======================\n",
       "• 8 paths tracked\n",
       "• 4 non-singular solutions (0 real)\n",
       "• random_seed: 0xaecaa79f\n",
       "• start_system: :total_degree\n"
      ]
     },
     "execution_count": 35,
     "metadata": {},
     "output_type": "execute_result"
    }
   ],
   "source": [
    "@var x y\n",
    "F = [x^2 - x^2 * y^2 + 2y^2 - 1;  x - 4x * y + 3]\n",
    "solve(F, start_system = :total_degree)"
   ]
  },
  {
   "cell_type": "markdown",
   "metadata": {},
   "source": [
    "<br>\n",
    "\n",
    "**Problem 2:** \n",
    "<bdi style=\"background-color:powderblue;\">\n",
    "Which homotopy to take?\n",
    "</bdi>\n",
    "\n",
    "It is appealing to take the *straight-line homotopy* $H(x,t) = tF(x) + (1-t)G(x)$.\n",
    "\n",
    "It is, however, better to take a **path in the complex numbers**, because predictor-corrector methods rely on  $\\frac{\\partial}{\\partial x} H(x,t)$ being invertible. \n",
    "\n",
    "The space of polynomial systems in $\\mathcal R$, whose derivative is *not* invertible, form an **algebraic subvariety** of $\\mathcal R$. \n",
    "\n",
    "* In $\\mathcal R\\cap \\{\\text{systems with real coefficients}\\}$ it has real codimension $1$.\n",
    "\n",
    "* In $\\mathcal R$ it has real codimension $2$. We can go around it!"
   ]
  },
  {
   "cell_type": "markdown",
   "metadata": {},
   "source": [
    "<hr style=\"border:1px solid gray\"> </hr>\n",
    "\n",
    "# Start systems\n",
    "\n",
    "The start system $G(x) = [x_i^{d_i} - 1]$ is not always an optimal choice.\n",
    "\n",
    "<br>\n",
    "\n",
    "<bdi style=\"background-color:powderblue;\">\n",
    "Are there better choices?</bdi>\n",
    "\n",
    "Yes, but the difficulty is constructing them.\n",
    "\n",
    "\n",
    "\n",
    "\n"
   ]
  },
  {
   "cell_type": "code",
   "execution_count": null,
   "metadata": {},
   "outputs": [],
   "source": []
  }
 ],
 "metadata": {
  "kernelspec": {
   "display_name": "Julia 1.5.3",
   "language": "julia",
   "name": "julia-1.5"
  },
  "language_info": {
   "file_extension": ".jl",
   "mimetype": "application/julia",
   "name": "julia",
   "version": "1.5.3"
  }
 },
 "nbformat": 4,
 "nbformat_minor": 2
}
