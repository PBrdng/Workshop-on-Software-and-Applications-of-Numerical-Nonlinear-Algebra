{
 "cells": [
  {
   "cell_type": "markdown",
   "metadata": {},
   "source": [
    "# Lecture: Monodromy"
   ]
  },
  {
   "cell_type": "code",
   "execution_count": 1,
   "metadata": {},
   "outputs": [],
   "source": [
    "using HomotopyContinuation"
   ]
  },
  {
   "cell_type": "markdown",
   "metadata": {},
   "source": [
    "<hr style=\"border:1px solid gray\"> </hr>\n",
    "For more information about monodromy and computing  monodromy groups using numerical algebraic geometry see \n",
    "\n",
    "[[*Numerical computation of Galois groups*](https://arxiv.org/pdf/1605.07806.pdf)] Hauenstein, Rodriguez, and Sottile. Foundations of Computational Mathematics, 18 (2018)\n",
    "\n",
    "For more information about solve polynomial systems using monodromy see\n",
    "\n",
    "[[*Solving polynomial systems via homotopy continuation and monodromy*](https://arxiv.org/pdf/1609.08722.pdf)]  Duff,  Hill,  Jensen,  Lee,  Leykin, and  Sommars.\n",
    "IMA Journal of Num. Anal. (2018)\n",
    "\n",
    "<hr style=\"border:1px solid gray\"> </hr>"
   ]
  },
  {
   "cell_type": "markdown",
   "metadata": {},
   "source": [
    "<img src=\"coveringspace.png\" width=\"500\" style=\"float:right\">\n",
    "\n",
    "## Branched Covers\n",
    "\n",
    "As in Sascha's talk, we consider a family $F(x;p)$ of $0$-dimensional polynomial systems parametrized by $Q=\\mathbb{C}^k$\n",
    "$$Z = \\{(x,p) \\in \\mathbb{C}^n \\times Q \\mid F(x;p) =0\\} \\subset \\mathbb{C}^n \\times Q$$\n",
    "$$\\,\\,\\,\\, \\downarrow \\pi $$\n",
    "$$Q$$\n",
    "\n",
    "Over *most* parameters, there are $d$ solutions.\n",
    "\n",
    "The map $\\pi$ is called a $d$-to-$1$ **branched cover** \n",
    "\n",
    "The **discriminant** (or branch locus) $D \\subsetneq Q$ are the parameter values for which the fibres do not consist of $d$ distinct points.\n",
    "\n",
    "The complement of the discriminant $U = Q \\backslash D$ is called the set of the regular values.\n",
    "\n",
    "The map $\\pi:Z|_{\\pi^{-1}(U)} \\to U$ is a $d$-to-$1$ **covering space**.\n",
    "\n",
    "\n",
    "\n",
    "\n"
   ]
  },
  {
   "cell_type": "markdown",
   "metadata": {},
   "source": [
    "\n",
    "### Example\n",
    "\n",
    "$$F(x;a,b) = x^2+ax+b$$\n"
   ]
  },
  {
   "cell_type": "code",
   "execution_count": 63,
   "metadata": {},
   "outputs": [
    {
     "data": {
      "text/plain": [
       "System of length 1\n",
       " 1 variables: x\n",
       " 2 parameters: a, b\n",
       "\n",
       " b + a*x + x^2"
      ]
     },
     "execution_count": 63,
     "metadata": {},
     "output_type": "execute_result"
    }
   ],
   "source": [
    "@var x a b\n",
    "F = System([x^2 + a * x + b], parameters = [a, b])"
   ]
  },
  {
   "cell_type": "markdown",
   "metadata": {},
   "source": [
    "<p style=\"border:3px; border-style:solid; padding: 0.5em; text-align:center\">\n",
    "Monodromy: a loop $\\gamma$ in $U$ based at $p$ induces a permutation $g_\\gamma$ of the fibre $\\pi^{-1}(p)$.\n",
    "</p>\n",
    "\n",
    "\n",
    "Let's move in a loop\n",
    "\n",
    "<img src=\"monodromy1b.png\" width=\"500\">\n",
    "\n",
    "\n",
    "$$\\overbrace{\\underbrace{(x^2-1)}_{p_0=[0,-1]} \\to \\underbrace{(x^2-i)}_{p_1=[0,-i]} \\to \\underbrace{(x^2+1)}_{p_2=[0,1]} \\to \\underbrace{(x^2+i)}_{p_3=[0,i]} \\to \\underbrace{(x^2-1)}_{p_0=[0,-1]}}^{\\gamma}$$"
   ]
  },
  {
   "cell_type": "code",
   "execution_count": 64,
   "metadata": {},
   "outputs": [
    {
     "data": {
      "text/plain": [
       "2-element Array{Complex{Int64},1}:\n",
       " 0 + 0im\n",
       " 0 - 1im"
      ]
     },
     "execution_count": 64,
     "metadata": {},
     "output_type": "execute_result"
    }
   ],
   "source": [
    "S₀ = [[-1],[1]] #the solutions to the system at p_0\n",
    "p₀ = [0,-1]\n",
    "p₁ = [0, im]\n",
    "p₂ = [0,1]\n",
    "p₃ = [0,-im]"
   ]
  },
  {
   "cell_type": "code",
   "execution_count": 65,
   "metadata": {},
   "outputs": [
    {
     "data": {
      "text/plain": [
       "Result with 2 solutions\n",
       "=======================\n",
       "• 2 paths tracked\n",
       "• 2 non-singular solutions (2 real)\n",
       "• random_seed: 0x51fcab4a\n"
      ]
     },
     "execution_count": 65,
     "metadata": {},
     "output_type": "execute_result"
    }
   ],
   "source": [
    "#p0->p1\n",
    "S₁ = solve(F,S₀; start_parameters=p₀,target_parameters=p₁)\n",
    "#p1->p2\n",
    "S₂ = solve(F,S₁; start_parameters=p₁,target_parameters=p₂)\n",
    "#p2->p3\n",
    "S₃ = solve(F,S₂; start_parameters=p₂,target_parameters=p₃)\n",
    "#p3->p0 again\n",
    "S₀2 = solve(F,S₃; start_parameters=p₃,target_parameters=p₀)"
   ]
  },
  {
   "cell_type": "code",
   "execution_count": 66,
   "metadata": {},
   "outputs": [
    {
     "name": "stdout",
     "output_type": "stream",
     "text": [
      "2×5 Array{Array{Complex{Float64},1},2}:\n",
      " [-1.0+0.0im]  [-0.707107+0.707107im]  [0.0+1.0im]  [0.707107+0.707107im]   [1.0+0.0im]\n",
      " [1.0+0.0im]   [0.707107-0.707107im]   [0.0-1.0im]  [-0.707107-0.707107im]  [-1.0+0.0im]"
     ]
    }
   ],
   "source": [
    "show(stdout,\"text/plain\",hcat(S₀,solutions(S₁),solutions(S₂),solutions(S₃),solutions(S₀2)))"
   ]
  },
  {
   "cell_type": "code",
   "execution_count": 67,
   "metadata": {},
   "outputs": [
    {
     "data": {
      "text/plain": [
       "monodromy_loop (generic function with 1 method)"
      ]
     },
     "execution_count": 67,
     "metadata": {},
     "output_type": "execute_result"
    }
   ],
   "source": [
    "#This function automates the process above, given a parametrized polynomial system F, start solutions \n",
    "# Sols, and a loop γ which is just a sequence of parameter values starting and ending with the parameter\n",
    "# value for Sols\n",
    "\n",
    "function monodromy_loop(F,Sols,γ)\n",
    "    S=Sols;\n",
    "    P=γ[1]\n",
    "    for NewP in γ[2:end]\n",
    "        newS=solve(F,S; start_parameters=P, target_parameters=NewP)\n",
    "        S=newS\n",
    "        P=NewP\n",
    "    end\n",
    "    return S\n",
    "end"
   ]
  },
  {
   "cell_type": "code",
   "execution_count": 69,
   "metadata": {},
   "outputs": [
    {
     "data": {
      "text/plain": [
       "2-element Array{Array{Complex{Float64},1},1}:\n",
       " [1.0 + 0.0im]\n",
       " [-1.0 + 0.0im]"
      ]
     },
     "execution_count": 69,
     "metadata": {},
     "output_type": "execute_result"
    }
   ],
   "source": [
    "#Here's the loop we did earlier, using the new function\n",
    "M=monodromy_loop(F,S₀,[p₀,p₁,p₂,p₃,p₀]);\n",
    "solutions(M)"
   ]
  },
  {
   "cell_type": "markdown",
   "metadata": {},
   "source": [
    "### Solving systems using monodromy"
   ]
  },
  {
   "cell_type": "markdown",
   "metadata": {},
   "source": [
    "What if we only knew about the solution $s_1=1$ of $x^2-1=0$?\n",
    "\n",
    "Then performing the monodromy loop *discovers* the solution $s_2=-1$"
   ]
  },
  {
   "cell_type": "code",
   "execution_count": 9,
   "metadata": {},
   "outputs": [
    {
     "data": {
      "text/plain": [
       "1-element Array{Array{Complex{Float64},1},1}:\n",
       " [-1.0 + 0.0im]"
      ]
     },
     "execution_count": 9,
     "metadata": {},
     "output_type": "execute_result"
    }
   ],
   "source": [
    "solutions(monodromy_loop(F,[1],[p₀,p₁,p₂,p₃,p₀]))"
   ]
  },
  {
   "cell_type": "markdown",
   "metadata": {},
   "source": [
    "What if we didn't know any solutions to a polynomial $f(x) = \\sum_{i=0}^{20}c_ix^i$?"
   ]
  },
  {
   "cell_type": "code",
   "execution_count": 10,
   "metadata": {},
   "outputs": [
    {
     "data": {
      "text/plain": [
       "System of length 1\n",
       " 1 variables: x\n",
       " 21 parameters: c₀, c₁, c₂, c₃, c₄, c₅, c₆, c₇, c₈, c₉, c₁₀, c₁₁, c₁₂, c₁₃, c₁₄, c₁₅, c₁₆, c₁₇, c₁₈, c₁₉, c₂₀\n",
       "\n",
       " c₀ + x*c₁ + x^2*c₂ + x^3*c₃ + x^4*c₄ + x^5*c₅ + x^6*c₆ + x^7*c₇ + x^8*c₈ + x^9*c₉ + x^10*c₁₀ + x^11*c₁₁ + x^12*c₁₂ + x^13*c₁₃ + x^14*c₁₄ + x^15*c₁₅ + x^16*c₁₆ + x^17*c₁₇ + x^18*c₁₈ + x^19*c₁₉ + x^20*c₂₀"
      ]
     },
     "execution_count": 10,
     "metadata": {},
     "output_type": "execute_result"
    }
   ],
   "source": [
    "@var c[0:20]\n",
    "f = sum([c[i]*x^(i-1) for i in 1:21])\n",
    "F = System([f],parameters=c)"
   ]
  },
  {
   "cell_type": "markdown",
   "metadata": {},
   "source": [
    "We would need to find a single start solution"
   ]
  },
  {
   "cell_type": "code",
   "execution_count": 11,
   "metadata": {},
   "outputs": [
    {
     "data": {
      "text/plain": [
       "-5.551115123125783e-17 + 5.551115123125783e-17im"
      ]
     },
     "execution_count": 11,
     "metadata": {},
     "output_type": "execute_result"
    }
   ],
   "source": [
    "#So we can force the start solution to be 0.923+0.2im\n",
    "S=[0.923+0.2*im]\n",
    "C = randn(ComplexF64,21)\n",
    "evaluation = sum([C[i]*S[1]^(i-1) for i in 1:21])\n",
    "C[1]-=evaluation ##Synthetically alters the tuple C so that S[1] is a solution to f_C(x)\n",
    "evaluation = sum([C[i]*S[1]^(i-1) for i in 1:21])"
   ]
  },
  {
   "cell_type": "markdown",
   "metadata": {},
   "source": [
    "Now we have 1 solution to some degree 20 polynomial "
   ]
  },
  {
   "cell_type": "code",
   "execution_count": 12,
   "metadata": {},
   "outputs": [
    {
     "name": "stdout",
     "output_type": "stream",
     "text": [
      "We found a new solution (Total:2)\n",
      "We found a new solution (Total:3)\n",
      "We found a new solution (Total:4)\n",
      "We found a new solution (Total:5)\n",
      "We found a new solution (Total:6)\n",
      "We found a new solution (Total:7)\n",
      "We found a new solution (Total:8)\n",
      "We found a new solution (Total:9)\n",
      "We found a new solution (Total:10)\n",
      "We found a new solution (Total:11)\n",
      "We found a new solution (Total:12)\n",
      "We found a new solution (Total:13)\n",
      "We found a new solution (Total:14)\n",
      "We found a new solution (Total:15)\n",
      "We found a new solution (Total:16)\n",
      "We found a new solution (Total:17)\n",
      "We found a new solution (Total:18)\n",
      "We found a new solution (Total:19)\n",
      "We found a new solution (Total:20)\n",
      "Finished after 673 loops\n"
     ]
    }
   ],
   "source": [
    "SolutionsFound=[S]\n",
    "loop_num=0\n",
    "while length(SolutionsFound)<20\n",
    "    loop_num+=1\n",
    "    newSolution=solutions(monodromy_loop(F,S,[C,5*randn(ComplexF64,21),3*randn(ComplexF64,21),C]))\n",
    "    if findfirst(x->x[1]≈(newSolution[1][1]),SolutionsFound)==nothing\n",
    "        push!(SolutionsFound,newSolution[1])\n",
    "        println(\"We found a new solution (Total:\",length(SolutionsFound),\")\")\n",
    "        flush(stdout)\n",
    "    end\n",
    "end\n",
    "println(\"Finished after \",loop_num, \" loops\")\n",
    "    "
   ]
  },
  {
   "cell_type": "markdown",
   "metadata": {},
   "source": [
    "<img src=\"dumbmonodromy.png\" width=\"500\">"
   ]
  },
  {
   "cell_type": "markdown",
   "metadata": {},
   "source": [
    "All of this is implemented in HomotopyContinuation.jl in a smarter way following ideas in Duff et.al."
   ]
  },
  {
   "cell_type": "code",
   "execution_count": 13,
   "metadata": {},
   "outputs": [
    {
     "data": {
      "text/plain": [
       "MonodromyResult\n",
       "===============\n",
       "• return_code → :heuristic_stop\n",
       "• 20 solutions\n",
       "• 240 tracked loops\n",
       "• random_seed → 0xc82d73ad"
      ]
     },
     "execution_count": 13,
     "metadata": {},
     "output_type": "execute_result"
    }
   ],
   "source": [
    "MonSolve=monodromy_solve(F,S,C; show_progress=true)"
   ]
  },
  {
   "cell_type": "markdown",
   "metadata": {},
   "source": [
    "<img src=\"smartermonodromy.png\" width=\"500\">"
   ]
  },
  {
   "cell_type": "markdown",
   "metadata": {},
   "source": [
    "Let's check that we got the same answers"
   ]
  },
  {
   "cell_type": "code",
   "execution_count": 14,
   "metadata": {},
   "outputs": [
    {
     "data": {
      "text/plain": [
       "20-element Array{Array{Complex{Float64},1},1}:\n",
       " [-0.005240638449255656 - 1.0811731454015852im]\n",
       " [-0.043307666681881414 + 0.9313572936750288im]\n",
       " [-0.08716135408387497 + 1.781485492740577im]\n",
       " [0.23043245496851986 - 0.960114113776888im]\n",
       " [0.3102384921765168 + 0.9319062390912547im]\n",
       " [-0.3921753607803078 - 0.8716111735755357im]\n",
       " [-0.42863895965321286 + 0.8898190656020754im]\n",
       " [0.6243983278665469 - 0.6445865681630509im]\n",
       " [0.6290301404433203 + 0.841061040012016im]\n",
       " [0.6312723826686182 - 1.110146831080314im]\n",
       " [-0.6476714210170993 + 0.7678565791517444im]\n",
       " [-0.7115061779775537 - 0.719052750508661im]\n",
       " [-0.8791031262183036 - 0.4125093685432124im]\n",
       " [-0.9082715362794985 - 0.07634452165446703im]\n",
       " [0.923 + 0.2im]\n",
       " [0.9609530624014283 - 0.11975195273991433im]\n",
       " [-0.9737077650879263 + 0.2426083966144189im]\n",
       " [1.005215112565527 - 0.34759561145607976im]\n",
       " [1.1202166303649352 + 0.5890990400589383im]\n",
       " [-1.4595767690719708 + 0.728800220816198im]"
      ]
     },
     "execution_count": 14,
     "metadata": {},
     "output_type": "execute_result"
    }
   ],
   "source": [
    "sort(solutions(MonSolve);lt=(x,y)->abs(real(x[1]))<abs(real(y[1])))"
   ]
  },
  {
   "cell_type": "code",
   "execution_count": 15,
   "metadata": {},
   "outputs": [
    {
     "data": {
      "text/plain": [
       "20-element Array{Array{Complex{Float64},1},1}:\n",
       " [-0.005240638449255647 - 1.0811731454015852im]\n",
       " [-0.04330766668188141 + 0.9313572936750288im]\n",
       " [-0.08716135408387497 + 1.781485492740577im]\n",
       " [0.23043245496851986 - 0.960114113776888im]\n",
       " [0.3102384921765168 + 0.9319062390912547im]\n",
       " [-0.39217536078030774 - 0.8716111735755357im]\n",
       " [-0.42863895965321286 + 0.8898190656020754im]\n",
       " [0.6243983278665469 - 0.6445865681630509im]\n",
       " [0.6290301404433203 + 0.841061040012016im]\n",
       " [0.6312723826686182 - 1.110146831080314im]\n",
       " [-0.6476714210170993 + 0.7678565791517444im]\n",
       " [-0.7115061779775537 - 0.719052750508661im]\n",
       " [-0.8791031262183036 - 0.41250936854321235im]\n",
       " [-0.9082715362794985 - 0.07634452165446703im]\n",
       " [0.923 + 0.2im]\n",
       " [0.9609530624014283 - 0.11975195273991432im]\n",
       " [-0.9737077650879263 + 0.2426083966144189im]\n",
       " [1.005215112565527 - 0.34759561145607976im]\n",
       " [1.1202166303649352 + 0.5890990400589383im]\n",
       " [-1.4595767690719708 + 0.728800220816198im]"
      ]
     },
     "execution_count": 15,
     "metadata": {},
     "output_type": "execute_result"
    }
   ],
   "source": [
    "sort(SolutionsFound;lt=(x,y)->abs(real(x[1]))<abs(real(y[1])))"
   ]
  },
  {
   "cell_type": "markdown",
   "metadata": {},
   "source": [
    "<bdi style=\"border:3px; border-style:solid; padding: 0.2em;\">\n",
    "Warning! This may not find all the points you're looking for!\n",
    "</bdi>\n",
    "\n",
    "Situation 1: you were unlucky and the loops you took never produced all of the solutions\n",
    "\n",
    "Situation 2: no matter which loops you took, you'd never produce all the solutions\n"
   ]
  },
  {
   "cell_type": "code",
   "execution_count": 16,
   "metadata": {},
   "outputs": [
    {
     "data": {
      "text/plain": [
       "MonodromyResult\n",
       "===============\n",
       "• return_code → :heuristic_stop\n",
       "• 2 solutions\n",
       "• 14 tracked loops\n",
       "• random_seed → 0x19bdbcf2"
      ]
     },
     "execution_count": 16,
     "metadata": {},
     "output_type": "execute_result"
    }
   ],
   "source": [
    "@var x,y\n",
    "@var a,b,c\n",
    "TwoConics = System([(x^2+y^2-1)*((x-0.5)^2+y^2-1),a*x+b*y+c],parameters=[a,b,c])\n",
    "M=monodromy_solve(TwoConics,[[1,0]],[0,1,0])"
   ]
  },
  {
   "cell_type": "markdown",
   "metadata": {},
   "source": [
    "## Monodromy Group\n",
    "\n",
    "The collection of all permutations possible (from loops based at $p \\in U$) forms a group $G_\\pi$ called the **monodromy group** of $\\pi$.\n",
    "\n",
    "Exercise: Show $G_\\pi$ is a group and that it doesn't depend on the base point $p \\in U$.\n",
    "\n",
    "The following function writes the permutation $g_\\gamma$ coming from a loop $\\gamma$ as a permutation in single line notation"
   ]
  },
  {
   "cell_type": "code",
   "execution_count": 17,
   "metadata": {},
   "outputs": [
    {
     "data": {
      "text/plain": [
       "monodromy_element (generic function with 1 method)"
      ]
     },
     "execution_count": 17,
     "metadata": {},
     "output_type": "execute_result"
    }
   ],
   "source": [
    "function monodromy_element(F,BaseSols,BaseParam;γ=nothing)\n",
    "    #If no loop is given, randomly make one\n",
    "    if γ==nothing\n",
    "        γ = [BaseParam] #starting at BaseParam\n",
    "        for i in 1:3\n",
    "            push!(γ,2*randn(ComplexF64,length(F.parameters))) #with 3 other parameter values\n",
    "        end\n",
    "        push!(γ,BaseParam) #and ending again at BaseParam\n",
    "    end\n",
    "    M = solutions(monodromy_loop(F,BaseSols,γ)) #Take the solutions after the loop\n",
    "    S = (BaseSols) #And those before\n",
    "    gᵧ= [findfirst(x->x≈S[i],M) for i in 1:length(M)] #and see which solutions were permuted\n",
    "    return gᵧ\n",
    "end"
   ]
  },
  {
   "cell_type": "code",
   "execution_count": 18,
   "metadata": {},
   "outputs": [
    {
     "data": {
      "text/plain": [
       "2-element Array{Int64,1}:\n",
       " 2\n",
       " 1"
      ]
     },
     "execution_count": 18,
     "metadata": {},
     "output_type": "execute_result"
    }
   ],
   "source": [
    "@var x a b\n",
    "F = System([x^2 + a * x + b], parameters = [a, b])\n",
    "#Here's the monodromy element from before written as a permutation\n",
    "monodromy_element(F,[[-1],[1]],p₀;γ=[p₀,p₁,p₂,p₃,p₀])"
   ]
  },
  {
   "cell_type": "markdown",
   "metadata": {},
   "source": [
    "Let's compute 1000 random monodromy permutations!"
   ]
  },
  {
   "cell_type": "code",
   "execution_count": 19,
   "metadata": {},
   "outputs": [],
   "source": [
    "#here are 1000 random monodromy elements based at p_0\n",
    "random_elements=[monodromy_element(F,[[-1],[1]],Array{ComplexF64,1}(p₀)) for i in 1:1000];"
   ]
  },
  {
   "cell_type": "code",
   "execution_count": 20,
   "metadata": {},
   "outputs": [
    {
     "data": {
      "text/plain": [
       "tally (generic function with 1 method)"
      ]
     },
     "execution_count": 20,
     "metadata": {},
     "output_type": "execute_result"
    }
   ],
   "source": [
    "#this is a quick function to tally them\n",
    "function tally(S)\n",
    "    D=Dict{Any,Int}()\n",
    "    for s in S\n",
    "        D[s]=get(D,s,0)+1\n",
    "    end\n",
    "    return D\n",
    "end"
   ]
  },
  {
   "cell_type": "code",
   "execution_count": 21,
   "metadata": {},
   "outputs": [
    {
     "data": {
      "text/plain": [
       "Dict{Any,Int64} with 2 entries:\n",
       "  [2, 1] => 334\n",
       "  [1, 2] => 666"
      ]
     },
     "execution_count": 21,
     "metadata": {},
     "output_type": "execute_result"
    }
   ],
   "source": [
    "#here's the tally\n",
    "tally(random_elements)"
   ]
  },
  {
   "cell_type": "markdown",
   "metadata": {},
   "source": [
    "Exercise: monodromy_solve can find all solutions if and only if $G_\\pi$ is transitive\n",
    "\n",
    "Exercise: $G_\\pi$ is transitive if and only if $Z$ has a unique irreducible component of top dimension"
   ]
  },
  {
   "cell_type": "markdown",
   "metadata": {},
   "source": [
    "# A nontrivial example: 27 lines on a cubic"
   ]
  },
  {
   "cell_type": "markdown",
   "metadata": {},
   "source": [
    "**Cayley and Salmon**: There are exactly $27$ lines on every smooth cubic surface in $\\mathbb{P}^3$."
   ]
  },
  {
   "cell_type": "markdown",
   "metadata": {},
   "source": [
    "Let's solve for these $27$ lines using monodromy, then compute the monodromy group!"
   ]
  },
  {
   "cell_type": "markdown",
   "metadata": {},
   "source": [
    "*Source: Greg Egan* \n",
    "\n",
    "<img src=\"clebsch_diagonal_cubic-1-1.gif\" width=\"500\">\n",
    "(The Clebsch cubic)"
   ]
  },
  {
   "cell_type": "markdown",
   "metadata": {},
   "source": [
    "### Writing the system \n",
    "\n",
    "Cubic = $\\sum_{i+j+k\\leq 3} c_{i,j,k}x^iy^jz^k$\n",
    "\n",
    "Lines = $t \\xrightarrow{\\ell_{k}} (t,k_1+k_3t,k_2+k_4t)$\n",
    "\n",
    "Polynomial system: Cubic($\\ell_k$)$=0$ (variables are $k_1,\\ldots,k_4$ and parameters are $c_{i,j,k}$)"
   ]
  },
  {
   "cell_type": "code",
   "execution_count": 22,
   "metadata": {
    "scrolled": true
   },
   "outputs": [
    {
     "data": {
      "text/plain": [
       "System of length 4\n",
       " 4 variables: k₁, k₂, k₃, k₄\n",
       " 64 parameters: c₀₋₀₋₀, c₁₋₀₋₀, c₂₋₀₋₀, c₃₋₀₋₀, c₀₋₁₋₀, c₁₋₁₋₀, c₂₋₁₋₀, c₃₋₁₋₀, c₀₋₂₋₀, c₁₋₂₋₀, c₂₋₂₋₀, c₃₋₂₋₀, c₀₋₃₋₀, c₁₋₃₋₀, c₂₋₃₋₀, c₃₋₃₋₀, c₀₋₀₋₁, c₁₋₀₋₁, c₂₋₀₋₁, c₃₋₀₋₁, c₀₋₁₋₁, c₁₋₁₋₁, c₂₋₁₋₁, c₃₋₁₋₁, c₀₋₂₋₁, c₁₋₂₋₁, c₂₋₂₋₁, c₃₋₂₋₁, c₀₋₃₋₁, c₁₋₃₋₁, c₂₋₃₋₁, c₃₋₃₋₁, c₀₋₀₋₂, c₁₋₀₋₂, c₂₋₀₋₂, c₃₋₀₋₂, c₀₋₁₋₂, c₁₋₁₋₂, c₂₋₁₋₂, c₃₋₁₋₂, c₀₋₂₋₂, c₁₋₂₋₂, c₂₋₂₋₂, c₃₋₂₋₂, c₀₋₃₋₂, c₁₋₃₋₂, c₂₋₃₋₂, c₃₋₃₋₂, c₀₋₀₋₃, c₁₋₀₋₃, c₂₋₀₋₃, c₃₋₀₋₃, c₀₋₁₋₃, c₁₋₁₋₃, c₂₋₁₋₃, c₃₋₁₋₃, c₀₋₂₋₃, c₁₋₂₋₃, c₂₋₂₋₃, c₃₋₂₋₃, c₀₋₃₋₃, c₁₋₃₋₃, c₂₋₃₋₃, c₃₋₃₋₃\n",
       "\n",
       " c₃₋₀₋₀ + k₃*c₂₋₁₋₀ + k₃^2*c₁₋₂₋₀ + k₃^3*c₀₋₃₋₀ + k₄*c₂₋₀₋₁ + k₄^2*c₁₋₀₋₂ + k₄^3*c₀₋₀₋₃ + k₄*k₃*c₁₋₁₋₁ + k₄*k₃^2*c₀₋₂₋₁ + k₄^2*k₃*c₀₋₁₋₂\n",
       " c₂₋₀₋₀ + k₁*c₂₋₁₋₀ + k₂*c₂₋₀₋₁ + k₃*c₁₋₁₋₀ + k₃^2*c₀₋₂₋₀ + k₄*c₁₋₀₋₁ + k₄^2*c₀₋₀₋₂ + 2*k₃*k₁*c₁₋₂₋₀ + k₃*k₂*c₁₋₁₋₁ + 3*k₃^2*k₁*c₀₋₃₋₀ + k₃^2*k₂*c₀₋₂₋₁ + k₄*k₁*c₁₋₁₋₁ + 2*k₄*k₂*c₁₋₀₋₂ + k₄*k₃*c₀₋₁₋₁ + k₄^2*k₁*c₀₋₁₋₂ + 3*k₄^2*k₂*c₀₋₀₋₃ + 2*k₄*k₃*k₁*c₀₋₂₋₁ + 2*k₄*k₃*k₂*c₀₋₁₋₂\n",
       " c₁₋₀₋₀ + k₁*c₁₋₁₋₀ + k₁^2*c₁₋₂₋₀ + k₂*c₁₋₀₋₁ + k₂^2*c₁₋₀₋₂ + k₃*c₀₋₁₋₀ + k₄*c₀₋₀₋₁ + k₂*k₁*c₁₋₁₋₁ + 2*k₃*k₁*c₀₋₂₋₀ + 3*k₃*k₁^2*c₀₋₃₋₀ + k₃*k₂*c₀₋₁₋₁ + k₃*k₂^2*c₀₋₁₋₂ + k₄*k₁*c₀₋₁₋₁ + k₄*k₁^2*c₀₋₂₋₁ + 2*k₄*k₂*c₀₋₀₋₂ + 3*k₄*k₂^2*c₀₋₀₋₃ + 2*k₃*k₂*k₁*c₀₋₂₋₁ + 2*k₄*k₂*k₁*c₀₋₁₋₂\n",
       " c₀₋₀₋₀ + k₁*c₀₋₁₋₀ + k₁^2*c₀₋₂₋₀ + k₁^3*c₀₋₃₋₀ + k₂*c₀₋₀₋₁ + k₂^2*c₀₋₀₋₂ + k₂^3*c₀₋₀₋₃ + k₂*k₁*c₀₋₁₋₁ + k₂*k₁^2*c₀₋₂₋₁ + k₂^2*k₁*c₀₋₁₋₂"
      ]
     },
     "execution_count": 22,
     "metadata": {},
     "output_type": "execute_result"
    }
   ],
   "source": [
    "# lines are parametrized as t->(t,k1+k3t,k2+k4t)\n",
    "@var k[1:4]\n",
    "# the coefficient of x^iy^jz^k in a general cubic will be c[i,j,k]\n",
    "@var c[0:3,0:3,0:3]\n",
    "# we need these variables too\n",
    "@var t\n",
    "@var x,y,z\n",
    "\n",
    "#here's a cubic\n",
    "cubic=sum([c[i+1,j+1,k+1]x^i*y^j*z^k for i in 0:3 for j in 0:3-i for k in 0:3-i-j])\n",
    "#here's our line\n",
    "line = [t,k[1]+k[3]*t,k[2]+k[4]*t]\n",
    "#E is cubic(line(t))\n",
    "E=evaluate(cubic,[x,y,z]=>line)\n",
    "#and we construct the system where the coefficients of t^i for t=0..3 are zero (i.e. E=0)\n",
    "F = System(exponents_coefficients(E,[t])[2],parameters=vec(c))"
   ]
  },
  {
   "cell_type": "code",
   "execution_count": 52,
   "metadata": {},
   "outputs": [
    {
     "name": "stdout",
     "output_type": "stream",
     "text": [
      "  0.128853 seconds (157.25 k allocations: 9.441 MiB)\n"
     ]
    },
    {
     "data": {
      "text/plain": [
       "MonodromyResult\n",
       "===============\n",
       "• return_code → :heuristic_stop\n",
       "• 27 solutions\n",
       "• 189 tracked loops\n",
       "• random_seed → 0x3a8294b7"
      ]
     },
     "execution_count": 52,
     "metadata": {},
     "output_type": "execute_result"
    }
   ],
   "source": [
    "@time MS=monodromy_solve(F; permutations=true)"
   ]
  },
  {
   "cell_type": "markdown",
   "metadata": {},
   "source": [
    "Monodromy quickly solved the system!"
   ]
  },
  {
   "cell_type": "code",
   "execution_count": 53,
   "metadata": {},
   "outputs": [
    {
     "data": {
      "text/plain": [
       "7-element Array{Array{Int64,1},1}:\n",
       " [2, 3, 4, 5, 1, 11, 9, 6, 12, 16  …  8, 19, 24, 23, 7, 26, 10, 13, 25, 27]\n",
       " [6, 7, 8, 9, 1, 10, 12, 13, 14, 15  …  3, 17, 4, 5, 24, 25, 27, 26, 2, 21]\n",
       " [2, 20, 9, 7, 6, 21, 26, 13, 25, 18  …  14, 23, 27, 19, 1, 12, 3, 11, 10, 17]\n",
       " [21, 17, 27, 10, 18, 3, 4, 5, 23, 12  …  7, 1, 22, 19, 26, 20, 25, 16, 15, 9]\n",
       " [18, 7, 19, 14, 10, 5, 26, 21, 20, 1  …  13, 25, 2, 12, 27, 17, 16, 15, 4, 3]\n",
       " [7, 18, 5, 20, 15, 14, 19, 12, 22, 27  …  11, 24, 17, 21, 9, 2, 1, 4, 10, 13]\n",
       " [12, 9, 3, 24, 11, 7, 6, 10, 2, 8  …  27, 26, 20, 16, 13, 17, 4, 15, 19, 18]"
      ]
     },
     "execution_count": 53,
     "metadata": {},
     "output_type": "execute_result"
    }
   ],
   "source": [
    "#Output of monodromy_solve knows a fibre pi^(-1)(P) = S, \n",
    "# and it knows the permutations corresponding to the loops  used\n",
    "S=solutions(MS);\n",
    "P=parameters(MS);\n",
    "random_elements=[permutations(MS)[:,i] for i in 1:size(permutations(MS),2)]"
   ]
  },
  {
   "cell_type": "code",
   "execution_count": 54,
   "metadata": {},
   "outputs": [
    {
     "data": {
      "text/plain": [
       "7"
      ]
     },
     "execution_count": 54,
     "metadata": {},
     "output_type": "execute_result"
    }
   ],
   "source": [
    "#Here we filter out anything funny that happened numerically\n",
    "filter!(x->!(nothing in x) && sort(x) == collect(1:27),random_elements);\n",
    "length(random_elements)"
   ]
  },
  {
   "cell_type": "code",
   "execution_count": 55,
   "metadata": {},
   "outputs": [
    {
     "data": {
      "text/plain": [
       "Dict{Any,Int64} with 7 entries:\n",
       "  [6, 7, 8, 9, 1, 10, 12, 13, 14, 15  …  3, 17, 4, 5, 24, 25, 27, 26, 2, 2… => 1\n",
       "  [2, 3, 4, 5, 1, 11, 9, 6, 12, 16  …  8, 19, 24, 23, 7, 26, 10, 13, 25, 2… => 1\n",
       "  [2, 20, 9, 7, 6, 21, 26, 13, 25, 18  …  14, 23, 27, 19, 1, 12, 3, 11, 10… => 1\n",
       "  [18, 7, 19, 14, 10, 5, 26, 21, 20, 1  …  13, 25, 2, 12, 27, 17, 16, 15, … => 1\n",
       "  [21, 17, 27, 10, 18, 3, 4, 5, 23, 12  …  7, 1, 22, 19, 26, 20, 25, 16, 1… => 1\n",
       "  [7, 18, 5, 20, 15, 14, 19, 12, 22, 27  …  11, 24, 17, 21, 9, 2, 1, 4, 10… => 1\n",
       "  [12, 9, 3, 24, 11, 7, 6, 10, 2, 8  …  27, 26, 20, 16, 13, 17, 4, 15, 19,… => 1"
      ]
     },
     "execution_count": 55,
     "metadata": {},
     "output_type": "execute_result"
    }
   ],
   "source": [
    "tally(random_elements)"
   ]
  },
  {
   "cell_type": "markdown",
   "metadata": {},
   "source": [
    "#### To compute and describe this monodromy group, we'll need a little help from our favorite group theory software"
   ]
  },
  {
   "cell_type": "code",
   "execution_count": 56,
   "metadata": {},
   "outputs": [
    {
     "data": {
      "text/plain": [
       "describe_group (generic function with 1 method)"
      ]
     },
     "execution_count": 56,
     "metadata": {},
     "output_type": "execute_result"
    }
   ],
   "source": [
    "using GAP;\n",
    "function describe_group(L)\n",
    "    L=unique(L)\n",
    "    Sym=GAP.Globals.SymmetricGroup(length(L[1]))\n",
    "    GAPL=[]\n",
    "    for l in L\n",
    "        push!(GAPL,GAP.Globals.PermList(GAP.julia_to_gap(l)))\n",
    "    end\n",
    "    GAPL=GAP.julia_to_gap(GAPL)\n",
    "    G=GAP.Globals.Subgroup(Sym,GAPL)\n",
    "    return (GAP.Globals.StructureDescription(G),G)\n",
    "end"
   ]
  },
  {
   "cell_type": "code",
   "execution_count": 57,
   "metadata": {},
   "outputs": [
    {
     "name": "stdout",
     "output_type": "stream",
     "text": [
      "GAP: \"O(5,3) : C2\"\n"
     ]
    },
    {
     "data": {
      "text/plain": [
       "51840"
      ]
     },
     "execution_count": 57,
     "metadata": {},
     "output_type": "execute_result"
    }
   ],
   "source": [
    "Gal=describe_group(random_elements)\n",
    "println(Gal[1])\n",
    "GAP.Globals.Order(Gal[2])"
   ]
  },
  {
   "cell_type": "markdown",
   "metadata": {},
   "source": [
    "##### This is the Weyl group of E6\n",
    "\n",
    "It is exactly the group of permutations which are possible given how the $27$ lines must intersect."
   ]
  },
  {
   "cell_type": "markdown",
   "metadata": {},
   "source": [
    "## Conclusion\n",
    "- we can solve systems using monodromy provided we know the incidence variety is irreducible\n",
    " - How do we know when to stop? (stay tuned for witness sets talk)\n",
    "- we can compute monodromy groups which reveal structure about our system\n",
    " - Find your favorite family of zero-dimensional varieties and compute their monodromy groups\n",
    "   - Schubert Problems\n",
    "   - Sparse polynomial systems\n",
    "   - Computer vision"
   ]
  }
 ],
 "metadata": {
  "kernelspec": {
   "display_name": "Julia 1.5.2",
   "language": "julia",
   "name": "julia-1.5"
  },
  "language_info": {
   "file_extension": ".jl",
   "mimetype": "application/julia",
   "name": "julia",
   "version": "1.5.2"
  }
 },
 "nbformat": 4,
 "nbformat_minor": 2
}
