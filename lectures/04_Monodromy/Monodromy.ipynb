{
 "cells": [
  {
   "cell_type": "markdown",
   "metadata": {},
   "source": [
    "# Lecture: Monodromy"
   ]
  },
  {
   "cell_type": "code",
   "execution_count": 1,
   "metadata": {},
   "outputs": [],
   "source": [
    "using HomotopyContinuation"
   ]
  },
  {
   "cell_type": "markdown",
   "metadata": {},
   "source": [
    "<hr style=\"border:1px solid gray\"> </hr>\n",
    "For more information about monodromy and computing  monodromy groups using numerical algebraic geometry see \n",
    "\n",
    "[[*Numerical computation of Galois groups*](https://arxiv.org/pdf/1605.07806.pdf)] Hauenstein, Rodriguez, and Sottile. Foundations of Computational Mathematics, 18 (2018)\n",
    "\n",
    "For more information about solve polynomial systems using monodromy see\n",
    "\n",
    "[[*Solving polynomial systems via homotopy continuation and monodromy*](https://arxiv.org/pdf/1609.08722.pdf)]  Duff,  Hill,  Jensen,  Lee,  Leykin, and  Sommars.\n",
    "IMA Journal of Num. Anal. (2018)\n",
    "\n",
    "<hr style=\"border:1px solid gray\"> </hr>"
   ]
  },
  {
   "cell_type": "markdown",
   "metadata": {},
   "source": [
    "<img src=\"PictureMonodromy1.png\" width=\"500\" style=\"float:right\">\n",
    "\n",
    "## Branched Covers\n",
    "\n",
    "As in Sascha's talk, we consider a family $F(x;p)$ of $0$-dimensional polynomial systems parametrized by $Q=\\mathbb{C}^k$\n",
    "$$Z = \\{(x,p) \\in \\mathbb{C}^n \\times Q \\mid F(x;p) =0\\} \\subset \\mathbb{C}^n \\times Q$$\n",
    "$$\\,\\,\\,\\, \\downarrow \\pi $$\n",
    "$$Q$$\n",
    "\n",
    "Over *most* parameters, there are $d$ solutions.\n",
    "\n",
    "The map $\\pi$ is called a $d$-to-$1$ **branched cover** \n",
    "\n",
    "The **discriminant** (or branch locus) $D \\subsetneq Q$ are the parameter values for which the fibres do not consist of $d$ distinct points.\n",
    "\n",
    "The complement of the discriminant $U = Q \\backslash D$ is called the set of the regular values.\n",
    "\n",
    "The map $\\pi:Z|_{\\pi^{-1}(U)} \\to U$ is a $d$-to-$1$ **covering space**.\n",
    "\n",
    "\n",
    "\n",
    "\n"
   ]
  },
  {
   "cell_type": "markdown",
   "metadata": {},
   "source": [
    "\n",
    "### Example\n",
    "\n",
    "$$F(x;a,b) = x^2+ax+b$$\n"
   ]
  },
  {
   "cell_type": "code",
   "execution_count": 58,
   "metadata": {},
   "outputs": [
    {
     "data": {
      "text/plain": [
       "System of length 1\n",
       " 1 variables: x\n",
       " 2 parameters: a, b\n",
       "\n",
       " b + a*x + x^2"
      ]
     },
     "execution_count": 58,
     "metadata": {},
     "output_type": "execute_result"
    }
   ],
   "source": [
    "@var x a b\n",
    "F = System([x^2 + a * x + b], parameters = [a, b])"
   ]
  },
  {
   "cell_type": "markdown",
   "metadata": {},
   "source": [
    "<p style=\"border:3px; border-style:solid; padding: 0.5em; text-align:center\">\n",
    "Monodromy: a loop $\\gamma$ in $U$ based at $p$ induces a permutation $g_\\gamma$ of the fibre $\\pi^{-1}(p)$.\n",
    "</p>\n",
    "\n",
    "\n",
    "Let's move in a loop\n",
    "\n",
    "<img src=\"PictureMonodromy2.png\" width=\"500\">\n",
    "\n",
    "\n",
    "$$\\overbrace{\\underbrace{(x^2-1)}_{p_0=[0,-1]} \\to \\underbrace{(x^2-i)}_{p_1=[0,-i]} \\to \\underbrace{(x^2+1)}_{p_2=[0,1]} \\to \\underbrace{(x^2+i)}_{p_3=[0,i]} \\to \\underbrace{(x^2-1)}_{p_0=[0,-1]}}^{\\gamma}$$"
   ]
  },
  {
   "cell_type": "code",
   "execution_count": 59,
   "metadata": {},
   "outputs": [
    {
     "data": {
      "text/plain": [
       "2-element Array{Complex{Int64},1}:\n",
       " 0 + 0im\n",
       " 0 - 1im"
      ]
     },
     "execution_count": 59,
     "metadata": {},
     "output_type": "execute_result"
    }
   ],
   "source": [
    "S₀ = [[-1],[1]] #the solutions to the system at p_0\n",
    "p₀ = [0,-1]\n",
    "p₁ = [0, im]\n",
    "p₂ = [0,1]\n",
    "p₃ = [0,-im]"
   ]
  },
  {
   "cell_type": "code",
   "execution_count": 60,
   "metadata": {},
   "outputs": [
    {
     "data": {
      "text/plain": [
       "Result with 2 solutions\n",
       "=======================\n",
       "• 2 paths tracked\n",
       "• 2 non-singular solutions (2 real)\n",
       "• random_seed: 0x111d1b8e\n"
      ]
     },
     "execution_count": 60,
     "metadata": {},
     "output_type": "execute_result"
    }
   ],
   "source": [
    "#p0->p1\n",
    "S₁ = solve(F,S₀; start_parameters=p₀,target_parameters=p₁)\n",
    "#p1->p2\n",
    "S₂ = solve(F,S₁; start_parameters=p₁,target_parameters=p₂)\n",
    "#p2->p3\n",
    "S₃ = solve(F,S₂; start_parameters=p₂,target_parameters=p₃)\n",
    "#p3->p0 again\n",
    "S₀2 = solve(F,S₃; start_parameters=p₃,target_parameters=p₀)"
   ]
  },
  {
   "cell_type": "code",
   "execution_count": 61,
   "metadata": {},
   "outputs": [
    {
     "name": "stdout",
     "output_type": "stream",
     "text": [
      "2×5 Array{Array{Complex{Float64},1},2}:\n",
      " [-1.0+0.0im]  [-0.707107+0.707107im]  [0.0+1.0im]  [0.707107+0.707107im]   [1.0+0.0im]\n",
      " [1.0+0.0im]   [0.707107-0.707107im]   [0.0-1.0im]  [-0.707107-0.707107im]  [-1.0+0.0im]"
     ]
    }
   ],
   "source": [
    "show(stdout,\"text/plain\",hcat(S₀,solutions(S₁),solutions(S₂),solutions(S₃),solutions(S₀2)))"
   ]
  },
  {
   "cell_type": "code",
   "execution_count": 6,
   "metadata": {},
   "outputs": [
    {
     "data": {
      "text/plain": [
       "monodromy_loop (generic function with 1 method)"
      ]
     },
     "execution_count": 6,
     "metadata": {},
     "output_type": "execute_result"
    }
   ],
   "source": [
    "#This function automates the process above, given a parametrized polynomial system F, start solutions \n",
    "# Sols, and a loop γ which is just a sequence of parameter values starting and ending with the parameter\n",
    "# value for Sols\n",
    "\n",
    "function monodromy_loop(F,Sols,γ)\n",
    "    S=Sols;\n",
    "    P=γ[1]\n",
    "    for NewP in γ[2:end]\n",
    "        newS=solve(F,S; start_parameters=P, target_parameters=NewP)\n",
    "        S=newS\n",
    "        P=NewP\n",
    "    end\n",
    "    return S\n",
    "end"
   ]
  },
  {
   "cell_type": "code",
   "execution_count": 7,
   "metadata": {},
   "outputs": [
    {
     "data": {
      "text/plain": [
       "2-element Array{Array{Complex{Float64},1},1}:\n",
       " [1.0 + 0.0im]\n",
       " [-1.0 + 0.0im]"
      ]
     },
     "execution_count": 7,
     "metadata": {},
     "output_type": "execute_result"
    }
   ],
   "source": [
    "#Here's the loop we did earlier, using the new function\n",
    "M=monodromy_loop(F,S₀,[p₀,p₁,p₂,p₃,p₀]);\n",
    "solutions(M)"
   ]
  },
  {
   "cell_type": "markdown",
   "metadata": {},
   "source": [
    "# Solving systems using monodromy - a new way to solve"
   ]
  },
  {
   "cell_type": "markdown",
   "metadata": {},
   "source": [
    "What if we only knew about the solution $s_1=1$ of $x^2-1=0$?\n",
    "\n",
    "Then performing the monodromy loop *discovers* the solution $s_2=-1$"
   ]
  },
  {
   "cell_type": "code",
   "execution_count": 62,
   "metadata": {},
   "outputs": [
    {
     "data": {
      "text/plain": [
       "1-element Array{Array{Complex{Float64},1},1}:\n",
       " [-1.0 + 0.0im]"
      ]
     },
     "execution_count": 62,
     "metadata": {},
     "output_type": "execute_result"
    }
   ],
   "source": [
    "solutions(monodromy_loop(F,[1],[p₀,p₁,p₂,p₃,p₀]))"
   ]
  },
  {
   "cell_type": "markdown",
   "metadata": {},
   "source": [
    "What if we didn't know any solutions to a polynomial system? "
   ]
  },
  {
   "cell_type": "code",
   "execution_count": 63,
   "metadata": {},
   "outputs": [
    {
     "data": {
      "text/plain": [
       "System of length 2\n",
       " 2 variables: x, y\n",
       "\n",
       " -0.506056017548317 + 0.618632832982324*x^2*y^2 + 0.361857264121154*x^2 - 1.57181367445727*y^2\n",
       " 0.903438428435694 - 0.9960887061833*x^2*y^2 + 1.01891230437757*x^2*y^4 + 1.09058934838748*x^4*y^2 - 1.13165678982091*x^2"
      ]
     },
     "execution_count": 63,
     "metadata": {},
     "output_type": "execute_result"
    }
   ],
   "source": [
    "@var a[1:4]\n",
    "@var b[1:5]\n",
    "@var x,y\n",
    "Sparse = System([a[1]+a[2]*x^2+a[3]*y^2+a[4]*x^2*y^2,\n",
    "                 b[1]+b[2]*x^2+b[3]*x^2*y^2+b[4]*x^2*y^4+b[5]*x^4*y^2],\n",
    "                 parameters=vcat(vec(a),vec(b)))\n",
    "MySparseParameters=randn(Float64,9)\n",
    "MySparseSystem=System(evaluate(Sparse.expressions,Sparse.parameters=>MySparseParameters))"
   ]
  },
  {
   "cell_type": "markdown",
   "metadata": {},
   "source": [
    "This system lives in the set of all polynomial systems supported on "
   ]
  },
  {
   "cell_type": "markdown",
   "metadata": {},
   "source": [
    "<img src=\"PictureMonodromy9.png\" width=\"500\">"
   ]
  },
  {
   "cell_type": "markdown",
   "metadata": {},
   "source": [
    "Rather than solving this using a Bezout, or Polyhedral start system, we will try monodromy.\n",
    "\n",
    "But we don't know a start solution!"
   ]
  },
  {
   "cell_type": "markdown",
   "metadata": {},
   "source": [
    "<img src=\"PictureMonodromy6.png\" width=\"600\" style=\"float:center\">\n",
    "\n",
    "Computing the fibre over a point via left map requires just solving a linear system of equations."
   ]
  },
  {
   "cell_type": "code",
   "execution_count": 64,
   "metadata": {},
   "outputs": [
    {
     "name": "stdout",
     "output_type": "stream",
     "text": [
      "We will force \n",
      "Complex{Float64}[-0.7651684787097727 + 0.17720003694271172im, -0.5864335104629297 + 0.17918721363361123im]\n",
      " to be a solution\n",
      "This was not a solution to a random system, it failed by, \n",
      "Complex{Float64}[-1.1463088198107525 - 1.5446214004277343im, 0.5543662364160301 - 0.7860487602129872im]\n",
      "Now the evaluation is \n",
      "Complex{Float64}[-1.1102230246251565e-16 + 1.1102230246251565e-16im, -8.326672684688674e-17 - 2.7755575615628914e-17im]\n"
     ]
    }
   ],
   "source": [
    "ForcedSolution=randn(ComplexF64,2)\n",
    "println(\"We will force \\n\",ForcedSolution,\"\\n to be a solution\")\n",
    "RandomCoefficients=randn(ComplexF64,9)\n",
    "RandomSystem=evaluate(Sparse.expressions,Sparse.parameters=>RandomCoefficients)\n",
    "Evaluation=evaluate(RandomSystem,[x,y]=>ForcedSolution)\n",
    "println(\"This was not a solution to a random system, it failed by, \")\n",
    "println(Evaluation)\n",
    "RandomCoefficients[1]-=Evaluation[1]\n",
    "RandomCoefficients[5]-=Evaluation[2]\n",
    "\n",
    "NewRandomSystem=evaluate(Sparse.expressions,Sparse.parameters=>RandomCoefficients)\n",
    "Evaluation=evaluate(NewRandomSystem,[x,y]=>ForcedSolution)\n",
    "println(\"Now the evaluation is \")\n",
    "println(Evaluation)"
   ]
  },
  {
   "cell_type": "code",
   "execution_count": 11,
   "metadata": {},
   "outputs": [
    {
     "data": {
      "text/plain": [
       "16"
      ]
     },
     "execution_count": 11,
     "metadata": {},
     "output_type": "execute_result"
    }
   ],
   "source": [
    "mixed_volume(MySparseSystem)"
   ]
  },
  {
   "cell_type": "markdown",
   "metadata": {},
   "source": [
    "Let's apply the idea above until we find 16 points"
   ]
  },
  {
   "cell_type": "code",
   "execution_count": 65,
   "metadata": {},
   "outputs": [
    {
     "name": "stdout",
     "output_type": "stream",
     "text": [
      "We found a new solution (Total:2)\n",
      "We found a new solution (Total:3)\n",
      "We found a new solution (Total:4)\n",
      "We found a new solution (Total:5)\n",
      "We found a new solution (Total:6)\n",
      "We found a new solution (Total:7)\n",
      "We found a new solution (Total:8)\n",
      "We found a new solution (Total:9)\n",
      "We found a new solution (Total:10)\n",
      "We found a new solution (Total:11)\n",
      "We found a new solution (Total:12)\n",
      "We found a new solution (Total:13)\n",
      "We found a new solution (Total:14)\n",
      "We found a new solution (Total:15)\n",
      "We found a new solution (Total:16)\n",
      "Finished after 78 loops\n"
     ]
    }
   ],
   "source": [
    "SolutionsFound=[ForcedSolution]\n",
    "loop_num=0\n",
    "while length(SolutionsFound)<16\n",
    "    loop_num+=1\n",
    "    γ=[RandomCoefficients,5*randn(ComplexF64,9),3*randn(ComplexF64,9),RandomCoefficients]\n",
    "    newSolution=solutions(monodromy_loop(Sparse,ForcedSolution,γ))\n",
    "    if findfirst(x->x[1]≈(newSolution[1][1]) && x[2]≈(newSolution[1][2]),SolutionsFound)==nothing\n",
    "        push!(SolutionsFound,newSolution[1])\n",
    "        println(\"We found a new solution (Total:\",length(SolutionsFound),\")\")\n",
    "        flush(stdout)\n",
    "    end\n",
    "end\n",
    "println(\"Finished after \",loop_num, \" loops\")\n",
    "    "
   ]
  },
  {
   "cell_type": "markdown",
   "metadata": {},
   "source": [
    "<img src=\"PictureMonodromy3.png\" width=\"500\">"
   ]
  },
  {
   "cell_type": "markdown",
   "metadata": {},
   "source": [
    "Now the offline step is done. \n",
    "\n",
    "The online step is just to track these solutions to the system I was interested in!"
   ]
  },
  {
   "cell_type": "code",
   "execution_count": 66,
   "metadata": {},
   "outputs": [
    {
     "data": {
      "text/plain": [
       "16-element Array{Array{Complex{Float64},1},1}:\n",
       " [-0.9154322030504802 + 1.7516230804060213e-46im, 0.0 - 0.43878753220451205im]\n",
       " [-0.9154322030504802 - 7.703719777548943e-34im, 0.0 + 0.43878753220451205im]\n",
       " [-1.7024939578149652 - 2.0662986635548023e-40im, -1.8367099231598242e-40 - 1.5661632403915273im]\n",
       " [-1.3730296863493812 + 1.3452465257518244e-43im, -0.6589885172110949 + 1.793662034335766e-43im]\n",
       " [0.9154322030504802 + 7.006492321624085e-46im, -5.605193857299268e-45 + 0.43878753220451205im]\n",
       " [-1.7024939578149654 + 1.4349296274686127e-41im, 1.7219155529623352e-41 + 1.5661632403915275im]\n",
       " [-7.006492321624085e-46 + 1.4130023810945964im, 6.56858655152258e-47 - 0.6615687031225687im]\n",
       " [1.7024939578149654 - 5.969307250269429e-40im, 7.346839692639297e-40 + 1.5661632403915275im]\n",
       " [1.7024939578149652 + 4.304788882405838e-42im, -1.1479437019748901e-41 - 1.5661632403915273im]\n",
       " [0.9154322030504802 - 7.703719777548943e-34im, -1.5407439555097887e-33 - 0.43878753220451205im]\n",
       " [1.3730296863493812 + 3.363116314379561e-44im, -0.6589885172110949 - 2.2420775429197073e-44im]\n",
       " [1.3730296863493812 + 1.1210387714598537e-44im, 0.6589885172110949 + 1.1210387714598537e-44im]\n",
       " [-1.3730296863493814 + 5.605193857299268e-44im, 0.6589885172110949 - 8.96831017167883e-44im]\n",
       " [1.925929944387236e-34 - 1.4130023810945962im, 0.0 - 0.6615687031225687im]\n",
       " [2.350988701644575e-38 + 1.4130023810945964im, 2.938735877055719e-39 + 0.6615687031225687im]\n",
       " [-1.7256332301709633e-31 - 1.4130023810945964im, 7.703719777548943e-33 + 0.6615687031225687im]"
      ]
     },
     "execution_count": 66,
     "metadata": {},
     "output_type": "execute_result"
    }
   ],
   "source": [
    "MySolutions=solutions(solve(Sparse,SolutionsFound;\n",
    "        start_parameters=RandomCoefficients,target_parameters=MySparseParameters))"
   ]
  },
  {
   "cell_type": "markdown",
   "metadata": {},
   "source": [
    "Let's check if our solutions are the same as directly solving"
   ]
  },
  {
   "cell_type": "code",
   "execution_count": 67,
   "metadata": {},
   "outputs": [
    {
     "data": {
      "text/plain": [
       "16-element Array{Array{Complex{Float64},1},1}:\n",
       " [-7.006492321624085e-46 + 1.4130023810945964im, 6.56858655152258e-47 - 0.6615687031225687im]\n",
       " [2.350988701644575e-38 + 1.4130023810945964im, 2.938735877055719e-39 + 0.6615687031225687im]\n",
       " [1.925929944387236e-34 - 1.4130023810945962im, 0.0 - 0.6615687031225687im]\n",
       " [-1.7256332301709633e-31 - 1.4130023810945964im, 7.703719777548943e-33 + 0.6615687031225687im]\n",
       " [-0.9154322030504802 + 1.7516230804060213e-46im, 0.0 - 0.43878753220451205im]\n",
       " [-0.9154322030504802 - 7.703719777548943e-34im, 0.0 + 0.43878753220451205im]\n",
       " [0.9154322030504802 + 7.006492321624085e-46im, -5.605193857299268e-45 + 0.43878753220451205im]\n",
       " [0.9154322030504802 - 7.703719777548943e-34im, -1.5407439555097887e-33 - 0.43878753220451205im]\n",
       " [-1.3730296863493812 + 1.3452465257518244e-43im, -0.6589885172110949 + 1.793662034335766e-43im]\n",
       " [1.3730296863493812 + 3.363116314379561e-44im, -0.6589885172110949 - 2.2420775429197073e-44im]\n",
       " [1.3730296863493812 + 1.1210387714598537e-44im, 0.6589885172110949 + 1.1210387714598537e-44im]\n",
       " [-1.3730296863493814 + 5.605193857299268e-44im, 0.6589885172110949 - 8.96831017167883e-44im]\n",
       " [-1.7024939578149652 - 2.0662986635548023e-40im, -1.8367099231598242e-40 - 1.5661632403915273im]\n",
       " [1.7024939578149652 + 4.304788882405838e-42im, -1.1479437019748901e-41 - 1.5661632403915273im]\n",
       " [-1.7024939578149654 + 1.4349296274686127e-41im, 1.7219155529623352e-41 + 1.5661632403915275im]\n",
       " [1.7024939578149654 - 5.969307250269429e-40im, 7.346839692639297e-40 + 1.5661632403915275im]"
      ]
     },
     "execution_count": 67,
     "metadata": {},
     "output_type": "execute_result"
    }
   ],
   "source": [
    "sort(MySolutions;lt=(x,y)->abs(real(x[1]))<abs(real(y[1])))"
   ]
  },
  {
   "cell_type": "code",
   "execution_count": 68,
   "metadata": {},
   "outputs": [
    {
     "data": {
      "text/plain": [
       "16-element Array{Array{Complex{Float64},1},1}:\n",
       " [4.70197740328915e-38 - 1.4130023810945962im, 5.877471754111438e-39 - 0.6615687031225687im]\n",
       " [-9.4039548065783e-38 + 1.4130023810945962im, -8.816207631167156e-39 + 0.6615687031225687im]\n",
       " [-3.009265538105056e-36 + 1.4130023810945962im, 5.64237288394698e-37 - 0.6615687031225687im]\n",
       " [6.018531076210112e-36 - 1.4130023810945962im, -5.64237288394698e-37 + 0.6615687031225687im]\n",
       " [-0.9154322030504802 + 0.0im, 0.0 + 0.438787532204512im]\n",
       " [-0.9154322030504802 - 1.4693679385278594e-39im, -5.877471754111438e-39 - 0.438787532204512im]\n",
       " [0.9154322030504802 + 1.4693679385278594e-39im, 5.877471754111438e-39 + 0.43878753220451205im]\n",
       " [0.9154322030504802 - 1.8367099231598242e-40im, 7.346839692639297e-40 - 0.438787532204512im]\n",
       " [1.3730296863493812 + 3.587324068671532e-43im, 0.6589885172110949 + 3.587324068671532e-43im]\n",
       " [-1.3730296863493812 - 1.793662034335766e-43im, -0.6589885172110949 - 7.174648137343064e-43im]\n",
       " [-1.3730296863493812 + 1.1754943508222875e-37im, 0.6589885172110949 - 9.4039548065783e-38im]\n",
       " [1.3730296863493812 + 1.2037062152420224e-35im, -0.6589885172110949 - 4.81482486096809e-35im]\n",
       " [1.7024939578149654 - 7.174648137343064e-43im, -6.2778171201751805e-43 - 1.5661632403915273im]\n",
       " [1.7024939578149654 + 1.3452465257518244e-43im, 1.0089348943138683e-43 + 1.5661632403915275im]\n",
       " [-1.7024939578149654 + 1.793662034335766e-43im, 2.2420775429197073e-44 - 1.5661632403915273im]\n",
       " [-1.7024939578149654 - 1.0761972206014595e-42im, -6.2778171201751805e-43 + 1.5661632403915275im]"
      ]
     },
     "execution_count": 68,
     "metadata": {},
     "output_type": "execute_result"
    }
   ],
   "source": [
    "sort(solutions(solve(MySparseSystem));lt=(x,y)->abs(real(x[1]))<abs(real(y[1])))"
   ]
  },
  {
   "cell_type": "markdown",
   "metadata": {},
   "source": [
    "Maybe you can see how the following schematic is not optimal..."
   ]
  },
  {
   "cell_type": "markdown",
   "metadata": {},
   "source": [
    "<img src=\"PictureMonodromy3.png\" width=\"500\">"
   ]
  },
  {
   "cell_type": "markdown",
   "metadata": {},
   "source": [
    "What if we re-used loops?"
   ]
  },
  {
   "cell_type": "markdown",
   "metadata": {},
   "source": [
    "<img src=\"PictureMonodromy4.png\" width=\"500\">"
   ]
  },
  {
   "cell_type": "markdown",
   "metadata": {},
   "source": [
    "All of this is implemented in HomotopyContinuation.jl in a smarter way following ideas in Duff et.al."
   ]
  },
  {
   "cell_type": "code",
   "execution_count": 69,
   "metadata": {},
   "outputs": [
    {
     "data": {
      "text/plain": [
       "MonodromyResult\n",
       "===============\n",
       "• return_code → :heuristic_stop\n",
       "• 16 solutions\n",
       "• 128 tracked loops\n",
       "• random_seed → 0xb60ffe04"
      ]
     },
     "execution_count": 69,
     "metadata": {},
     "output_type": "execute_result"
    }
   ],
   "source": [
    "MonSolve=monodromy_solve(Sparse,ForcedSolution,RandomCoefficients; show_progress=true)"
   ]
  },
  {
   "cell_type": "code",
   "execution_count": 70,
   "metadata": {},
   "outputs": [
    {
     "data": {
      "text/plain": [
       "MonodromyResult\n",
       "===============\n",
       "• return_code → :heuristic_stop\n",
       "• 16 solutions\n",
       "• 112 tracked loops\n",
       "• random_seed → 0x8737886c"
      ]
     },
     "execution_count": 70,
     "metadata": {},
     "output_type": "execute_result"
    }
   ],
   "source": [
    "MonSolve=monodromy_solve(Sparse; show_progress=true)"
   ]
  },
  {
   "cell_type": "markdown",
   "metadata": {},
   "source": [
    "Notice, I never told it when to stop. Rather, it did a `heuristic stop'"
   ]
  },
  {
   "cell_type": "markdown",
   "metadata": {},
   "source": [
    "<bdi style=\"border:3px; border-style:solid; padding: 0.2em;\">\n",
    "Warning! This may not find all the points you're looking for!\n",
    "</bdi>\n",
    "\n",
    "Situation 1: you were unlucky and the loops you took never produced all of the solutions\n",
    "\n",
    "Situation 2: no matter which loops you took, you'd never produce all the solutions\n"
   ]
  },
  {
   "cell_type": "code",
   "execution_count": 17,
   "metadata": {},
   "outputs": [
    {
     "data": {
      "text/plain": [
       "MonodromyResult\n",
       "===============\n",
       "• return_code → :heuristic_stop\n",
       "• 2 solutions\n",
       "• 16 tracked loops\n",
       "• random_seed → 0x30f6fdf0"
      ]
     },
     "execution_count": 17,
     "metadata": {},
     "output_type": "execute_result"
    }
   ],
   "source": [
    "@var x,y\n",
    "@var a,b,c\n",
    "TwoConics = System([(x^2+y^2-1)*((x-0.5)^2+y^2-1),a*x+b*y+c],parameters=[a,b,c])\n",
    "M=monodromy_solve(TwoConics,[[1,0]],[0,1,0])"
   ]
  },
  {
   "cell_type": "markdown",
   "metadata": {},
   "source": [
    "So how do you know when you're done in situation 1?\n",
    "\n",
    "- You knew how many solutions there were to begin with, and can use that as a stopping criterion\n",
    "- Your solution set looks like $X \\cap L$ for some irreducible variety $X$ and a linear space $L$ (see witness sets talk and the trace test)\n",
    "- You know so much structure about your family that you know exactly which loops you need to take to find all the points\n",
    "- ...or you don't know and that's something you can live with"
   ]
  },
  {
   "cell_type": "markdown",
   "metadata": {},
   "source": [
    "## Monodromy Group\n",
    "\n",
    "The collection of all permutations possible (from loops based at $p \\in U$) forms a group $G_\\pi$ called the **monodromy group** of $\\pi$.\n",
    "\n",
    "Show $G_\\pi$ is a group and that it doesn't depend on the base point $p \\in U$.\n",
    "\n",
    "The following function writes the permutation $g_\\gamma$ coming from a loop $\\gamma$ as a permutation in single line notation"
   ]
  },
  {
   "cell_type": "code",
   "execution_count": 18,
   "metadata": {},
   "outputs": [
    {
     "data": {
      "text/plain": [
       "monodromy_element (generic function with 1 method)"
      ]
     },
     "execution_count": 18,
     "metadata": {},
     "output_type": "execute_result"
    }
   ],
   "source": [
    "function monodromy_element(F,BaseSols,BaseParam;γ=nothing)\n",
    "    #If no loop is given, randomly make one\n",
    "    if γ==nothing\n",
    "        γ = [BaseParam] #starting at BaseParam\n",
    "        for i in 1:3\n",
    "            push!(γ,2*randn(ComplexF64,length(F.parameters))) #with 3 other parameter values\n",
    "        end\n",
    "        push!(γ,BaseParam) #and ending again at BaseParam\n",
    "    end\n",
    "    M = solutions(monodromy_loop(F,BaseSols,γ)) #Take the solutions after the loop\n",
    "    S = (BaseSols) #And those before\n",
    "    gᵧ= [findfirst(x->x≈S[i],M) for i in 1:length(M)] #and see which solutions were permuted\n",
    "    return gᵧ\n",
    "end"
   ]
  },
  {
   "cell_type": "code",
   "execution_count": 19,
   "metadata": {},
   "outputs": [
    {
     "data": {
      "text/plain": [
       "2-element Array{Int64,1}:\n",
       " 2\n",
       " 1"
      ]
     },
     "execution_count": 19,
     "metadata": {},
     "output_type": "execute_result"
    }
   ],
   "source": [
    "@var x a b\n",
    "F = System([x^2 + a * x + b], parameters = [a, b])\n",
    "#Here's the monodromy element from before written as a permutation\n",
    "monodromy_element(F,[[-1],[1]],p₀;γ=[p₀,p₁,p₂,p₃,p₀])"
   ]
  },
  {
   "cell_type": "markdown",
   "metadata": {},
   "source": [
    "Let's compute 1000 random monodromy permutations!"
   ]
  },
  {
   "cell_type": "code",
   "execution_count": 71,
   "metadata": {},
   "outputs": [],
   "source": [
    "#here are 1000 random monodromy elements based at p_0\n",
    "quadratic_univariate_perms=[monodromy_element(F,[[-1],[1]],Array{ComplexF64,1}(p₀)) for i in 1:1000];"
   ]
  },
  {
   "cell_type": "code",
   "execution_count": 72,
   "metadata": {},
   "outputs": [
    {
     "data": {
      "text/plain": [
       "tally (generic function with 1 method)"
      ]
     },
     "execution_count": 72,
     "metadata": {},
     "output_type": "execute_result"
    }
   ],
   "source": [
    "#this is a quick function to tally them\n",
    "function tally(S)\n",
    "    D=Dict{Any,Int}()\n",
    "    for s in S\n",
    "        D[s]=get(D,s,0)+1\n",
    "    end\n",
    "    return D\n",
    "end"
   ]
  },
  {
   "cell_type": "code",
   "execution_count": 73,
   "metadata": {},
   "outputs": [
    {
     "data": {
      "text/plain": [
       "Dict{Any,Int64} with 2 entries:\n",
       "  [2, 1] => 370\n",
       "  [1, 2] => 630"
      ]
     },
     "execution_count": 73,
     "metadata": {},
     "output_type": "execute_result"
    }
   ],
   "source": [
    "#here's the tally\n",
    "tally(quadratic_univariate_perms)"
   ]
  },
  {
   "cell_type": "markdown",
   "metadata": {},
   "source": [
    "Let's investigate the monodromy group of the sparse system from before\n",
    "\n",
    "\n",
    "<img src=\"PictureMonodromy9.png\" width=\"500\">"
   ]
  },
  {
   "cell_type": "code",
   "execution_count": 79,
   "metadata": {},
   "outputs": [
    {
     "data": {
      "text/plain": [
       "Dict{Any,Int64} with 474 entries:\n",
       "  [8, 9, 10, 4, 3, 5, 14, 2, 1, 6, 11, 12, 13, 7, 16, 15] => 2\n",
       "  [4, 13, 8, 15, 12, 9, 2, 3, 6, 11, 16, 14, 7, 5, 1, 10] => 1\n",
       "  [5, 10, 9, 4, 1, 8, 7, 6, 3, 2, 11, 12, 13, 14, 15, 16] => 1\n",
       "  [3, 6, 11, 16, 8, 12, 5, 13, 4, 9, 15, 7, 14, 2, 10, 1] => 1\n",
       "  [2, 1, 13, 7, 10, 4, 8, 11, 12, 5, 14, 16, 15, 6, 9, 3] => 1\n",
       "  [2, 1, 3, 14, 10, 6, 13, 8, 9, 5, 7, 15, 16, 12, 4, 11] => 1\n",
       "  [9, 8, 10, 15, 6, 5, 11, 2, 1, 3, 16, 14, 7, 4, 12, 13] => 1\n",
       "  [9, 8, 2, 7, 6, 1, 13, 10, 5, 3, 14, 16, 15, 12, 4, 11] => 1\n",
       "  [12, 11, 5, 15, 4, 10, 9, 1, 2, 13, 16, 14, 7, 3, 8, 6] => 1\n",
       "  [1, 2, 3, 4, 5, 6, 15, 8, 9, 10, 11, 12, 13, 16, 7, 14] => 1\n",
       "  [7, 15, 2, 9, 16, 1, 11, 10, 5, 14, 3, 6, 8, 4, 12, 13] => 2\n",
       "  [16, 14, 2, 6, 7, 1, 4, 10, 5, 15, 8, 9, 3, 11, 13, 12] => 1\n",
       "  [5, 10, 3, 4, 1, 6, 14, 8, 9, 2, 11, 12, 13, 7, 16, 15] => 1\n",
       "  [16, 14, 13, 5, 7, 4, 6, 11, 12, 15, 2, 1, 10, 8, 3, 9] => 1\n",
       "  [13, 4, 14, 5, 11, 16, 8, 15, 7, 12, 2, 1, 10, 6, 9, 3] => 1\n",
       "  [12, 11, 3, 16, 4, 6, 2, 8, 9, 13, 15, 7, 14, 5, 1, 10] => 1\n",
       "  [2, 1, 12, 8, 10, 11, 16, 4, 13, 5, 6, 3, 9, 15, 14, 7] => 1\n",
       "  [5, 10, 16, 4, 1, 14, 6, 7, 15, 2, 11, 12, 13, 8, 3, 9] => 1\n",
       "  [14, 16, 4, 8, 15, 13, 2, 12, 11, 7, 6, 3, 9, 5, 1, 10] => 1\n",
       "  [2, 1, 4, 6, 10, 13, 15, 12, 11, 5, 8, 9, 3, 16, 7, 14] => 1\n",
       "  [10, 5, 7, 12, 2, 15, 3, 16, 14, 1, 13, 4, 11, 9, 6, 8] => 1\n",
       "  [14, 16, 4, 5, 15, 13, 6, 12, 11, 7, 2, 1, 10, 8, 3, 9] => 1\n",
       "  [6, 3, 14, 13, 9, 16, 10, 15, 7, 8, 12, 11, 4, 1, 5, 2] => 1\n",
       "  [6, 3, 10, 11, 9, 5, 16, 2, 1, 8, 4, 13, 12, 15, 14, 7] => 1\n",
       "  [10, 5, 13, 6, 2, 4, 14, 11, 12, 1, 8, 9, 3, 7, 16, 15] => 1\n",
       "  ⋮                                                       => ⋮"
      ]
     },
     "execution_count": 79,
     "metadata": {},
     "output_type": "execute_result"
    }
   ],
   "source": [
    "sparse_perms=[monodromy_element(Sparse,SolutionsFound,RandomCoefficients) for i in 1:500];\n",
    "tally(sparse_perms)"
   ]
  },
  {
   "cell_type": "code",
   "execution_count": 82,
   "metadata": {},
   "outputs": [
    {
     "name": "stdout",
     "output_type": "stream",
     "text": [
      "474\n",
      "474\n"
     ]
    }
   ],
   "source": [
    "sparse_perms=unique(sparse_perms)\n",
    "println(length(sparse_perms))\n",
    "filter!(x->sort(x) != collect([1:16]),sparse_perms)\n",
    "println(length(sparse_perms))"
   ]
  },
  {
   "cell_type": "markdown",
   "metadata": {},
   "source": [
    "#### To compute and describe this monodromy group, we'll need a little help from our favorite group theory software"
   ]
  },
  {
   "cell_type": "code",
   "execution_count": 83,
   "metadata": {},
   "outputs": [
    {
     "data": {
      "text/plain": [
       "describe_group (generic function with 1 method)"
      ]
     },
     "execution_count": 83,
     "metadata": {},
     "output_type": "execute_result"
    }
   ],
   "source": [
    "using GAP; #Warning: may not work with julia 1.6\n",
    "function describe_group(L)\n",
    "    L=unique(L)\n",
    "    Sym=GAP.Globals.SymmetricGroup(length(L[1]))\n",
    "    GAPL=[]\n",
    "    for l in L\n",
    "        push!(GAPL,GAP.Globals.PermList(GAP.julia_to_gap(l)))\n",
    "    end\n",
    "    GAPL=GAP.julia_to_gap(GAPL)\n",
    "    G=GAP.Globals.Subgroup(Sym,GAPL)\n",
    "    return (GAP.Globals.StructureDescription(G),G)\n",
    "end"
   ]
  },
  {
   "cell_type": "code",
   "execution_count": 84,
   "metadata": {},
   "outputs": [
    {
     "data": {
      "text/plain": [
       "GAP: ((((((((C2 x Q8) : C2) : C2) : C2) : C2) : C3) : C2) : C2) : C2"
      ]
     },
     "execution_count": 84,
     "metadata": {},
     "output_type": "execute_result"
    }
   ],
   "source": [
    "G=describe_group(sparse_perms)[2]"
   ]
  },
  {
   "cell_type": "code",
   "execution_count": 85,
   "metadata": {},
   "outputs": [
    {
     "data": {
      "text/plain": [
       "6144"
      ]
     },
     "execution_count": 85,
     "metadata": {},
     "output_type": "execute_result"
    }
   ],
   "source": [
    "GAP.Globals.Order(G)"
   ]
  },
  {
   "cell_type": "markdown",
   "metadata": {},
   "source": [
    "Cn is the cyclic group. x is direct product. : is semidirect product. \n",
    "\n",
    "The point here is that it's not the full symmetric group. We'll come back to this example. "
   ]
  },
  {
   "cell_type": "code",
   "execution_count": 86,
   "metadata": {},
   "outputs": [
    {
     "data": {
      "text/plain": [
       "true"
      ]
     },
     "execution_count": 86,
     "metadata": {},
     "output_type": "execute_result"
    }
   ],
   "source": [
    "GAP.Globals.IsTransitive(G)"
   ]
  },
  {
   "cell_type": "markdown",
   "metadata": {},
   "source": [
    "### Some facts about monodromy groups\n",
    "\n",
    "$\\bullet$ \"Exercise\": monodromy_solve can find all solutions if and only if $G_\\pi$ is transitive\n",
    "\n",
    "$\\bullet$ Exercise: $G_\\pi$ is transitive if and only if $Z$ has a unique irreducible component of top dimension\n",
    "\n",
    "$\\bullet$ $G_\\pi$ is $k$-transitive (sends any k-tuple to any other k-tuple (non-ordered)) if and only if the monodromy group of the ''k-th fibre power of the cover $\\pi:Z \\to Q$'' is transitive\n",
    "\n",
    "\n",
    "\n",
    "$\\bullet$ If $L$ is a generic line in the parameter space, then the monodromy group of $\\pi:Z \\to Q$ is the same as that of $\\pi: Z|_L \\to L$. \n",
    "\n",
    "\n",
    "\n",
    "<img src=\"PictureMonodromy11.png\" width=\"500\">\n",
    "\n",
    "\n",
    "$\\bullet$ If $\\pi:Z \\to \\mathbb{C}$ is a branched cover, then the discriminant is just points $q_1,\\ldots,q_k \\in \\mathbb{C}$, and loops around these points generate the monodromy group. \n",
    "\n",
    "\n",
    "<img src=\"PictureMonodromy8.png\" width=\"500\">\n",
    "\n",
    "$\\bullet$ The monodromy group is a Galois group"
   ]
  },
  {
   "cell_type": "markdown",
   "metadata": {},
   "source": [
    "# 27 lines on a cubic"
   ]
  },
  {
   "cell_type": "markdown",
   "metadata": {},
   "source": [
    "**Cayley and Salmon**: There are exactly $27$ lines on every smooth cubic surface in $\\mathbb{P}^3$."
   ]
  },
  {
   "cell_type": "markdown",
   "metadata": {},
   "source": [
    "Let's solve for these $27$ lines using monodromy, then compute the monodromy group!"
   ]
  },
  {
   "cell_type": "markdown",
   "metadata": {},
   "source": [
    "*Source: Greg Egan* \n",
    "\n",
    "<img src=\"PictureMonodromy5.gif\" width=\"500\">\n",
    "(The Clebsch cubic)"
   ]
  },
  {
   "cell_type": "markdown",
   "metadata": {},
   "source": [
    "### Writing the system \n",
    "\n",
    "Cubic = $\\sum_{i+j+k\\leq 3} c_{i,j,k}x^iy^jz^k$\n",
    "\n",
    "Lines = $t \\xrightarrow{\\ell_{k}} (t,k_1+k_3t,k_2+k_4t)$\n",
    "\n",
    "Polynomial system: Cubic($\\ell_k$)$=0$ (variables are $k_1,\\ldots,k_4$ and parameters are $c_{i,j,k}$)"
   ]
  },
  {
   "cell_type": "code",
   "execution_count": 87,
   "metadata": {
    "scrolled": true
   },
   "outputs": [
    {
     "data": {
      "text/plain": [
       "System of length 4\n",
       " 4 variables: k₁, k₂, k₃, k₄\n",
       " 64 parameters: c₀₋₀₋₀, c₁₋₀₋₀, c₂₋₀₋₀, c₃₋₀₋₀, c₀₋₁₋₀, c₁₋₁₋₀, c₂₋₁₋₀, c₃₋₁₋₀, c₀₋₂₋₀, c₁₋₂₋₀, c₂₋₂₋₀, c₃₋₂₋₀, c₀₋₃₋₀, c₁₋₃₋₀, c₂₋₃₋₀, c₃₋₃₋₀, c₀₋₀₋₁, c₁₋₀₋₁, c₂₋₀₋₁, c₃₋₀₋₁, c₀₋₁₋₁, c₁₋₁₋₁, c₂₋₁₋₁, c₃₋₁₋₁, c₀₋₂₋₁, c₁₋₂₋₁, c₂₋₂₋₁, c₃₋₂₋₁, c₀₋₃₋₁, c₁₋₃₋₁, c₂₋₃₋₁, c₃₋₃₋₁, c₀₋₀₋₂, c₁₋₀₋₂, c₂₋₀₋₂, c₃₋₀₋₂, c₀₋₁₋₂, c₁₋₁₋₂, c₂₋₁₋₂, c₃₋₁₋₂, c₀₋₂₋₂, c₁₋₂₋₂, c₂₋₂₋₂, c₃₋₂₋₂, c₀₋₃₋₂, c₁₋₃₋₂, c₂₋₃₋₂, c₃₋₃₋₂, c₀₋₀₋₃, c₁₋₀₋₃, c₂₋₀₋₃, c₃₋₀₋₃, c₀₋₁₋₃, c₁₋₁₋₃, c₂₋₁₋₃, c₃₋₁₋₃, c₀₋₂₋₃, c₁₋₂₋₃, c₂₋₂₋₃, c₃₋₂₋₃, c₀₋₃₋₃, c₁₋₃₋₃, c₂₋₃₋₃, c₃₋₃₋₃\n",
       "\n",
       " c₃₋₀₋₀ + k₃*c₂₋₁₋₀ + k₃^2*c₁₋₂₋₀ + k₃^3*c₀₋₃₋₀ + k₄*c₂₋₀₋₁ + k₄^2*c₁₋₀₋₂ + k₄^3*c₀₋₀₋₃ + k₄*k₃*c₁₋₁₋₁ + k₄*k₃^2*c₀₋₂₋₁ + k₄^2*k₃*c₀₋₁₋₂\n",
       " c₂₋₀₋₀ + k₁*c₂₋₁₋₀ + k₂*c₂₋₀₋₁ + k₃*c₁₋₁₋₀ + k₃^2*c₀₋₂₋₀ + k₄*c₁₋₀₋₁ + k₄^2*c₀₋₀₋₂ + 2*k₃*k₁*c₁₋₂₋₀ + k₃*k₂*c₁₋₁₋₁ + 3*k₃^2*k₁*c₀₋₃₋₀ + k₃^2*k₂*c₀₋₂₋₁ + k₄*k₁*c₁₋₁₋₁ + 2*k₄*k₂*c₁₋₀₋₂ + k₄*k₃*c₀₋₁₋₁ + k₄^2*k₁*c₀₋₁₋₂ + 3*k₄^2*k₂*c₀₋₀₋₃ + 2*k₄*k₃*k₁*c₀₋₂₋₁ + 2*k₄*k₃*k₂*c₀₋₁₋₂\n",
       " c₁₋₀₋₀ + k₁*c₁₋₁₋₀ + k₁^2*c₁₋₂₋₀ + k₂*c₁₋₀₋₁ + k₂^2*c₁₋₀₋₂ + k₃*c₀₋₁₋₀ + k₄*c₀₋₀₋₁ + k₂*k₁*c₁₋₁₋₁ + 2*k₃*k₁*c₀₋₂₋₀ + 3*k₃*k₁^2*c₀₋₃₋₀ + k₃*k₂*c₀₋₁₋₁ + k₃*k₂^2*c₀₋₁₋₂ + k₄*k₁*c₀₋₁₋₁ + k₄*k₁^2*c₀₋₂₋₁ + 2*k₄*k₂*c₀₋₀₋₂ + 3*k₄*k₂^2*c₀₋₀₋₃ + 2*k₃*k₂*k₁*c₀₋₂₋₁ + 2*k₄*k₂*k₁*c₀₋₁₋₂\n",
       " c₀₋₀₋₀ + k₁*c₀₋₁₋₀ + k₁^2*c₀₋₂₋₀ + k₁^3*c₀₋₃₋₀ + k₂*c₀₋₀₋₁ + k₂^2*c₀₋₀₋₂ + k₂^3*c₀₋₀₋₃ + k₂*k₁*c₀₋₁₋₁ + k₂*k₁^2*c₀₋₂₋₁ + k₂^2*k₁*c₀₋₁₋₂"
      ]
     },
     "execution_count": 87,
     "metadata": {},
     "output_type": "execute_result"
    }
   ],
   "source": [
    "# lines are parametrized as t->(t,k1+k3t,k2+k4t)\n",
    "@var k[1:4]\n",
    "# the coefficient of x^iy^jz^k in a general cubic will be c[i,j,k]\n",
    "@var c[0:3,0:3,0:3]\n",
    "# we need these variables too\n",
    "@var t\n",
    "@var x,y,z\n",
    "\n",
    "#here's a cubic\n",
    "cubic=sum([c[i+1,j+1,k+1]x^i*y^j*z^k for i in 0:3 for j in 0:3-i for k in 0:3-i-j])\n",
    "#here's our line\n",
    "line = [t,k[1]+k[3]*t,k[2]+k[4]*t]\n",
    "#E is cubic(line(t))\n",
    "E=evaluate(cubic,[x,y,z]=>line)\n",
    "#and we construct the system where the coefficients of t^i for t=0..3 are zero (i.e. E=0)\n",
    "F = System(exponents_coefficients(E,[t])[2],parameters=vec(c))"
   ]
  },
  {
   "cell_type": "code",
   "execution_count": 88,
   "metadata": {},
   "outputs": [
    {
     "name": "stdout",
     "output_type": "stream",
     "text": [
      "  0.040061 seconds (71.41 k allocations: 4.949 MiB)\n"
     ]
    },
    {
     "data": {
      "text/plain": [
       "MonodromyResult\n",
       "===============\n",
       "• return_code → :success\n",
       "• 27 solutions\n",
       "• 54 tracked loops\n",
       "• random_seed → 0x598615a1"
      ]
     },
     "execution_count": 88,
     "metadata": {},
     "output_type": "execute_result"
    }
   ],
   "source": [
    "@time MS=monodromy_solve(F; permutations=true, target_solutions_count=27)"
   ]
  },
  {
   "cell_type": "markdown",
   "metadata": {},
   "source": [
    "Monodromy quickly solved the system!"
   ]
  },
  {
   "cell_type": "code",
   "execution_count": 89,
   "metadata": {},
   "outputs": [
    {
     "data": {
      "text/plain": [
       "2-element Array{Array{Int64,1},1}:\n",
       " [2, 3, 4, 5, 6, 7, 8, 1, 14, 13  …  21, 16, 15, 20, 12, 11, 9, 27, 26, 25]\n",
       " [9, 10, 11, 2, 12, 13, 6, 5, 8, 15  …  25, 14, 24, 26, 18, 27, 23, 22, 4, 19]"
      ]
     },
     "execution_count": 89,
     "metadata": {},
     "output_type": "execute_result"
    }
   ],
   "source": [
    "#Output of monodromy_solve knows a fibre pi^(-1)(P) = S, \n",
    "# and it knows the permutations corresponding to the loops  used\n",
    "S=solutions(MS);\n",
    "P=parameters(MS);\n",
    "random_elements=[permutations(MS)[:,i] for i in 1:size(permutations(MS),2)]"
   ]
  },
  {
   "cell_type": "code",
   "execution_count": 90,
   "metadata": {},
   "outputs": [
    {
     "data": {
      "text/plain": [
       "2"
      ]
     },
     "execution_count": 90,
     "metadata": {},
     "output_type": "execute_result"
    }
   ],
   "source": [
    "#Here we filter out anything funny that happened numerically\n",
    "filter!(x->!(nothing in x) && sort(x) == collect(1:27),random_elements);\n",
    "length(random_elements)"
   ]
  },
  {
   "cell_type": "code",
   "execution_count": 91,
   "metadata": {},
   "outputs": [
    {
     "data": {
      "text/plain": [
       "Dict{Any,Int64} with 2 entries:\n",
       "  [9, 10, 11, 2, 12, 13, 6, 5, 8, 15  …  25, 14, 24, 26, 18, 27, 23, 22, 4… => 1\n",
       "  [2, 3, 4, 5, 6, 7, 8, 1, 14, 13  …  21, 16, 15, 20, 12, 11, 9, 27, 26, 2… => 1"
      ]
     },
     "execution_count": 91,
     "metadata": {},
     "output_type": "execute_result"
    }
   ],
   "source": [
    "tally(random_elements)"
   ]
  },
  {
   "cell_type": "code",
   "execution_count": 92,
   "metadata": {},
   "outputs": [
    {
     "name": "stdout",
     "output_type": "stream",
     "text": [
      "GAP: \"O(5,3) : C2\"\n"
     ]
    },
    {
     "data": {
      "text/plain": [
       "51840"
      ]
     },
     "execution_count": 92,
     "metadata": {},
     "output_type": "execute_result"
    }
   ],
   "source": [
    "Gal=describe_group(random_elements)\n",
    "println(Gal[1])\n",
    "GAP.Globals.Order(Gal[2])"
   ]
  },
  {
   "cell_type": "code",
   "execution_count": 95,
   "metadata": {},
   "outputs": [
    {
     "data": {
      "text/plain": [
       "10888869450418352160768000000"
      ]
     },
     "execution_count": 95,
     "metadata": {},
     "output_type": "execute_result"
    }
   ],
   "source": [
    "factorial(big(27))"
   ]
  },
  {
   "cell_type": "markdown",
   "metadata": {},
   "source": [
    "# Take away number 1: \n",
    "Every situation in numerical algebraic geometry in which you can do homotopy continuation, you can compute a monodromy group.\n",
    "\n",
    "# Take away number 2:\n",
    "If it is smaller than the full symmetric group, PAY ATTENTION! It means there is structure there.\n",
    "\n",
    "# Take away number 3:\n",
    "The monodromy group is as big as it could be..."
   ]
  },
  {
   "cell_type": "markdown",
   "metadata": {},
   "source": [
    "The monodromy group of the 27 lines is exactly the group of permutations which are possible given how the $27$ lines must intersect."
   ]
  },
  {
   "cell_type": "markdown",
   "metadata": {},
   "source": [
    "**Schlafli graph: 27 vertices <-> lines, edges <-> lines do NOT intersect**\n",
    "<img src=\"PictureMonodromy6.svg\" width=\"500\">\n",
    "Source: By Claudio Rocchini - Own work, CC BY-SA 3.0, https://commons.wikimedia.org/w/index.php?curid=11045032"
   ]
  },
  {
   "cell_type": "markdown",
   "metadata": {},
   "source": [
    "## The monodromy is as big as it could be (again)\n",
    "<img src=\"PictureMonodromy9.png\" width=\"500\">"
   ]
  },
  {
   "cell_type": "markdown",
   "metadata": {},
   "source": [
    "Solving $$f(x^2,y^2) = g(x^2,y^2)=0$$ is the same as solving $$f(a,y^2)=g(a,y^2)=0$$ and then taking $x=\\pm \\sqrt{a}$ which is the same as just solving $$f(a,b)=g(a,b)=0$$ and then taking $y=\\pm \\sqrt{b}$."
   ]
  },
  {
   "cell_type": "markdown",
   "metadata": {},
   "source": [
    "This is an example of the branched cover factoring through smaller branched covers..."
   ]
  },
  {
   "cell_type": "markdown",
   "metadata": {},
   "source": [
    "<img src=\"PictureMonodromy7.png\" width=\"800\">"
   ]
  },
  {
   "cell_type": "markdown",
   "metadata": {},
   "source": [
    "As the parameters of the coefficients move, this relationship on the respective fibres of the cover \n",
    "$$Z \\xrightarrow{2\\text{-to-}1} Z_1 \\xrightarrow{2\\text{-to-}1} Z_2 \\xrightarrow{4\\text{-to-}1} \\mathbb{C}^4 \\times \\mathbb{C}^5$$ needs to be respected.\n",
    "\n",
    "So the monodromy group can at most be the automorphism group of $4$ copies of the binary tree above. \n",
    "\n",
    "Taking the other decomposition order will force it to be even smaller!\n",
    "\n",
    "Groups that respect this kind of structure are called **imprimitive groups**.\n",
    "\n",
    "These are permutation groups that preserve partitions.\n",
    "i.e. $(a_1,b_1) -> (a_2,b_2)$ in the above example implies that $\\{(\\pm a_1, \\pm b_1)\\} \\to \\{(\\pm a_2, \\pm b_2)\\}$ so in particular, the partition $$\\{(\\pm a_1, \\pm b_1)\\} \\sqcup \\{(\\pm a_2, \\pm b_2)\\} \\sqcup \\{(\\pm a_3, \\pm b_3)\\} \\sqcup \\{(\\pm a_4, \\pm b_4)\\}$$ is preserved.\n"
   ]
  },
  {
   "cell_type": "code",
   "execution_count": 96,
   "metadata": {},
   "outputs": [
    {
     "data": {
      "text/plain": [
       "true"
      ]
     },
     "execution_count": 96,
     "metadata": {},
     "output_type": "execute_result"
    }
   ],
   "source": [
    "#Remember G was the monodromy group of this sparse system\n",
    "GAP.Globals.IsTransitive(G)"
   ]
  },
  {
   "cell_type": "code",
   "execution_count": 97,
   "metadata": {},
   "outputs": [
    {
     "data": {
      "text/plain": [
       "false"
      ]
     },
     "execution_count": 97,
     "metadata": {},
     "output_type": "execute_result"
    }
   ],
   "source": [
    "GAP.Globals.IsPrimitive(G)"
   ]
  },
  {
   "cell_type": "code",
   "execution_count": 99,
   "metadata": {},
   "outputs": [
    {
     "data": {
      "text/plain": [
       "GAP: [ [ 1, 5 ], [ 2, 10 ], [ 3, 8 ], [ 4, 12 ], [ 6, 9 ], [ 7, 16 ], [ 11, 13 ], [ 14, 15 ] ]"
      ]
     },
     "execution_count": 99,
     "metadata": {},
     "output_type": "execute_result"
    }
   ],
   "source": [
    "GAP.Globals.Blocks(G,GAP.julia_to_gap([i for i in 1:16]))"
   ]
  },
  {
   "cell_type": "markdown",
   "metadata": {},
   "source": [
    "\n",
    "\n",
    "$\\bullet$ The monodromy group is imprimitive $\\iff$ there is a nontrivial factoring of the branched cover like this.\n",
    "\n",
    "\n",
    "\n",
    "The symmetry is rarely as obvious as above. \n",
    "\n",
    "\n",
    "This kind of structure can be taken advantage of when it comes to solving via monodromy.\n",
    "\n",
    "[[**Solving Parameterized Polynomial Systems with Decomposable Projections**](https://arxiv.org/abs/1612.08807)] Carlos Améndola, Julia Lindberg, Jose Israel Rodriguez\n",
    "\n",
    "[[**Solving Decomposable Sparse Systems**](https://arxiv.org/abs/2001.04228)] Taylor Brysiewicz, Jose Israel Rodriguez, Frank Sottile, Thomas Yahl)\n",
    "\n",
    "If you're interested about monodromy groups of sparse polynomial systems, check out \n",
    "\n",
    "[[**Galois theory for general systems of polynomial equations**](https://arxiv.org/abs/1801.08260)] Alexander Esterov."
   ]
  },
  {
   "cell_type": "code",
   "execution_count": null,
   "metadata": {},
   "outputs": [],
   "source": []
  }
 ],
 "metadata": {
  "kernelspec": {
   "display_name": "Julia 1.5.2",
   "language": "julia",
   "name": "julia-1.5"
  },
  "language_info": {
   "file_extension": ".jl",
   "mimetype": "application/julia",
   "name": "julia",
   "version": "1.5.2"
  }
 },
 "nbformat": 4,
 "nbformat_minor": 2
}
