{
 "cells": [
  {
   "cell_type": "markdown",
   "metadata": {},
   "source": [
    "# Lecture: Monodromy"
   ]
  },
  {
   "cell_type": "code",
   "execution_count": 1,
   "metadata": {},
   "outputs": [],
   "source": [
    "using HomotopyContinuation"
   ]
  },
  {
   "cell_type": "markdown",
   "metadata": {},
   "source": [
    "<hr style=\"border:1px solid gray\"> </hr>\n",
    "For more information about monodromy and computing  monodromy groups using numerical algebraic geometry see \n",
    "\n",
    "[[*Numerical computation of Galois groups*](https://arxiv.org/pdf/1605.07806.pdf)] Hauenstein, Rodriguez, and Sottile. Foundations of Computational Mathematics, 18 (2018)\n",
    "\n",
    "For more information about solve polynomial systems using monodromy see\n",
    "\n",
    "[[*Solving polynomial systems via homotopy continuation and monodromy*](https://arxiv.org/pdf/1609.08722.pdf)]  Duff,  Hill,  Jensen,  Lee,  Leykin, and  Sommars.\n",
    "IMA Journal of Num. Anal. (2018)\n",
    "\n",
    "<hr style=\"border:1px solid gray\"> </hr>"
   ]
  },
  {
   "cell_type": "markdown",
   "metadata": {},
   "source": [
    "<img src=\"PictureMonodromy1.png\" width=\"500\" style=\"float:right\">\n",
    "\n",
    "## Branched Covers\n",
    "\n",
    "As in Sascha's talk, we consider a family $F(x;p)$ of $0$-dimensional polynomial systems parametrized by $Q=\\mathbb{C}^k$\n",
    "$$Z = \\{(x,p) \\in \\mathbb{C}^n \\times Q \\mid F(x;p) =0\\} \\subset \\mathbb{C}^n \\times Q$$\n",
    "$$\\,\\,\\,\\, \\downarrow \\pi $$\n",
    "$$Q$$\n",
    "\n",
    "Over *most* parameters, there are $d$ solutions.\n",
    "\n",
    "The map $\\pi$ is called a $d$-to-$1$ **branched cover** \n",
    "\n",
    "The **discriminant** (or branch locus) $D \\subsetneq Q$ are the parameter values for which the fibres do not consist of $d$ distinct points.\n",
    "\n",
    "The complement of the discriminant $U = Q \\backslash D$ is called the set of the regular values.\n",
    "\n",
    "The map $\\pi:Z|_{\\pi^{-1}(U)} \\to U$ is a $d$-to-$1$ **covering space**.\n",
    "\n",
    "\n",
    "\n",
    "\n"
   ]
  },
  {
   "cell_type": "markdown",
   "metadata": {},
   "source": [
    "\n",
    "### Example\n",
    "\n",
    "$$F(x;a,b) = x^2+ax+b$$\n"
   ]
  },
  {
   "cell_type": "code",
   "execution_count": 2,
   "metadata": {},
   "outputs": [
    {
     "data": {
      "text/plain": [
       "System of length 1\n",
       " 1 variables: x\n",
       " 2 parameters: a, b\n",
       "\n",
       " b + a*x + x^2"
      ]
     },
     "execution_count": 2,
     "metadata": {},
     "output_type": "execute_result"
    }
   ],
   "source": [
    "@var x a b\n",
    "F = System([x^2 + a * x + b], parameters = [a, b])"
   ]
  },
  {
   "cell_type": "markdown",
   "metadata": {},
   "source": [
    "<p style=\"border:3px; border-style:solid; padding: 0.5em; text-align:center\">\n",
    "Monodromy: a loop $\\gamma$ in $U$ based at $p$ induces a permutation $g_\\gamma$ of the fibre $\\pi^{-1}(p)$.\n",
    "</p>\n",
    "\n",
    "\n",
    "Let's move in a loop\n",
    "\n",
    "<img src=\"PictureMonodromy2.png\" width=\"500\">\n",
    "\n",
    "\n",
    "$$\\overbrace{\\underbrace{(x^2-1)}_{p_0=[0,-1]} \\to \\underbrace{(x^2-i)}_{p_1=[0,-i]} \\to \\underbrace{(x^2+1)}_{p_2=[0,1]} \\to \\underbrace{(x^2+i)}_{p_3=[0,i]} \\to \\underbrace{(x^2-1)}_{p_0=[0,-1]}}^{\\gamma}$$"
   ]
  },
  {
   "cell_type": "code",
   "execution_count": 3,
   "metadata": {},
   "outputs": [
    {
     "data": {
      "text/plain": [
       "2-element Array{Complex{Int64},1}:\n",
       " 0 + 0im\n",
       " 0 - 1im"
      ]
     },
     "execution_count": 3,
     "metadata": {},
     "output_type": "execute_result"
    }
   ],
   "source": [
    "S₀ = [[-1],[1]] #the solutions to the system at p_0\n",
    "p₀ = [0,-1]\n",
    "p₁ = [0, im]\n",
    "p₂ = [0,1]\n",
    "p₃ = [0,-im]"
   ]
  },
  {
   "cell_type": "code",
   "execution_count": 4,
   "metadata": {},
   "outputs": [
    {
     "name": "stdout",
     "output_type": "stream",
     "text": [
      "\r",
      "\u001b[32mTracking 2 paths... 100%|███████████████████████████████| Time: 0:00:05\u001b[39m\r\n",
      "\u001b[34m  # paths tracked:                  2\u001b[39m\r\n",
      "\u001b[34m  # non-singular solutions (real):  2 (0)\u001b[39m\r\n",
      "\u001b[34m  # singular endpoints (real):      0 (0)\u001b[39m\r\n",
      "\u001b[34m  # total solutions (real):         2 (0)\u001b[39m\n"
     ]
    },
    {
     "data": {
      "text/plain": [
       "Result with 2 solutions\n",
       "=======================\n",
       "• 2 paths tracked\n",
       "• 2 non-singular solutions (2 real)\n",
       "• random_seed: 0xf0e77690\n"
      ]
     },
     "execution_count": 4,
     "metadata": {},
     "output_type": "execute_result"
    }
   ],
   "source": [
    "#p0->p1\n",
    "S₁ = solve(F,S₀; start_parameters=p₀,target_parameters=p₁)\n",
    "#p1->p2\n",
    "S₂ = solve(F,S₁; start_parameters=p₁,target_parameters=p₂)\n",
    "#p2->p3\n",
    "S₃ = solve(F,S₂; start_parameters=p₂,target_parameters=p₃)\n",
    "#p3->p0 again\n",
    "S₀2 = solve(F,S₃; start_parameters=p₃,target_parameters=p₀)"
   ]
  },
  {
   "cell_type": "code",
   "execution_count": 5,
   "metadata": {},
   "outputs": [
    {
     "name": "stdout",
     "output_type": "stream",
     "text": [
      "2×5 Array{Array{Complex{Float64},1},2}:\n",
      " [-1.0+0.0im]  [-0.707107+0.707107im]  [0.0+1.0im]  [0.707107+0.707107im]   [1.0+0.0im]\n",
      " [1.0+0.0im]   [0.707107-0.707107im]   [0.0-1.0im]  [-0.707107-0.707107im]  [-1.0+0.0im]"
     ]
    }
   ],
   "source": [
    "show(stdout,\"text/plain\",hcat(S₀,solutions(S₁),solutions(S₂),solutions(S₃),solutions(S₀2)))"
   ]
  },
  {
   "cell_type": "code",
   "execution_count": 6,
   "metadata": {},
   "outputs": [
    {
     "data": {
      "text/plain": [
       "monodromy_loop (generic function with 1 method)"
      ]
     },
     "execution_count": 6,
     "metadata": {},
     "output_type": "execute_result"
    }
   ],
   "source": [
    "#This function automates the process above, given a parametrized polynomial system F, start solutions \n",
    "# Sols, and a loop γ which is just a sequence of parameter values starting and ending with the parameter\n",
    "# value for Sols\n",
    "\n",
    "function monodromy_loop(F,Sols,γ)\n",
    "    S=Sols;\n",
    "    P=γ[1]\n",
    "    for NewP in γ[2:end]\n",
    "        newS=solve(F,S; start_parameters=P, target_parameters=NewP)\n",
    "        S=newS\n",
    "        P=NewP\n",
    "    end\n",
    "    return S\n",
    "end"
   ]
  },
  {
   "cell_type": "code",
   "execution_count": 7,
   "metadata": {},
   "outputs": [
    {
     "data": {
      "text/plain": [
       "2-element Array{Array{Complex{Float64},1},1}:\n",
       " [1.0 + 0.0im]\n",
       " [-1.0 + 0.0im]"
      ]
     },
     "execution_count": 7,
     "metadata": {},
     "output_type": "execute_result"
    }
   ],
   "source": [
    "#Here's the loop we did earlier, using the new function\n",
    "M=monodromy_loop(F,S₀,[p₀,p₁,p₂,p₃,p₀]);\n",
    "solutions(M)"
   ]
  },
  {
   "cell_type": "markdown",
   "metadata": {},
   "source": [
    "### Solving systems using monodromy"
   ]
  },
  {
   "cell_type": "markdown",
   "metadata": {},
   "source": [
    "What if we only knew about the solution $s_1=1$ of $x^2-1=0$?\n",
    "\n",
    "Then performing the monodromy loop *discovers* the solution $s_2=-1$"
   ]
  },
  {
   "cell_type": "code",
   "execution_count": 8,
   "metadata": {},
   "outputs": [
    {
     "data": {
      "text/plain": [
       "1-element Array{Array{Complex{Float64},1},1}:\n",
       " [-1.0 + 0.0im]"
      ]
     },
     "execution_count": 8,
     "metadata": {},
     "output_type": "execute_result"
    }
   ],
   "source": [
    "solutions(monodromy_loop(F,[1],[p₀,p₁,p₂,p₃,p₀]))"
   ]
  },
  {
   "cell_type": "markdown",
   "metadata": {},
   "source": [
    "What if we didn't know any solutions to a polynomial of the form $f_c(x) = \\sum_{i=0}^{20}c_ix^i$?"
   ]
  },
  {
   "cell_type": "code",
   "execution_count": 9,
   "metadata": {},
   "outputs": [
    {
     "name": "stdout",
     "output_type": "stream",
     "text": [
      "1.17623604000525 - 1.81534850307611*x - 1.06364835952251*x^2 + 0.122719922008323*x^3 + 1.09740935476104*x^4 - 0.43991446675758*x^5 + 0.440885119065956*x^6 - 1.95168898908536*x^7 + 0.876918745866067*x^8 + 1.30543958766637*x^9 + 0.260666503819329*x^10 - 0.0181982883431457*x^11 + 1.33998458081566*x^12 + 1.30584152371659*x^13 + 0.612164864742174*x^14 + 0.0938306178979883*x^15 + 0.408266249298723*x^16 - 1.30700015032666*x^17 + 1.23212946640006*x^18 - 1.33057521558469*x^19 + 0.57629918626782*x^20\n"
     ]
    }
   ],
   "source": [
    "SpecialCoefficients = randn(Float64,21);\n",
    "SpecialPolynomial = sum(SpecialCoefficients[i]*x^(i-1) for i in 1:21)\n",
    "println(SpecialPolynomial)"
   ]
  },
  {
   "cell_type": "markdown",
   "metadata": {},
   "source": [
    "Offline step: think of your polynomial as belonging to a family, then solve a general member of that family\n",
    "\n",
    "Why? It is easier to choose a point, then construct a system with that as a solution, than it is to find a single solution to the system you actually care about!"
   ]
  },
  {
   "cell_type": "code",
   "execution_count": 10,
   "metadata": {},
   "outputs": [
    {
     "data": {
      "text/plain": [
       "System of length 1\n",
       " 1 variables: x\n",
       " 21 parameters: c₀, c₁, c₂, c₃, c₄, c₅, c₆, c₇, c₈, c₉, c₁₀, c₁₁, c₁₂, c₁₃, c₁₄, c₁₅, c₁₆, c₁₇, c₁₈, c₁₉, c₂₀\n",
       "\n",
       " c₀ + x*c₁ + x^2*c₂ + x^3*c₃ + x^4*c₄ + x^5*c₅ + x^6*c₆ + x^7*c₇ + x^8*c₈ + x^9*c₉ + x^10*c₁₀ + x^11*c₁₁ + x^12*c₁₂ + x^13*c₁₃ + x^14*c₁₄ + x^15*c₁₅ + x^16*c₁₆ + x^17*c₁₇ + x^18*c₁₈ + x^19*c₁₉ + x^20*c₂₀"
      ]
     },
     "execution_count": 10,
     "metadata": {},
     "output_type": "execute_result"
    }
   ],
   "source": [
    "@var c[0:20]\n",
    "f = sum([c[i]*x^(i-1) for i in 1:21])\n",
    "F = System([f],parameters=c)"
   ]
  },
  {
   "cell_type": "markdown",
   "metadata": {},
   "source": [
    "We would need to find a single start solution"
   ]
  },
  {
   "cell_type": "code",
   "execution_count": 11,
   "metadata": {},
   "outputs": [
    {
     "data": {
      "text/plain": [
       "5.551115123125783e-17 - 4.440892098500626e-16im"
      ]
     },
     "execution_count": 11,
     "metadata": {},
     "output_type": "execute_result"
    }
   ],
   "source": [
    "#So we can force the start solution to be 0.923+0.2im\n",
    "S=[0.923+0.2*im]\n",
    "C = randn(ComplexF64,21)\n",
    "evaluation = sum([C[i]*S[1]^(i-1) for i in 1:21])\n",
    "C[1]-=evaluation ##Synthetically alters the tuple C so that S[1] is a solution to f_C(x)\n",
    "evaluation = sum([C[i]*S[1]^(i-1) for i in 1:21])"
   ]
  },
  {
   "cell_type": "markdown",
   "metadata": {},
   "source": [
    "Now we have 1 solution to some degree 20 polynomial "
   ]
  },
  {
   "cell_type": "code",
   "execution_count": 12,
   "metadata": {},
   "outputs": [
    {
     "name": "stdout",
     "output_type": "stream",
     "text": [
      "We found a new solution (Total:2)\n",
      "We found a new solution (Total:3)\n",
      "We found a new solution (Total:4)\n",
      "We found a new solution (Total:5)\n",
      "We found a new solution (Total:6)\n",
      "We found a new solution (Total:7)\n",
      "We found a new solution (Total:8)\n",
      "We found a new solution (Total:9)\n",
      "We found a new solution (Total:10)\n",
      "We found a new solution (Total:11)\n",
      "We found a new solution (Total:12)\n",
      "We found a new solution (Total:13)\n",
      "We found a new solution (Total:14)\n",
      "We found a new solution (Total:15)\n",
      "We found a new solution (Total:16)\n",
      "We found a new solution (Total:17)\n",
      "We found a new solution (Total:18)\n",
      "We found a new solution (Total:19)\n",
      "We found a new solution (Total:20)\n",
      "Finished after 565 loops\n"
     ]
    }
   ],
   "source": [
    "SolutionsFound=[S]\n",
    "loop_num=0\n",
    "while length(SolutionsFound)<20\n",
    "    loop_num+=1\n",
    "    newSolution=solutions(monodromy_loop(F,S,[C,5*randn(ComplexF64,21),3*randn(ComplexF64,21),C]))\n",
    "    if findfirst(x->x[1]≈(newSolution[1][1]),SolutionsFound)==nothing\n",
    "        push!(SolutionsFound,newSolution[1])\n",
    "        println(\"We found a new solution (Total:\",length(SolutionsFound),\")\")\n",
    "        flush(stdout)\n",
    "    end\n",
    "end\n",
    "println(\"Finished after \",loop_num, \" loops\")\n",
    "    "
   ]
  },
  {
   "cell_type": "markdown",
   "metadata": {},
   "source": [
    "Online step: we can use the solution above as a start system for a homotopy to the system we care about!"
   ]
  },
  {
   "cell_type": "code",
   "execution_count": 13,
   "metadata": {},
   "outputs": [
    {
     "name": "stdout",
     "output_type": "stream",
     "text": [
      "  0.225939 seconds (587.59 k allocations: 30.666 MiB)\n"
     ]
    },
    {
     "data": {
      "text/plain": [
       "Result with 20 solutions\n",
       "========================\n",
       "• 20 paths tracked\n",
       "• 20 non-singular solutions (2 real)\n",
       "• random_seed: 0x10b77824\n"
      ]
     },
     "execution_count": 13,
     "metadata": {},
     "output_type": "execute_result"
    }
   ],
   "source": [
    "@time solve(F,SolutionsFound,start_parameters=C,target_parameters=SpecialCoefficients)"
   ]
  },
  {
   "cell_type": "code",
   "execution_count": 14,
   "metadata": {},
   "outputs": [
    {
     "name": "stdout",
     "output_type": "stream",
     "text": [
      "\u001b[32mTracking 20 paths... 100%|██████████████████████████████| Time: 0:00:04\u001b[39m\n",
      "\u001b[34m  # paths tracked:                  20\u001b[39m\n",
      "\u001b[34m  # non-singular solutions (real):  20 (2)\u001b[39m\n",
      "\u001b[34m  # singular endpoints (real):      0 (0)\u001b[39m\n",
      "\u001b[34m  # total solutions (real):         20 (2)\u001b[39m\n",
      " 13.548129 seconds (22.05 M allocations: 1.082 GiB, 3.71% gc time)\n"
     ]
    },
    {
     "data": {
      "text/plain": [
       "Result with 20 solutions\n",
       "========================\n",
       "• 20 paths tracked\n",
       "• 20 non-singular solutions (2 real)\n",
       "• random_seed: 0xb36843d8\n",
       "• start_system: :polyhedral\n"
      ]
     },
     "execution_count": 14,
     "metadata": {},
     "output_type": "execute_result"
    }
   ],
   "source": [
    "@time solve(System([SpecialPolynomial]))"
   ]
  },
  {
   "cell_type": "markdown",
   "metadata": {},
   "source": [
    "<img src=\"PictureMonodromy3.png\" width=\"500\">"
   ]
  },
  {
   "cell_type": "markdown",
   "metadata": {},
   "source": [
    "All of this is implemented in HomotopyContinuation.jl in a smarter way following ideas in Duff et.al."
   ]
  },
  {
   "cell_type": "code",
   "execution_count": 15,
   "metadata": {},
   "outputs": [
    {
     "data": {
      "text/plain": [
       "MonodromyResult\n",
       "===============\n",
       "• return_code → :heuristic_stop\n",
       "• 20 solutions\n",
       "• 180 tracked loops\n",
       "• random_seed → 0xe7524674"
      ]
     },
     "execution_count": 15,
     "metadata": {},
     "output_type": "execute_result"
    }
   ],
   "source": [
    "MonSolve=monodromy_solve(F,S,C; show_progress=true)"
   ]
  },
  {
   "cell_type": "markdown",
   "metadata": {},
   "source": [
    "<img src=\"PictureMonodromy4.png\" width=\"500\">"
   ]
  },
  {
   "cell_type": "markdown",
   "metadata": {},
   "source": [
    "Let's check that we got the same answers"
   ]
  },
  {
   "cell_type": "code",
   "execution_count": 16,
   "metadata": {},
   "outputs": [
    {
     "data": {
      "text/plain": [
       "20-element Array{Array{Complex{Float64},1},1}:\n",
       " [-0.008889521241530262 - 0.979675751730845im]\n",
       " [0.013913393258531494 + 1.0054887531606027im]\n",
       " [0.29113863020006464 + 0.9467541416253036im]\n",
       " [-0.3046875197945814 - 0.9661562000497574im]\n",
       " [-0.31252439201754684 + 0.911225962223491im]\n",
       " [0.4087522700932242 - 0.9544571652742534im]\n",
       " [0.5614240537831531 + 0.7635577718754046im]\n",
       " [-0.5937266991586327 + 0.8804699613597596im]\n",
       " [0.6832125542869947 - 0.7832992312809133im]\n",
       " [-0.7231830963006948 - 0.7526973329550715im]\n",
       " [0.7952437377099314 + 0.5768659745233634im]\n",
       " [0.7953421280908425 - 0.8908214516915424im]\n",
       " [-0.8241978025752867 + 0.6428695535253136im]\n",
       " [-0.8403035561462772 - 0.671391204054293im]\n",
       " [0.923 + 0.2im]\n",
       " [0.9552877302200805 - 0.26517359845715166im]\n",
       " [-1.0270540766262322 - 0.32315992622795203im]\n",
       " [-1.0446618100315512 + 0.3267183496207839im]\n",
       " [1.056489943309267 - 0.09200213396952363im]\n",
       " [-1.0670464985230452 + 0.03347303031661232im]"
      ]
     },
     "execution_count": 16,
     "metadata": {},
     "output_type": "execute_result"
    }
   ],
   "source": [
    "sort(solutions(MonSolve);lt=(x,y)->abs(real(x[1]))<abs(real(y[1])))"
   ]
  },
  {
   "cell_type": "code",
   "execution_count": 17,
   "metadata": {},
   "outputs": [
    {
     "data": {
      "text/plain": [
       "20-element Array{Array{Complex{Float64},1},1}:\n",
       " [-0.00888952124153026 - 0.979675751730845im]\n",
       " [0.013913393258531491 + 1.0054887531606027im]\n",
       " [0.29113863020006464 + 0.9467541416253036im]\n",
       " [-0.3046875197945814 - 0.9661562000497574im]\n",
       " [-0.31252439201754684 + 0.911225962223491im]\n",
       " [0.4087522700932242 - 0.9544571652742534im]\n",
       " [0.561424053783153 + 0.7635577718754046im]\n",
       " [-0.5937266991586327 + 0.8804699613597596im]\n",
       " [0.6832125542869947 - 0.7832992312809133im]\n",
       " [-0.7231830963006948 - 0.7526973329550715im]\n",
       " [0.7952437377099314 + 0.5768659745233634im]\n",
       " [0.7953421280908426 - 0.8908214516915425im]\n",
       " [-0.8241978025752867 + 0.6428695535253136im]\n",
       " [-0.8403035561462772 - 0.671391204054293im]\n",
       " [0.923 + 0.2im]\n",
       " [0.9552877302200805 - 0.26517359845715166im]\n",
       " [-1.0270540766262322 - 0.32315992622795203im]\n",
       " [-1.0446618100315512 + 0.3267183496207839im]\n",
       " [1.056489943309267 - 0.09200213396952363im]\n",
       " [-1.0670464985230452 + 0.03347303031661232im]"
      ]
     },
     "execution_count": 17,
     "metadata": {},
     "output_type": "execute_result"
    }
   ],
   "source": [
    "sort(SolutionsFound;lt=(x,y)->abs(real(x[1]))<abs(real(y[1])))"
   ]
  },
  {
   "cell_type": "markdown",
   "metadata": {},
   "source": [
    "<bdi style=\"border:3px; border-style:solid; padding: 0.2em;\">\n",
    "Warning! This may not find all the points you're looking for!\n",
    "</bdi>\n",
    "\n",
    "Situation 1: you were unlucky and the loops you took never produced all of the solutions\n",
    "\n",
    "Situation 2: no matter which loops you took, you'd never produce all the solutions\n"
   ]
  },
  {
   "cell_type": "code",
   "execution_count": 18,
   "metadata": {},
   "outputs": [
    {
     "data": {
      "text/plain": [
       "MonodromyResult\n",
       "===============\n",
       "• return_code → :heuristic_stop\n",
       "• 2 solutions\n",
       "• 20 tracked loops\n",
       "• random_seed → 0xeba8a1c5"
      ]
     },
     "execution_count": 18,
     "metadata": {},
     "output_type": "execute_result"
    }
   ],
   "source": [
    "@var x,y\n",
    "@var a,b,c\n",
    "TwoConics = System([(x^2+y^2-1)*((x-0.5)^2+y^2-1),a*x+b*y+c],parameters=[a,b,c])\n",
    "M=monodromy_solve(TwoConics,[[1,0]],[0,1,0])"
   ]
  },
  {
   "cell_type": "markdown",
   "metadata": {},
   "source": [
    "So how do you know when you're done in situation 1?\n",
    "\n",
    "- You knew how many solutions there were to begin with, and can use that as a stopping criterion\n",
    "- Your solution set looks like $X \\cap L$ for some irreducible variety $X$ and a linear space $L$ (see witness sets talk and the trace test)\n",
    "- You know so much structure about your family that you know exactly which loops you need to take to find all the points\n",
    "- ...or you don't know and that's something you can live with"
   ]
  },
  {
   "cell_type": "markdown",
   "metadata": {},
   "source": [
    "## Monodromy Group\n",
    "\n",
    "The collection of all permutations possible (from loops based at $p \\in U$) forms a group $G_\\pi$ called the **monodromy group** of $\\pi$.\n",
    "\n",
    "Exercise: Show $G_\\pi$ is a group and that it doesn't depend on the base point $p \\in U$.\n",
    "\n",
    "The following function writes the permutation $g_\\gamma$ coming from a loop $\\gamma$ as a permutation in single line notation"
   ]
  },
  {
   "cell_type": "code",
   "execution_count": 19,
   "metadata": {},
   "outputs": [
    {
     "data": {
      "text/plain": [
       "monodromy_element (generic function with 1 method)"
      ]
     },
     "execution_count": 19,
     "metadata": {},
     "output_type": "execute_result"
    }
   ],
   "source": [
    "function monodromy_element(F,BaseSols,BaseParam;γ=nothing)\n",
    "    #If no loop is given, randomly make one\n",
    "    if γ==nothing\n",
    "        γ = [BaseParam] #starting at BaseParam\n",
    "        for i in 1:3\n",
    "            push!(γ,2*randn(ComplexF64,length(F.parameters))) #with 3 other parameter values\n",
    "        end\n",
    "        push!(γ,BaseParam) #and ending again at BaseParam\n",
    "    end\n",
    "    M = solutions(monodromy_loop(F,BaseSols,γ)) #Take the solutions after the loop\n",
    "    S = (BaseSols) #And those before\n",
    "    gᵧ= [findfirst(x->x≈S[i],M) for i in 1:length(M)] #and see which solutions were permuted\n",
    "    return gᵧ\n",
    "end"
   ]
  },
  {
   "cell_type": "code",
   "execution_count": 20,
   "metadata": {},
   "outputs": [
    {
     "data": {
      "text/plain": [
       "2-element Array{Int64,1}:\n",
       " 2\n",
       " 1"
      ]
     },
     "execution_count": 20,
     "metadata": {},
     "output_type": "execute_result"
    }
   ],
   "source": [
    "@var x a b\n",
    "F = System([x^2 + a * x + b], parameters = [a, b])\n",
    "#Here's the monodromy element from before written as a permutation\n",
    "monodromy_element(F,[[-1],[1]],p₀;γ=[p₀,p₁,p₂,p₃,p₀])"
   ]
  },
  {
   "cell_type": "markdown",
   "metadata": {},
   "source": [
    "Let's compute 1000 random monodromy permutations!"
   ]
  },
  {
   "cell_type": "code",
   "execution_count": 21,
   "metadata": {},
   "outputs": [],
   "source": [
    "#here are 1000 random monodromy elements based at p_0\n",
    "random_elements=[monodromy_element(F,[[-1],[1]],Array{ComplexF64,1}(p₀)) for i in 1:1000];"
   ]
  },
  {
   "cell_type": "code",
   "execution_count": 22,
   "metadata": {},
   "outputs": [
    {
     "data": {
      "text/plain": [
       "tally (generic function with 1 method)"
      ]
     },
     "execution_count": 22,
     "metadata": {},
     "output_type": "execute_result"
    }
   ],
   "source": [
    "#this is a quick function to tally them\n",
    "function tally(S)\n",
    "    D=Dict{Any,Int}()\n",
    "    for s in S\n",
    "        D[s]=get(D,s,0)+1\n",
    "    end\n",
    "    return D\n",
    "end"
   ]
  },
  {
   "cell_type": "code",
   "execution_count": 23,
   "metadata": {},
   "outputs": [
    {
     "data": {
      "text/plain": [
       "Dict{Any,Int64} with 2 entries:\n",
       "  [2, 1] => 369\n",
       "  [1, 2] => 631"
      ]
     },
     "execution_count": 23,
     "metadata": {},
     "output_type": "execute_result"
    }
   ],
   "source": [
    "#here's the tally\n",
    "tally(random_elements)"
   ]
  },
  {
   "cell_type": "markdown",
   "metadata": {},
   "source": [
    "Exercise: monodromy_solve can find all solutions if and only if $G_\\pi$ is transitive\n",
    "\n",
    "Exercise: $G_\\pi$ is transitive if and only if $Z$ has a unique irreducible component of top dimension"
   ]
  },
  {
   "cell_type": "markdown",
   "metadata": {},
   "source": [
    "# A nontrivial example: 27 lines on a cubic"
   ]
  },
  {
   "cell_type": "markdown",
   "metadata": {},
   "source": [
    "**Cayley and Salmon**: There are exactly $27$ lines on every smooth cubic surface in $\\mathbb{P}^3$."
   ]
  },
  {
   "cell_type": "markdown",
   "metadata": {},
   "source": [
    "Let's solve for these $27$ lines using monodromy, then compute the monodromy group!"
   ]
  },
  {
   "cell_type": "markdown",
   "metadata": {},
   "source": [
    "*Source: Greg Egan* \n",
    "\n",
    "<img src=\"PictureMonodromy5.gif\" width=\"500\">\n",
    "(The Clebsch cubic)"
   ]
  },
  {
   "cell_type": "markdown",
   "metadata": {},
   "source": [
    "### Writing the system \n",
    "\n",
    "Cubic = $\\sum_{i+j+k\\leq 3} c_{i,j,k}x^iy^jz^k$\n",
    "\n",
    "Lines = $t \\xrightarrow{\\ell_{k}} (t,k_1+k_3t,k_2+k_4t)$\n",
    "\n",
    "Polynomial system: Cubic($\\ell_k$)$=0$ (variables are $k_1,\\ldots,k_4$ and parameters are $c_{i,j,k}$)"
   ]
  },
  {
   "cell_type": "code",
   "execution_count": 24,
   "metadata": {
    "scrolled": true
   },
   "outputs": [
    {
     "data": {
      "text/plain": [
       "System of length 4\n",
       " 4 variables: k₁, k₂, k₃, k₄\n",
       " 64 parameters: c₀₋₀₋₀, c₁₋₀₋₀, c₂₋₀₋₀, c₃₋₀₋₀, c₀₋₁₋₀, c₁₋₁₋₀, c₂₋₁₋₀, c₃₋₁₋₀, c₀₋₂₋₀, c₁₋₂₋₀, c₂₋₂₋₀, c₃₋₂₋₀, c₀₋₃₋₀, c₁₋₃₋₀, c₂₋₃₋₀, c₃₋₃₋₀, c₀₋₀₋₁, c₁₋₀₋₁, c₂₋₀₋₁, c₃₋₀₋₁, c₀₋₁₋₁, c₁₋₁₋₁, c₂₋₁₋₁, c₃₋₁₋₁, c₀₋₂₋₁, c₁₋₂₋₁, c₂₋₂₋₁, c₃₋₂₋₁, c₀₋₃₋₁, c₁₋₃₋₁, c₂₋₃₋₁, c₃₋₃₋₁, c₀₋₀₋₂, c₁₋₀₋₂, c₂₋₀₋₂, c₃₋₀₋₂, c₀₋₁₋₂, c₁₋₁₋₂, c₂₋₁₋₂, c₃₋₁₋₂, c₀₋₂₋₂, c₁₋₂₋₂, c₂₋₂₋₂, c₃₋₂₋₂, c₀₋₃₋₂, c₁₋₃₋₂, c₂₋₃₋₂, c₃₋₃₋₂, c₀₋₀₋₃, c₁₋₀₋₃, c₂₋₀₋₃, c₃₋₀₋₃, c₀₋₁₋₃, c₁₋₁₋₃, c₂₋₁₋₃, c₃₋₁₋₃, c₀₋₂₋₃, c₁₋₂₋₃, c₂₋₂₋₃, c₃₋₂₋₃, c₀₋₃₋₃, c₁₋₃₋₃, c₂₋₃₋₃, c₃₋₃₋₃\n",
       "\n",
       " c₃₋₀₋₀ + k₃*c₂₋₁₋₀ + k₃^2*c₁₋₂₋₀ + k₃^3*c₀₋₃₋₀ + k₄*c₂₋₀₋₁ + k₄^2*c₁₋₀₋₂ + k₄^3*c₀₋₀₋₃ + k₄*k₃*c₁₋₁₋₁ + k₄*k₃^2*c₀₋₂₋₁ + k₄^2*k₃*c₀₋₁₋₂\n",
       " c₂₋₀₋₀ + k₁*c₂₋₁₋₀ + k₂*c₂₋₀₋₁ + k₃*c₁₋₁₋₀ + k₃^2*c₀₋₂₋₀ + k₄*c₁₋₀₋₁ + k₄^2*c₀₋₀₋₂ + 2*k₃*k₁*c₁₋₂₋₀ + k₃*k₂*c₁₋₁₋₁ + 3*k₃^2*k₁*c₀₋₃₋₀ + k₃^2*k₂*c₀₋₂₋₁ + k₄*k₁*c₁₋₁₋₁ + 2*k₄*k₂*c₁₋₀₋₂ + k₄*k₃*c₀₋₁₋₁ + k₄^2*k₁*c₀₋₁₋₂ + 3*k₄^2*k₂*c₀₋₀₋₃ + 2*k₄*k₃*k₁*c₀₋₂₋₁ + 2*k₄*k₃*k₂*c₀₋₁₋₂\n",
       " c₁₋₀₋₀ + k₁*c₁₋₁₋₀ + k₁^2*c₁₋₂₋₀ + k₂*c₁₋₀₋₁ + k₂^2*c₁₋₀₋₂ + k₃*c₀₋₁₋₀ + k₄*c₀₋₀₋₁ + k₂*k₁*c₁₋₁₋₁ + 2*k₃*k₁*c₀₋₂₋₀ + 3*k₃*k₁^2*c₀₋₃₋₀ + k₃*k₂*c₀₋₁₋₁ + k₃*k₂^2*c₀₋₁₋₂ + k₄*k₁*c₀₋₁₋₁ + k₄*k₁^2*c₀₋₂₋₁ + 2*k₄*k₂*c₀₋₀₋₂ + 3*k₄*k₂^2*c₀₋₀₋₃ + 2*k₃*k₂*k₁*c₀₋₂₋₁ + 2*k₄*k₂*k₁*c₀₋₁₋₂\n",
       " c₀₋₀₋₀ + k₁*c₀₋₁₋₀ + k₁^2*c₀₋₂₋₀ + k₁^3*c₀₋₃₋₀ + k₂*c₀₋₀₋₁ + k₂^2*c₀₋₀₋₂ + k₂^3*c₀₋₀₋₃ + k₂*k₁*c₀₋₁₋₁ + k₂*k₁^2*c₀₋₂₋₁ + k₂^2*k₁*c₀₋₁₋₂"
      ]
     },
     "execution_count": 24,
     "metadata": {},
     "output_type": "execute_result"
    }
   ],
   "source": [
    "# lines are parametrized as t->(t,k1+k3t,k2+k4t)\n",
    "@var k[1:4]\n",
    "# the coefficient of x^iy^jz^k in a general cubic will be c[i,j,k]\n",
    "@var c[0:3,0:3,0:3]\n",
    "# we need these variables too\n",
    "@var t\n",
    "@var x,y,z\n",
    "\n",
    "#here's a cubic\n",
    "cubic=sum([c[i+1,j+1,k+1]x^i*y^j*z^k for i in 0:3 for j in 0:3-i for k in 0:3-i-j])\n",
    "#here's our line\n",
    "line = [t,k[1]+k[3]*t,k[2]+k[4]*t]\n",
    "#E is cubic(line(t))\n",
    "E=evaluate(cubic,[x,y,z]=>line)\n",
    "#and we construct the system where the coefficients of t^i for t=0..3 are zero (i.e. E=0)\n",
    "F = System(exponents_coefficients(E,[t])[2],parameters=vec(c))"
   ]
  },
  {
   "cell_type": "code",
   "execution_count": 25,
   "metadata": {},
   "outputs": [
    {
     "name": "stdout",
     "output_type": "stream",
     "text": [
      "  6.490998 seconds (13.72 M allocations: 679.433 MiB, 4.12% gc time)\n"
     ]
    },
    {
     "data": {
      "text/plain": [
       "MonodromyResult\n",
       "===============\n",
       "• return_code → :success\n",
       "• 27 solutions\n",
       "• 81 tracked loops\n",
       "• random_seed → 0x2e2ce241"
      ]
     },
     "execution_count": 25,
     "metadata": {},
     "output_type": "execute_result"
    }
   ],
   "source": [
    "@time MS=monodromy_solve(F; permutations=true, target_solutions_count=27)"
   ]
  },
  {
   "cell_type": "markdown",
   "metadata": {},
   "source": [
    "Monodromy quickly solved the system!"
   ]
  },
  {
   "cell_type": "code",
   "execution_count": 26,
   "metadata": {},
   "outputs": [
    {
     "data": {
      "text/plain": [
       "3-element Array{Array{Int64,1},1}:\n",
       " [2, 3, 4, 5, 6, 7, 8, 1, 18, 20  …  15, 13, 12, 11, 9, 14, 10, 25, 27, 26]\n",
       " [9, 10, 11, 12, 13, 14, 15, 16, 17, 19  …  3, 6, 4, 7, 2, 5, 1, 27, 25, 26]\n",
       " [16, 15, 13, 25, 12, 11, 9, 26, 7, 22  …  24, 18, 20, 4, 3, 19, 2, 27, 14, 10]"
      ]
     },
     "execution_count": 26,
     "metadata": {},
     "output_type": "execute_result"
    }
   ],
   "source": [
    "#Output of monodromy_solve knows a fibre pi^(-1)(P) = S, \n",
    "# and it knows the permutations corresponding to the loops  used\n",
    "S=solutions(MS);\n",
    "P=parameters(MS);\n",
    "random_elements=[permutations(MS)[:,i] for i in 1:size(permutations(MS),2)]"
   ]
  },
  {
   "cell_type": "code",
   "execution_count": 27,
   "metadata": {},
   "outputs": [
    {
     "data": {
      "text/plain": [
       "3"
      ]
     },
     "execution_count": 27,
     "metadata": {},
     "output_type": "execute_result"
    }
   ],
   "source": [
    "#Here we filter out anything funny that happened numerically\n",
    "filter!(x->!(nothing in x) && sort(x) == collect(1:27),random_elements);\n",
    "length(random_elements)"
   ]
  },
  {
   "cell_type": "code",
   "execution_count": 28,
   "metadata": {},
   "outputs": [
    {
     "data": {
      "text/plain": [
       "Dict{Any,Int64} with 3 entries:\n",
       "  [2, 3, 4, 5, 6, 7, 8, 1, 18, 20  …  15, 13, 12, 11, 9, 14, 10, 25, 27, 2… => 1\n",
       "  [16, 15, 13, 25, 12, 11, 9, 26, 7, 22  …  24, 18, 20, 4, 3, 19, 2, 27, 1… => 1\n",
       "  [9, 10, 11, 12, 13, 14, 15, 16, 17, 19  …  3, 6, 4, 7, 2, 5, 1, 27, 25, … => 1"
      ]
     },
     "execution_count": 28,
     "metadata": {},
     "output_type": "execute_result"
    }
   ],
   "source": [
    "tally(random_elements)"
   ]
  },
  {
   "cell_type": "markdown",
   "metadata": {},
   "source": [
    "#### To compute and describe this monodromy group, we'll need a little help from our favorite group theory software"
   ]
  },
  {
   "cell_type": "code",
   "execution_count": 29,
   "metadata": {},
   "outputs": [
    {
     "name": "stdout",
     "output_type": "stream",
     "text": [
      " ┌───────┐   GAP 4.11.0 of 29-Feb-2020\n",
      " │  GAP  │   https://www.gap-system.org\n",
      " └───────┘   Architecture: x86_64-pc-linux-gnu-julia64-kv7-v1.5\n",
      " Configuration:  gmp 6.1.2, Julia GC, Julia 1.5.2, readline\n",
      " Loading the library and packages ...\n",
      " Packages:   AClib 1.3.2, Alnuth 3.1.2, AtlasRep 2.1.0, AutoDoc 2019.09.04, \n",
      "             AutPGrp 1.10.2, CRISP 1.4.5, Cryst 4.1.23, CrystCat 1.1.9, \n",
      "             CTblLib 1.2.2, FactInt 1.6.3, FGA 1.4.0, Forms 1.2.5, \n",
      "             GAPDoc 1.6.3, genss 1.6.6, IO 4.7.0, IRREDSOL 1.4, LAGUNA 3.9.3, \n",
      "             orb 4.8.3, Polenta 1.3.9, Polycyclic 2.15.1, PrimGrp 3.4.0, \n",
      "             RadiRoot 2.8, recog 1.3.2, ResClasses 4.7.2, SmallGrp 1.4.1, \n",
      "             Sophus 1.24, SpinSym 1.5.2, TomLib 1.2.9, TransGrp 2.0.5, \n",
      "             utils 0.69\n",
      " Try '??help' for help. See also '?copyright', '?cite' and '?authors'\n"
     ]
    },
    {
     "data": {
      "text/plain": [
       "describe_group (generic function with 1 method)"
      ]
     },
     "execution_count": 29,
     "metadata": {},
     "output_type": "execute_result"
    }
   ],
   "source": [
    "using GAP; #Warning: may not work with julia 1.6\n",
    "function describe_group(L)\n",
    "    L=unique(L)\n",
    "    Sym=GAP.Globals.SymmetricGroup(length(L[1]))\n",
    "    GAPL=[]\n",
    "    for l in L\n",
    "        push!(GAPL,GAP.Globals.PermList(GAP.julia_to_gap(l)))\n",
    "    end\n",
    "    GAPL=GAP.julia_to_gap(GAPL)\n",
    "    G=GAP.Globals.Subgroup(Sym,GAPL)\n",
    "    return (GAP.Globals.StructureDescription(G),G)\n",
    "end"
   ]
  },
  {
   "cell_type": "code",
   "execution_count": 30,
   "metadata": {},
   "outputs": [
    {
     "name": "stdout",
     "output_type": "stream",
     "text": [
      "GAP: \"O(5,3) : C2\"\n"
     ]
    },
    {
     "data": {
      "text/plain": [
       "51840"
      ]
     },
     "execution_count": 30,
     "metadata": {},
     "output_type": "execute_result"
    }
   ],
   "source": [
    "Gal=describe_group(random_elements)\n",
    "println(Gal[1])\n",
    "GAP.Globals.Order(Gal[2])"
   ]
  },
  {
   "cell_type": "markdown",
   "metadata": {},
   "source": [
    "##### This is the Weyl group of E6\n",
    "\n",
    "It is exactly the group of permutations which are possible given how the $27$ lines must intersect."
   ]
  },
  {
   "cell_type": "markdown",
   "metadata": {},
   "source": [
    "**Schlafli graph: 27 vertices <-> lines, edges <-> lines do NOT intersect**\n",
    "<img src=\"PictureMonodromy6.svg\" width=\"500\">\n",
    "Source: By Claudio Rocchini - Own work, CC BY-SA 3.0, https://commons.wikimedia.org/w/index.php?curid=11045032"
   ]
  },
  {
   "cell_type": "code",
   "execution_count": null,
   "metadata": {},
   "outputs": [],
   "source": []
  }
 ],
 "metadata": {
  "kernelspec": {
   "display_name": "Julia 1.5.2",
   "language": "julia",
   "name": "julia-1.5"
  },
  "language_info": {
   "file_extension": ".jl",
   "mimetype": "application/julia",
   "name": "julia",
   "version": "1.5.2"
  }
 },
 "nbformat": 4,
 "nbformat_minor": 2
}
