{
 "cells": [
  {
   "cell_type": "markdown",
   "metadata": {},
   "source": [
    "# Lecture: Witness Sets"
   ]
  },
  {
   "cell_type": "code",
   "execution_count": 1,
   "metadata": {},
   "outputs": [],
   "source": [
    "using HomotopyContinuation"
   ]
  },
  {
   "cell_type": "markdown",
   "metadata": {},
   "source": [
    "So far, we've seen that numerical methods are very good at solving **zero-dimensional polynomial systems**"
   ]
  },
  {
   "cell_type": "markdown",
   "metadata": {},
   "source": [
    "**Question**: What do we do if we are interested in a **positive-dimensional** set of solutions?\n",
    "\n",
    "**Answer**: Slice it with enough hyperplanes until we have a zero-dimensional solution set.\n"
   ]
  },
  {
   "cell_type": "markdown",
   "metadata": {},
   "source": [
    "\n",
    "<img src=\"PictureWitness1.png\" width=\"300\">"
   ]
  },
  {
   "cell_type": "markdown",
   "metadata": {},
   "source": [
    "The data in such a *slice* is called a **witness set**.\n",
    "\n",
    "A witness set for an irreducible variety $X \\subset \\mathbb{C}^n$ is a triple \n",
    "$$W=(F,L,S)$$\n",
    "where \n",
    "    \n",
    "- $\\color{blue}{F}$ is a polynomial system for which $X$ is a component, \n",
    "- $\\color{green}{L}$ is a generic affine linear space of complementary dimension\n",
    "- $\\color{red}{S} = X \\cap L$\n",
    "\n"
   ]
  },
  {
   "cell_type": "markdown",
   "metadata": {},
   "source": [
    "<p style=\"border:3px; border-style:solid; padding: 0.5em; text-align:center\">\n",
    "How is this a good representation of the variety $X$?\n",
    "</p>\n",
    "\n",
    "\n",
    "Given a witness set $W=(F,L,S)$ for $X$...\n",
    "\n",
    "Certain information about $X$ become obvious:\n",
    "- dimension (equals the codimension of $L$)\n",
    "- degree (equals the number of points in $S$)\n",
    "\n",
    "Certain algorithms become almost trivial\n",
    "\n",
    "- Membership: is $p$ contained in $X$?\n",
    "\n",
    "- Sampling: find $100000$ points on $X$\n",
    "\n",
    "- Find a (pseudo) witness set for a projection of $X$\n",
    "\n",
    "One major advantage (compared to symbolic representations) is that they can be computed fast. \n",
    "\n",
    "One major disadvantage is that it can be difficult to prove things (but not impossible)"
   ]
  },
  {
   "cell_type": "markdown",
   "metadata": {},
   "source": [
    "<hr style=\"border:1px solid gray\"> </hr>"
   ]
  },
  {
   "cell_type": "markdown",
   "metadata": {},
   "source": [
    "## Constructing a witness set using homotopycontinuation.jl"
   ]
  },
  {
   "cell_type": "code",
   "execution_count": 2,
   "metadata": {},
   "outputs": [
    {
     "data": {
      "text/plain": [
       "System of length 3\n",
       " 3 variables: x, y, z\n",
       "\n",
       " -x*z + y^2\n",
       " -z + x*y\n",
       " -y + x^2"
      ]
     },
     "execution_count": 2,
     "metadata": {},
     "output_type": "execute_result"
    }
   ],
   "source": [
    "@var x y z\n",
    "TwistedCubic=System([y^2-x*z,x*y-z,x^2-y])"
   ]
  },
  {
   "cell_type": "code",
   "execution_count": 3,
   "metadata": {},
   "outputs": [
    {
     "name": "stdout",
     "output_type": "stream",
     "text": [
      "\r",
      "\u001b[32mTracking 5 paths... 100%|███████████████████████████████| Time: 0:00:08\u001b[39m\r\n",
      "\u001b[34m  # paths tracked:                  5\u001b[39m\r\n",
      "\u001b[34m  # non-singular solutions (real):  3 (0)\u001b[39m\r\n",
      "\u001b[34m  # singular endpoints (real):      0 (0)\u001b[39m\r\n",
      "\u001b[34m  # total solutions (real):         3 (0)\u001b[39m\n"
     ]
    },
    {
     "data": {
      "text/plain": [
       "Witness set for dimension 1 of degree 3"
      ]
     },
     "execution_count": 3,
     "metadata": {},
     "output_type": "execute_result"
    }
   ],
   "source": [
    "#Try the following without codimension: you get an error because it expects the dimension to be zero.\n",
    "W_twisted=witness_set(TwistedCubic; codim=2)"
   ]
  },
  {
   "cell_type": "code",
   "execution_count": 4,
   "metadata": {},
   "outputs": [
    {
     "data": {
      "text/plain": [
       "3"
      ]
     },
     "execution_count": 4,
     "metadata": {},
     "output_type": "execute_result"
    }
   ],
   "source": [
    "#Degree of the twisted cubic\n",
    "degree(W_twisted)"
   ]
  },
  {
   "cell_type": "code",
   "execution_count": 5,
   "metadata": {},
   "outputs": [
    {
     "data": {
      "text/plain": [
       "1"
      ]
     },
     "execution_count": 5,
     "metadata": {},
     "output_type": "execute_result"
    }
   ],
   "source": [
    "#Dimension of the twisted cubic\n",
    "dim(W_twisted)"
   ]
  },
  {
   "cell_type": "code",
   "execution_count": 6,
   "metadata": {},
   "outputs": [
    {
     "data": {
      "text/plain": [
       "2-dim. affine linear subspace {x | Ax=b} with eltype Complex{Float64}:\n",
       "A:\n",
       "Complex{Float64}[-0.1831417641570392 + 0.081102212943236im -0.10672217795974322 - 0.7463036812511545im -0.13540631545481352 - 0.6108910271845651im]\n",
       "b:\n",
       "Complex{Float64}[-0.2313869318216478 - 0.08994162549643306im]"
      ]
     },
     "execution_count": 6,
     "metadata": {},
     "output_type": "execute_result"
    }
   ],
   "source": [
    "#Generic linear space used to slice the twisted cubic\n",
    "W_twisted.L"
   ]
  },
  {
   "cell_type": "code",
   "execution_count": 7,
   "metadata": {},
   "outputs": [
    {
     "data": {
      "text/plain": [
       "3-element Array{Array{Complex{Float64},1},1}:\n",
       " [0.4431396138501076 - 0.1317374677130209im, 0.17901795696378325 - 0.11675618114387824im, 0.0639487846774288 - 0.07532266135227876im]\n",
       " [-0.3070327111783467 + 0.5200813468544931im, -0.17621552161245757 - 0.3193639719160423im, 0.22019917400327516 + 0.006408780333193877im]\n",
       " [-1.3374703446145122 - 0.47993144017293227im, 1.5584927354567966 + 1.2837881373588613im, -1.468307526331051 - 2.4649982255122116im]"
      ]
     },
     "execution_count": 7,
     "metadata": {},
     "output_type": "execute_result"
    }
   ],
   "source": [
    "#Witness points\n",
    "solutions(W_twisted)"
   ]
  },
  {
   "cell_type": "markdown",
   "metadata": {},
   "source": [
    "## Some simple algorithms involving witness sets"
   ]
  },
  {
   "cell_type": "markdown",
   "metadata": {},
   "source": [
    "### Moving the linear space (this is the fundamental operation)"
   ]
  },
  {
   "cell_type": "code",
   "execution_count": 8,
   "metadata": {},
   "outputs": [
    {
     "data": {
      "text/plain": [
       "2-dim. affine linear subspace {x | Ax=b} with eltype Float64:\n",
       "A:\n",
       "[-0.2672612419124243 -0.5345224838248488 -0.8017837257372732]\n",
       "b:\n",
       "[-1.3363062095621219]"
      ]
     },
     "execution_count": 8,
     "metadata": {},
     "output_type": "execute_result"
    }
   ],
   "source": [
    "L2 = LinearSubspace([1,2,3]',[5])"
   ]
  },
  {
   "cell_type": "code",
   "execution_count": 9,
   "metadata": {},
   "outputs": [
    {
     "name": "stdout",
     "output_type": "stream",
     "text": [
      "\r",
      "\u001b[32mTracking 3 paths... 100%|███████████████████████████████| Time: 0:00:02\u001b[39m\r\n",
      "\u001b[34m  # paths tracked:                  3\u001b[39m\r\n",
      "\u001b[34m  # non-singular solutions (real):  3 (1)\u001b[39m\r\n",
      "\u001b[34m  # singular endpoints (real):      0 (0)\u001b[39m\r\n",
      "\u001b[34m  # total solutions (real):         3 (1)\u001b[39m\n"
     ]
    },
    {
     "data": {
      "text/plain": [
       "Witness set for dimension 1 of degree 3"
      ]
     },
     "execution_count": 9,
     "metadata": {},
     "output_type": "execute_result"
    }
   ],
   "source": [
    "W_twisted2=witness_set(W_twisted,L2)"
   ]
  },
  {
   "cell_type": "code",
   "execution_count": 10,
   "metadata": {},
   "outputs": [
    {
     "data": {
      "text/plain": [
       "3-element Array{Array{Complex{Float64},1},1}:\n",
       " [0.9241438381955056 - 1.3775324423698682e-40im, 0.8540418336747209 + 1.8367099231598242e-40im, 0.7892574981516842 + 2.2958874039497803e-41im]\n",
       " [-0.7954052524310862 + 1.0820358328370792im, -0.5381320279484715 - 1.721313969514515im, 2.290556436109343 + 0.786864035397317im]\n",
       " [-0.7954052524310862 - 1.082035832837079im, -0.5381320279484714 + 1.7213139695145148im, 2.290556436109343 - 0.7868640353973171im]"
      ]
     },
     "execution_count": 10,
     "metadata": {},
     "output_type": "execute_result"
    }
   ],
   "source": [
    "solutions(W_twisted2)"
   ]
  },
  {
   "cell_type": "markdown",
   "metadata": {},
   "source": [
    "### Sampling"
   ]
  },
  {
   "cell_type": "code",
   "execution_count": 11,
   "metadata": {},
   "outputs": [
    {
     "data": {
      "text/plain": [
       "sample (generic function with 1 method)"
      ]
     },
     "execution_count": 11,
     "metadata": {},
     "output_type": "execute_result"
    }
   ],
   "source": [
    "function sample(W::WitnessSet)\n",
    "    n=length(solutions(W)[1]) #number of variables\n",
    "    randomLinear = LinearSubspace(randn(ComplexF64,dim(W),n),randn(ComplexF64,dim(W)))\n",
    "    newWitness=witness_set(W,randomLinear)\n",
    "    s=solutions(newWitness)[1]\n",
    "    return s\n",
    "end"
   ]
  },
  {
   "cell_type": "code",
   "execution_count": 12,
   "metadata": {},
   "outputs": [
    {
     "data": {
      "text/plain": [
       "100-element Array{Array{Complex{Float64},1},1}:\n",
       " [1.4659465353363361 + 0.2936973130876942im, 2.0627411327496765 + 0.8610891171169929im, 2.7709686568238214 + 1.868132136137527im]\n",
       " [0.9817013309365323 + 0.811592453899928im, 0.3050551919352523 + 1.5934827843432111im, -0.9937855152604598 + 1.8119046620118264im]\n",
       " [0.22901897494200477 + 1.549831727329766im, -2.3495286921544793 + 0.7098817470513193im, -1.638283906906466 - 3.47879772133289im]\n",
       " [0.34454494720722845 + 1.5076197497784738im, -2.154206089276076 + 1.0388855341919983im, -2.308465172410132 - 2.889780883753127im]\n",
       " [1.236758724393006 + 0.6606794100505745im, 1.0930748594974402 + 1.6342020488137443im, 0.27218622338441384 + 2.743285694605207im]\n",
       " [1.6556417736737985 - 2.12198966851813im, -1.7616904705639616 - 7.026509477005665im, -17.826908851299496 - 7.895093635581844im]\n",
       " [0.5353617881800264 - 0.4879282355863325im, 0.048538281160923916 - 0.5224362654140483im, -0.2289258641922924 - 0.3033756111474028im]\n",
       " [0.6317904182926204 - 0.09788098672709858im, 0.3895784450836938 - 0.12368053909441608im, 0.23402595557171463 - 0.11627250214151866im]\n",
       " [0.83153808274529 + 0.8879726142992492im, -0.09703978068973061 + 1.476766090449441im, -1.3920201192296338 + 1.1418185757654997im]\n",
       " [-0.012520495473791068 - 0.23125745820590826im, -0.053323249168948185 + 0.005790915917495003im, 0.002006825995631679 + 0.012258893929557165im]\n",
       " [-0.03162594219406336 + 0.743352796271211im, -0.5515731795045663 - 0.047018465129337356im, 0.0523953290210805 - 0.408526462072688im]\n",
       " [0.8898189561922129 + 0.04193651349321095im, 0.7900191036350329 + 0.07463180932573923im, 0.699844176289621 + 0.09953944547245053im]\n",
       " [0.5142331104554263 - 1.0714639687075813im, -0.8835993443499381 - 1.1019644987388302im, -1.6350912944350118 + 0.38007822844667816im]\n",
       " ⋮\n",
       " [1.1157648254027548 + 0.1629685494868586im, 1.2183723974841894 + 0.36366915032868996im, 1.3001504314322974 + 0.6043256283736836im]\n",
       " [0.21592258208671897 + 2.109922696453201im, -4.405151223553349 + 0.9111599132430955im, -2.8736486077220453 - 9.09778854672244im]\n",
       " [0.749492787927361 - 0.6330719079909368im, 0.16095939846784288 - 0.9489656585572421im, -0.4801255917799346 - 0.8131417905765023im]\n",
       " [0.5292734186630307 - 0.14160288378075403im, 0.26007897500822597 - 0.149893284782367im, 0.11642756684042768 - 0.11616246414330206im]\n",
       " [0.775886848566392 - 0.0870475465741058im, 0.5944231264137162 - 0.13507809317363836im, 0.4494468696614467 - 0.1565483908040753im]\n",
       " [0.6900955034141661 + 1.5958768074381926im, -2.0705909806866667 + 2.202614817632104im, -4.944007428360576 - 1.784393542367226im]\n",
       " [0.6910986825348239 - 0.5930546424857358im, 0.12590358002748536 - 0.819718564186106im, -0.3991261017388989 - 0.6411741223992299im]\n",
       " [0.7305128127095437 + 0.1698225797723437im, 0.5048092609322749 + 0.24811514082217132im, 0.3266340797904626 + 0.266979300382318im]\n",
       " [1.1271341527310996 - 0.035729168471265366im, 1.2691548247732058 - 0.08054313206529282im, 1.4276300089705702 - 0.13612876146916403im]\n",
       " [-0.37404753797249324 - 0.345641630379801im, 0.020443424011676786 + 0.2585728017287262im, 0.0817267123420945 - 0.10378461827922122im]\n",
       " [0.6315845638812865 - 0.23904602030598662im, 0.3417560615089846 - 0.3019555529650274im, 0.14366657981635478 - 0.2724058926501203im]\n",
       " [0.3038454298476526 + 1.5999811253766145im, -2.4676175563221134 + 0.9722939055763768im, -2.3054262143412223 - 3.6527144550852397im]"
      ]
     },
     "execution_count": 12,
     "metadata": {},
     "output_type": "execute_result"
    }
   ],
   "source": [
    "MySamples=[sample(W_twisted) for i in 1:100]"
   ]
  },
  {
   "cell_type": "markdown",
   "metadata": {},
   "source": [
    "### Membership"
   ]
  },
  {
   "cell_type": "code",
   "execution_count": 13,
   "metadata": {},
   "outputs": [
    {
     "data": {
      "text/plain": [
       "membership (generic function with 1 method)"
      ]
     },
     "execution_count": 13,
     "metadata": {},
     "output_type": "execute_result"
    }
   ],
   "source": [
    "function membership(W::WitnessSet,p)\n",
    "    n=length(solutions(W)[1]) #number of variables\n",
    "    A=randn(ComplexF64,dim(W),n)\n",
    "    randomLinearThroughP = LinearSubspace(A,A*p)\n",
    "    newWitness=witness_set(W,randomLinearThroughP)\n",
    "    check=findfirst(x->x≈p,solutions(newWitness))\n",
    "    if check==nothing\n",
    "        return false\n",
    "    else\n",
    "        return true\n",
    "    end\n",
    "end\n",
    "    "
   ]
  },
  {
   "cell_type": "code",
   "execution_count": 14,
   "metadata": {},
   "outputs": [
    {
     "data": {
      "text/plain": [
       "true"
      ]
     },
     "execution_count": 14,
     "metadata": {},
     "output_type": "execute_result"
    }
   ],
   "source": [
    "membership(W_twisted,[2,4,8])"
   ]
  },
  {
   "cell_type": "code",
   "execution_count": 15,
   "metadata": {},
   "outputs": [
    {
     "data": {
      "text/plain": [
       "false"
      ]
     },
     "execution_count": 15,
     "metadata": {},
     "output_type": "execute_result"
    }
   ],
   "source": [
    "membership(W_twisted,[2,5,8])"
   ]
  },
  {
   "cell_type": "code",
   "execution_count": 16,
   "metadata": {},
   "outputs": [
    {
     "data": {
      "text/plain": [
       "100-element Array{Bool,1}:\n",
       " 1\n",
       " 1\n",
       " 1\n",
       " 1\n",
       " 1\n",
       " 1\n",
       " 1\n",
       " 1\n",
       " 1\n",
       " 1\n",
       " 1\n",
       " 1\n",
       " 1\n",
       " ⋮\n",
       " 1\n",
       " 1\n",
       " 1\n",
       " 1\n",
       " 1\n",
       " 1\n",
       " 1\n",
       " 1\n",
       " 1\n",
       " 1\n",
       " 1\n",
       " 1"
      ]
     },
     "execution_count": 16,
     "metadata": {},
     "output_type": "execute_result"
    }
   ],
   "source": [
    "[membership(W_twisted,s) for s in MySamples]"
   ]
  },
  {
   "cell_type": "markdown",
   "metadata": {},
   "source": [
    "## Pseudo witness sets"
   ]
  },
  {
   "cell_type": "markdown",
   "metadata": {},
   "source": [
    "Both the sampling and membership algorithms (and most other algorithms involving witness sets) depend on one thing:\n",
    "\n",
    "\n",
    "**the ability to move the linear space of the witness set and track the witness points**\n",
    "\n",
    "Observation: we can do this for projections trivially"
   ]
  },
  {
   "cell_type": "markdown",
   "metadata": {},
   "source": [
    "**Definition:** A pseudo witness set for an (irreducible) variety $X\\subset \\mathbb{C}^n$ is a quadruple \n",
    "$$(F,\\pi,\\pi^{-1}(L),S)$$\n",
    "where \n",
    "- $\\pi:\\mathbb{C}^N \\to \\mathbb{C}^n$ (really this works with any map by factoring through the graph)\n",
    "- $X$ is a component of $\\pi(\\mathcal{V}(F))$ of the same dimension as $\\mathcal{V}(F)$\n",
    "- $L$ is a linear space of complementary dimension (to $X$) in $\\mathbb{C}^n$\n",
    "- $S = \\pi^{-1}(L) \\cap \\mathcal V(F)$ (note! this is in $\\mathbb{C}^N$)\n",
    "\n",
    "<img src=\"PictureWitness2.png\" width=\"300\">\n",
    "\n",
    "As the picture above shows, $\\pi^{-1}(L)$ may not be generic for $\\mathcal{V}(F)$ even though $L$ is generic for $X$\n",
    "\n",
    "\n",
    "**Warning** be careful about the following situation\n",
    "\n",
    "<img src=\"PictureWitness3.png\" width=\"200\">"
   ]
  },
  {
   "cell_type": "code",
   "execution_count": 17,
   "metadata": {},
   "outputs": [
    {
     "data": {
      "text/plain": [
       "Witness set for dimension 1 of degree 2"
      ]
     },
     "execution_count": 17,
     "metadata": {},
     "output_type": "execute_result"
    }
   ],
   "source": [
    "PseudoWitness_Parabola=witness_set(W_twisted,LinearSubspace([3,6,0]',[1]))"
   ]
  },
  {
   "cell_type": "code",
   "execution_count": 18,
   "metadata": {},
   "outputs": [
    {
     "data": {
      "text/plain": [
       "2-element Array{Array{Complex{Float64},1},1}:\n",
       " [0.22871355387816908 + 7.52316384526264e-37im, 0.05230988972758215 - 7.52316384526264e-37im]\n",
       " [-0.728713553878169 + 0.0im, 0.5310234436057513 - 2.2420775429197073e-44im]"
      ]
     },
     "execution_count": 18,
     "metadata": {},
     "output_type": "execute_result"
    }
   ],
   "source": [
    "ProjectedSolutions=[s[1:2] for s in solutions(PseudoWitness_Parabola)]"
   ]
  },
  {
   "cell_type": "code",
   "execution_count": 19,
   "metadata": {},
   "outputs": [
    {
     "name": "stdout",
     "output_type": "stream",
     "text": [
      "\r",
      "\u001b[32mTracking 2 paths... 100%|███████████████████████████████| Time: 0:00:01\u001b[39m\r\n",
      "\u001b[34m  # paths tracked:                  2\u001b[39m\r\n",
      "\u001b[34m  # non-singular solutions (real):  2 (2)\u001b[39m\r\n",
      "\u001b[34m  # singular endpoints (real):      0 (0)\u001b[39m\r\n",
      "\u001b[34m  # total solutions (real):         2 (2)\u001b[39m\n"
     ]
    },
    {
     "data": {
      "text/plain": [
       "Witness set for dimension 1 of degree 2"
      ]
     },
     "execution_count": 19,
     "metadata": {},
     "output_type": "execute_result"
    }
   ],
   "source": [
    "Witness_Parabola=witness_set(System([y-x^2])) #computes a witness set for the parabola\n",
    "Witness_Parabola2=witness_set(Witness_Parabola,LinearSubspace([3,6]',[1])) #moves it to the space we used above"
   ]
  },
  {
   "cell_type": "code",
   "execution_count": 20,
   "metadata": {},
   "outputs": [
    {
     "data": {
      "text/plain": [
       "2-element Array{Array{Complex{Float64},1},1}:\n",
       " [0.22871355387816908 + 0.0im, 0.05230988972758215 + 0.0im]\n",
       " [-0.728713553878169 + 0.0im, 0.5310234436057513 - 1.925929944387236e-34im]"
      ]
     },
     "execution_count": 20,
     "metadata": {},
     "output_type": "execute_result"
    }
   ],
   "source": [
    "solutions(Witness_Parabola2)"
   ]
  },
  {
   "cell_type": "markdown",
   "metadata": {},
   "source": [
    "Membership/sampling can be easily coded for these pseudo-witness sets as well"
   ]
  },
  {
   "cell_type": "markdown",
   "metadata": {},
   "source": [
    "## Witness supersets, monodromy, the trace test, and irreducible decomposition"
   ]
  },
  {
   "cell_type": "code",
   "execution_count": 21,
   "metadata": {},
   "outputs": [
    {
     "name": "stdout",
     "output_type": "stream",
     "text": [
      "\r",
      "\u001b[32mTracking 4 paths... 100%|███████████████████████████████| Time: 0:00:02\u001b[39m\r\n",
      "\u001b[34m  # paths tracked:                  4\u001b[39m\r\n",
      "\u001b[34m  # non-singular solutions (real):  4 (0)\u001b[39m\r\n",
      "\u001b[34m  # singular endpoints (real):      0 (0)\u001b[39m\r\n",
      "\u001b[34m  # total solutions (real):         4 (0)\u001b[39m\n"
     ]
    },
    {
     "data": {
      "text/plain": [
       "Witness set for dimension 1 of degree 4"
      ]
     },
     "execution_count": 21,
     "metadata": {},
     "output_type": "execute_result"
    }
   ],
   "source": [
    "#If we only take two of the generators, we get a complete intersection of the union of a cubic and a line\n",
    "CompleteIntersection=System([y^2-x*z,x*y-z])\n",
    "W_complete=witness_set(CompleteIntersection)"
   ]
  },
  {
   "cell_type": "markdown",
   "metadata": {},
   "source": [
    "\n",
    "<img src=\"PictureWitness4.png\" width=\"200\">"
   ]
  },
  {
   "cell_type": "markdown",
   "metadata": {},
   "source": [
    "<p style=\"border:3px; border-style:solid; padding: 0.5em; text-align:center\">\n",
    "Warning: W_complete is not a witness set for the twisted cubic.\n",
    "</p>"
   ]
  },
  {
   "cell_type": "markdown",
   "metadata": {},
   "source": [
    "A **witness superset** for $\\mathcal{V}(f_1,\\ldots,f_k)$ in codimension $m$ is the triple $W=(F,L,S)$\n",
    "    \n",
    "- $\\color{blue}{F}$ is a polynomial system\n",
    "- $\\color{green}{L}$ is a generic affine linear space of dimension $m$\n",
    "- $\\color{red}{S} = X \\cap L$\n"
   ]
  },
  {
   "cell_type": "markdown",
   "metadata": {},
   "source": [
    "Let $X \\subseteq \\mathbb{C}^n$ be an (equidimensional) variety of codimension $m$.\n",
    "\n",
    "We have a branched cover \n",
    "\n",
    "\n",
    "$$Z = \\{(x,L) \\in \\mathbb{C}^n \\times \\textrm{Gr}(m+1,n+1) \\mid x \\in X \\cap L \\} \\subset \\mathbb{C}^n \\times \\textrm{Gr}(m+1,n+1)$$\n",
    "$$\\,\\,\\,\\, \\downarrow \\pi $$\n",
    "$$\\textrm{Gr}(m+1,n+1)$$\n",
    "\n",
    "\n",
    "\n",
    "**Theorem**: If $X$ is irreducible then the monodromy group of $\\pi$ is the full symmetric group.\n",
    "\n",
    "**Corollary**: If $X=X_1,\\ldots,X_k$ is equidimensional, then the monodromy group of $\\pi$  is the product of symmetric groups $\\mathfrak{S}_{\\textrm{deg}(X_1)} \\times \\cdots \\times \\mathfrak{S}_{\\textrm{deg}(X_k)}$\n",
    "\n",
    "Let's try to compute the witness points using monodromy"
   ]
  },
  {
   "cell_type": "code",
   "execution_count": 22,
   "metadata": {},
   "outputs": [
    {
     "data": {
      "text/plain": [
       "MonodromyResult\n",
       "===============\n",
       "• return_code → :success\n",
       "• 3 solutions\n",
       "• 12 tracked loops\n",
       "• random_seed → 0xda3d2f5c\n",
       "• trace → 1.0033888943804392e-16"
      ]
     },
     "execution_count": 22,
     "metadata": {},
     "output_type": "execute_result"
    }
   ],
   "source": [
    "M=monodromy_solve(CompleteIntersection; dim=1) "
   ]
  },
  {
   "cell_type": "code",
   "execution_count": 23,
   "metadata": {},
   "outputs": [
    {
     "data": {
      "text/plain": [
       "5-element Array{Int64,1}:\n",
       " 2\n",
       " 1\n",
       " 1\n",
       " 1\n",
       " 1"
      ]
     },
     "execution_count": 23,
     "metadata": {},
     "output_type": "execute_result"
    }
   ],
   "source": [
    "#Trying this many times will give us either 1 or 3 solutions (possibly 2 if the heuristic stop didn't work)\n",
    "[length(solutions(monodromy_solve(CompleteIntersection;dim=1))) for i in 1:5]"
   ]
  },
  {
   "cell_type": "markdown",
   "metadata": {},
   "source": [
    "**Monodromy**: allows us to find points on the same component\n",
    "\n",
    "**The trace test**: tells us when we've found all points on the same component"
   ]
  },
  {
   "cell_type": "markdown",
   "metadata": {},
   "source": [
    "\n",
    "The **trace** of a subset of points in $\\mathbb{C}^n$ is their coordinate-wise average.\n",
    "\n",
    "**Lemma**: Let $X$ be irreducible. The trace of a subset of witness points of $X$ moves linearly if and only if the subset is not proper."
   ]
  },
  {
   "cell_type": "markdown",
   "metadata": {},
   "source": [
    "\n",
    "<img src=\"TraceExample1.png\" width=\"600\">"
   ]
  },
  {
   "cell_type": "markdown",
   "metadata": {},
   "source": [
    "Now let's try moving a witness set and verifying this ourselves"
   ]
  },
  {
   "cell_type": "code",
   "execution_count": 24,
   "metadata": {},
   "outputs": [
    {
     "data": {
      "text/plain": [
       "Witness set for dimension 1 of degree 4"
      ]
     },
     "execution_count": 24,
     "metadata": {},
     "output_type": "execute_result"
    }
   ],
   "source": [
    "W_complete"
   ]
  },
  {
   "cell_type": "code",
   "execution_count": 25,
   "metadata": {},
   "outputs": [],
   "source": [
    "A=randn(ComplexF64,1,3)\n",
    "b=rand(ComplexF64)\n",
    "L₁ = LinearSubspace(A,[b])\n",
    "L₂ = LinearSubspace(A,[b+1])\n",
    "L₃ = LinearSubspace(A,[b+2]);"
   ]
  },
  {
   "cell_type": "code",
   "execution_count": 26,
   "metadata": {},
   "outputs": [
    {
     "name": "stdout",
     "output_type": "stream",
     "text": [
      "First trace: \n",
      "Complex{Float64}[2.092466405094321 + 0.5186410304722054im, -2.8199096466209395 + 2.9441001500950543im, -5.635685780733304 - 1.3831831635779048im]\n",
      "Second trace: \n",
      "Complex{Float64}[1.8863587415914775 - 0.5017011275440446im, -2.81990964662094 + 2.944100150095054im, -8.120198589813198 - 7.686613750606742im]\n",
      "Third trace: \n",
      "Complex{Float64}[1.680251078088634 - 1.5220432855602946im, -2.8199096466209412 + 2.944100150095054im, -10.604711398893091 - 13.990044337635581im]\n"
     ]
    }
   ],
   "source": [
    "trace₁=sum(solutions(witness_set(W_complete,L₁)))\n",
    "println(\"First trace: \\n\",trace₁)\n",
    "trace₂=sum(solutions(witness_set(W_complete,L₂)))\n",
    "println(\"Second trace: \\n\",trace₂)\n",
    "trace₃=sum(solutions(witness_set(W_complete,L₃)))\n",
    "println(\"Third trace: \\n\",trace₃)"
   ]
  },
  {
   "cell_type": "code",
   "execution_count": 27,
   "metadata": {},
   "outputs": [
    {
     "data": {
      "text/plain": [
       "3-element Array{Complex{Float64},1}:\n",
       "                    0.0 + 0.0im\n",
       " -8.881784197001252e-16 + 8.881784197001252e-16im\n",
       "                    0.0 - 1.7763568394002505e-15im"
      ]
     },
     "execution_count": 27,
     "metadata": {},
     "output_type": "execute_result"
    }
   ],
   "source": [
    "# here we check trace2 is the midpoint of trace1 and trace3\n",
    "(trace₁+trace₃)-2*trace₂"
   ]
  },
  {
   "cell_type": "code",
   "execution_count": 28,
   "metadata": {},
   "outputs": [
    {
     "data": {
      "text/plain": [
       "3.4122811639178395e-17"
      ]
     },
     "execution_count": 28,
     "metadata": {},
     "output_type": "execute_result"
    }
   ],
   "source": [
    "trace_test(W_complete)"
   ]
  },
  {
   "cell_type": "markdown",
   "metadata": {},
   "source": [
    "We can find out which solution is the one on the line by checking traces of subsets"
   ]
  },
  {
   "cell_type": "code",
   "execution_count": 29,
   "metadata": {},
   "outputs": [
    {
     "data": {
      "text/plain": [
       "3-element Array{Complex{Float64},1}:\n",
       " 0.12328802187978116 - 0.31302948262619457im\n",
       " 0.04782484636836237 - 0.31544099244541535im\n",
       " 0.16522081212753648 + 0.3018551143440167im"
      ]
     },
     "execution_count": 29,
     "metadata": {},
     "output_type": "execute_result"
    }
   ],
   "source": [
    "I=[1,3,4]\n",
    "trace₁=sum(solutions(witness_set(W_complete,L₁))[I])\n",
    "trace₂=sum(solutions(witness_set(W_complete,L₂))[I])\n",
    "trace₃=sum(solutions(witness_set(W_complete,L₃))[I])\n",
    "# here we check trace2 is the midpoint of trace1 and trace 3\n",
    "(trace₁+trace₃)-2*trace₂"
   ]
  },
  {
   "cell_type": "code",
   "execution_count": 30,
   "metadata": {},
   "outputs": [
    {
     "data": {
      "text/plain": [
       "4-element Array{Bool,1}:\n",
       " 0\n",
       " 1\n",
       " 1\n",
       " 1"
      ]
     },
     "execution_count": 30,
     "metadata": {},
     "output_type": "execute_result"
    }
   ],
   "source": [
    "[membership(W_twisted,s) for s in solutions(W_complete)]"
   ]
  },
  {
   "cell_type": "markdown",
   "metadata": {},
   "source": [
    "### Numerical irreducible decomposition (of equidimensional varieties)\n",
    "\n",
    "One of the most important algorithms in numerical algebraic geometry is taking a polynomial systme $F$ and computing a witness set for every irreducible component of $\\mathcal V(F)$. This is called a **numerical irreducible decomposition**. We will go through how it works for equidimensional varieties"
   ]
  },
  {
   "cell_type": "markdown",
   "metadata": {},
   "source": [
    "#### Step 1: compute a witness superset \n",
    "\n",
    "$\\mathcal V(F) \\to (F,L,S)$"
   ]
  },
  {
   "cell_type": "markdown",
   "metadata": {},
   "source": [
    "#### Step 2: \n",
    "\n",
    "Using monodromy, identify solutions as belonging to the same component until the trace test passes.\n",
    "\n",
    "$p \\in S \\to S_p=\\{q \\in S \\mid q \\text{ was found via monodromy starting from } p\\}$"
   ]
  },
  {
   "cell_type": "markdown",
   "metadata": {},
   "source": [
    "#### Step 3: \n",
    "\n",
    "If $S \\backslash \\bigcup_{p \\text{ done in step 2}} S_p \\neq \\emptyset$ pick some $q$ not identified and repeat step 2"
   ]
  },
  {
   "cell_type": "markdown",
   "metadata": {},
   "source": [
    "#### Output: \n",
    "\n",
    "Set $W_p = (F,L,S_p)$ and output the union of all $W_p$"
   ]
  },
  {
   "cell_type": "code",
   "execution_count": 49,
   "metadata": {},
   "outputs": [],
   "source": [
    "using Bertini"
   ]
  },
  {
   "cell_type": "code",
   "execution_count": 48,
   "metadata": {},
   "outputs": [
    {
     "name": "stdout",
     "output_type": "stream",
     "text": [
      "File path: /tmp/jl_rVZDYS\n",
      "\n",
      " Bertini(TM) v1.5.1\n",
      "  (August 29, 2016)\n",
      "\n",
      " D.J. Bates, J.D. Hauenstein,\n",
      " A.J. Sommese, C.W. Wampler\n",
      "\n",
      "(using GMP v6.1.2, MPFR v3.1.4)\n",
      "\n",
      "\n",
      "\n",
      "NOTE: You have requested to use adaptive path tracking.  Please make sure that you have\n",
      "setup the following tolerances appropriately:\n",
      "CoeffBound: 1.520470000000e+02, DegreeBound: 5.000000000000e+00\n",
      "AMPSafetyDigits1: 1, AMPSafetyDigits2: 1, AMPMaxPrec: 1024\n",
      "\n",
      "\n",
      "Tracking regeneration codim 1 of 2: 5 paths to track.\n",
      "Tracking path 0 of 5\n",
      "\n",
      "Sorting codimension 1 of 2: 5 paths to sort.\n",
      "Sorting 0 of 5\n",
      "\n",
      "Preparing regeneration codim 2 of 2: 4 witness points to move.\n",
      "Moving 0 of 4\n",
      "\n",
      "Tracking regeneration codim 2 of 2: 5 paths to track.\n",
      "Tracking path 0 of 5\n",
      "\n",
      "Sorting codimension 2 of 2: 5 paths to sort.\n",
      "Sorting 0 of 5\n",
      "\n",
      "\n",
      "************ Regenerative Cascade Summary ************\n",
      "\n",
      "NOTE: nonsingular vs singular is based on rank deficiency and identical endpoints\n",
      "\n",
      "|codim|   paths   |witness superset| nonsingular | singular |nonsolutions| inf endpoints | other bad endpoints\n",
      "----------------------------------------------------------------------------------------------------------------\n",
      "| 1   |   5       |   4            |  4          |  0       |  1         |   0           |  0\n",
      "| 2   |   5       |   5            |  1          |  4       |  0         |   0           |  0\n",
      "----------------------------------------------------------------------------------------------------------------\n",
      "|total|   10\n",
      "\n",
      "****************************************************\n",
      "\n",
      "\n",
      "Removing junk points from codimension 2: 4 endpoints to check.\n",
      "Checking 0 of 4\n",
      "\n",
      "\n",
      "*************** Witness Set Summary ****************\n",
      "\n",
      "NOTE: nonsingular vs singular is based on rank deficiency and identical endpoints\n",
      "\n",
      "|codim| witness points | nonsingular | singular \n",
      "-------------------------------------------------\n",
      "| 1   |   4            |  4          |  0       \n",
      "| 2   |   1            |  1          |  0       \n",
      "-------------------------------------------------\n",
      "\n",
      "****************************************************\n",
      "\n",
      "\n",
      "Calculating traces for codimension 1.\n",
      "Calculating 0 of 4\n",
      "\n",
      "Using combinatorial trace test to decompose codimension 1.\n",
      "\n",
      "Calculating traces for codimension 2.\n",
      "Calculating 0 of 1\n",
      "\n",
      "\n",
      "************* Witness Set Decomposition *************\n",
      "\n",
      "| dimension | components | classified | unclassified\n",
      "-----------------------------------------------------\n",
      "|   1       |   2        |   4        |  0\n",
      "|   0       |   1        |   1        |  0\n",
      "-----------------------------------------------------\n",
      "\n",
      "************** Decomposition by Degree **************\n",
      "\n",
      "Dimension 1: 2 classified components\n",
      "-----------------------------------------------------\n",
      "   degree 2: 2 components\n",
      "\n",
      "Dimension 0: 1 classified component\n",
      "-----------------------------------------------------\n",
      "   degree 1: 1 component\n",
      "\n",
      "*****************************************************\n",
      "\n",
      "  0.629158 seconds (195 allocations: 17.656 KiB)\n"
     ]
    },
    {
     "ename": "LoadError",
     "evalue": "ArgumentError: Cannot open 'finite_solutions': not a file",
     "output_type": "error",
     "traceback": [
      "ArgumentError: Cannot open 'finite_solutions': not a file",
      "",
      "Stacktrace:",
      " [1] readdlm_auto(::String, ::Char, ::Type{T} where T, ::Char, ::Bool; opts::Base.Iterators.Pairs{Symbol,Bool,Tuple{Symbol},NamedTuple{(:skipblanks,),Tuple{Bool}}}) at /buildworker/worker/package_linux64/build/usr/share/julia/stdlib/v1.5/DelimitedFiles/src/DelimitedFiles.jl:233",
      " [2] #readdlm#5 at /buildworker/worker/package_linux64/build/usr/share/julia/stdlib/v1.5/DelimitedFiles/src/DelimitedFiles.jl:170 [inlined]",
      " [3] #readdlm#3 at /buildworker/worker/package_linux64/build/usr/share/julia/stdlib/v1.5/DelimitedFiles/src/DelimitedFiles.jl:118 [inlined]",
      " [4] read_solutions(::String) at /home/taylor/.julia/packages/HomotopyContinuation/7X6xH/src/utils.jl:63",
      " [5] bertini(::System, ::Nothing; hom_variable_group::Bool, variable_groups::Array{Array{Variable,1},1}, parameters::Array{Variable,1}, file_path::String, start_parameters::Nothing, final_parameters::Nothing, bertini_path::String, TrackType::Int64, optionalconfig::Base.Iterators.Pairs{Union{},Union{},Tuple{},NamedTuple{(),Tuple{}}}) at /home/taylor/.julia/packages/Bertini/mowDA/src/Bertini.jl:108",
      " [6] top-level scope at In[48]:2",
      " [7] include_string(::Function, ::Module, ::String, ::String) at ./loading.jl:1091"
     ]
    }
   ],
   "source": [
    "F=System([(x^2+y^2-2)*((x-1)^2+y^2-3)*(x-y+1),(x^2+y^2-2)*((x-1)^2+y^2-3)*(x+y-6)])\n",
    "bertini(F; TrackType=1)"
   ]
  },
  {
   "cell_type": "markdown",
   "metadata": {},
   "source": [
    "### Other things you can do with witness sets\n",
    "\n",
    "Given a witness set $W$ for $X$ you can also...\n",
    "\n",
    "- find a witness set for $X \\cap \\mathcal V(f)$\n",
    "- recover equations for $X$\n",
    "- compute the Newton polytope of $X$ (when $X$ is a hypersurface)\n",
    "- describe the real points of $X$\n",
    "- much more..."
   ]
  },
  {
   "cell_type": "code",
   "execution_count": null,
   "metadata": {},
   "outputs": [],
   "source": []
  },
  {
   "cell_type": "code",
   "execution_count": null,
   "metadata": {},
   "outputs": [],
   "source": []
  },
  {
   "cell_type": "code",
   "execution_count": null,
   "metadata": {},
   "outputs": [],
   "source": []
  }
 ],
 "metadata": {
  "kernelspec": {
   "display_name": "Julia 1.5.2",
   "language": "julia",
   "name": "julia-1.5"
  },
  "language_info": {
   "file_extension": ".jl",
   "mimetype": "application/julia",
   "name": "julia",
   "version": "1.5.2"
  }
 },
 "nbformat": 4,
 "nbformat_minor": 2
}
