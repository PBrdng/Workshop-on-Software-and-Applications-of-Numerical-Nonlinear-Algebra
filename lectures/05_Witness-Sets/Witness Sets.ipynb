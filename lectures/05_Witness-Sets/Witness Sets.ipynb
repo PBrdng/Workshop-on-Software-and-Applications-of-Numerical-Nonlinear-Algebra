{
 "cells": [
  {
   "cell_type": "markdown",
   "metadata": {},
   "source": [
    "# Lecture: Witness Sets"
   ]
  },
  {
   "cell_type": "code",
   "execution_count": 46,
   "metadata": {},
   "outputs": [],
   "source": [
    "using HomotopyContinuation"
   ]
  },
  {
   "cell_type": "markdown",
   "metadata": {},
   "source": [
    "So far, we've seen that numerical methods are very good at solving **zero-dimensional polynomial systems**"
   ]
  },
  {
   "cell_type": "markdown",
   "metadata": {},
   "source": [
    "**Question**: What do we do if we are interested in a **positive-dimensional** set of solutions?\n",
    "\n",
    "**Answer**: Slice it with enough hyperplanes until we have a zero-dimensional solution set.\n"
   ]
  },
  {
   "cell_type": "markdown",
   "metadata": {},
   "source": [
    "\n",
    "<img src=\"SimpleWitness.png\" width=\"300\">"
   ]
  },
  {
   "cell_type": "markdown",
   "metadata": {},
   "source": [
    "The data in such a *slice* is called a **witness set**.\n",
    "\n",
    "A witness set for an irreducible variety $X \\subset \\mathbb{C}^n$ is a triple \n",
    "$$W=(F,L,S)$$\n",
    "where \n",
    "    \n",
    "- $\\color{blue}{F}$ is a polynomial system for which $X$ is a component, \n",
    "- $\\color{green}{L}$ is a generic affine linear space of complementary dimension\n",
    "- $\\color{red}{S} = X \\cap L$\n",
    "\n"
   ]
  },
  {
   "cell_type": "markdown",
   "metadata": {},
   "source": [
    "<p style=\"border:3px; border-style:solid; padding: 0.5em; text-align:center\">\n",
    "How is this a good representation of the variety $X$?\n",
    "</p>\n",
    "\n",
    "\n",
    "Given a witness set $W=(F,L,S)$ for $X$...\n",
    "\n",
    "Certain information about $X$ become obvious:\n",
    "- dimension (equals the codimension of $L$)\n",
    "- degree (equals the number of points in $S$)\n",
    "\n",
    "Certain algorithms become almost trivial\n",
    "\n",
    "- Membership: is $p$ contained in $X$?\n",
    "\n",
    "- Sampling: find $100000$ points on $X$\n",
    "\n",
    "- Find a (pseudo) witness set for a projection of $X$\n",
    "\n",
    "One major advantage (compared to symbolic representations) is that they can be computed fast. \n",
    "\n",
    "One major disadvantage is that it can be difficult to prove things (but not impossible)"
   ]
  },
  {
   "cell_type": "markdown",
   "metadata": {},
   "source": [
    "<hr style=\"border:1px solid gray\"> </hr>"
   ]
  },
  {
   "cell_type": "markdown",
   "metadata": {},
   "source": [
    "## Constructing a witness set using homotopycontinuation.jl"
   ]
  },
  {
   "cell_type": "code",
   "execution_count": 47,
   "metadata": {},
   "outputs": [
    {
     "data": {
      "text/plain": [
       "System of length 3\n",
       " 3 variables: x, y, z\n",
       "\n",
       " -x*z + y^2\n",
       " -z + x*y\n",
       " -y + x^2"
      ]
     },
     "execution_count": 47,
     "metadata": {},
     "output_type": "execute_result"
    }
   ],
   "source": [
    "@var x y z\n",
    "TwistedCubic=System([y^2-x*z,x*y-z,x^2-y])"
   ]
  },
  {
   "cell_type": "code",
   "execution_count": 48,
   "metadata": {},
   "outputs": [
    {
     "data": {
      "text/plain": [
       "Witness set for dimension 1 of degree 3"
      ]
     },
     "execution_count": 48,
     "metadata": {},
     "output_type": "execute_result"
    }
   ],
   "source": [
    "#Try the following without codimension: you get an error because it expects the dimension to be zero.\n",
    "W_twisted=witness_set(TwistedCubic; codim=2)"
   ]
  },
  {
   "cell_type": "code",
   "execution_count": 49,
   "metadata": {},
   "outputs": [
    {
     "data": {
      "text/plain": [
       "3"
      ]
     },
     "execution_count": 49,
     "metadata": {},
     "output_type": "execute_result"
    }
   ],
   "source": [
    "#Degree of the twisted cubic\n",
    "degree(W_twisted)"
   ]
  },
  {
   "cell_type": "code",
   "execution_count": 50,
   "metadata": {},
   "outputs": [
    {
     "data": {
      "text/plain": [
       "1"
      ]
     },
     "execution_count": 50,
     "metadata": {},
     "output_type": "execute_result"
    }
   ],
   "source": [
    "#Dimension of the twisted cubic\n",
    "dim(W_twisted)"
   ]
  },
  {
   "cell_type": "code",
   "execution_count": 51,
   "metadata": {},
   "outputs": [
    {
     "data": {
      "text/plain": [
       "2-dim. affine linear subspace {x | Ax=b} with eltype Complex{Float64}:\n",
       "A:\n",
       "Complex{Float64}[-0.48978411425480606 + 0.02580177253433902im 0.21613924159631848 - 0.27938234668321293im 0.0636065099789099 + 0.794121737802192im]\n",
       "b:\n",
       "Complex{Float64}[-0.06499561163805319 - 0.41533725552535355im]"
      ]
     },
     "execution_count": 51,
     "metadata": {},
     "output_type": "execute_result"
    }
   ],
   "source": [
    "#Generic linear space used to slice the twisted cubic\n",
    "W_twisted.L"
   ]
  },
  {
   "cell_type": "code",
   "execution_count": 52,
   "metadata": {},
   "outputs": [
    {
     "data": {
      "text/plain": [
       "3-element Array{Array{Complex{Float64},1},1}:\n",
       " [-0.6759341506362687 + 0.3314467193843036im, 0.34703004820575656 - 0.4480723134964138im, -0.08605736252389991 + 0.41788934965240115im]\n",
       " [0.7100974999955674 - 0.6816912560560303im, 0.039535490916706544 - 0.9681345133884506im, -0.631894779201916 - 0.7144208960783656im]\n",
       " [0.29374572480119804 + 0.6486829021167949im, -0.3345029566596861 + 0.38109565849688504im, -0.3454690511900137 - 0.10504112826889644im]"
      ]
     },
     "execution_count": 52,
     "metadata": {},
     "output_type": "execute_result"
    }
   ],
   "source": [
    "#Witness points\n",
    "solutions(W_twisted)"
   ]
  },
  {
   "cell_type": "markdown",
   "metadata": {},
   "source": [
    "## Some simple algorithms involving witness sets"
   ]
  },
  {
   "cell_type": "markdown",
   "metadata": {},
   "source": [
    "### Moving the linear space (this is the fundamental operation)"
   ]
  },
  {
   "cell_type": "code",
   "execution_count": 53,
   "metadata": {},
   "outputs": [
    {
     "data": {
      "text/plain": [
       "2-dim. affine linear subspace {x | Ax=b} with eltype Float64:\n",
       "A:\n",
       "[-0.2672612419124243 -0.5345224838248488 -0.8017837257372732]\n",
       "b:\n",
       "[-1.3363062095621219]"
      ]
     },
     "execution_count": 53,
     "metadata": {},
     "output_type": "execute_result"
    }
   ],
   "source": [
    "L2 = LinearSubspace([1,2,3]',[5])"
   ]
  },
  {
   "cell_type": "code",
   "execution_count": 54,
   "metadata": {},
   "outputs": [
    {
     "data": {
      "text/plain": [
       "Witness set for dimension 1 of degree 3"
      ]
     },
     "execution_count": 54,
     "metadata": {},
     "output_type": "execute_result"
    }
   ],
   "source": [
    "W_twisted2=witness_set(W_twisted,L2)"
   ]
  },
  {
   "cell_type": "code",
   "execution_count": 55,
   "metadata": {},
   "outputs": [
    {
     "data": {
      "text/plain": [
       "3-element Array{Array{Complex{Float64},1},1}:\n",
       " [-0.7954052524310862 + 1.0820358328370792im, -0.5381320279484715 - 1.7213139695145148im, 2.290556436109343 + 0.786864035397317im]\n",
       " [-0.7954052524310862 - 1.0820358328370792im, -0.5381320279484715 + 1.7213139695145148im, 2.290556436109343 - 0.786864035397317im]\n",
       " [0.9241438381955056 + 7.222237291452134e-35im, 0.8540418336747209 + 1.2037062152420224e-34im, 0.7892574981516842 + 2.407412430484045e-35im]"
      ]
     },
     "execution_count": 55,
     "metadata": {},
     "output_type": "execute_result"
    }
   ],
   "source": [
    "solutions(W_twisted2)"
   ]
  },
  {
   "cell_type": "markdown",
   "metadata": {},
   "source": [
    "### Sampling"
   ]
  },
  {
   "cell_type": "code",
   "execution_count": 56,
   "metadata": {},
   "outputs": [
    {
     "data": {
      "text/plain": [
       "sample (generic function with 1 method)"
      ]
     },
     "execution_count": 56,
     "metadata": {},
     "output_type": "execute_result"
    }
   ],
   "source": [
    "function sample(W::WitnessSet)\n",
    "    n=length(solutions(W)[1]) #number of variables\n",
    "    randomLinear = LinearSubspace(randn(ComplexF64,dim(W),n),randn(ComplexF64,dim(W)))\n",
    "    newWitness=witness_set(W,randomLinear)\n",
    "    s=solutions(newWitness)[1]\n",
    "    return s\n",
    "end"
   ]
  },
  {
   "cell_type": "code",
   "execution_count": 57,
   "metadata": {},
   "outputs": [
    {
     "data": {
      "text/plain": [
       "100-element Array{Array{Complex{Float64},1},1}:\n",
       " [0.055140952352266806 + 1.6323054720155636im, -2.661380629345637 + 0.18001375651350912im, -0.4405885022690718 - 4.3342600344264435im]\n",
       " [-0.2517091698380603 - 0.19399660181921383im, 0.02572282466316289 + 0.0976614471906381im, 0.012471318041875682 - 0.029572422371384147im]\n",
       " [0.06258287760988822 + 1.379051632321684im, -1.8978667880391669 + 0.17261003904660902im, -0.3568121210180626 - 2.6064538590266326im]\n",
       " [-1.9653482343708975 + 0.6659636241339104im, 3.419086133675232 - 2.6177008656936493im, -4.976401340564817 + 7.421680767310541im]\n",
       " [-1.2193913077223713 - 0.49580431513331136im, 1.2410932424440633 + 1.2091589444096065im, -0.9138720895889417 - 2.0897772915543915im]\n",
       " [-1.236127144070392 - 1.7538071521995253im, -1.5478292107985858 + 4.335857252597253im, 9.51757116237443 - 2.645076902468032im]\n",
       " [0.9836063697951519 + 1.3959141850530383im, -0.981094921330691 + 2.746060168211154im, -4.7982755558096235 + 1.331517955724231im]\n",
       " [-0.5467813154974943 - 0.8897055432874169im, -0.4926061467791874 + 0.9729487347282135im, 1.1349857195802462 - 0.09371576963941727im]\n",
       " [-0.6618130096532453 + 1.137630120230057im, -0.8562058307083671 - 1.5057968274832745im, 2.2796879835955974 + 0.022510388192579094im]\n",
       " [-0.3927518481864651 - 1.4933004091336102im, -2.0756920976647235 + 1.1729929911696595im, 2.56686282124837 + 2.6389366934864795im]\n",
       " [-0.6530866871900869 - 0.19087418606399525im, 0.39008926607932964 + 0.2493147796932778im, -0.20717435084448305 - 0.23728213469260245im]\n",
       " [-1.3717980286422669 - 0.1640892980307795im, 1.8549045336585757 + 0.4501947511198334im, -2.4706822419040426 - 0.9219462549334295im]\n",
       " [-0.6485299825759896 - 0.13240850547303862im, 0.4030591259784096 + 0.17174177149468509im, -0.2386558566569682 - 0.16474814456308812im]\n",
       " ⋮\n",
       " [-0.7371023959879806 - 0.30035300022630823im, 0.45310801742627704 + 0.4427818322179805im, -0.20099615353390018 - 0.4624679018883981im]\n",
       " [-0.46221253020324593 - 0.05897217160954602im, 0.2101627060525408 + 0.05451535330245658im, -0.09392494734859842 - 0.037591430552109346im]\n",
       " [-1.282280617926585 - 0.6337554551948844im, 1.2425976061209099 + 1.6253046734032812im, -0.5633131230877465 - 2.871599692421757im]\n",
       " [-0.6989053655964953 + 0.13319577054666018im, 0.4707275967680522 - 0.18618247741964086im, -0.3041953245733399 + 0.1928228574177336im]\n",
       " [-0.9867282408642706 - 0.6781393446672751im, 0.5137596505333366 + 1.3382784852487795im, 0.40059813877111927 - 1.668917808265194im]\n",
       " [-0.5464225897738134 - 0.2626124853912308im, 0.22961232913176183 + 0.2869947887488281im, -0.05009694876051354 - 0.21711950014948445im]\n",
       " [-0.06076651466450959 + 1.1415850245220123im, -1.2995237989084512 - 0.1387402862668028im, 0.23735136508332863 - 1.4750861442038528im]\n",
       " [-0.15009154910381003 + 0.580997874252922im, -0.31503105677403276 - 0.17440574194528338im, 0.14861286465473825 - 0.1568555463281977im]\n",
       " [-1.6256477105288034 - 1.6284020029654382im, -0.008962604514310902 + 5.294415975882564im, 8.636007617168447 - 8.59226048663772im]\n",
       " [-0.22294066043576452 + 1.8186962596671088im, -3.257953546851597 - 0.8109226905244799im, 2.2011523795401966 - 5.744440289640316im]\n",
       " [-1.4266407617606878 - 0.09067376398368064im, 2.027082131642147 + 0.25871777544277397im, -2.8684590819285507 - 0.5529004910187659im]\n",
       " [-0.34244996067036504 + 0.8360157571855954im, -0.5816503706994699 - 0.5725871263360252im, 0.677878006548473 - 0.29018643618347045im]"
      ]
     },
     "execution_count": 57,
     "metadata": {},
     "output_type": "execute_result"
    }
   ],
   "source": [
    "MySamples=[sample(W_twisted) for i in 1:100]"
   ]
  },
  {
   "cell_type": "markdown",
   "metadata": {},
   "source": [
    "### Membership"
   ]
  },
  {
   "cell_type": "code",
   "execution_count": 58,
   "metadata": {},
   "outputs": [
    {
     "data": {
      "text/plain": [
       "membership (generic function with 1 method)"
      ]
     },
     "execution_count": 58,
     "metadata": {},
     "output_type": "execute_result"
    }
   ],
   "source": [
    "function membership(W::WitnessSet,p)\n",
    "    n=length(solutions(W)[1]) #number of variables\n",
    "    A=randn(ComplexF64,dim(W),n)\n",
    "    randomLinearThroughP = LinearSubspace(A,A*p)\n",
    "    newWitness=witness_set(W,randomLinearThroughP)\n",
    "    check=findfirst(x->x≈p,solutions(newWitness))\n",
    "    if check==nothing\n",
    "        return false\n",
    "    else\n",
    "        return true\n",
    "    end\n",
    "end\n",
    "    "
   ]
  },
  {
   "cell_type": "code",
   "execution_count": 59,
   "metadata": {},
   "outputs": [
    {
     "data": {
      "text/plain": [
       "true"
      ]
     },
     "execution_count": 59,
     "metadata": {},
     "output_type": "execute_result"
    }
   ],
   "source": [
    "membership(W_twisted,[2,4,8])"
   ]
  },
  {
   "cell_type": "code",
   "execution_count": 60,
   "metadata": {},
   "outputs": [
    {
     "data": {
      "text/plain": [
       "false"
      ]
     },
     "execution_count": 60,
     "metadata": {},
     "output_type": "execute_result"
    }
   ],
   "source": [
    "membership(W_twisted,[2,5,8])"
   ]
  },
  {
   "cell_type": "code",
   "execution_count": 61,
   "metadata": {},
   "outputs": [
    {
     "data": {
      "text/plain": [
       "100-element Array{Bool,1}:\n",
       " 1\n",
       " 1\n",
       " 1\n",
       " 1\n",
       " 1\n",
       " 1\n",
       " 1\n",
       " 1\n",
       " 1\n",
       " 1\n",
       " 1\n",
       " 1\n",
       " 1\n",
       " ⋮\n",
       " 1\n",
       " 1\n",
       " 1\n",
       " 1\n",
       " 1\n",
       " 1\n",
       " 1\n",
       " 1\n",
       " 1\n",
       " 1\n",
       " 1\n",
       " 1"
      ]
     },
     "execution_count": 61,
     "metadata": {},
     "output_type": "execute_result"
    }
   ],
   "source": [
    "[membership(W_twisted,s) for s in MySamples]"
   ]
  },
  {
   "cell_type": "markdown",
   "metadata": {},
   "source": [
    "## Pseudo witness sets"
   ]
  },
  {
   "cell_type": "markdown",
   "metadata": {},
   "source": [
    "Both the sampling and membership algorithms (and most other algorithms involving witness sets) depend on one thing:\n",
    "\n",
    "\n",
    "**the ability to move the linear space of the witness set and track the witness points**\n",
    "\n",
    "Observation: we can do this for projections trivially"
   ]
  },
  {
   "cell_type": "markdown",
   "metadata": {},
   "source": [
    "**Definition:** A pseudo witness set for an (irreducible) variety $X\\subset \\mathbb{C}^n$ is a quadruple \n",
    "$$(F,\\pi,\\pi^{-1}(L),S)$$\n",
    "where \n",
    "- $\\pi:\\mathbb{C}^N \\to \\mathbb{C}^n$ (really this works with any map by factoring through the graph)\n",
    "- $X$ is a component of $\\pi(\\mathcal{V}(F))$ of the same dimension as $\\mathcal{V}(F)$\n",
    "- $L$ is a linear space of complementary dimension (to $X$) in $\\mathbb{C}^n$\n",
    "- $S = \\pi^{-1}(L) \\cap \\mathcal V(F)$ (note! this is in $\\mathbb{C}^N$)\n",
    "\n",
    "<img src=\"PseudoWitness1.png\" width=\"300\">\n",
    "\n",
    "As the picture above shows, $\\pi^{-1}(L)$ may not be generic for $\\mathcal{V}(F)$ even though $L$ is generic for $X$\n",
    "\n",
    "\n",
    "**Warning** be careful about the following situation\n",
    "\n",
    "<img src=\"Careful.png\" width=\"200\">"
   ]
  },
  {
   "cell_type": "code",
   "execution_count": 62,
   "metadata": {},
   "outputs": [
    {
     "data": {
      "text/plain": [
       "Witness set for dimension 1 of degree 2"
      ]
     },
     "execution_count": 62,
     "metadata": {},
     "output_type": "execute_result"
    }
   ],
   "source": [
    "PseudoWitness_Parabola=witness_set(W_twisted,LinearSubspace([3,6,0]',[1]))"
   ]
  },
  {
   "cell_type": "code",
   "execution_count": 63,
   "metadata": {},
   "outputs": [
    {
     "data": {
      "text/plain": [
       "2-element Array{Array{Complex{Float64},1},1}:\n",
       " [-0.728713553878169 + 0.0im, 0.5310234436057513 + 0.0im]\n",
       " [0.22871355387816908 - 7.52316384526264e-37im, 0.05230988972758215 + 0.0im]"
      ]
     },
     "execution_count": 63,
     "metadata": {},
     "output_type": "execute_result"
    }
   ],
   "source": [
    "ProjectedSolutions=[s[1:2] for s in solutions(PseudoWitness_Parabola)]"
   ]
  },
  {
   "cell_type": "code",
   "execution_count": 64,
   "metadata": {},
   "outputs": [
    {
     "data": {
      "text/plain": [
       "Witness set for dimension 1 of degree 2"
      ]
     },
     "execution_count": 64,
     "metadata": {},
     "output_type": "execute_result"
    }
   ],
   "source": [
    "Witness_Parabola=witness_set(System([y-x^2])) #computes a witness set for the parabola\n",
    "Witness_Parabola2=witness_set(Witness_Parabola,LinearSubspace([3,6]',[1])) #moves it to the space we used above"
   ]
  },
  {
   "cell_type": "code",
   "execution_count": 65,
   "metadata": {},
   "outputs": [
    {
     "data": {
      "text/plain": [
       "2-element Array{Array{Complex{Float64},1},1}:\n",
       " [0.22871355387816908 + 3.587324068671532e-43im, 0.05230988972758215 + 8.96831017167883e-44im]\n",
       " [-0.728713553878169 + 9.62964972193618e-35im, 0.5310234436057513 - 9.62964972193618e-35im]"
      ]
     },
     "execution_count": 65,
     "metadata": {},
     "output_type": "execute_result"
    }
   ],
   "source": [
    "solutions(Witness_Parabola2)"
   ]
  },
  {
   "cell_type": "markdown",
   "metadata": {},
   "source": [
    "Membership/sampling can be easily coded for these pseudo-witness sets as well"
   ]
  },
  {
   "cell_type": "markdown",
   "metadata": {},
   "source": [
    "## Witness supersets, monodromy, the trace test, and irreducible decomposition"
   ]
  },
  {
   "cell_type": "code",
   "execution_count": 13,
   "metadata": {},
   "outputs": [
    {
     "data": {
      "text/plain": [
       "Witness set for dimension 1 of degree 4"
      ]
     },
     "execution_count": 13,
     "metadata": {},
     "output_type": "execute_result"
    }
   ],
   "source": [
    "#If we only take two of the generators, we get a complete intersection of the union of a cubic and a line\n",
    "CompleteIntersection=System([y^2-x*z,x*y-z])\n",
    "W_complete=witness_set(CompleteIntersection)"
   ]
  },
  {
   "cell_type": "markdown",
   "metadata": {},
   "source": [
    "\n",
    "<img src=\"witnesscubic.png\" width=\"200\">"
   ]
  },
  {
   "cell_type": "markdown",
   "metadata": {},
   "source": [
    "<p style=\"border:3px; border-style:solid; padding: 0.5em; text-align:center\">\n",
    "Warning: W_complete is not a witness set for the twisted cubic.\n",
    "</p>"
   ]
  },
  {
   "cell_type": "markdown",
   "metadata": {},
   "source": [
    "A **witness superset** for $\\mathcal{V}(f_1,\\ldots,f_k)$ in codimension $m$ is the triple $W=(F,L,S)$\n",
    "    \n",
    "- $\\color{blue}{F}$ is a polynomial system\n",
    "- $\\color{green}{L}$ is a generic affine linear space of dimension $m$\n",
    "- $\\color{red}{S} = X \\cap L$\n"
   ]
  },
  {
   "cell_type": "markdown",
   "metadata": {},
   "source": [
    "Let $X \\subseteq \\mathbb{C}^n$ be an (equidimensional) variety of codimension $m$.\n",
    "\n",
    "We have a branched cover \n",
    "\n",
    "\n",
    "$$Z = \\{(x,L) \\in \\mathbb{C}^n \\times \\textrm{Gr}(m+1,n+1) \\mid x \\in X \\cap L \\} \\subset \\mathbb{C}^n \\times \\textrm{Gr}(m+1,n+1)$$\n",
    "$$\\,\\,\\,\\, \\downarrow \\pi $$\n",
    "$$\\textrm{Gr}(m+1,n+1)$$\n",
    "\n",
    "\n",
    "\n",
    "**Theorem**: If $X$ is irreducible then the monodromy group of $\\pi$ is the full symmetric group.\n",
    "\n",
    "**Corollary**: If $X=X_1,\\ldots,X_k$ is equidimensional, then the monodromy group of $\\pi$  is the product of symmetric groups $\\mathfrak{S}_{\\textrm{deg}(X_1)} \\times \\cdots \\times \\mathfrak{S}_{\\textrm{deg}(X_k)}$\n",
    "\n",
    "Let's try to compute the witness points using monodromy"
   ]
  },
  {
   "cell_type": "code",
   "execution_count": 67,
   "metadata": {},
   "outputs": [
    {
     "data": {
      "text/plain": [
       "MonodromyResult\n",
       "===============\n",
       "• return_code → :success\n",
       "• 3 solutions\n",
       "• 12 tracked loops\n",
       "• random_seed → 0x002f490d\n",
       "• trace → 5.444635406357445e-17"
      ]
     },
     "execution_count": 67,
     "metadata": {},
     "output_type": "execute_result"
    }
   ],
   "source": [
    "M=monodromy_solve(CompleteIntersection; dim=1) "
   ]
  },
  {
   "cell_type": "code",
   "execution_count": 72,
   "metadata": {},
   "outputs": [
    {
     "data": {
      "text/plain": [
       "5-element Array{Int64,1}:\n",
       " 1\n",
       " 1\n",
       " 1\n",
       " 3\n",
       " 1"
      ]
     },
     "execution_count": 72,
     "metadata": {},
     "output_type": "execute_result"
    }
   ],
   "source": [
    "#Trying this many times will give us either 1 or 3 solutions (possibly 2 if the heuristic stop didn't work)\n",
    "[length(solutions(monodromy_solve(CompleteIntersection;dim=1))) for i in 1:5]"
   ]
  },
  {
   "cell_type": "markdown",
   "metadata": {},
   "source": [
    "**Monodromy**: allows us to find points on the same component\n",
    "\n",
    "**The trace test**: tells us when we've found all points on the same component"
   ]
  },
  {
   "cell_type": "markdown",
   "metadata": {},
   "source": [
    "\n",
    "The **trace** of a subset of points in $\\mathbb{C}^n$ is their coordinate-wise average.\n",
    "\n",
    "**Lemma**: Let $X$ be irreducible. The trace of a subset of witness points of $X$ moves linearly if and only if the subset is not proper."
   ]
  },
  {
   "cell_type": "markdown",
   "metadata": {},
   "source": [
    "\n",
    "<img src=\"TraceExample1.png\" width=\"600\">"
   ]
  },
  {
   "cell_type": "markdown",
   "metadata": {},
   "source": [
    "Now let's try moving a witness set and verifying this ourselves"
   ]
  },
  {
   "cell_type": "code",
   "execution_count": 96,
   "metadata": {},
   "outputs": [
    {
     "data": {
      "text/plain": [
       "Witness set for dimension 1 of degree 4"
      ]
     },
     "execution_count": 96,
     "metadata": {},
     "output_type": "execute_result"
    }
   ],
   "source": [
    "W_complete"
   ]
  },
  {
   "cell_type": "code",
   "execution_count": 104,
   "metadata": {},
   "outputs": [],
   "source": [
    "A=randn(ComplexF64,1,3)\n",
    "b=rand(ComplexF64)\n",
    "L₁ = LinearSubspace(A,[b])\n",
    "L₂ = LinearSubspace(A,[b+1])\n",
    "L₃ = LinearSubspace(A,[b+2]);"
   ]
  },
  {
   "cell_type": "code",
   "execution_count": 105,
   "metadata": {},
   "outputs": [
    {
     "name": "stdout",
     "output_type": "stream",
     "text": [
      "First trace: \n",
      "Complex{Float64}[5.465329287538794 - 3.2635780624323534im, 19.158332630134044 - 35.07012400164239im, 7.32701915075733 - 239.46249925237703im]\n",
      "Second trace: \n",
      "Complex{Float64}[5.930456986784706 - 4.439466156969887im, 19.15833263013405 - 35.07012400164239im, 24.739910843035197 - 230.7778466264806im]\n",
      "Third trace: \n",
      "Complex{Float64}[6.395584686030619 - 5.615354251507423im, 19.158332630134044 - 35.0701240016424im, 42.152802535312965 - 222.0931940005842im]\n"
     ]
    }
   ],
   "source": [
    "trace₁=sum(solutions(witness_set(W_complete,L₁)))\n",
    "println(\"First trace: \\n\",trace₁)\n",
    "trace₂=sum(solutions(witness_set(W_complete,L₂)))\n",
    "println(\"Second trace: \\n\",trace₂)\n",
    "trace₃=sum(solutions(witness_set(W_complete,L₃)))\n",
    "println(\"Third trace: \\n\",trace₃)"
   ]
  },
  {
   "cell_type": "code",
   "execution_count": 106,
   "metadata": {},
   "outputs": [
    {
     "data": {
      "text/plain": [
       "3-element Array{Complex{Float64},1}:\n",
       "  1.7763568394002505e-15 - 1.7763568394002505e-15im\n",
       " -1.4210854715202004e-14 - 1.4210854715202004e-14im\n",
       "  -9.947598300641403e-14 + 0.0im"
      ]
     },
     "execution_count": 106,
     "metadata": {},
     "output_type": "execute_result"
    }
   ],
   "source": [
    "# here we check trace2 is the midpoint of trace1 and trace3\n",
    "(trace₁+trace₃)-2*trace₂"
   ]
  },
  {
   "cell_type": "code",
   "execution_count": 172,
   "metadata": {},
   "outputs": [
    {
     "data": {
      "text/plain": [
       "2.0617248710910148e-17"
      ]
     },
     "execution_count": 172,
     "metadata": {},
     "output_type": "execute_result"
    }
   ],
   "source": [
    "trace_test(W_complete)"
   ]
  },
  {
   "cell_type": "markdown",
   "metadata": {},
   "source": [
    "We can find out which solution is the one on the line by checking traces of subsets"
   ]
  },
  {
   "cell_type": "code",
   "execution_count": 173,
   "metadata": {},
   "outputs": [
    {
     "data": {
      "text/plain": [
       "3-element Array{Complex{Float64},1}:\n",
       "  2.220446049250313e-16 + 0.0im\n",
       " 1.542348713665846e-179 - 3.855871784164615e-180im\n",
       "                    0.0 + 0.0im"
      ]
     },
     "execution_count": 173,
     "metadata": {},
     "output_type": "execute_result"
    }
   ],
   "source": [
    "I=[1]\n",
    "trace₁=sum(solutions(witness_set(W_complete,L₁))[I])\n",
    "trace₂=sum(solutions(witness_set(W_complete,L₂))[I])\n",
    "trace₃=sum(solutions(witness_set(W_complete,L₃))[I])\n",
    "# here we check trace2 is the midpoint of trace1 and trace 3\n",
    "(trace₁+trace₃)-2*trace₂"
   ]
  },
  {
   "cell_type": "code",
   "execution_count": 116,
   "metadata": {},
   "outputs": [
    {
     "data": {
      "text/plain": [
       "4-element Array{Bool,1}:\n",
       " 0\n",
       " 1\n",
       " 1\n",
       " 1"
      ]
     },
     "execution_count": 116,
     "metadata": {},
     "output_type": "execute_result"
    }
   ],
   "source": [
    "[membership(W_twisted,s) for s in solutions(W_complete)]"
   ]
  },
  {
   "cell_type": "markdown",
   "metadata": {},
   "source": [
    "### Numerical irreducible decomposition (of equidimensional varieties)\n",
    "\n",
    "One of the most important algorithms in numerical algebraic geometry is taking a polynomial systme $F$ and computing a witness set for every irreducible component of $\\mathcal V(F)$. This is called a **numerical irreducible decomposition**. We will go through how it works for equidimensional varieties"
   ]
  },
  {
   "cell_type": "markdown",
   "metadata": {},
   "source": [
    "#### Step 1: compute a witness superset \n",
    "\n",
    "$\\mathcal V(F) \\to (F,L,S)$"
   ]
  },
  {
   "cell_type": "markdown",
   "metadata": {},
   "source": [
    "#### Step 2: \n",
    "\n",
    "Using monodromy, identify solutions as belonging to the same component until the trace test passes.\n",
    "\n",
    "$p \\in S \\to S_p=\\{q \\in S \\mid q \\text{ was found via monodromy starting from } p\\}$"
   ]
  },
  {
   "cell_type": "markdown",
   "metadata": {},
   "source": [
    "#### Step 3: \n",
    "\n",
    "If $S \\backslash \\bigcup_{p \\text{ done in step 2}} S_p \\neq \\emptyset$ pick some $q$ not identified and repeat step 2"
   ]
  },
  {
   "cell_type": "markdown",
   "metadata": {},
   "source": [
    "#### Output: \n",
    "\n",
    "Set $W_p = (F,L,S_p)$ and output the union of all $W_p$"
   ]
  },
  {
   "cell_type": "markdown",
   "metadata": {},
   "source": [
    "\n",
    "### For images of maps\n",
    "\n",
    "If $\\varphi:\\mathbb{C}_y^d \\to \\mathbb{C}_x^n$ is some map, you can compute a pseudo witness set for $\\overline{\\varphi(\\mathbb{C}^d)}$ by taking $F = (x_1-\\varphi_1(y),\\ldots,x_n-\\varphi_n(y))$ and $\\pi:\\mathbb{C}^{d+n} \\to \\mathbb{C}^n$ sending $\\pi(y,x)=x$.\n",
    "\n",
    "Note: If you've studied symbolic computational algebraic geometry, this is elimination...which is hard"
   ]
  },
  {
   "cell_type": "code",
   "execution_count": 155,
   "metadata": {},
   "outputs": [
    {
     "name": "stdout",
     "output_type": "stream",
     "text": [
      "\r",
      "\u001b[32mTracking 2 paths... 100%|███████████████████████████████| Time: 0:00:02\u001b[39m\r\n",
      "\u001b[34m  # paths tracked:                  2\u001b[39m\r\n",
      "\u001b[34m  # non-singular solutions (real):  2 (0)\u001b[39m\r\n",
      "\u001b[34m  # singular endpoints (real):      0 (0)\u001b[39m\r\n",
      "\u001b[34m  # total solutions (real):         2 (0)\u001b[39m\n"
     ]
    },
    {
     "data": {
      "text/plain": [
       "Witness set for dimension 1 of degree 2"
      ]
     },
     "execution_count": 155,
     "metadata": {},
     "output_type": "execute_result"
    }
   ],
   "source": [
    "W_parabola = witness_set(System([y-x^2]))"
   ]
  },
  {
   "cell_type": "markdown",
   "metadata": {},
   "source": [
    "The parabola is parametrized by the first two coordinates of the twisted cubic"
   ]
  },
  {
   "cell_type": "code",
   "execution_count": 161,
   "metadata": {},
   "outputs": [
    {
     "name": "stdout",
     "output_type": "stream",
     "text": [
      "Complex{Float64}[-0.649266982668212 + 0.5004085823698871im 0.5620539810837469 - 0.11017694066993688im]\n"
     ]
    },
    {
     "data": {
      "text/plain": [
       "Witness set for dimension 1 of degree 2"
      ]
     },
     "execution_count": 161,
     "metadata": {},
     "output_type": "execute_result"
    }
   ],
   "source": [
    "println(W_parabola.L.extrinsic.A)\n",
    "Slice_For_Cubic=LinearSubspace(hcat(W_parabola.L.extrinsic.A,[0]),W_parabola.L.extrinsic.b)\n",
    "PseudoWitness=witness_set(W_twisted,Slice_For_Cubic)"
   ]
  },
  {
   "cell_type": "code",
   "execution_count": 163,
   "metadata": {},
   "outputs": [
    {
     "name": "stdout",
     "output_type": "stream",
     "text": [
      "Array{Complex{Float64},1}[[1.5834270985288863 - 1.131631007667107im, 1.2266526388419356 - 3.5837104061512948im], [-0.3029371480886612 + 0.49231854095540273im, -0.1506066300763651 - 0.2982831494964009im]]\n"
     ]
    }
   ],
   "source": [
    "println([s[1:2] for s in solutions(PseudoWitness)])"
   ]
  },
  {
   "cell_type": "code",
   "execution_count": 164,
   "metadata": {},
   "outputs": [
    {
     "name": "stdout",
     "output_type": "stream",
     "text": [
      "Array{Complex{Float64},1}[[1.5834270985288865 - 1.1316310076671072im, 1.2266526388419359 - 3.5837104061512957im], [-0.3029371480886612 + 0.49231854095540273im, -0.1506066300763651 - 0.2982831494964009im]]\n"
     ]
    }
   ],
   "source": [
    "println(solutions(W_parabola))"
   ]
  },
  {
   "cell_type": "markdown",
   "metadata": {},
   "source": [
    "You can move the witness set by moving the pseudo-witness set."
   ]
  },
  {
   "cell_type": "markdown",
   "metadata": {},
   "source": [
    "### Other things you can do with witness sets\n",
    "\n",
    "Given a witness set $W$ for $X$ you can also...\n",
    "\n",
    "- find a witness set for $X \\cap \\mathcal V(f)$\n",
    "- recover equations for $X$\n",
    "- compute the Newton polytope of $X$ (when $X$ is a hypersurface)\n",
    "- describe the real points of $X$\n",
    "- much more..."
   ]
  },
  {
   "cell_type": "code",
   "execution_count": null,
   "metadata": {},
   "outputs": [],
   "source": []
  }
 ],
 "metadata": {
  "kernelspec": {
   "display_name": "Julia 1.5.2",
   "language": "julia",
   "name": "julia-1.5"
  },
  "language_info": {
   "file_extension": ".jl",
   "mimetype": "application/julia",
   "name": "julia",
   "version": "1.5.2"
  }
 },
 "nbformat": 4,
 "nbformat_minor": 2
}
