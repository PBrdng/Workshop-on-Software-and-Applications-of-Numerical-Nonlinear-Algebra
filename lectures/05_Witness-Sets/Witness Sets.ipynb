{
 "cells": [
  {
   "cell_type": "markdown",
   "metadata": {},
   "source": [
    "# Lecture: Witness Sets"
   ]
  },
  {
   "cell_type": "code",
   "execution_count": 1,
   "metadata": {},
   "outputs": [],
   "source": [
    "using HomotopyContinuation"
   ]
  },
  {
   "cell_type": "markdown",
   "metadata": {},
   "source": [
    "So far, we've seen that numerical methods are very good at solving **zero-dimensional polynomial systems**"
   ]
  },
  {
   "cell_type": "markdown",
   "metadata": {},
   "source": [
    "**Question**: What do we do if we are interested in a **positive-dimensional** set of solutions?\n",
    "\n",
    "**Answer**: Slice it with enough hyperplanes until we have a zero-dimensional solution set.\n"
   ]
  },
  {
   "cell_type": "markdown",
   "metadata": {},
   "source": [
    "\n",
    "<img src=\"PictureWitness1.png\" width=\"300\">"
   ]
  },
  {
   "cell_type": "markdown",
   "metadata": {},
   "source": [
    "The data in such a *slice* is called a **witness set**. The number of points in such a slice is called the **degree** of the variety.\n",
    "\n",
    "A witness set for an irreducible variety $X \\subset \\mathbb{C}^n$ is a triple \n",
    "$$W=(F,L,S)$$\n",
    "where \n",
    "    \n",
    "- $\\color{blue}{F}$ is a polynomial system for which $X$ is a component, \n",
    "- $\\color{green}{L}$ is a **generic** affine linear space of **complementary dimension**\n",
    "- $\\color{red}{S} = X \\cap L$\n",
    "\n"
   ]
  },
  {
   "cell_type": "markdown",
   "metadata": {},
   "source": [
    "<p style=\"border:3px; border-style:solid; padding: 0.5em; text-align:center\">\n",
    "How is this a good representation of the variety $X$?\n",
    "</p>\n",
    "\n",
    "\n",
    "Given a witness set $W=(F,L,S)$ for $X$...\n",
    "\n",
    "Certain information about $X$ become obvious:\n",
    "- dimension (equals the codimension of $L$)\n",
    "- degree (equals the number of points in $S$)\n",
    "\n",
    "Certain algorithms become almost trivial\n",
    "\n",
    "- Membership: is $p$ contained in $X$?\n",
    "\n",
    "- Sampling: find $100000$ points on $X$\n",
    "\n",
    "- Find a (pseudo) witness set for a projection of $X$\n",
    "\n",
    "One major advantage (compared to symbolic representations) is that they can be computed fast. \n",
    "\n",
    "One major disadvantage is that it can be difficult to prove things (but not impossible)"
   ]
  },
  {
   "cell_type": "markdown",
   "metadata": {},
   "source": [
    "<hr style=\"border:1px solid gray\"> </hr>"
   ]
  },
  {
   "cell_type": "markdown",
   "metadata": {},
   "source": [
    "## Constructing a witness set using homotopycontinuation.jl"
   ]
  },
  {
   "cell_type": "code",
   "execution_count": 2,
   "metadata": {},
   "outputs": [
    {
     "data": {
      "text/plain": [
       "System of length 3\n",
       " 3 variables: x, y, z\n",
       "\n",
       " -x*z + y^2\n",
       " -z + x*y\n",
       " -y + x^2"
      ]
     },
     "execution_count": 2,
     "metadata": {},
     "output_type": "execute_result"
    }
   ],
   "source": [
    "@var x y z\n",
    "TwistedCubic=System([y^2-x*z,x*y-z,x^2-y])"
   ]
  },
  {
   "cell_type": "code",
   "execution_count": 3,
   "metadata": {},
   "outputs": [
    {
     "name": "stdout",
     "output_type": "stream",
     "text": [
      "\r",
      "\u001b[32mTracking 5 paths... 100%|███████████████████████████████| Time: 0:00:08\u001b[39m\r\n",
      "\u001b[34m  # paths tracked:                  5\u001b[39m\r\n",
      "\u001b[34m  # non-singular solutions (real):  3 (0)\u001b[39m\r\n",
      "\u001b[34m  # singular endpoints (real):      0 (0)\u001b[39m\r\n",
      "\u001b[34m  # total solutions (real):         3 (0)\u001b[39m\n"
     ]
    },
    {
     "data": {
      "text/plain": [
       "Witness set for dimension 1 of degree 3"
      ]
     },
     "execution_count": 3,
     "metadata": {},
     "output_type": "execute_result"
    }
   ],
   "source": [
    "#Try the following without codimension: you get an error because it expects the dimension to be zero.\n",
    "W_twisted=witness_set(TwistedCubic; codim=2)"
   ]
  },
  {
   "cell_type": "code",
   "execution_count": 4,
   "metadata": {},
   "outputs": [
    {
     "data": {
      "text/plain": [
       "3"
      ]
     },
     "execution_count": 4,
     "metadata": {},
     "output_type": "execute_result"
    }
   ],
   "source": [
    "#Degree of the twisted cubic\n",
    "degree(W_twisted)"
   ]
  },
  {
   "cell_type": "code",
   "execution_count": 5,
   "metadata": {},
   "outputs": [
    {
     "data": {
      "text/plain": [
       "1"
      ]
     },
     "execution_count": 5,
     "metadata": {},
     "output_type": "execute_result"
    }
   ],
   "source": [
    "#Dimension of the twisted cubic\n",
    "dim(W_twisted)"
   ]
  },
  {
   "cell_type": "code",
   "execution_count": 6,
   "metadata": {},
   "outputs": [
    {
     "data": {
      "text/plain": [
       "2-dim. affine linear subspace {x | Ax=b} with eltype Complex{Float64}:\n",
       "A:\n",
       "Complex{Float64}[-0.016393177609032694 - 0.42748383750249985im 0.6861094207796764 + 0.576987722106746im 0.00586716989050845 + 0.11529718112311549im]\n",
       "b:\n",
       "Complex{Float64}[-0.09333134543880195 + 0.024831373086473114im]"
      ]
     },
     "execution_count": 6,
     "metadata": {},
     "output_type": "execute_result"
    }
   ],
   "source": [
    "#Generic linear space used to slice the twisted cubic\n",
    "W_twisted.L"
   ]
  },
  {
   "cell_type": "code",
   "execution_count": 7,
   "metadata": {},
   "outputs": [
    {
     "data": {
      "text/plain": [
       "3-element Array{Array{Complex{Float64},1},1}:\n",
       " [0.4086652681007739 + 0.4882835139152848im, -0.07141348860958074 + 0.3990890262467557im, -0.224052804569441 + 0.12822379474797194im]\n",
       " [-0.0538359549201583 - 0.16001682246283042im, -0.022707073428935676 + 0.017229316881151823im, 0.003979437522016019 + 0.0027059570106096435im]\n",
       " [-5.648294211229424 + 5.353153760743246im, 3.246972310448262 - 60.472374797254204im, 305.37806566186936 + 358.9473065413324im]"
      ]
     },
     "execution_count": 7,
     "metadata": {},
     "output_type": "execute_result"
    }
   ],
   "source": [
    "#Witness points\n",
    "solutions(W_twisted)"
   ]
  },
  {
   "cell_type": "markdown",
   "metadata": {},
   "source": [
    "## Some simple algorithms involving witness sets"
   ]
  },
  {
   "cell_type": "markdown",
   "metadata": {},
   "source": [
    "### Moving the linear space (this is the fundamental operation)"
   ]
  },
  {
   "cell_type": "markdown",
   "metadata": {},
   "source": [
    "**KEY OBSERVATION**\n",
    "\n",
    "The projection from the incidence variety $$W_X=\\{(x,L) | x \\in X \\cap L, \\text{codim}(L) = \\text{dim}(X), L \\text{ generic}\\} \\to \\text{linear spaces of complementary dimension}$$\n",
    "is a branched cover of degree deg$(X)$, and it's monodromy group is the full symmetric group.\n",
    "\n",
    "Consequence: we can move in the parameter space of linear spaces of complementary dimension"
   ]
  },
  {
   "cell_type": "code",
   "execution_count": 8,
   "metadata": {},
   "outputs": [
    {
     "data": {
      "text/plain": [
       "2-dim. affine linear subspace {x | Ax=b} with eltype Float64:\n",
       "A:\n",
       "[-0.2672612419124243 -0.5345224838248488 -0.8017837257372732]\n",
       "b:\n",
       "[-1.3363062095621219]"
      ]
     },
     "execution_count": 8,
     "metadata": {},
     "output_type": "execute_result"
    }
   ],
   "source": [
    "L2 = LinearSubspace([1 2 3],[5])"
   ]
  },
  {
   "cell_type": "code",
   "execution_count": 9,
   "metadata": {},
   "outputs": [
    {
     "name": "stdout",
     "output_type": "stream",
     "text": [
      "\r",
      "\u001b[32mTracking 3 paths... 100%|███████████████████████████████| Time: 0:00:02\u001b[39m\r\n",
      "\u001b[34m  # paths tracked:                  3\u001b[39m\r\n",
      "\u001b[34m  # non-singular solutions (real):  3 (1)\u001b[39m\r\n",
      "\u001b[34m  # singular endpoints (real):      0 (0)\u001b[39m\r\n",
      "\u001b[34m  # total solutions (real):         3 (1)\u001b[39m\n"
     ]
    },
    {
     "data": {
      "text/plain": [
       "Witness set for dimension 1 of degree 3"
      ]
     },
     "execution_count": 9,
     "metadata": {},
     "output_type": "execute_result"
    }
   ],
   "source": [
    "W_twisted2=witness_set(W_twisted,L2)"
   ]
  },
  {
   "cell_type": "code",
   "execution_count": 10,
   "metadata": {},
   "outputs": [
    {
     "data": {
      "text/plain": [
       "3-element Array{Array{Complex{Float64},1},1}:\n",
       " [0.9241438381955056 + 1.9730282377693424e-42im, 0.8540418336747209 + 2.8698592549372254e-42im, 0.7892574981516841 + 1.4349296274686127e-42im]\n",
       " [-0.7954052524310862 - 1.0820358328370792im, -0.5381320279484714 + 1.721313969514515im, 2.290556436109343 - 0.7868640353973171im]\n",
       " [-0.7954052524310862 + 1.0820358328370792im, -0.5381320279484714 - 1.721313969514515im, 2.290556436109343 + 0.7868640353973171im]"
      ]
     },
     "execution_count": 10,
     "metadata": {},
     "output_type": "execute_result"
    }
   ],
   "source": [
    "solutions(W_twisted2)"
   ]
  },
  {
   "cell_type": "markdown",
   "metadata": {},
   "source": [
    "### Sampling"
   ]
  },
  {
   "cell_type": "code",
   "execution_count": 11,
   "metadata": {},
   "outputs": [
    {
     "data": {
      "text/plain": [
       "sample (generic function with 1 method)"
      ]
     },
     "execution_count": 11,
     "metadata": {},
     "output_type": "execute_result"
    }
   ],
   "source": [
    "function sample(W::WitnessSet)\n",
    "    n=length(solutions(W)[1]) #number of variables\n",
    "    randomLinear = LinearSubspace(randn(ComplexF64,dim(W),n),randn(ComplexF64,dim(W)))\n",
    "    newWitness=witness_set(W,randomLinear)\n",
    "    s=solutions(newWitness)[1]\n",
    "    return s\n",
    "end"
   ]
  },
  {
   "cell_type": "code",
   "execution_count": 12,
   "metadata": {},
   "outputs": [
    {
     "data": {
      "text/plain": [
       "100-element Array{Array{Complex{Float64},1},1}:\n",
       " [3.219283444437547 + 1.146049977043523im, 9.050355345748216 + 7.37891943518849im, 20.679048681540305 + 34.12699271177124im]\n",
       " [0.24142774752098134 - 1.0187695883940757im, -0.9796041169635796 - 0.49191849393771797im, -0.7376552170131595 + 0.8792281090728312im]\n",
       " [0.681400528080613 - 1.1686006084771878im, -0.9013207024647154 - 1.592570143463363im, -2.4752388413233346 - 0.03189421542800039im]\n",
       " [0.14542107665703 - 0.42634378544639057im, -0.16062173385266812 - 0.12399874461129581im, -0.07622387963955402 + 0.05044804709021446im]\n",
       " [-0.039269621655110075 + 0.5179537055841076im, -0.2667339379433729 - 0.04067969210630036im, 0.03154473809409271 - 0.13655835544475062im]\n",
       " [0.9119734920717234 - 0.3752171154834845im, 0.6909077664897472 - 0.684376126185105im, 0.3732999325321933 - 0.8833733048949685im]\n",
       " [0.9849610343577495 - 0.6499228305291767im, 0.5477485535600309 - 1.2802973268214684im, -0.2925834806842977 - 1.6170372696595328im]\n",
       " [0.08622728581615292 + 0.4856822258381151im, -0.2284520796758453 + 0.08375812020633697im, -0.06037863302333379 - 0.10373287918385546im]\n",
       " [0.19000129448818284 + 1.4024837233285645im, -1.9308601022943679 + 0.5329474458620675im, -1.114316037122596 - 2.6067391608844144im]\n",
       " [0.5552576333518164 + 1.1630412622914472im, -1.0443539383970224 + 1.2915750775809165im, -2.0820406047898623 - 0.4974698019185488im]\n",
       " [0.43665758655239095 + 0.6087334912242525im, -0.17988661544430817 + 0.5316161942631862im, -0.40216143727816944 + 0.12263123691520168im]\n",
       " [-0.440781040109063 + 1.1904579366012757im, -1.2229021734973395 - 1.0494625750023985im, 1.7883731435634078 - 0.9932303927617655im]\n",
       " [-0.8244359528505036 - 0.08026288244793163im, 0.6732525100536675 + 0.13234321193897697im, -0.5444313269724489 - 0.16314568911041907im]\n",
       " ⋮\n",
       " [0.22031173292725148 - 0.6029654618851352im, -0.31503008856094583 - 0.2656807316063895im, -0.22960112978211478 + 0.13141968047128208im]\n",
       " [0.66102700438041 + 0.16809385322354115im, 0.4087011570286011 + 0.22222915250223546im, 0.23280714697472096 + 0.2155996232664071im]\n",
       " [0.2987082835721501 - 0.5324701338149698im, -0.19429780473031177 - 0.31810647945060544im, -0.22742056343330103 + 0.00843673761483418im]\n",
       " [1.3361186363206183 - 0.9771265300616718im, 0.8304367545729058 - 2.6111139337173976im, -1.441826673578492 - 4.300199772827755im]\n",
       " [0.4766705033184035 + 1.1268684848066366im, -1.0426178133165849 + 1.0742899356528524im, -1.7075686298744985 - 0.6628108311869281im]\n",
       " [3.0523369284874944 - 0.3042266340521624im, 9.224206880141764 - 1.8572043794937325im, 27.59037625914482 - 8.475062922223751im]\n",
       " [0.03759755991762173 + 0.5544256896633378im, -0.3059742688469087 + 0.041690106173972195im, -0.03461795177386446 - 0.168072548759835im]\n",
       " [0.4930816090399798 + 0.8611466710949772im, -0.4984441159645055 + 0.8492311724058673im, -0.9770862238236859 - 0.010493218252919222im]\n",
       " [0.4358409274507813 + 0.8670815315322832im, -0.5618730682832126 + 0.7558192377569483im, -0.9002441814260291 - 0.1577728030046202im]\n",
       " [0.27391827133705043 - 0.732076458235702im, -0.4609047213306515 - 0.4010582358529478im, -0.41985551736746185 + 0.22756031730553003im]\n",
       " [1.330118879883471 + 1.1286672248205605im, 0.4953265302383144 + 3.0025231696790193im, -2.730006323803898 + 4.552771575541702im]\n",
       " [-0.5881109323528164 + 0.34546648709148275im, 0.22652737504956935 - 0.4063452356400482im, 0.007155435359089901 + 0.31723369187782313im]"
      ]
     },
     "execution_count": 12,
     "metadata": {},
     "output_type": "execute_result"
    }
   ],
   "source": [
    "MySamples=[sample(W_twisted) for i in 1:100]"
   ]
  },
  {
   "cell_type": "markdown",
   "metadata": {},
   "source": [
    "\n",
    "[[*Sampling real algebraic varieties for topological data analysis*](https://arxiv.org/abs/1802.07716)]Emilie Dufresne, Parker B. Edwards, Heather A. Harrington, Jonathan D. Hauenstein\n",
    "\n",
    "\n",
    "[[*Sampling algebraic varieties for sum of squares programs*](https://arxiv.org/abs/1511.06751)]Diego Cifuentes, Pablo A. Parrilo.\n",
    "\n",
    "[[*Learning algebraic varieties from samples*](https://link.springer.com/article/10.1007/s13163-018-0273-6)]Paul Breiding, Sara Kališnik, Bernd Sturmfels & Madeleine Weinstein "
   ]
  },
  {
   "cell_type": "markdown",
   "metadata": {},
   "source": [
    "### Membership"
   ]
  },
  {
   "cell_type": "code",
   "execution_count": 13,
   "metadata": {},
   "outputs": [
    {
     "data": {
      "text/plain": [
       "membership (generic function with 1 method)"
      ]
     },
     "execution_count": 13,
     "metadata": {},
     "output_type": "execute_result"
    }
   ],
   "source": [
    "function membership(W::WitnessSet,p)\n",
    "    n=length(solutions(W)[1]) #number of variables\n",
    "    A=randn(ComplexF64,dim(W),n)\n",
    "    randomLinearThroughP = LinearSubspace(A,A*p)\n",
    "    newWitness=witness_set(W,randomLinearThroughP)\n",
    "    check=findfirst(x->x≈p,solutions(newWitness))\n",
    "    if check==nothing\n",
    "        return false\n",
    "    else\n",
    "        return true\n",
    "    end\n",
    "end\n",
    "    "
   ]
  },
  {
   "cell_type": "code",
   "execution_count": 14,
   "metadata": {},
   "outputs": [
    {
     "data": {
      "text/plain": [
       "true"
      ]
     },
     "execution_count": 14,
     "metadata": {},
     "output_type": "execute_result"
    }
   ],
   "source": [
    "membership(W_twisted,[2,4,8])"
   ]
  },
  {
   "cell_type": "code",
   "execution_count": 15,
   "metadata": {},
   "outputs": [
    {
     "data": {
      "text/plain": [
       "false"
      ]
     },
     "execution_count": 15,
     "metadata": {},
     "output_type": "execute_result"
    }
   ],
   "source": [
    "membership(W_twisted,[2,5,8])"
   ]
  },
  {
   "cell_type": "code",
   "execution_count": 16,
   "metadata": {},
   "outputs": [
    {
     "data": {
      "text/plain": [
       "100-element Array{Bool,1}:\n",
       " 1\n",
       " 1\n",
       " 1\n",
       " 1\n",
       " 1\n",
       " 1\n",
       " 1\n",
       " 1\n",
       " 1\n",
       " 1\n",
       " 1\n",
       " 1\n",
       " 1\n",
       " ⋮\n",
       " 1\n",
       " 1\n",
       " 1\n",
       " 1\n",
       " 1\n",
       " 1\n",
       " 1\n",
       " 1\n",
       " 1\n",
       " 1\n",
       " 1\n",
       " 1"
      ]
     },
     "execution_count": 16,
     "metadata": {},
     "output_type": "execute_result"
    }
   ],
   "source": [
    "[membership(W_twisted,s) for s in MySamples]"
   ]
  },
  {
   "cell_type": "code",
   "execution_count": 17,
   "metadata": {},
   "outputs": [
    {
     "name": "stdout",
     "output_type": "stream",
     "text": [
      "\r",
      "\u001b[32mTracking 14 paths... 100%|██████████████████████████████| Time: 0:00:02\u001b[39m\r\n",
      "\u001b[34m  # paths tracked:                  14\u001b[39m\r\n",
      "\u001b[34m  # non-singular solutions (real):  14 (0)\u001b[39m\r\n",
      "\u001b[34m  # singular endpoints (real):      0 (0)\u001b[39m\r\n",
      "\u001b[34m  # total solutions (real):         14 (0)\u001b[39m\n"
     ]
    },
    {
     "data": {
      "text/plain": [
       "Witness set for dimension 1 of degree 14"
      ]
     },
     "execution_count": 17,
     "metadata": {},
     "output_type": "execute_result"
    }
   ],
   "source": [
    "# You can also do membership of subvarieties\n",
    "@var z\n",
    "W1 = witness_set(System([x^2+y^2+z^2-1]))\n",
    "W2 = witness_set(System([x^2+y^2+z^2-1, x^2*y^5-12*x*y]))\n",
    "\n",
    "W3 = witness_set(System([x^2+y^2+z^2-1.00001, x^2*y^5-12*x*y]))\n",
    "\n"
   ]
  },
  {
   "cell_type": "code",
   "execution_count": 18,
   "metadata": {},
   "outputs": [
    {
     "data": {
      "text/plain": [
       "contains (generic function with 1 method)"
      ]
     },
     "execution_count": 18,
     "metadata": {},
     "output_type": "execute_result"
    }
   ],
   "source": [
    "function contains(W1::WitnessSet,W2::WitnessSet)\n",
    "    return membership(W1,solutions(W2)[1])\n",
    "end"
   ]
  },
  {
   "cell_type": "code",
   "execution_count": 19,
   "metadata": {},
   "outputs": [
    {
     "name": "stdout",
     "output_type": "stream",
     "text": [
      "\r",
      "\u001b[32mTracking 2 paths... 100%|███████████████████████████████| Time: 0:00:03\u001b[39m\r\n",
      "\u001b[34m  # paths tracked:                  2\u001b[39m\r\n",
      "\u001b[34m  # non-singular solutions (real):  2 (0)\u001b[39m\r\n",
      "\u001b[34m  # singular endpoints (real):      0 (0)\u001b[39m\r\n",
      "\u001b[34m  # total solutions (real):         2 (0)\u001b[39m\n"
     ]
    },
    {
     "data": {
      "text/plain": [
       "true"
      ]
     },
     "execution_count": 19,
     "metadata": {},
     "output_type": "execute_result"
    }
   ],
   "source": [
    "contains(W1,W2)"
   ]
  },
  {
   "cell_type": "code",
   "execution_count": 20,
   "metadata": {},
   "outputs": [
    {
     "data": {
      "text/plain": [
       "false"
      ]
     },
     "execution_count": 20,
     "metadata": {},
     "output_type": "execute_result"
    }
   ],
   "source": [
    "contains(W1,W3)"
   ]
  },
  {
   "cell_type": "markdown",
   "metadata": {},
   "source": [
    "## Pseudo witness sets"
   ]
  },
  {
   "cell_type": "markdown",
   "metadata": {},
   "source": [
    "Both the sampling and membership algorithms (and most other algorithms involving witness sets) depend on one thing:\n",
    "\n",
    "\n",
    "**the ability to move the linear space of the witness set and track the witness points**\n",
    "\n",
    "Observation: we can do this for projections trivially"
   ]
  },
  {
   "cell_type": "markdown",
   "metadata": {},
   "source": [
    "**Definition:** A pseudo witness set for an (irreducible) variety $X\\subset \\mathbb{C}^n$ is a quadruple \n",
    "$$(F,\\pi,\\pi^{-1}(L),S)$$\n",
    "where \n",
    "- $\\pi:\\mathbb{C}^N \\to \\mathbb{C}^n$ (really this works with any map by factoring through the graph)\n",
    "- $X$ is a component of $\\pi(\\mathcal{V}(F))$ of the same dimension as $\\mathcal{V}(F)$\n",
    "- $L$ is a linear space of complementary dimension (to $X$) in $\\mathbb{C}^n$\n",
    "- $S = \\pi^{-1}(L) \\cap \\mathcal V(F)$ (note! this is in $\\mathbb{C}^N$)\n",
    "\n",
    "<img src=\"PictureWitness2.png\" width=\"300\">\n",
    "\n",
    "As the picture above shows, $\\pi^{-1}(L)$ may not be generic for $\\mathcal{V}(F)$ even though $L$ is generic for $X$\n",
    "\n",
    "\n",
    "**Warning** be careful about the following situations\n",
    "\n",
    "<img src=\"PictureWitness3b.png\" width=\"800\">\n",
    "\n",
    "[[*Witness sets of projections*](https://www3.nd.edu/~jhauenst/preprints/hsProjection.pdf)] Hauenstein"
   ]
  },
  {
   "cell_type": "markdown",
   "metadata": {},
   "source": [
    "**In general** the term pseudo witness set refers to any situation where you are computing a linear section of a variety, but not directly on the equations in the variables of its affine space. \n",
    "\n",
    "So let's compute a witness set for the parabola as a projection of the twisted cubic"
   ]
  },
  {
   "cell_type": "code",
   "execution_count": 21,
   "metadata": {},
   "outputs": [
    {
     "data": {
      "text/plain": [
       "Witness set for dimension 1 of degree 2"
      ]
     },
     "execution_count": 21,
     "metadata": {},
     "output_type": "execute_result"
    }
   ],
   "source": [
    "PseudoWitness_Parabola=witness_set(W_twisted,LinearSubspace([3,6,0]',[1]))"
   ]
  },
  {
   "cell_type": "code",
   "execution_count": 22,
   "metadata": {},
   "outputs": [
    {
     "data": {
      "text/plain": [
       "2-element Array{Array{Complex{Float64},1},1}:\n",
       " [0.22871355387816908 + 0.0im, 0.05230988972758215 + 0.0im]\n",
       " [-0.728713553878169 - 7.346839692639297e-40im, 0.5310234436057513 - 3.6734198463196485e-40im]"
      ]
     },
     "execution_count": 22,
     "metadata": {},
     "output_type": "execute_result"
    }
   ],
   "source": [
    "ProjectedSolutions=[s[1:2] for s in solutions(PseudoWitness_Parabola)]"
   ]
  },
  {
   "cell_type": "markdown",
   "metadata": {},
   "source": [
    "Now let's compute a witness set for the parabola directly, move the linear space before, and check if we get the same points"
   ]
  },
  {
   "cell_type": "code",
   "execution_count": 23,
   "metadata": {},
   "outputs": [
    {
     "name": "stdout",
     "output_type": "stream",
     "text": [
      "\r",
      "\u001b[32mTracking 2 paths... 100%|███████████████████████████████| Time: 0:00:01\u001b[39m\r\n",
      "\u001b[34m  # paths tracked:                  2\u001b[39m\r\n",
      "\u001b[34m  # non-singular solutions (real):  2 (2)\u001b[39m\r\n",
      "\u001b[34m  # singular endpoints (real):      0 (0)\u001b[39m\r\n",
      "\u001b[34m  # total solutions (real):         2 (2)\u001b[39m\n"
     ]
    },
    {
     "data": {
      "text/plain": [
       "Witness set for dimension 1 of degree 2"
      ]
     },
     "execution_count": 23,
     "metadata": {},
     "output_type": "execute_result"
    }
   ],
   "source": [
    "Witness_Parabola=witness_set(System([y-x^2])) #computes a witness set for the parabola\n",
    "Witness_Parabola2=witness_set(Witness_Parabola,LinearSubspace([3,6]',[1])) #moves it to the space we used above"
   ]
  },
  {
   "cell_type": "code",
   "execution_count": 24,
   "metadata": {},
   "outputs": [
    {
     "data": {
      "text/plain": [
       "2-element Array{Array{Complex{Float64},1},1}:\n",
       " [-0.728713553878169 + 7.703719777548943e-34im, 0.5310234436057513 + 0.0im]\n",
       " [0.22871355387816908 + 0.0im, 0.05230988972758215 + 0.0im]"
      ]
     },
     "execution_count": 24,
     "metadata": {},
     "output_type": "execute_result"
    }
   ],
   "source": [
    "solutions(Witness_Parabola2)"
   ]
  },
  {
   "cell_type": "markdown",
   "metadata": {},
   "source": [
    "#### Witness sets and their connection to sparse systems\n",
    "Given a collection of points $A=(1,a_2,\\ldots,a_k) \\in \\mathbb{N}^n$ you can parametrize a variety \n",
    "$$X_A = \\{(1,x^{a_1},x^{a_2},\\ldots,x^{a_k}) | x \\in \\mathbb{C}^n\\} \\subset \\mathbb{C}^{|A|}_z$$\n",
    "that is, it is the image of the map \n",
    "$$\\varphi_{A}: \\mathbb{C}^n \\to \\mathbb{C}^{k+1}$$\n",
    "$$x \\xrightarrow{\\varphi_{A}} (1,x^{a_1},x^{a_2},\\ldots,x^{a_k})=(z_1,\\ldots,z_{k+1})$$\n",
    "You can compute a witness set for $X_A$ by pulling back linear forms on $\\mathbb{C}^{k+1}_z$\n",
    "i.e.\n",
    "$$\\lambda_0 + \\lambda_1 z_1 + \\cdots + \\lambda_{k+1}z_{k+1} = 0 \\iff \\lambda_0 + \\lambda_1 x^{a_1} + \\cdots + \\lambda_{k+1}x^{a_{k+1}} = 0$$\n",
    "\n",
    "One can then solve for $n$ such linear equations, not in $\\mathbb{C}^{k+1}$, but in $\\mathbb{C}^n$. Then after you've solved these for $p_1,\\ldots,p_d \\in \\mathbb{C}^n$, your witness points are $\\{\\varphi_{A}(p_i)\\}_{i=1}^d\\subset \\mathbb{C}^{k+1}$.\n",
    "\n",
    "**Question:** How many solutions do you expect?\n",
    "\n",
    "Alternatively, one can compute witness sets of images of maps via their graphs\n",
    "$$\\Gamma = \\{(x,\\varphi(x)) \\mid x \\in \\mathbb{C}^n\\} \\subset \\mathbb{C}^n \\times \\mathbb{C}^{k+1}$$\n",
    "$$= \\{z_i - x^{a_i} = 0\\}_{i=0}^{k}$$"
   ]
  },
  {
   "cell_type": "code",
   "execution_count": 25,
   "metadata": {},
   "outputs": [
    {
     "data": {
      "text/plain": [
       "System of length 4\n",
       " 6 variables: x, y, z₁, z₂, z₃, z₄\n",
       "\n",
       " 1 - z₁\n",
       " y - z₂\n",
       " x - z₃\n",
       " -z₄ + x*y"
      ]
     },
     "execution_count": 25,
     "metadata": {},
     "output_type": "execute_result"
    }
   ],
   "source": [
    "@var x,y\n",
    "@var a[1:4],b[1:4]\n",
    "@var z[1:4]\n",
    "A = [[0,0],[0,1],[1,0],[1,1]]\n",
    "φ = [x^A[i][1]*y^A[i][2] for i in 1:4]\n",
    "Γ = System([φ[i]-z[i] for i in 1:4])"
   ]
  },
  {
   "cell_type": "code",
   "execution_count": 26,
   "metadata": {},
   "outputs": [
    {
     "name": "stdout",
     "output_type": "stream",
     "text": [
      "\r",
      "\u001b[32mTracking 2 paths... 100%|███████████████████████████████| Time: 0:00:02\u001b[39m\r\n",
      "\u001b[34m  # paths tracked:                  2\u001b[39m\r\n",
      "\u001b[34m  # non-singular solutions (real):  2 (0)\u001b[39m\r\n",
      "\u001b[34m  # singular endpoints (real):      0 (0)\u001b[39m\r\n",
      "\u001b[34m  # total solutions (real):         2 (0)\u001b[39m\n"
     ]
    },
    {
     "data": {
      "text/plain": [
       "Witness set for dimension 2 of degree 2"
      ]
     },
     "execution_count": 26,
     "metadata": {},
     "output_type": "execute_result"
    }
   ],
   "source": [
    "WΓ = witness_set(System(Γ))"
   ]
  },
  {
   "cell_type": "code",
   "execution_count": 27,
   "metadata": {},
   "outputs": [
    {
     "data": {
      "text/plain": [
       "4-dim. affine linear subspace {x | Ax=b} with eltype Complex{Float64}:\n",
       "A:\n",
       "Complex{Float64}[-0.0019473695310501388 - 0.14479780921287602im 0.06382243723321433 - 0.3620362384290097im … -0.3000441259284361 + 0.07029733094242555im 0.7318203123100667 - 0.16960400602079123im; 0.2622807397555529 - 0.12050784194197038im 0.10962076223391226 + 0.004398405132780822im … 0.24511350865228343 - 0.2851372642519093im 0.2361625005263142 - 0.4397324813750679im]\n",
       "b:\n",
       "Complex{Float64}[-0.3103061738580066 - 0.14836674999065091im, 0.15471353422996836 - 0.4477991332101073im]"
      ]
     },
     "execution_count": 27,
     "metadata": {},
     "output_type": "execute_result"
    }
   ],
   "source": [
    "WΓ.L"
   ]
  },
  {
   "cell_type": "code",
   "execution_count": 28,
   "metadata": {},
   "outputs": [
    {
     "data": {
      "text/plain": [
       "4-dim. affine linear subspace {x | Ax=b} with eltype Complex{Float64}:\n",
       "A:\n",
       "Complex{Float64}[6.436874427156893e-18 + 9.90983785745606e-18im 0.0 + 0.0im … 0.14035139799474536 - 0.056742072041883335im -0.24867808021886656 - 0.21108678041925277im; 8.535733263888857e-18 + 1.314111896959817e-17im 0.0 + 0.0im … 0.6230505037479527 - 0.25197351104786875im 0.13647485879168525 - 0.20300272145916787im]\n",
       "b:\n",
       "Complex{Float64}[-0.3012238921715202 - 0.21567804211491493im, 0.5387116912149885 - 0.05933382922298651im]"
      ]
     },
     "execution_count": 28,
     "metadata": {},
     "output_type": "execute_result"
    }
   ],
   "source": [
    "L=LinearSubspace([0 0 randn(ComplexF64)  randn(ComplexF64)  randn(ComplexF64)  randn(ComplexF64) ;\n",
    "                  0 0 randn(ComplexF64)  randn(ComplexF64)  randn(ComplexF64)  randn(ComplexF64) ],\n",
    "                  randn(ComplexF64,2))"
   ]
  },
  {
   "cell_type": "code",
   "execution_count": 29,
   "metadata": {},
   "outputs": [
    {
     "name": "stdout",
     "output_type": "stream",
     "text": [
      "\r",
      "\u001b[32mTracking 2 paths... 100%|███████████████████████████████| Time: 0:00:02\u001b[39m\r\n",
      "\u001b[34m  # paths tracked:                  2\u001b[39m\r\n",
      "\u001b[34m  # non-singular solutions (real):  2 (0)\u001b[39m\r\n",
      "\u001b[34m  # singular endpoints (real):      0 (0)\u001b[39m\r\n",
      "\u001b[34m  # total solutions (real):         2 (0)\u001b[39m\n"
     ]
    },
    {
     "data": {
      "text/plain": [
       "Witness set for dimension 2 of degree 2"
      ]
     },
     "execution_count": 29,
     "metadata": {},
     "output_type": "execute_result"
    }
   ],
   "source": [
    "WXA = witness_set(WΓ,L)"
   ]
  },
  {
   "cell_type": "markdown",
   "metadata": {},
   "source": [
    "Membership/sampling can be easily coded for these pseudo-witness sets as well"
   ]
  },
  {
   "cell_type": "markdown",
   "metadata": {},
   "source": [
    "# Witness supersets, monodromy, the trace test, and irreducible decomposition\n",
    "\n",
    "## Witness supersets\n",
    "\n",
    "Now we're going to try to compute a witness set for the twisted cubic after \"squaring up\""
   ]
  },
  {
   "cell_type": "code",
   "execution_count": 44,
   "metadata": {},
   "outputs": [
    {
     "name": "stdout",
     "output_type": "stream",
     "text": [
      "\r",
      "\u001b[32mTracking 4 paths... 100%|███████████████████████████████| Time: 0:00:02\u001b[39m\r\n",
      "\u001b[34m  # paths tracked:                  4\u001b[39m\r\n",
      "\u001b[34m  # non-singular solutions (real):  4 (0)\u001b[39m\r\n",
      "\u001b[34m  # singular endpoints (real):      0 (0)\u001b[39m\r\n",
      "\u001b[34m  # total solutions (real):         4 (0)\u001b[39m\n"
     ]
    },
    {
     "data": {
      "text/plain": [
       "Witness set for dimension 1 of degree 4"
      ]
     },
     "execution_count": 44,
     "metadata": {},
     "output_type": "execute_result"
    }
   ],
   "source": [
    "#If we only take two of the generators, we get a complete intersection of the union of a cubic and a line\n",
    "@var x,y,z\n",
    "CompleteIntersection=System([y^2-x*z,x*y-z])\n",
    "W_complete=witness_set(CompleteIntersection)"
   ]
  },
  {
   "cell_type": "markdown",
   "metadata": {},
   "source": [
    "\n",
    "<img src=\"PictureWitness4.png\" width=\"200\">"
   ]
  },
  {
   "cell_type": "markdown",
   "metadata": {},
   "source": [
    "<p style=\"border:3px; border-style:solid; padding: 0.5em; text-align:center\">\n",
    "Warning: W_complete is not a witness set for the twisted cubic.\n",
    "</p>"
   ]
  },
  {
   "cell_type": "markdown",
   "metadata": {},
   "source": [
    "A **witness superset** for $\\mathcal{V}(f_1,\\ldots,f_k)$ in codimension $m$ is the triple $W=(F,L,S)$\n",
    "    \n",
    "- $\\color{blue}{F}$ is a polynomial system\n",
    "- $\\color{green}{L}$ is a generic affine linear space of dimension $m$\n",
    "- $\\color{red}{S} = X \\cap L$\n"
   ]
  },
  {
   "cell_type": "markdown",
   "metadata": {},
   "source": [
    "Let $X \\subseteq \\mathbb{C}^n$ be an (equidimensional) variety of codimension $m$.\n",
    "\n",
    "Recall, we have the \"branched cover\" \n",
    "\n",
    "\n",
    "$$W_X=\\{(x,L) | x \\in X \\cap L, \\text{codim}(L) = \\text{dim}(X), L \\text{ generic}\\}$$\n",
    "$$\\,\\,\\,\\, \\downarrow \\pi $$\n",
    "$$\\text{linear spaces of complementary dimension}$$\n",
    "\n",
    "\n",
    "\n",
    "**Recall**: If $X$ is irreducible then the monodromy group of $\\pi$ is the full symmetric group.\n",
    "\n",
    "**Corollary**: If $X=X_1 \\cup \\cdots \\cup X_k$ is equidimensional, then the monodromy group of $\\pi$  is the product of symmetric groups $\\mathfrak{S}_{\\textrm{deg}(X_1)} \\times \\cdots \\times \\mathfrak{S}_{\\textrm{deg}(X_k)}$\n",
    "\n",
    "We can use monodromy to construct witness sets"
   ]
  },
  {
   "cell_type": "code",
   "execution_count": 45,
   "metadata": {},
   "outputs": [
    {
     "data": {
      "text/plain": [
       "MonodromyResult\n",
       "===============\n",
       "• return_code → :success\n",
       "• 3 solutions\n",
       "• 6 tracked loops\n",
       "• random_seed → 0xe04ce6e9\n",
       "• trace → 6.979696404043302e-17"
      ]
     },
     "execution_count": 45,
     "metadata": {},
     "output_type": "execute_result"
    }
   ],
   "source": [
    "M=monodromy_solve(CompleteIntersection; dim=1) "
   ]
  },
  {
   "cell_type": "code",
   "execution_count": 46,
   "metadata": {},
   "outputs": [
    {
     "data": {
      "text/plain": [
       "5-element Array{Int64,1}:\n",
       " 3\n",
       " 3\n",
       " 3\n",
       " 1\n",
       " 3"
      ]
     },
     "execution_count": 46,
     "metadata": {},
     "output_type": "execute_result"
    }
   ],
   "source": [
    "#Trying this many times will give us either 1 or 3 solutions (possibly 2 if the heuristic stop didn't work)\n",
    "[length(solutions(monodromy_solve(CompleteIntersection;dim=1))) for i in 1:5]"
   ]
  },
  {
   "cell_type": "markdown",
   "metadata": {},
   "source": [
    "## The trace test"
   ]
  },
  {
   "cell_type": "markdown",
   "metadata": {},
   "source": [
    "**Monodromy**: allows us to find points on the same component\n",
    "\n",
    "**The trace test**: tells us when we've found all points on the same component"
   ]
  },
  {
   "cell_type": "markdown",
   "metadata": {},
   "source": [
    "\n",
    "**Definition:** The *trace* of a subset of points in $\\mathbb{C}^n$ is their coordinate-wise average.\n",
    "\n",
    "**Lemma**: Let $X$ be irreducible. The trace of a subset of witness points of $X$ moves linearly if and only if the subset is not proper."
   ]
  },
  {
   "cell_type": "markdown",
   "metadata": {},
   "source": [
    "\n",
    "<img src=\"PictureWitness5.png\" width=\"400\">\n",
    "<img src=\"traceline.png\" width=\"400\">\n",
    "<img src=\"nonlineartrace.png\" width=\"400\">\n",
    "\n",
    "[[*Trace Test*](https://arxiv.org/abs/1608.00540)] Leykin, Rodriguez, and Sottile"
   ]
  },
  {
   "cell_type": "markdown",
   "metadata": {},
   "source": [
    "Now let's try moving a witness set and verifying this ourselves"
   ]
  },
  {
   "cell_type": "code",
   "execution_count": 47,
   "metadata": {},
   "outputs": [
    {
     "data": {
      "text/plain": [
       "Witness set for dimension 1 of degree 4"
      ]
     },
     "execution_count": 47,
     "metadata": {},
     "output_type": "execute_result"
    }
   ],
   "source": [
    "W_complete"
   ]
  },
  {
   "cell_type": "code",
   "execution_count": 48,
   "metadata": {},
   "outputs": [],
   "source": [
    "A=randn(ComplexF64,1,3)\n",
    "b=rand(ComplexF64)\n",
    "L₁ = LinearSubspace(A,[b])\n",
    "L₂ = LinearSubspace(A,[b+1])\n",
    "L₃ = LinearSubspace(A,[b+2]);"
   ]
  },
  {
   "cell_type": "code",
   "execution_count": 49,
   "metadata": {},
   "outputs": [
    {
     "name": "stdout",
     "output_type": "stream",
     "text": [
      "First trace: \n",
      "Complex{Float64}[0.8489418162895646 + 0.33489065601985923im, 0.738210683924271 - 1.2341888040128246im, -1.0639398028921836 - 0.7381597585205142im]\n",
      "Second trace: \n",
      "Complex{Float64}[1.7738811627615638 + 1.1788335843265478im, 0.7382106839242708 - 1.2341888040128244im, -3.233771858847363 + 0.020969082606896228im]\n",
      "Third trace: \n",
      "Complex{Float64}[2.6988205092335638 + 2.022776512633236im, 0.7382106839242708 - 1.2341888040128246im, -5.403603914802542 + 0.7800979237343058im]\n"
     ]
    }
   ],
   "source": [
    "trace₁=sum(solutions(witness_set(W_complete,L₁)))\n",
    "println(\"First trace: \\n\",trace₁)\n",
    "trace₂=sum(solutions(witness_set(W_complete,L₂)))\n",
    "println(\"Second trace: \\n\",trace₂)\n",
    "trace₃=sum(solutions(witness_set(W_complete,L₃)))\n",
    "println(\"Third trace: \\n\",trace₃)"
   ]
  },
  {
   "cell_type": "code",
   "execution_count": 50,
   "metadata": {},
   "outputs": [
    {
     "data": {
      "text/plain": [
       "3-element Array{Complex{Float64},1}:\n",
       " 4.440892098500626e-16 - 4.440892098500626e-16im\n",
       " 2.220446049250313e-16 - 4.440892098500626e-16im\n",
       " 8.881784197001252e-16 - 8.881784197001252e-16im"
      ]
     },
     "execution_count": 50,
     "metadata": {},
     "output_type": "execute_result"
    }
   ],
   "source": [
    "# here we check trace2 is the midpoint of trace1 and trace3\n",
    "(trace₁+trace₃)-2*trace₂"
   ]
  },
  {
   "cell_type": "code",
   "execution_count": 51,
   "metadata": {},
   "outputs": [
    {
     "data": {
      "text/plain": [
       "5.450611680439437e-17"
      ]
     },
     "execution_count": 51,
     "metadata": {},
     "output_type": "execute_result"
    }
   ],
   "source": [
    "trace_test(W_complete)"
   ]
  },
  {
   "cell_type": "markdown",
   "metadata": {},
   "source": [
    "We can find out which solution is the one on the line by checking traces of subsets"
   ]
  },
  {
   "cell_type": "code",
   "execution_count": 54,
   "metadata": {},
   "outputs": [
    {
     "data": {
      "text/plain": [
       "3-element Array{Complex{Float64},1}:\n",
       " 5.551115123125783e-16 - 2.220446049250313e-16im\n",
       " 2.220446049250313e-16 - 4.440892098500626e-16im\n",
       " 8.881784197001252e-16 - 8.881784197001252e-16im"
      ]
     },
     "execution_count": 54,
     "metadata": {},
     "output_type": "execute_result"
    }
   ],
   "source": [
    "I=[1,2,3]\n",
    "trace₁=sum(solutions(witness_set(W_complete,L₁))[I])\n",
    "trace₂=sum(solutions(witness_set(W_complete,L₂))[I])\n",
    "trace₃=sum(solutions(witness_set(W_complete,L₃))[I])\n",
    "# here we check trace2 is the midpoint of trace1 and trace 3\n",
    "(trace₁+trace₃)-2*trace₂"
   ]
  },
  {
   "cell_type": "code",
   "execution_count": 55,
   "metadata": {},
   "outputs": [
    {
     "data": {
      "text/plain": [
       "4-element Array{Bool,1}:\n",
       " 1\n",
       " 1\n",
       " 1\n",
       " 0"
      ]
     },
     "execution_count": 55,
     "metadata": {},
     "output_type": "execute_result"
    }
   ],
   "source": [
    "[membership(W_twisted,s) for s in solutions(W_complete)]"
   ]
  },
  {
   "cell_type": "markdown",
   "metadata": {},
   "source": [
    "## A harder example - the power of pseudo-witness sets"
   ]
  },
  {
   "cell_type": "markdown",
   "metadata": {},
   "source": [
    "A plane quartic is called *Luroth* if it goes through the $10$ intersection points of $5$ lines.\n",
    "\n",
    "\n",
    "<img src=\"lurothquartic2.png\" width=\"600\">\n",
    "\n",
    "\n",
    "The set of *Luroth* quartics is an algebraic variety in the space of quartics $\\mathbb{C}^{15}$\n",
    "\n",
    "It is parametrized by all quartics $f(x,y)$ of the form $$\\sum_{i=1}^5 \\prod_{j \\neq i} \\ell_j(x,y)$$\n",
    "where $\\ell_j(x,y) = a_{j,1}x+a_{j,2}y+a_{j,3}$\n",
    "\n",
    "This gives a map $\\varphi: \\mathbb{C}^{15} \\to \\mathbb{C}^{15}$ whose image is a hypersurface called the *Luroth hypersurface*"
   ]
  },
  {
   "cell_type": "code",
   "execution_count": 56,
   "metadata": {},
   "outputs": [],
   "source": [
    "@var a[1:5,1:3]\n",
    "@var t\n",
    "ℓ = [a[i,1]*x+a[i,2]*y+a[i,3] for i in 1:5]\n",
    "Quartic = sum([prod(ℓ[j] for j in filter(x->x!=i,collect(1:5))) for i in 1:5])\n",
    "E=expand(Quartic);\n",
    "EC=exponents_coefficients(E,[x,y])[2]; #This is the map from C^15->C^15"
   ]
  },
  {
   "cell_type": "code",
   "execution_count": 57,
   "metadata": {},
   "outputs": [],
   "source": [
    "#You may be tempted to do the following and project as before. Don't. The graph has much higher degree than the \n",
    "#   Luroth hypersurface: moving the linear space 'vertical' will make many points go to infinity\n",
    "\n",
    "#@var q[1:15]\n",
    "#Graph = vcat([q[i]-EC[i] for i in 1:15],sum(randn(ComplexF64,15).*q) +rand(ComplexF64))\n",
    "#MS=monodromy_solve(System(Graph);dim=14, show_progress=true)"
   ]
  },
  {
   "cell_type": "markdown",
   "metadata": {},
   "source": [
    "\n",
    "<img src=\"PictureWitness6.png\" width=\"300\">"
   ]
  },
  {
   "cell_type": "code",
   "execution_count": 58,
   "metadata": {},
   "outputs": [
    {
     "name": "stdout",
     "output_type": "stream",
     "text": [
      "\r",
      "\u001b[32mSolutions found: 54 \t Time: 0:00:03\u001b[39m\r\n",
      "\u001b[34m  tracked loops (queued):            378 (0)\u001b[39m\r\n",
      "\u001b[34m  solutions in current (last) loop:  0 (0)\u001b[39m\r\n",
      "\u001b[34m  generated loops (no change):       7 (5)\u001b[39m\n"
     ]
    },
    {
     "data": {
      "text/plain": [
       "MonodromyResult\n",
       "===============\n",
       "• return_code → :heuristic_stop\n",
       "• 54 solutions\n",
       "• 378 tracked loops\n",
       "• random_seed → 0x0dc00034"
      ]
     },
     "execution_count": 58,
     "metadata": {},
     "output_type": "execute_result"
    }
   ],
   "source": [
    "#Instead, we will do a new kind of witness set using a fibre product\n",
    "@var m[1:15],k[1:15]\n",
    "ParametrizedLines = [m[i]+k[i]*t for i in 1:15]\n",
    "CutTheA = a[1]-1\n",
    "PseudoWitnessSystem = System(vcat(CutTheA,[EC[i]-ParametrizedLines[i] for i in 1:15]),parameters=[vec(m); vec(k)])\n",
    "\n",
    "#Note: this map is hundreds - to - one. You want to decide if two points are unique based on their \n",
    "#   associated t-value\n",
    "\n",
    "MS=monodromy_solve(PseudoWitnessSystem;show_progress=true,distance = dist(x,y)=abs(x[end]-y[end]))"
   ]
  },
  {
   "cell_type": "code",
   "execution_count": 59,
   "metadata": {},
   "outputs": [
    {
     "name": "stderr",
     "output_type": "stream",
     "text": [
      "\u001b[32mMixed volume:  113240 \t Time: 0:00:12\u001b[39m"
     ]
    },
    {
     "ename": "LoadError",
     "evalue": "InterruptException:",
     "output_type": "error",
     "traceback": [
      "InterruptException:",
      "",
      "Stacktrace:",
      " [1] _string_n at ./strings/string.jl:60 [inlined]",
      " [2] StringVector at ./iobuffer.jl:31 [inlined]",
      " [3] Base.GenericIOBuffer{Array{UInt8,1}}(; read::Bool, write::Bool, append::Nothing, truncate::Bool, maxsize::Int64, sizehint::Nothing) at ./iobuffer.jl:114",
      " [4] GenericIOBuffer at ./iobuffer.jl:112 [inlined]",
      " [5] durationstring(::Float64) at /home/taylor/.julia/packages/ProgressMeter/GhAId/src/ProgressMeter.jl:519",
      " [6] updateProgress!(::ProgressMeter.ProgressUnknown; showvalues::Tuple{}, truncate_lines::Bool, valuecolor::Symbol, desc::String) at /home/taylor/.julia/packages/ProgressMeter/GhAId/src/ProgressMeter.jl:318",
      " [7] updateProgress! at /home/taylor/.julia/packages/ProgressMeter/GhAId/src/ProgressMeter.jl:302 [inlined]",
      " [8] #20 at /home/taylor/.julia/packages/ProgressMeter/GhAId/src/ProgressMeter.jl:371 [inlined]",
      " [9] lock(::ProgressMeter.var\"#20#21\"{Base.Iterators.Pairs{Union{},Union{},Tuple{},NamedTuple{(),Tuple{}}},ProgressMeter.ProgressUnknown,Int64,Symbol}, ::ReentrantLock) at ./lock.jl:161",
      " [10] #update!#19 at /home/taylor/.julia/packages/ProgressMeter/GhAId/src/ProgressMeter.jl:368 [inlined]",
      " [11] update! at /home/taylor/.julia/packages/ProgressMeter/GhAId/src/ProgressMeter.jl:368 [inlined] (repeats 2 times)",
      " [12] mixed_volume(::Array{Array{Int32,2},1}; show_progress::Bool, kwargs::Base.Iterators.Pairs{Union{},Union{},Tuple{},NamedTuple{(),Tuple{}}}) at /home/taylor/.julia/packages/MixedSubdivisions/ZZe4K/src/MixedSubdivisions.jl:1423",
      " [13] mixed_volume(::Array{Array{Int32,2},1}) at /home/taylor/.julia/packages/MixedSubdivisions/ZZe4K/src/MixedSubdivisions.jl:1414",
      " [14] paths_to_track(::System, ::Val{:polyhedral}; only_torus::Bool, only_non_zero::Bool) at /home/taylor/.julia/packages/HomotopyContinuation/7X6xH/src/polyhedral.jl:253",
      " [15] paths_to_track(::System; start_system::Symbol, kwargs::Base.Iterators.Pairs{Symbol,Bool,Tuple{Symbol},NamedTuple{(:only_torus,),Tuple{Bool}}}) at /home/taylor/.julia/packages/HomotopyContinuation/7X6xH/src/solve.jl:666",
      " [16] mixed_volume(::System) at /home/taylor/.julia/packages/HomotopyContinuation/7X6xH/src/polyhedral.jl:259",
      " [17] top-level scope at In[59]:1",
      " [18] include_string(::Function, ::Module, ::String, ::String) at ./loading.jl:1091"
     ]
    }
   ],
   "source": [
    "mixed_volume(PseudoWitnessSystem) #This is why we use monodromy"
   ]
  },
  {
   "cell_type": "markdown",
   "metadata": {},
   "source": [
    "# Constructing witness sets for all dimensions"
   ]
  },
  {
   "cell_type": "code",
   "execution_count": 60,
   "metadata": {},
   "outputs": [],
   "source": [
    "#Let's start with the union of a sphere, a line, and 20 points\n",
    "@var x[1:3]\n",
    "Sphere=x[1]^2+x[2]^2+x[3]^2-1\n",
    "Hyperplane1 = sum(randn(Float64,3).*x)+1 \n",
    "Hyperplane2 = sum(randn(Float64,3).*x)+1 \n",
    "Hyperplane3 = sum(randn(Float64,2).*[Hyperplane1,Hyperplane2]);\n",
    "Quad1 = [x; 1]'*randn(Float64,4,4)*[x; 1]\n",
    "Quad2 = [x; 1]'*randn(Float64,4,4)*[x; 1]\n",
    "Quad3 = [x; 1]'*randn(Float64,4,4)*[x; 1]\n",
    "\n",
    "f1 = Sphere*Hyperplane1*Quad1\n",
    "f2 = Sphere*Hyperplane2*Quad2\n",
    "f3 = Sphere*Hyperplane3*Quad3;\n",
    "#We should have only the sphere in dimension 2\n",
    "#We will have only the line in dimension 1\n",
    "#We will have 20 points in dimension 0\n",
    "#  We will have the 8 intersection points of 3 quadrics in dimension 0\n",
    "#  Along with Hyperplane[1] intersect Quad[2] intersect Quad[3] and the 3 permutations thereof (3*4=12)"
   ]
  },
  {
   "cell_type": "code",
   "execution_count": 61,
   "metadata": {},
   "outputs": [
    {
     "name": "stdout",
     "output_type": "stream",
     "text": [
      "\r",
      "\u001b[32mTracking 125 paths... 100%|█████████████████████████████| Time: 0:00:04\u001b[39m\r\n",
      "\u001b[34m  # paths tracked:                  125\u001b[39m\r\n",
      "\u001b[34m  # non-singular solutions (real):  20 (10)\u001b[39m\r\n",
      "\u001b[34m  # singular endpoints (real):      105 (0)\u001b[39m\r\n",
      "\u001b[34m  # total solutions (real):         125 (10)\u001b[39m\n"
     ]
    },
    {
     "data": {
      "text/plain": [
       "Result with 125 solutions\n",
       "=========================\n",
       "• 125 paths tracked\n",
       "• 20 non-singular solutions (10 real)\n",
       "• 105 singular solutions (0 real)\n",
       "• random_seed: 0xced9e708\n",
       "• start_system: :polyhedral\n",
       "• multiplicity table of singular solutions:\n",
       "\u001b[2m╭\u001b[0m\u001b[2m───────\u001b[0m\u001b[2m┬\u001b[0m\u001b[2m───────\u001b[0m\u001b[2m┬\u001b[0m\u001b[2m────────\u001b[0m\u001b[2m┬\u001b[0m\u001b[2m────────────\u001b[0m\u001b[2m╮\u001b[0m\n",
       "\u001b[2m│\u001b[0m\u001b[22m mult. \u001b[0m\u001b[2m│\u001b[0m\u001b[22m total \u001b[0m\u001b[2m│\u001b[0m\u001b[22m # real \u001b[0m\u001b[2m│\u001b[0m\u001b[22m # non-real \u001b[0m\u001b[2m│\u001b[0m\n",
       "\u001b[2m├\u001b[0m\u001b[2m───────\u001b[0m\u001b[2m┼\u001b[0m\u001b[2m───────\u001b[0m\u001b[2m┼\u001b[0m\u001b[2m────────\u001b[0m\u001b[2m┼\u001b[0m\u001b[2m────────────\u001b[0m\u001b[2m┤\u001b[0m\n",
       "\u001b[2m│\u001b[0m   1   \u001b[2m│\u001b[0m  105  \u001b[2m│\u001b[0m   0    \u001b[2m│\u001b[0m    105     \u001b[2m│\u001b[0m\n",
       "\u001b[2m╰\u001b[0m\u001b[2m───────\u001b[0m\u001b[2m┴\u001b[0m\u001b[2m───────\u001b[0m\u001b[2m┴\u001b[0m\u001b[2m────────\u001b[0m\u001b[2m┴\u001b[0m\u001b[2m────────────\u001b[0m\u001b[2m╯\u001b[0m\n"
      ]
     },
     "execution_count": 61,
     "metadata": {},
     "output_type": "execute_result"
    }
   ],
   "source": [
    "WF0=solve(System([f1,f2,f3]))"
   ]
  },
  {
   "cell_type": "code",
   "execution_count": 62,
   "metadata": {},
   "outputs": [
    {
     "name": "stdout",
     "output_type": "stream",
     "text": [
      "\r",
      "\u001b[32mTracking 125 paths... 100%|█████████████████████████████| Time: 0:00:00\u001b[39m\r\n",
      "\u001b[34m  # paths tracked:                  125\u001b[39m\r\n",
      "\u001b[34m  # non-singular solutions (real):  1 (0)\u001b[39m\r\n",
      "\u001b[34m  # singular endpoints (real):      16 (0)\u001b[39m\r\n",
      "\u001b[34m  # total solutions (real):         17 (0)\u001b[39m\n"
     ]
    },
    {
     "data": {
      "text/plain": [
       "Witness set for dimension 1 of degree 1"
      ]
     },
     "execution_count": 62,
     "metadata": {},
     "output_type": "execute_result"
    }
   ],
   "source": [
    "WF1=witness_set(System([f1,f2,f3]),dim=1)"
   ]
  },
  {
   "cell_type": "code",
   "execution_count": 63,
   "metadata": {},
   "outputs": [
    {
     "name": "stdout",
     "output_type": "stream",
     "text": [
      "\r",
      "\u001b[32mTracking 125 paths... 100%|█████████████████████████████| Time: 0:00:00\u001b[39m\r\n",
      "\u001b[34m  # paths tracked:                  125\u001b[39m\r\n",
      "\u001b[34m  # non-singular solutions (real):  2 (0)\u001b[39m\r\n",
      "\u001b[34m  # singular endpoints (real):      0 (0)\u001b[39m\r\n",
      "\u001b[34m  # total solutions (real):         2 (0)\u001b[39m\n"
     ]
    },
    {
     "data": {
      "text/plain": [
       "Witness set for dimension 2 of degree 2"
      ]
     },
     "execution_count": 63,
     "metadata": {},
     "output_type": "execute_result"
    }
   ],
   "source": [
    "WF2=witness_set(System([f1,f2,f3]),dim=2)"
   ]
  },
  {
   "cell_type": "markdown",
   "metadata": {},
   "source": [
    "# The basic cascade algorithm"
   ]
  },
  {
   "cell_type": "markdown",
   "metadata": {},
   "source": [
    "Here's one way to get a witness set for many dimensional components. We follow\n",
    "\n",
    "\n",
    "[[*Numerical homotopies to compute generic points on positive dimensional algebraic sets*](https://arxiv.org/abs/math/9906198)] Andrew J. Sommese, Jan Verschelde, 1999"
   ]
  },
  {
   "cell_type": "markdown",
   "metadata": {},
   "source": [
    "1) We assume $f=(f_1,\\ldots,f_n)$ is a system of n equations in n variables (otherwise we slice to this case)\n",
    "\n",
    "2) We use slack variables $z_1,\\ldots,z_n$ and write \n",
    "\n",
    "$$F_i = \\begin{bmatrix} f_1 + \\sum_{j=1}^i \\lambda_{1,j} z_j  \\\\  f_2 + \\sum_{j=1}^i \\lambda_{2,j} z_j   \\\\ \\vdots \\\\  f_n + \\sum_{j=1}^i \\lambda_{n,j} z_j \\\\ \\ell_1(x) + z_1 \\\\ \\ell_2(x)+z_2 \\\\ \\vdots \\\\ \\ell_i(x)+z_i  \\\\ z_{i+1} \\\\ \\vdots \\\\ z_{n}\\end{bmatrix}$$\n",
    "This system has $2n$ equations in $2n$ variables, and for $i=n$, this has isolated solutions of multiplicity one\n",
    "\n",
    "3) We solve $F_n=0$ and call these solutions $S_n$\n",
    "\n",
    "4) For $i=1,\\ldots,n$,\n",
    "\n",
    "4a) Run a homotopy to solve for $F_{n-i}$ from $F_{n-i+1}$ using $S_{n-i+1}$ as a start system.\n",
    "\n",
    "4b) Call these solutions $S_{n-i}$.\n",
    "\n",
    "4c) The solutions with $z_{n-i+1}=0$ belong to the codimension $i$ witness superset. Remove these from $S_{n-i}$ \n",
    "\n",
    "5) Return witness supersets"
   ]
  },
  {
   "cell_type": "code",
   "execution_count": 64,
   "metadata": {},
   "outputs": [],
   "source": [
    "@var z[1:3],t\n",
    "F₃ = [f1+rand(ComplexF64)*z[1]+rand(ComplexF64)*z[2]+rand(ComplexF64)*z[3],\n",
    "             f2+rand(ComplexF64)*z[1]+rand(ComplexF64)*z[2]+rand(ComplexF64)*z[3],\n",
    "             f3+rand(ComplexF64)*z[1]+rand(ComplexF64)*z[2]+rand(ComplexF64)*z[3],\n",
    "             rand(ComplexF64)+sum(randn(ComplexF64,3).*x)+z[1],\n",
    "             rand(ComplexF64)+sum(randn(ComplexF64,3).*x)+z[2],\n",
    "             rand(ComplexF64)+sum(randn(ComplexF64,3).*x)+z[3]]\n",
    "E₃ = System(F₃);"
   ]
  },
  {
   "cell_type": "markdown",
   "metadata": {},
   "source": [
    "$$E_3 = \\begin{bmatrix} f_1 + \\lambda_{1,1}z_1+\\lambda_{1,2}z_2+\\lambda_{1,3}z_3 \\\\\n",
    "f_2 + \\lambda_{2,1}z_1+\\lambda_{2,2}z_2+\\lambda_{2,3}z_3 \\\\\n",
    "f_3 + \\lambda_{3,1}z_1+\\lambda_{3,2}z_2+\\lambda_{3,3}z_3\\\\\n",
    "a_0+a_1x_1+a_2x_2+a_3x_3+z_1\\\\\n",
    "b_0+b_1x_1+b_2x_2+b_3x_3+z_2\\\\\n",
    "c_0+c_1x_1+c_2x_2+c_3x_3+z_3\\\\\n",
    "\\end{bmatrix}$$"
   ]
  },
  {
   "cell_type": "code",
   "execution_count": 65,
   "metadata": {},
   "outputs": [
    {
     "name": "stdout",
     "output_type": "stream",
     "text": [
      "\r",
      "\u001b[32mTracking 125 paths... 100%|█████████████████████████████| Time: 0:00:07\u001b[39m\r\n",
      "\u001b[34m  # paths tracked:                  125\u001b[39m\r\n",
      "\u001b[34m  # non-singular solutions (real):  49 (0)\u001b[39m\r\n",
      "\u001b[34m  # singular endpoints (real):      0 (0)\u001b[39m\r\n",
      "\u001b[34m  # total solutions (real):         49 (0)\u001b[39m\n"
     ]
    },
    {
     "data": {
      "text/plain": [
       "Result with 49 solutions\n",
       "========================\n",
       "• 125 paths tracked\n",
       "• 49 non-singular solutions (0 real)\n",
       "• random_seed: 0x2a971ebf\n",
       "• start_system: :polyhedral\n"
      ]
     },
     "execution_count": 65,
     "metadata": {},
     "output_type": "execute_result"
    }
   ],
   "source": [
    "Results3=solve(E₃)"
   ]
  },
  {
   "cell_type": "code",
   "execution_count": 66,
   "metadata": {},
   "outputs": [],
   "source": [
    "S3=solutions(Results3);"
   ]
  },
  {
   "cell_type": "markdown",
   "metadata": {},
   "source": [
    "$$E_3 = \\begin{bmatrix} f_1 + \\lambda_{1,1}z_1+\\lambda_{1,2}z_2+\\lambda_{1,3}z_3 \\\\\n",
    "f_2 + \\lambda_{2,1}z_1+\\lambda_{2,2}z_2+\\lambda_{2,3}z_3 \\\\\n",
    "f_3 + \\lambda_{3,1}z_1+\\lambda_{3,2}z_2+\\lambda_{3,3}z_3\\\\\n",
    "a_0+a_1x_1+a_2x_2+a_3x_3+z_1\\\\\n",
    "b_0+b_1x_1+b_2x_2+b_3x_3+z_2\\\\\n",
    "c_0+c_1x_1+c_2x_2+c_3x_3+z_3\\\\\n",
    "\\end{bmatrix} \n",
    "\\to \n",
    "\\begin{bmatrix} f_1 + \\lambda_{1,1}z_1+\\lambda_{1,2}z_2 \\\\\n",
    "f_2 + \\lambda_{2,1}z_1+\\lambda_{2,2}z_2 \\\\\n",
    "f_3 + \\lambda_{3,1}z_1+\\lambda_{3,2}z_2\\\\\n",
    "a_0+a_1x_1+a_2x_2+a_3x_3+z_1\\\\\n",
    "b_0+b_1x_1+b_2x_2+b_3x_3+z_2\\\\\n",
    "z_3\\\\\n",
    "\\end{bmatrix} =E_2\n",
    "$$"
   ]
  },
  {
   "cell_type": "code",
   "execution_count": 67,
   "metadata": {},
   "outputs": [],
   "source": [
    "F₂ = vcat([evaluate(f,z[3]=>0) for f in F₃[1:5]],z[3]);\n",
    "E₂ = System(t*F₃+(1-t)*F₂,parameters=[t]);"
   ]
  },
  {
   "cell_type": "code",
   "execution_count": 68,
   "metadata": {},
   "outputs": [
    {
     "name": "stdout",
     "output_type": "stream",
     "text": [
      "\r",
      "\u001b[32mTracking 49 paths... 100%|██████████████████████████████| Time: 0:00:03\u001b[39m\r\n",
      "\u001b[34m  # paths tracked:                  49\u001b[39m\r\n",
      "\u001b[34m  # non-singular solutions (real):  49 (0)\u001b[39m\r\n",
      "\u001b[34m  # singular endpoints (real):      0 (0)\u001b[39m\r\n",
      "\u001b[34m  # total solutions (real):         49 (0)\u001b[39m\n"
     ]
    },
    {
     "data": {
      "text/plain": [
       "Result with 49 solutions\n",
       "========================\n",
       "• 49 paths tracked\n",
       "• 49 non-singular solutions (0 real)\n",
       "• random_seed: 0xb10e993b\n"
      ]
     },
     "execution_count": 68,
     "metadata": {},
     "output_type": "execute_result"
    }
   ],
   "source": [
    "Results2=solve(E₂,S3,start_parameters=[1],target_parameters=[0])"
   ]
  },
  {
   "cell_type": "code",
   "execution_count": 69,
   "metadata": {},
   "outputs": [],
   "source": [
    "S2=solutions(Results2);"
   ]
  },
  {
   "cell_type": "code",
   "execution_count": 70,
   "metadata": {},
   "outputs": [
    {
     "data": {
      "text/plain": [
       "2-element Array{Array{Complex{Float64},1},1}:\n",
       " [0.7018707169402918 + 0.5929979327265746im, -0.7590584516361861 + 0.9522330305313996im, 1.1242642704791799 + 0.272705140255334im, 6.8960065528548765e-31 - 1.4705777542463869e-30im, -2.0541089284288494e-30 + 5.2279359543194934e-31im, 0.0 + 0.0im]\n",
       " [-0.8893516640285404 - 0.3619144959559666im, -0.7222627590457537 + 0.2662128666004733im, -0.29249122995657356 + 0.4430683945956028im, -1.794696279620841e-31 - 2.0489311592985584e-31im, 1.640527965978756e-32 + 1.4728504499577834e-31im, 0.0 + 0.0im]"
      ]
     },
     "execution_count": 70,
     "metadata": {},
     "output_type": "execute_result"
    }
   ],
   "source": [
    "Witness_Dim_2 = filter(x->isapprox(x[5],0;atol=0.000001),S2)"
   ]
  },
  {
   "cell_type": "code",
   "execution_count": 71,
   "metadata": {},
   "outputs": [
    {
     "name": "stdout",
     "output_type": "stream",
     "text": [
      "\u001b[32mTracking 2 paths... 100%|███████████████████████████████| Time: 0:00:02\u001b[39m\n",
      "\u001b[34m  # paths tracked:                  2\u001b[39m\n",
      "\u001b[34m  # non-singular solutions (real):  2 (0)\u001b[39m\n",
      "\u001b[34m  # singular endpoints (real):      0 (0)\u001b[39m\n",
      "\u001b[34m  # total solutions (real):         2 (0)\u001b[39m\n",
      "true\n",
      "true\n"
     ]
    }
   ],
   "source": [
    "println(membership(WF2,Witness_Dim_2[1][1:3]))\n",
    "println(membership(WF2,Witness_Dim_2[2][1:3]))"
   ]
  },
  {
   "cell_type": "code",
   "execution_count": 72,
   "metadata": {},
   "outputs": [
    {
     "data": {
      "text/plain": [
       "47"
      ]
     },
     "execution_count": 72,
     "metadata": {},
     "output_type": "execute_result"
    }
   ],
   "source": [
    "filter!(s->s ∉ Witness_Dim_2, S2);\n",
    "length(S2)"
   ]
  },
  {
   "cell_type": "markdown",
   "metadata": {},
   "source": [
    "$$E_2 = \n",
    "\\begin{bmatrix} f_1 + \\lambda_{1,1}z_1+\\lambda_{1,2}z_2 \\\\\n",
    "f_2 + \\lambda_{2,1}z_1+\\lambda_{2,2}z_2 \\\\\n",
    "f_3 + \\lambda_{3,1}z_1+\\lambda_{3,2}z_2\\\\\n",
    "a_0+a_1x_1+a_2x_2+a_3x_3+z_1\\\\\n",
    "b_0+b_1x_1+b_2x_2+b_3x_3+z_2\\\\\n",
    "z_3\\\\\n",
    "\\end{bmatrix}  \\to \n",
    "\\begin{bmatrix} f_1 + \\lambda_{1,1}z_1 \\\\\n",
    "f_2 + \\lambda_{2,1}z_1 \\\\\n",
    "f_3 + \\lambda_{3,1}z_1\\\\\n",
    "a_0+a_1x_1+a_2x_2+a_3x_3+z_1\\\\\n",
    "z_2\\\\\n",
    "z_3\\\\\n",
    "\\end{bmatrix} =E_1\n",
    "$$"
   ]
  },
  {
   "cell_type": "code",
   "execution_count": 73,
   "metadata": {},
   "outputs": [],
   "source": [
    "F₁ = vcat([evaluate(f,[z[2],z[3]]=>[0,0]) for f in F₂[1:4]],[z[2],z[3]])\n",
    "E₁ = System(t*F₂+(1-t)*F₁,parameters=[t]);"
   ]
  },
  {
   "cell_type": "code",
   "execution_count": 74,
   "metadata": {},
   "outputs": [
    {
     "name": "stdout",
     "output_type": "stream",
     "text": [
      "\r",
      "\u001b[32mTracking 47 paths... 100%|██████████████████████████████| Time: 0:00:01\u001b[39m\r\n",
      "\u001b[34m  # paths tracked:                  47\u001b[39m\r\n",
      "\u001b[34m  # non-singular solutions (real):  41 (0)\u001b[39m\r\n",
      "\u001b[34m  # singular endpoints (real):      6 (0)\u001b[39m\r\n",
      "\u001b[34m  # total solutions (real):         47 (0)\u001b[39m\n"
     ]
    },
    {
     "data": {
      "text/plain": [
       "Result with 47 solutions\n",
       "========================\n",
       "• 47 paths tracked\n",
       "• 41 non-singular solutions (0 real)\n",
       "• 6 singular solutions (0 real)\n",
       "• random_seed: 0xaa99a91e\n",
       "• multiplicity table of singular solutions:\n",
       "\u001b[2m╭\u001b[0m\u001b[2m───────\u001b[0m\u001b[2m┬\u001b[0m\u001b[2m───────\u001b[0m\u001b[2m┬\u001b[0m\u001b[2m────────\u001b[0m\u001b[2m┬\u001b[0m\u001b[2m────────────\u001b[0m\u001b[2m╮\u001b[0m\n",
       "\u001b[2m│\u001b[0m\u001b[22m mult. \u001b[0m\u001b[2m│\u001b[0m\u001b[22m total \u001b[0m\u001b[2m│\u001b[0m\u001b[22m # real \u001b[0m\u001b[2m│\u001b[0m\u001b[22m # non-real \u001b[0m\u001b[2m│\u001b[0m\n",
       "\u001b[2m├\u001b[0m\u001b[2m───────\u001b[0m\u001b[2m┼\u001b[0m\u001b[2m───────\u001b[0m\u001b[2m┼\u001b[0m\u001b[2m────────\u001b[0m\u001b[2m┼\u001b[0m\u001b[2m────────────\u001b[0m\u001b[2m┤\u001b[0m\n",
       "\u001b[2m│\u001b[0m   1   \u001b[2m│\u001b[0m   6   \u001b[2m│\u001b[0m   0    \u001b[2m│\u001b[0m     6      \u001b[2m│\u001b[0m\n",
       "\u001b[2m╰\u001b[0m\u001b[2m───────\u001b[0m\u001b[2m┴\u001b[0m\u001b[2m───────\u001b[0m\u001b[2m┴\u001b[0m\u001b[2m────────\u001b[0m\u001b[2m┴\u001b[0m\u001b[2m────────────\u001b[0m\u001b[2m╯\u001b[0m\n"
      ]
     },
     "execution_count": 74,
     "metadata": {},
     "output_type": "execute_result"
    }
   ],
   "source": [
    "Results1=solve(E₁,S2,start_parameters=[1],target_parameters=[0])"
   ]
  },
  {
   "cell_type": "code",
   "execution_count": 75,
   "metadata": {},
   "outputs": [],
   "source": [
    "S1=solutions(Results1);"
   ]
  },
  {
   "cell_type": "code",
   "execution_count": 76,
   "metadata": {},
   "outputs": [
    {
     "data": {
      "text/plain": [
       "1-element Array{Array{Complex{Float64},1},1}:\n",
       " [0.18986272663753628 - 0.2626008853056397im, 0.6569591705148489 + 0.6605337328622339im, -0.9662561071662771 + 0.5686454548142731im, 5.300164599316718e-33 - 1.0783510530859381e-32im, 0.0 + 0.0im, 0.0 + 0.0im]"
      ]
     },
     "execution_count": 76,
     "metadata": {},
     "output_type": "execute_result"
    }
   ],
   "source": [
    "Witness_Dim_1 = filter(x->isapprox(x[4],0;atol=0.000001),S1)"
   ]
  },
  {
   "cell_type": "code",
   "execution_count": 77,
   "metadata": {},
   "outputs": [
    {
     "name": "stdout",
     "output_type": "stream",
     "text": [
      "true\n",
      "false\n"
     ]
    }
   ],
   "source": [
    "println(membership(WF1,Witness_Dim_1[1][1:3]))\n",
    "println(membership(WF2,Witness_Dim_1[1][1:3]))"
   ]
  },
  {
   "cell_type": "code",
   "execution_count": 78,
   "metadata": {},
   "outputs": [
    {
     "data": {
      "text/plain": [
       "40"
      ]
     },
     "execution_count": 78,
     "metadata": {},
     "output_type": "execute_result"
    }
   ],
   "source": [
    "filter!(s->s ∉ Witness_Dim_1, S1);\n",
    "length(S1)"
   ]
  },
  {
   "cell_type": "markdown",
   "metadata": {},
   "source": [
    "$$E_1 = \n",
    "\\begin{bmatrix} f_1 + \\lambda_{1,1}z_1 \\\\\n",
    "f_2 + \\lambda_{2,1}z_1 \\\\\n",
    "f_3 + \\lambda_{3,1}z_1\\\\\n",
    "a_0+a_1x_1+a_2x_2+a_3x_3+z_1\\\\\n",
    "z_2\\\\\n",
    "z_3\\\\\n",
    "\\end{bmatrix}\n",
    "\\to\n",
    "\\begin{bmatrix} f_1  \\\\\n",
    "f_2  \\\\\n",
    "f_3 \\\\\n",
    "z_1\\\\\n",
    "z_2\\\\\n",
    "z_3\\\\\n",
    "\\end{bmatrix} =E_0\n",
    "$$"
   ]
  },
  {
   "cell_type": "code",
   "execution_count": 79,
   "metadata": {},
   "outputs": [],
   "source": [
    "F₀ = vcat([evaluate(f,[z[1],z[2],z[3]]=>[0,0,0]) for f in F₁[1:3]],[z[1],z[2],z[3]])\n",
    "E₀ = System(t*F₁+(1-t)*F₀,parameters=[t]);"
   ]
  },
  {
   "cell_type": "code",
   "execution_count": 80,
   "metadata": {},
   "outputs": [
    {
     "name": "stdout",
     "output_type": "stream",
     "text": [
      "\r",
      "\u001b[32mTracking 40 paths... 100%|██████████████████████████████| Time: 0:00:02\u001b[39m\r\n",
      "\u001b[34m  # paths tracked:                  40\u001b[39m\r\n",
      "\u001b[34m  # non-singular solutions (real):  20 (10)\u001b[39m\r\n",
      "\u001b[34m  # singular endpoints (real):      20 (0)\u001b[39m\r\n",
      "\u001b[34m  # total solutions (real):         40 (10)\u001b[39m\n"
     ]
    },
    {
     "data": {
      "text/plain": [
       "Result with 40 solutions\n",
       "========================\n",
       "• 40 paths tracked\n",
       "• 20 non-singular solutions (10 real)\n",
       "• 20 singular solutions (0 real)\n",
       "• random_seed: 0xcead24dc\n",
       "• multiplicity table of singular solutions:\n",
       "\u001b[2m╭\u001b[0m\u001b[2m───────\u001b[0m\u001b[2m┬\u001b[0m\u001b[2m───────\u001b[0m\u001b[2m┬\u001b[0m\u001b[2m────────\u001b[0m\u001b[2m┬\u001b[0m\u001b[2m────────────\u001b[0m\u001b[2m╮\u001b[0m\n",
       "\u001b[2m│\u001b[0m\u001b[22m mult. \u001b[0m\u001b[2m│\u001b[0m\u001b[22m total \u001b[0m\u001b[2m│\u001b[0m\u001b[22m # real \u001b[0m\u001b[2m│\u001b[0m\u001b[22m # non-real \u001b[0m\u001b[2m│\u001b[0m\n",
       "\u001b[2m├\u001b[0m\u001b[2m───────\u001b[0m\u001b[2m┼\u001b[0m\u001b[2m───────\u001b[0m\u001b[2m┼\u001b[0m\u001b[2m────────\u001b[0m\u001b[2m┼\u001b[0m\u001b[2m────────────\u001b[0m\u001b[2m┤\u001b[0m\n",
       "\u001b[2m│\u001b[0m   1   \u001b[2m│\u001b[0m  20   \u001b[2m│\u001b[0m   0    \u001b[2m│\u001b[0m     20     \u001b[2m│\u001b[0m\n",
       "\u001b[2m╰\u001b[0m\u001b[2m───────\u001b[0m\u001b[2m┴\u001b[0m\u001b[2m───────\u001b[0m\u001b[2m┴\u001b[0m\u001b[2m────────\u001b[0m\u001b[2m┴\u001b[0m\u001b[2m────────────\u001b[0m\u001b[2m╯\u001b[0m\n"
      ]
     },
     "execution_count": 80,
     "metadata": {},
     "output_type": "execute_result"
    }
   ],
   "source": [
    "Result0=solve(E₀,S1,start_parameters=[1],target_parameters=[0])"
   ]
  },
  {
   "cell_type": "markdown",
   "metadata": {},
   "source": [
    "### Numerical irreducible decomposition (of equidimensional varieties)\n",
    "\n",
    "One of the most important algorithms in numerical algebraic geometry is taking a polynomial systme $F$ and computing a witness set for every irreducible component of $\\mathcal V(F)$. This is called a **numerical irreducible decomposition**. We will go through how it works for equidimensional varieties"
   ]
  },
  {
   "cell_type": "markdown",
   "metadata": {},
   "source": [
    "#### Step 1: compute a witness superset \n",
    "\n",
    "$\\mathcal V(F) \\to (F,L,S)$"
   ]
  },
  {
   "cell_type": "markdown",
   "metadata": {},
   "source": [
    "#### Step 2: \n",
    "\n",
    "Using monodromy, identify solutions as belonging to the same component until the trace test passes.\n",
    "\n",
    "$p \\in S \\to S_p=\\{q \\in S \\mid q \\text{ was found via monodromy starting from } p\\}$"
   ]
  },
  {
   "cell_type": "markdown",
   "metadata": {},
   "source": [
    "#### Step 3: \n",
    "\n",
    "If $S \\backslash \\bigcup_{p \\text{ done in step 2}} S_p \\neq \\emptyset$ pick some $q$ not identified and repeat step 2"
   ]
  },
  {
   "cell_type": "markdown",
   "metadata": {},
   "source": [
    "#### Output: \n",
    "\n",
    "Set $W_p = (F,L,S_p)$ and output the union of all $W_p$"
   ]
  },
  {
   "cell_type": "code",
   "execution_count": 81,
   "metadata": {},
   "outputs": [
    {
     "name": "stderr",
     "output_type": "stream",
     "text": [
      "WARNING: using LinearAlgebra.I in module Main conflicts with an existing identifier.\n"
     ]
    }
   ],
   "source": [
    "using Bertini, LinearAlgebra"
   ]
  },
  {
   "cell_type": "code",
   "execution_count": 82,
   "metadata": {},
   "outputs": [
    {
     "data": {
      "text/plain": [
       "16-element Array{Expression,1}:\n",
       " -1 + m21^2 + m31^2 + m41^2\n",
       "          m32*m31 + m41*m42\n",
       "          m21*m23 + m41*m43\n",
       "          m21*m24 + m31*m34\n",
       "          m32*m31 + m41*m42\n",
       " -1 + m12^2 + m32^2 + m42^2\n",
       "          m13*m12 + m42*m43\n",
       "          m12*m14 + m32*m34\n",
       "          m21*m23 + m41*m43\n",
       "          m13*m12 + m42*m43\n",
       " -1 + m13^2 + m23^2 + m43^2\n",
       "          m13*m14 + m23*m24\n",
       "          m21*m24 + m31*m34\n",
       "          m12*m14 + m32*m34\n",
       "          m13*m14 + m23*m24\n",
       " -1 + m14^2 + m24^2 + m34^2"
      ]
     },
     "execution_count": 82,
     "metadata": {},
     "output_type": "execute_result"
    }
   ],
   "source": [
    "#Hollow orthogonal 4x4 matrices\n",
    "@var m12,m13,m14,m21,m23,m24,m31,m32,m34,m41,m42,m43\n",
    "M=[[0,m12, m13, m14] [m21, 0, m23, m24,] [m31, m32, 0, m34] [m41, m42, m43, 0]]\n",
    "HollowO4=vec((M*M')-LinearAlgebra.I)"
   ]
  },
  {
   "cell_type": "markdown",
   "metadata": {},
   "source": [
    "[[*Regenerative cascade homotopies for solving polynomial systems*](https://www.sciencedirect.com/science/article/abs/pii/S0096300311008150)]Jonathan D.Hauenstein Andrew J.Sommese Charles W.Wampler"
   ]
  },
  {
   "cell_type": "code",
   "execution_count": 79,
   "metadata": {},
   "outputs": [
    {
     "name": "stdout",
     "output_type": "stream",
     "text": [
      "File path: /tmp/jl_O9eWwX\n",
      "\n",
      " Bertini(TM) v1.5.1\n",
      "  (August 29, 2016)\n",
      "\n",
      " D.J. Bates, J.D. Hauenstein,\n",
      " A.J. Sommese, C.W. Wampler\n",
      "\n",
      "(using GMP v6.1.2, MPFR v3.1.4)\n",
      "\n",
      "\n",
      "\n",
      "NOTE: You have requested to use adaptive path tracking.  Please make sure that you have\n",
      "setup the following tolerances appropriately:\n",
      "CoeffBound: 2.176827000000e+00, DegreeBound: 2.000000000000e+00\n",
      "AMPSafetyDigits1: 1, AMPSafetyDigits2: 1, AMPMaxPrec: 1024\n",
      "\n",
      "\n",
      "Tracking regeneration codim 1 of 10: 2 paths to track.\n",
      "Tracking path 0 of 2\n",
      "\n",
      "Sorting codimension 1 of 10: 2 paths to sort.\n",
      "Sorting 0 of 2\n",
      "\n",
      "Preparing regeneration codim 2 of 10: 2 witness points to move.\n",
      "Moving 0 of 2\n",
      "\n",
      "Tracking regeneration codim 2 of 10: 4 paths to track.\n",
      "Tracking path 0 of 4\n",
      "\n",
      "Sorting codimension 2 of 10: 4 paths to sort.\n",
      "Sorting 0 of 4\n",
      "\n",
      "Preparing regeneration codim 3 of 10: 4 witness points to move.\n",
      "Moving 0 of 4\n",
      "\n",
      "Tracking regeneration codim 3 of 10: 8 paths to track.\n",
      "Tracking path 0 of 8\n",
      "\n",
      "Sorting codimension 3 of 10: 8 paths to sort.\n",
      "Sorting 0 of 8\n",
      "\n",
      "Preparing regeneration codim 4 of 10: 8 witness points to move.\n",
      "Moving 0 of 8\n",
      "\n",
      "Tracking regeneration codim 4 of 10: 16 paths to track.\n",
      "Tracking path 0 of 16\n",
      "\n",
      "Sorting codimension 4 of 10: 16 paths to sort.\n",
      "Sorting 0 of 16\n",
      "\n",
      "Preparing regeneration codim 5 of 10: 16 witness points to move.\n",
      "Moving 0 of 16\n",
      "\n",
      "Tracking regeneration codim 5 of 10: 32 paths to track.\n",
      "Tracking path 0 of 32\n",
      "Tracking path 20 of 32\n",
      "\n",
      "Sorting codimension 5 of 10: 32 paths to sort.\n",
      "Sorting 0 of 32\n",
      "Sorting 20 of 32\n",
      "\n",
      "Preparing regeneration codim 6 of 10: 32 witness points to move.\n",
      "Moving 0 of 32\n",
      "Moving 20 of 32\n",
      "\n",
      "Tracking regeneration codim 6 of 10: 64 paths to track.\n",
      "Tracking path 0 of 64\n",
      "Tracking path 20 of 64\n",
      "Tracking path 40 of 64\n",
      "Tracking path 60 of 64\n",
      "\n",
      "Sorting codimension 6 of 10: 64 paths to sort.\n",
      "Sorting 0 of 64\n",
      "Sorting 20 of 64\n",
      "Sorting 40 of 64\n",
      "Sorting 60 of 64\n",
      "\n",
      "Preparing regeneration codim 7 of 10: 64 witness points to move.\n",
      "Moving 0 of 64\n",
      "Moving 20 of 64\n",
      "Moving 40 of 64\n",
      "Moving 60 of 64\n",
      "\n",
      "Tracking regeneration codim 7 of 10: 128 paths to track.\n",
      "Tracking path 0 of 128\n",
      "Tracking path 20 of 128\n",
      "Tracking path 40 of 128\n",
      "Tracking path 60 of 128\n",
      "Tracking path 80 of 128\n",
      "Tracking path 100 of 128\n",
      "Tracking path 120 of 128\n",
      "\n",
      "Sorting codimension 7 of 10: 128 paths to sort.\n",
      "Sorting 0 of 128\n",
      "Sorting 20 of 128\n",
      "Sorting 40 of 128\n",
      "Sorting 60 of 128\n",
      "Sorting 80 of 128\n",
      "Sorting 100 of 128\n",
      "Sorting 120 of 128\n",
      "\n",
      "Preparing regeneration codim 8 of 10: 128 witness points to move.\n",
      "Moving 0 of 128\n",
      "Moving 20 of 128\n",
      "Moving 40 of 128\n",
      "Moving 60 of 128\n",
      "Moving 80 of 128\n",
      "Moving 100 of 128\n",
      "Moving 120 of 128\n",
      "\n",
      "Tracking regeneration codim 8 of 10: 256 paths to track.\n",
      "Tracking path 0 of 256\n",
      "Tracking path 20 of 256\n",
      "Tracking path 40 of 256\n",
      "Tracking path 60 of 256\n",
      "Tracking path 80 of 256\n",
      "Tracking path 100 of 256\n",
      "Tracking path 120 of 256\n",
      "Tracking path 140 of 256\n",
      "Tracking path 160 of 256\n",
      "Tracking path 180 of 256\n",
      "Tracking path 200 of 256\n",
      "Tracking path 220 of 256\n",
      "Tracking path 240 of 256\n",
      "\n",
      "Sorting codimension 8 of 10: 256 paths to sort.\n",
      "Sorting 0 of 256\n",
      "Sorting 20 of 256\n",
      "Sorting 40 of 256\n",
      "Sorting 60 of 256\n",
      "Sorting 80 of 256\n",
      "Sorting 100 of 256\n",
      "Sorting 120 of 256\n",
      "Sorting 140 of 256\n",
      "Sorting 160 of 256\n",
      "Sorting 180 of 256\n",
      "Sorting 200 of 256\n",
      "Sorting 220 of 256\n",
      "Sorting 240 of 256\n",
      "\n",
      "Preparing regeneration codim 9 of 10: 224 witness points to move.\n",
      "Moving 0 of 224\n",
      "Moving 20 of 224\n",
      "Moving 40 of 224\n",
      "Moving 60 of 224\n",
      "Moving 80 of 224\n",
      "Moving 100 of 224\n",
      "Moving 120 of 224\n",
      "Moving 140 of 224\n",
      "Moving 160 of 224\n",
      "Moving 180 of 224\n",
      "Moving 200 of 224\n",
      "Moving 220 of 224\n",
      "\n",
      "Tracking regeneration codim 9 of 10: 448 paths to track.\n",
      "Tracking path 0 of 448\n",
      "Tracking path 20 of 448\n",
      "Tracking path 40 of 448\n",
      "Tracking path 60 of 448\n",
      "Tracking path 80 of 448\n",
      "Tracking path 100 of 448\n",
      "Tracking path 120 of 448\n",
      "Tracking path 140 of 448\n",
      "Tracking path 160 of 448\n",
      "Tracking path 180 of 448\n",
      "Tracking path 200 of 448\n",
      "Tracking path 220 of 448\n",
      "Tracking path 240 of 448\n",
      "Tracking path 260 of 448\n",
      "Tracking path 280 of 448\n",
      "Tracking path 300 of 448\n",
      "Tracking path 320 of 448\n",
      "Tracking path 340 of 448\n",
      "Tracking path 360 of 448\n",
      "Tracking path 380 of 448\n",
      "Tracking path 400 of 448\n",
      "Tracking path 420 of 448\n",
      "Tracking path 440 of 448\n",
      "\n",
      "Sorting codimension 9 of 10: 448 paths to sort.\n",
      "Sorting 0 of 448\n",
      "Sorting 20 of 448\n",
      "Sorting 40 of 448\n",
      "Sorting 60 of 448\n",
      "Sorting 80 of 448\n",
      "Sorting 100 of 448\n",
      "Sorting 120 of 448\n",
      "Sorting 140 of 448\n",
      "Sorting 160 of 448\n",
      "Sorting 180 of 448\n",
      "Sorting 200 of 448\n",
      "Sorting 220 of 448\n",
      "Sorting 240 of 448\n",
      "Sorting 260 of 448\n",
      "Sorting 280 of 448\n",
      "Sorting 300 of 448\n",
      "Sorting 320 of 448\n",
      "Sorting 340 of 448\n",
      "Sorting 360 of 448\n",
      "Sorting 380 of 448\n",
      "Sorting 400 of 448\n",
      "Sorting 420 of 448\n",
      "Sorting 440 of 448\n",
      "\n",
      "Preparing regeneration codim 10 of 10: 280 witness points to move.\n",
      "Moving 0 of 280\n",
      "Moving 20 of 280\n",
      "Moving 40 of 280\n",
      "Moving 60 of 280\n",
      "Moving 80 of 280\n",
      "Moving 100 of 280\n",
      "Moving 120 of 280\n",
      "Moving 140 of 280\n",
      "Moving 160 of 280\n",
      "Moving 180 of 280\n",
      "Moving 200 of 280\n",
      "Moving 220 of 280\n",
      "Moving 240 of 280\n",
      "Moving 260 of 280\n",
      "\n",
      "Tracking regeneration codim 10 of 10: 560 paths to track.\n",
      "Tracking path 0 of 560\n",
      "Tracking path 20 of 560\n",
      "Tracking path 40 of 560\n",
      "Tracking path 60 of 560\n",
      "Tracking path 80 of 560\n",
      "Tracking path 100 of 560\n",
      "Tracking path 120 of 560\n",
      "Tracking path 140 of 560\n",
      "Tracking path 160 of 560\n",
      "Tracking path 180 of 560\n",
      "Tracking path 200 of 560\n",
      "Tracking path 220 of 560\n",
      "Tracking path 240 of 560\n",
      "Tracking path 260 of 560\n",
      "Tracking path 280 of 560\n",
      "Tracking path 300 of 560\n",
      "Tracking path 320 of 560\n",
      "Tracking path 340 of 560\n",
      "Tracking path 360 of 560\n",
      "Tracking path 380 of 560\n",
      "Tracking path 400 of 560\n",
      "Tracking path 420 of 560\n",
      "Tracking path 440 of 560\n",
      "Tracking path 460 of 560\n",
      "Tracking path 480 of 560\n",
      "Tracking path 500 of 560\n",
      "Tracking path 520 of 560\n",
      "Tracking path 540 of 560\n",
      "\n",
      "Sorting codimension 10 of 10: 560 paths to sort.\n",
      "Sorting 0 of 560\n",
      "Sorting 20 of 560\n",
      "Sorting 40 of 560\n",
      "Sorting 60 of 560\n",
      "Sorting 80 of 560\n",
      "Sorting 100 of 560\n",
      "Sorting 120 of 560\n",
      "Sorting 140 of 560\n",
      "Sorting 160 of 560\n",
      "Sorting 180 of 560\n",
      "Sorting 200 of 560\n",
      "Sorting 220 of 560\n",
      "Sorting 240 of 560\n",
      "Sorting 260 of 560\n",
      "Sorting 280 of 560\n",
      "Sorting 300 of 560\n",
      "Sorting 320 of 560\n",
      "Sorting 340 of 560\n",
      "Sorting 360 of 560\n",
      "Sorting 380 of 560\n",
      "Sorting 400 of 560\n",
      "Sorting 420 of 560\n",
      "Sorting 440 of 560\n",
      "Sorting 460 of 560\n",
      "Sorting 480 of 560\n",
      "Sorting 500 of 560\n",
      "Sorting 520 of 560\n",
      "Sorting 540 of 560\n",
      "\n",
      "\n",
      "************ Regenerative Cascade Summary ************\n",
      "\n",
      "NOTE: nonsingular vs singular is based on rank deficiency and identical endpoints\n",
      "\n",
      "|codim|   paths   |witness superset| nonsingular | singular |nonsolutions| inf endpoints | other bad endpoints\n",
      "----------------------------------------------------------------------------------------------------------------\n",
      "| 1   |   2       |   0            |  0          |  0       |  2         |   0           |  0\n",
      "| 2   |   4       |   0            |  0          |  0       |  4         |   0           |  0\n",
      "| 3   |   8       |   0            |  0          |  0       |  8         |   0           |  0\n",
      "| 4   |   16      |   0            |  0          |  0       |  16        |   0           |  0\n",
      "| 5   |   32      |   0            |  0          |  0       |  32        |   0           |  0\n",
      "| 6   |   64      |   0            |  0          |  0       |  64        |   0           |  0\n",
      "| 7   |   128     |   0            |  0          |  0       |  128       |   0           |  0\n",
      "| 8   |   256     |   0            |  0          |  0       |  224       |   32          |  0\n",
      "| 9   |   448     |   0            |  0          |  0       |  280       |   168         |  0\n",
      "| 10  |   560     |   80           |  80         |  0       |  0         |   480         |  0\n",
      "----------------------------------------------------------------------------------------------------------------\n",
      "|total|   1518\n",
      "\n",
      "****************************************************\n",
      "\n",
      "\n",
      "\n",
      "*************** Witness Set Summary ****************\n",
      "\n",
      "NOTE: nonsingular vs singular is based on rank deficiency and identical endpoints\n",
      "\n",
      "|codim| witness points | nonsingular | singular \n",
      "-------------------------------------------------\n",
      "| 10  |   80           |  80         |  0       \n",
      "-------------------------------------------------\n",
      "\n",
      "****************************************************\n",
      "\n",
      "\n",
      "Calculating traces for codimension 10.\n",
      "Calculating 0 of 80\n",
      "Calculating 20 of 80\n"
     ]
    },
    {
     "name": "stdout",
     "output_type": "stream",
     "text": [
      "Calculating 40 of 80\n",
      "Calculating 60 of 80\n",
      "\n",
      "Using monodromy to decompose codimension 10.\n",
      "Performing monodromy loops: 80 points left to classify\n",
      "Performing monodromy loops: 66 points left to classify\n",
      "Performing monodromy loops: 60 points left to classify\n",
      "Performing monodromy loops: 40 points left to classify\n",
      "Performing monodromy loops: 40 points left to classify\n",
      "Performing monodromy loops: 24 points left to classify\n",
      "Performing monodromy loops: 24 points left to classify\n",
      "\n",
      "Using combinatorial trace test to decompose codimension 10.\n",
      "\n",
      "\n",
      "************* Witness Set Decomposition *************\n",
      "\n",
      "| dimension | components | classified | unclassified\n",
      "-----------------------------------------------------\n",
      "|   2       |   28       |   80       |  0\n",
      "-----------------------------------------------------\n",
      "\n",
      "************** Decomposition by Degree **************\n",
      "\n",
      "Dimension 2: 28 classified components\n",
      "-----------------------------------------------------\n",
      "   degree 2: 16 components\n",
      "   degree 4: 12 components\n",
      "\n",
      "*****************************************************\n",
      "\n",
      " 21.561380 seconds (1.12 k allocations: 105.766 KiB)\n"
     ]
    },
    {
     "ename": "LoadError",
     "evalue": "ArgumentError: Cannot open 'finite_solutions': not a file",
     "output_type": "error",
     "traceback": [
      "ArgumentError: Cannot open 'finite_solutions': not a file",
      "",
      "Stacktrace:",
      " [1] readdlm_auto(::String, ::Char, ::Type{T} where T, ::Char, ::Bool; opts::Base.Iterators.Pairs{Symbol,Bool,Tuple{Symbol},NamedTuple{(:skipblanks,),Tuple{Bool}}}) at /buildworker/worker/package_linux64/build/usr/share/julia/stdlib/v1.5/DelimitedFiles/src/DelimitedFiles.jl:233",
      " [2] #readdlm#5 at /buildworker/worker/package_linux64/build/usr/share/julia/stdlib/v1.5/DelimitedFiles/src/DelimitedFiles.jl:170 [inlined]",
      " [3] #readdlm#3 at /buildworker/worker/package_linux64/build/usr/share/julia/stdlib/v1.5/DelimitedFiles/src/DelimitedFiles.jl:118 [inlined]",
      " [4] read_solutions(::String) at /home/taylor/.julia/packages/HomotopyContinuation/7X6xH/src/utils.jl:63",
      " [5] bertini(::System, ::Nothing; hom_variable_group::Bool, variable_groups::Array{Array{Variable,1},1}, parameters::Array{Variable,1}, file_path::String, start_parameters::Nothing, final_parameters::Nothing, bertini_path::String, TrackType::Int64, optionalconfig::Base.Iterators.Pairs{Union{},Union{},Tuple{},NamedTuple{(),Tuple{}}}) at /home/taylor/.julia/packages/Bertini/mowDA/src/Bertini.jl:108",
      " [6] top-level scope at In[79]:1",
      " [7] include_string(::Function, ::Module, ::String, ::String) at ./loading.jl:1091"
     ]
    }
   ],
   "source": [
    "bertini(System(HollowO4); TrackType=1)"
   ]
  },
  {
   "cell_type": "markdown",
   "metadata": {},
   "source": [
    "### Other things you can do with witness sets\n",
    "\n",
    "Given a witness set $W$ for $X$ you can also...\n",
    "\n",
    "- find a witness set for $X \\cap \\mathcal V(f)$\n",
    "- recover equations for $X$\n",
    "- compute the Newton polytope of $X$ (when $X$ is a hypersurface)\n",
    "- describe the real points of $X$\n",
    "- much more..."
   ]
  },
  {
   "cell_type": "markdown",
   "metadata": {},
   "source": [
    "[[*General witness sets for numerical algebraic geometry*](https://arxiv.org/abs/2002.00180)] Frank Sottile\n",
    "\n",
    "\n",
    "[[*Introduction to numerical algebraic geometry, Solving polynomial equations*](https://link.springer.com/chapter/10.1007/3-540-27357-3_8)] A.J. Sommese, J. Verschelde, and C.W. Wampler"
   ]
  },
  {
   "cell_type": "code",
   "execution_count": null,
   "metadata": {},
   "outputs": [],
   "source": []
  }
 ],
 "metadata": {
  "kernelspec": {
   "display_name": "Julia 1.5.2",
   "language": "julia",
   "name": "julia-1.5"
  },
  "language_info": {
   "file_extension": ".jl",
   "mimetype": "application/julia",
   "name": "julia",
   "version": "1.5.2"
  }
 },
 "nbformat": 4,
 "nbformat_minor": 2
}
