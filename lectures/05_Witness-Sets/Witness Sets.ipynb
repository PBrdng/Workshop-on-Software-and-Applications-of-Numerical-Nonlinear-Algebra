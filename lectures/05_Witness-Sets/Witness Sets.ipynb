{
 "cells": [
  {
   "cell_type": "code",
   "execution_count": 1,
   "metadata": {},
   "outputs": [],
   "source": [
    "using HomotopyContinuation"
   ]
  },
  {
   "cell_type": "markdown",
   "metadata": {},
   "source": [
    "# Witness Sets"
   ]
  },
  {
   "cell_type": "markdown",
   "metadata": {},
   "source": [
    "**Witness sets** form the fundamental data type in numerical algebraic geomtry - they are how we represent positive dimensional varieties\n",
    "\n",
    "A *witness set* for an irreducible variety $X \\subset \\mathbb{C}^n$ is a triple \n",
    "$$W=(F,L,S)$$\n",
    "where \n",
    "- $\\color{blue}{F}$ is a polynomial system for which $X$ is a component, \n",
    "- $\\color{green}{L}$ is a generic affine linear space of complementary dimension\n",
    "- $\\color{red}{S} = X \\cap L$\n",
    "\n",
    "<img src=\"witnesscubic.png\" width=\"300\">\n",
    "\n",
    "If $X$ is not irreducible, but equidimensional, we call \n",
    "$$W=(F,L,S)$$\n",
    "a *witness superset* when $X$ is a union of components of $\\mathcal V(F)$ and $L$ and $S$ are the same as above.\n",
    "\n",
    "\n",
    "Note! $\\{(x,L) \\mid F(x)=L(x)=0\\} \\to \\text{Grassmannian}$ is a branched cover, so everything we discussed before applies"
   ]
  },
  {
   "cell_type": "code",
   "execution_count": 165,
   "metadata": {},
   "outputs": [
    {
     "data": {
      "text/plain": [
       "System of length 3\n",
       " 3 variables: x, y, z\n",
       "\n",
       " -x*z + y^2\n",
       " -z + x*y\n",
       " -y + x^2"
      ]
     },
     "execution_count": 165,
     "metadata": {},
     "output_type": "execute_result"
    }
   ],
   "source": [
    "@var x y z\n",
    "TwistedCubic=System([y^2-x*z,x*y-z,x^2-y])"
   ]
  },
  {
   "cell_type": "code",
   "execution_count": 166,
   "metadata": {},
   "outputs": [
    {
     "data": {
      "text/plain": [
       "Witness set for dimension 1 of degree 3"
      ]
     },
     "execution_count": 166,
     "metadata": {},
     "output_type": "execute_result"
    }
   ],
   "source": [
    "# witness_set will compute a witness superset for the dimension (numvars-numeqs) part of V(F), \n",
    "#    unless you actually give it a codimension\n",
    "#W_twisted=witness_set(TwistedCubic)\n",
    "W_twisted=witness_set(TwistedCubic; codim=2)"
   ]
  },
  {
   "cell_type": "markdown",
   "metadata": {},
   "source": [
    "In particular, notice that witness sets inherently encode the dimension and degree"
   ]
  },
  {
   "cell_type": "code",
   "execution_count": 167,
   "metadata": {},
   "outputs": [
    {
     "data": {
      "text/plain": [
       "Witness set for dimension 1 of degree 4"
      ]
     },
     "execution_count": 167,
     "metadata": {},
     "output_type": "execute_result"
    }
   ],
   "source": [
    "# If we only take 2 of the equations of the twisted cubic, we get that extra line\n",
    "TwistedCubic2 = System([y^2-x*z,x*y-z])\n",
    "W_twisted2=witness_set(TwistedCubic2) #warning: a witness superset"
   ]
  },
  {
   "cell_type": "code",
   "execution_count": 61,
   "metadata": {},
   "outputs": [
    {
     "data": {
      "text/plain": [
       "2-dim. affine linear subspace {x | Ax=b} with eltype Complex{Float64}:\n",
       "A:\n",
       "Complex{Float64}[-0.5935615382682724 - 0.5874685992944196im -0.2879650931631233 + 0.09876036615459721im 0.35927538157882255 - 0.2842693098447488im]\n",
       "b:\n",
       "Complex{Float64}[-0.20718652247693767 + 0.2592723245019178im]"
      ]
     },
     "execution_count": 61,
     "metadata": {},
     "output_type": "execute_result"
    }
   ],
   "source": [
    "W_twisted2.L # the linear space we cut with"
   ]
  },
  {
   "cell_type": "code",
   "execution_count": 168,
   "metadata": {},
   "outputs": [
    {
     "data": {
      "text/plain": [
       "4-element Array{PathResult,1}:\n",
       " PathResult:\n",
       " • return_code → :success\n",
       " • solution → Complex{Float64}[0.6521745371553913 + 1.034070335828349im, -0.6439698325263056 + 1.348788685309947im, -1.8147230962498124 + 0.213735535578641im]\n",
       " • accuracy → 2.8354e-16\n",
       " • residual → 3.6133e-16\n",
       " • condition_jacobian → 7.0672\n",
       " • steps → 58 / 0\n",
       " • extended_precision → false\n",
       " • path_number → 1\n",
       "\n",
       " PathResult:\n",
       " • return_code → :success\n",
       " • solution → Complex{Float64}[0.3023372746996572 - 0.22541310502177747im, 0.04059675975725709 - 0.13630156770774363im, -0.018450245889692695 - 0.05036008618875647im]\n",
       " • accuracy → 6.6147e-17\n",
       " • residual → 1.0945e-17\n",
       " • condition_jacobian → 9.5915\n",
       " • steps → 66 / 0\n",
       " • extended_precision → false\n",
       " • path_number → 2\n",
       "\n",
       " PathResult:\n",
       " • return_code → :success\n",
       " • solution → Complex{Float64}[-0.4278366122954059 - 0.3675849864426419im, 0.04792544456237225 + 0.3145326306605453im, 0.09511321293280843 - 0.15218524904788702im]\n",
       " • accuracy → 1.1841e-16\n",
       " • residual → 2.7097e-17\n",
       " • condition_jacobian → 10.767\n",
       " • steps → 47 / 0\n",
       " • extended_precision → false\n",
       " • path_number → 3\n",
       "\n",
       " PathResult:\n",
       " • return_code → :success\n",
       " • solution → Complex{Float64}[0.21440593348959094 - 0.3607415434115559im, -6.56858655152258e-47 + 0.0im, -1.0947644252537633e-47 + 0.0im]\n",
       " • accuracy → 7.5036e-17\n",
       " • residual → 1.0501e-17\n",
       " • condition_jacobian → 4.7939\n",
       " • steps → 56 / 0\n",
       " • extended_precision → false\n",
       " • path_number → 4\n"
      ]
     },
     "execution_count": 168,
     "metadata": {},
     "output_type": "execute_result"
    }
   ],
   "source": [
    "W_twisted2.R # the solutions"
   ]
  },
  {
   "cell_type": "code",
   "execution_count": 169,
   "metadata": {},
   "outputs": [
    {
     "data": {
      "text/plain": [
       "MonodromyResult\n",
       "===============\n",
       "• return_code → :heuristic_stop\n",
       "• 1 solutions\n",
       "• 5 tracked loops\n",
       "• random_seed → 0xe7d9b29b\n",
       "• trace → 0.022318563525307176"
      ]
     },
     "execution_count": 169,
     "metadata": {},
     "output_type": "execute_result"
    }
   ],
   "source": [
    "#calling monodromy_solve with an underdetermined system + a dimension assumes you want witness points\n",
    "# one issue is that your variety may be reducible\n",
    "\n",
    "M=monodromy_solve(TwistedCubic2; dim=1) "
   ]
  },
  {
   "cell_type": "markdown",
   "metadata": {},
   "source": [
    "**Theorem:** Monodromy of $(x,L) \\in \\mathcal V(F) \\cap L \\to L$ is the full symmetric group $S_{deg(\\mathcal V(F))}$ if and only if $V(F)$ is irreducible. Otherwise, it is the product of symmetric groups for each irreducible component. \n",
    "\n",
    "This is why if we start monodromy at a point on the line, we can't get to a point on the twisted cubic."
   ]
  },
  {
   "cell_type": "code",
   "execution_count": 170,
   "metadata": {},
   "outputs": [
    {
     "data": {
      "text/plain": [
       "30-element Array{MonodromyResult{LinearSubspace{Complex{Float64}},LinearSubspace{Complex{Float64}}},1}:\n",
       " MonodromyResult\n",
       "===============\n",
       "• return_code → :success\n",
       "• 3 solutions\n",
       "• 9 tracked loops\n",
       "• random_seed → 0x941575c7\n",
       "• trace → 6.253285507712339e-17\n",
       " MonodromyResult\n",
       "===============\n",
       "• return_code → :success\n",
       "• 3 solutions\n",
       "• 6 tracked loops\n",
       "• random_seed → 0x1ac83f16\n",
       "• trace → 7.015851909750701e-17\n",
       " MonodromyResult\n",
       "===============\n",
       "• return_code → :success\n",
       "• 3 solutions\n",
       "• 9 tracked loops\n",
       "• random_seed → 0xfbaf9fe4\n",
       "• trace → 6.505651488767584e-17\n",
       " MonodromyResult\n",
       "===============\n",
       "• return_code → :success\n",
       "• 3 solutions\n",
       "• 6 tracked loops\n",
       "• random_seed → 0x4f8a058b\n",
       "• trace → 1.0794549116922288e-17\n",
       " MonodromyResult\n",
       "===============\n",
       "• return_code → :success\n",
       "• 3 solutions\n",
       "• 24 tracked loops\n",
       "• random_seed → 0xa28ff0d5\n",
       "• trace → 3.683836174454106e-17\n",
       " MonodromyResult\n",
       "===============\n",
       "• return_code → :success\n",
       "• 3 solutions\n",
       "• 3 tracked loops\n",
       "• random_seed → 0x29dde00a\n",
       "• trace → 9.117106081132545e-18\n",
       " MonodromyResult\n",
       "===============\n",
       "• return_code → :success\n",
       "• 3 solutions\n",
       "• 15 tracked loops\n",
       "• random_seed → 0x944552c3\n",
       "• trace → 4.8855028377350535e-17\n",
       " MonodromyResult\n",
       "===============\n",
       "• return_code → :success\n",
       "• 1 solutions\n",
       "• 1 tracked loops\n",
       "• random_seed → 0x8a544488\n",
       "• trace → 4.096187934707078e-18\n",
       " MonodromyResult\n",
       "===============\n",
       "• return_code → :success\n",
       "• 1 solutions\n",
       "• 1 tracked loops\n",
       "• random_seed → 0xd7ece94f\n",
       "• trace → 6.41382665679046e-18\n",
       " MonodromyResult\n",
       "===============\n",
       "• return_code → :success\n",
       "• 1 solutions\n",
       "• 1 tracked loops\n",
       "• random_seed → 0x8469581b\n",
       "• trace → 2.335522392411756e-18\n",
       " MonodromyResult\n",
       "===============\n",
       "• return_code → :success\n",
       "• 3 solutions\n",
       "• 12 tracked loops\n",
       "• random_seed → 0x83a1ef74\n",
       "• trace → 2.864673193651797e-17\n",
       " MonodromyResult\n",
       "===============\n",
       "• return_code → :success\n",
       "• 1 solutions\n",
       "• 1 tracked loops\n",
       "• random_seed → 0x24f08b50\n",
       "• trace → 7.889951345712985e-18\n",
       " MonodromyResult\n",
       "===============\n",
       "• return_code → :success\n",
       "• 3 solutions\n",
       "• 9 tracked loops\n",
       "• random_seed → 0xb0112c88\n",
       "• trace → 4.879645300021872e-17\n",
       " ⋮\n",
       " MonodromyResult\n",
       "===============\n",
       "• return_code → :success\n",
       "• 3 solutions\n",
       "• 9 tracked loops\n",
       "• random_seed → 0x7ec6de2c\n",
       "• trace → 5.205515996440072e-17\n",
       " MonodromyResult\n",
       "===============\n",
       "• return_code → :success\n",
       "• 1 solutions\n",
       "• 1 tracked loops\n",
       "• random_seed → 0xecf1b12a\n",
       "• trace → 9.526820068441873e-18\n",
       " MonodromyResult\n",
       "===============\n",
       "• return_code → :success\n",
       "• 1 solutions\n",
       "• 1 tracked loops\n",
       "• random_seed → 0x5ed5d086\n",
       "• trace → 0.0\n",
       " MonodromyResult\n",
       "===============\n",
       "• return_code → :success\n",
       "• 3 solutions\n",
       "• 12 tracked loops\n",
       "• random_seed → 0xc51554e0\n",
       "• trace → 1.1773928332103041e-17\n",
       " MonodromyResult\n",
       "===============\n",
       "• return_code → :success\n",
       "• 1 solutions\n",
       "• 1 tracked loops\n",
       "• random_seed → 0x5e213dcf\n",
       "• trace → 6.738555833188422e-18\n",
       " MonodromyResult\n",
       "===============\n",
       "• return_code → :heuristic_stop\n",
       "• 2 solutions\n",
       "• 12 tracked loops\n",
       "• random_seed → 0x42f7a095\n",
       "• trace → 0.006352742572980654\n",
       " MonodromyResult\n",
       "===============\n",
       "• return_code → :success\n",
       "• 3 solutions\n",
       "• 3 tracked loops\n",
       "• random_seed → 0x44806d49\n",
       "• trace → 3.4603921068544563e-17\n",
       " MonodromyResult\n",
       "===============\n",
       "• return_code → :success\n",
       "• 3 solutions\n",
       "• 9 tracked loops\n",
       "• random_seed → 0x89249b7d\n",
       "• trace → 3.2092361555991886e-17\n",
       " MonodromyResult\n",
       "===============\n",
       "• return_code → :success\n",
       "• 1 solutions\n",
       "• 1 tracked loops\n",
       "• random_seed → 0x19848f0b\n",
       "• trace → 0.0\n",
       " MonodromyResult\n",
       "===============\n",
       "• return_code → :heuristic_stop\n",
       "• 1 solutions\n",
       "• 5 tracked loops\n",
       "• random_seed → 0xa0400cf5\n",
       "• trace → 0.047363102947672084\n",
       " MonodromyResult\n",
       "===============\n",
       "• return_code → :success\n",
       "• 3 solutions\n",
       "• 3 tracked loops\n",
       "• random_seed → 0x85012975\n",
       "• trace → 3.702219228384875e-17\n",
       " MonodromyResult\n",
       "===============\n",
       "• return_code → :success\n",
       "• 3 solutions\n",
       "• 9 tracked loops\n",
       "• random_seed → 0x4084fe9a\n",
       "• trace → 3.774894245965861e-17"
      ]
     },
     "execution_count": 170,
     "metadata": {},
     "output_type": "execute_result"
    }
   ],
   "source": [
    "MS_list=[monodromy_solve(TwistedCubic2; dim=1) for i in 1:30]"
   ]
  },
  {
   "cell_type": "markdown",
   "metadata": {},
   "source": [
    "Notice that `return_code` can either be `success` or `heuristic_stop` (in our previous monodromy lecture, we only saw `heuristic_stop`)"
   ]
  },
  {
   "cell_type": "markdown",
   "metadata": {},
   "source": [
    "### Trace test\n",
    "`success` means it satisfied some given stopping criterion. In the case of witness sets, this is the **trace test**\n",
    "\n",
    "The **trace** of a subset of points in $\\mathbb{C}^n$ is their coordinate-wise average.\n",
    "\n",
    "**Lemma**: Let $X$ be an irreducible variety and $L_t$ be a parallel family of affine linear spaces of complementary dimension. Let $S_0 \\subset X \\cap L_0$ and $S_t$ its continuation as $L_t$ moves. Then the trace of $S_t$ move linearly if and only if $S_t = X \\cap L_0$."
   ]
  },
  {
   "cell_type": "markdown",
   "metadata": {},
   "source": [
    "\n",
    "<img src=\"TraceExample1.png\" width=\"600\">"
   ]
  },
  {
   "cell_type": "markdown",
   "metadata": {},
   "source": [
    "Now let's try moving a witness set and verifying this ourselves"
   ]
  },
  {
   "cell_type": "code",
   "execution_count": 37,
   "metadata": {},
   "outputs": [
    {
     "data": {
      "text/plain": [
       "1×3 Array{Complex{Float64},2}:\n",
       " -0.101215-0.534835im  -0.746532+0.375746im  0.0623277-0.0364253im"
      ]
     },
     "execution_count": 37,
     "metadata": {},
     "output_type": "execute_result"
    }
   ],
   "source": [
    "W_twisted2\n",
    "#Here is the normal vector to the hyperplane L in our witness set W_twisted2=(F,L,S)\n",
    "W_twisted2.L.extrinsic.A"
   ]
  },
  {
   "cell_type": "code",
   "execution_count": 67,
   "metadata": {},
   "outputs": [],
   "source": [
    "L₁ = W_twisted2.L\n",
    "L₂ = LinearSubspace(L₁.extrinsic.A, L₁.extrinsic.b+[1])\n",
    "L₃ = LinearSubspace(L₁.extrinsic.A, L₁.extrinsic.b+[2]);"
   ]
  },
  {
   "cell_type": "code",
   "execution_count": 73,
   "metadata": {},
   "outputs": [
    {
     "name": "stdout",
     "output_type": "stream",
     "text": [
      "First trace: \n",
      "Complex{Float64}[0.5846205092777977 - 0.1742132031244481im, 0.7846457146465493 + 3.8959697965649176im, -2.748293583288453 + 4.2871991765375475im]\n",
      "Second trace: \n",
      "Complex{Float64}[-0.2664435067199723 + 0.6681145980447039im, 0.7846457146465498 + 3.895969796564917im, 2.3869545713973315 + 8.350359425366838im]\n",
      "Third trace: \n",
      "Complex{Float64}[-1.1175075227177427 + 1.510442399213856im, 0.7846457146465502 + 3.895969796564917im, 7.5222027260831155 + 12.41351967419613im]\n"
     ]
    }
   ],
   "source": [
    "trace₁=sum(solutions(witness_set(W_twisted2,L₁)))\n",
    "println(\"First trace: \\n\",trace₁)\n",
    "trace₂=sum(solutions(witness_set(W_twisted2,L₂)))\n",
    "println(\"Second trace: \\n\",trace₂)\n",
    "trace₃=sum(solutions(witness_set(W_twisted2,L₃)))\n",
    "println(\"Third trace: \\n\",trace₃)"
   ]
  },
  {
   "cell_type": "code",
   "execution_count": 74,
   "metadata": {},
   "outputs": [
    {
     "data": {
      "text/plain": [
       "3-element Array{Complex{Float64},1}:\n",
       " -3.3306690738754696e-16 + 2.220446049250313e-16im\n",
       "                     0.0 + 0.0im\n",
       "                     0.0 + 0.0im"
      ]
     },
     "execution_count": 74,
     "metadata": {},
     "output_type": "execute_result"
    }
   ],
   "source": [
    "# here we check trace2 is the midpoint of trace1 and trace3\n",
    "(trace₁+trace₃)-2*trace₂"
   ]
  },
  {
   "cell_type": "markdown",
   "metadata": {},
   "source": [
    "We can find out which solution is the one on the line by checking traces of subsets"
   ]
  },
  {
   "cell_type": "code",
   "execution_count": 80,
   "metadata": {},
   "outputs": [
    {
     "data": {
      "text/plain": [
       "3-element Array{Complex{Float64},1}:\n",
       " 0.6266838023996777 + 0.22096311051311313im\n",
       " 0.7846457146465502 + 3.895969796564917im\n",
       " 7.5222027260831155 + 12.41351967419613im"
      ]
     },
     "execution_count": 80,
     "metadata": {},
     "output_type": "execute_result"
    }
   ],
   "source": [
    "I=[3]\n",
    "trace₁=sum(solutions(witness_set(W_twisted2,L₁))[I])\n",
    "trace₂=sum(solutions(witness_set(W_twisted2,L₂))[I])\n",
    "trace₃=sum(solutions(witness_set(W_twisted2,L₃))[I])"
   ]
  },
  {
   "cell_type": "code",
   "execution_count": 81,
   "metadata": {},
   "outputs": [
    {
     "data": {
      "text/plain": [
       "3-element Array{Complex{Float64},1}:\n",
       " -2.220446049250313e-16 + 3.3306690738754696e-16im\n",
       "                    0.0 + 0.0im\n",
       "                    0.0 + 0.0im"
      ]
     },
     "execution_count": 81,
     "metadata": {},
     "output_type": "execute_result"
    }
   ],
   "source": [
    "# here we check trace2 is the midpoint of trace1 and trace 3\n",
    "(trace₁+trace₃)-2*trace₂"
   ]
  },
  {
   "cell_type": "markdown",
   "metadata": {},
   "source": [
    "### So what can we do with witness sets?\n",
    "\n",
    "1) Move $(F,L,S) \\to (F,L',S')$\n",
    "\n",
    "2) Sample from $X$\n",
    "\n",
    "3) Test membership for $x \\in X$\n"
   ]
  },
  {
   "cell_type": "markdown",
   "metadata": {},
   "source": [
    "#### Moving a witness set (this truly is the fundamental operation which makes everything work)"
   ]
  },
  {
   "cell_type": "code",
   "execution_count": 96,
   "metadata": {},
   "outputs": [
    {
     "data": {
      "text/plain": [
       "2-dim. affine linear subspace {x | Ax=b} with eltype Float64:\n",
       "A:\n",
       "[-0.2672612419124243 -0.5345224838248488 -0.8017837257372732]\n",
       "b:\n",
       "[-1.3363062095621219]"
      ]
     },
     "execution_count": 96,
     "metadata": {},
     "output_type": "execute_result"
    }
   ],
   "source": [
    "L = LinearSubspace([1,2,3]',[5])"
   ]
  },
  {
   "cell_type": "code",
   "execution_count": 99,
   "metadata": {},
   "outputs": [
    {
     "data": {
      "text/plain": [
       "Witness set for dimension 1 of degree 3"
      ]
     },
     "execution_count": 99,
     "metadata": {},
     "output_type": "execute_result"
    }
   ],
   "source": [
    "newW=witness_set(W_twisted,L)"
   ]
  },
  {
   "cell_type": "markdown",
   "metadata": {},
   "source": [
    "#### We can also move it to a special slice (but this technically is not a witness set if we don't have the correct # of points)"
   ]
  },
  {
   "cell_type": "code",
   "execution_count": 104,
   "metadata": {},
   "outputs": [
    {
     "data": {
      "text/plain": [
       "Witness set for dimension 1 of degree 3"
      ]
     },
     "execution_count": 104,
     "metadata": {},
     "output_type": "execute_result"
    }
   ],
   "source": [
    "special_Lx = LinearSubspace([0,1,3]',[2])\n",
    "specialSlicex=witness_set(W_twisted,special_Lx)"
   ]
  },
  {
   "cell_type": "code",
   "execution_count": 105,
   "metadata": {},
   "outputs": [
    {
     "data": {
      "text/plain": [
       "Witness set for dimension 1 of degree 3"
      ]
     },
     "execution_count": 105,
     "metadata": {},
     "output_type": "execute_result"
    }
   ],
   "source": [
    "special_Ly = LinearSubspace([2,0,4]',[3])\n",
    "specialSlicey=witness_set(W_twisted,special_Ly)"
   ]
  },
  {
   "cell_type": "code",
   "execution_count": 107,
   "metadata": {},
   "outputs": [
    {
     "data": {
      "text/plain": [
       "Witness set for dimension 1 of degree 2"
      ]
     },
     "execution_count": 107,
     "metadata": {},
     "output_type": "execute_result"
    }
   ],
   "source": [
    "#Warning: not a witness set\n",
    "special_Lz = LinearSubspace([3,-2,0]',[3])\n",
    "specialSlicez=witness_set(W_twisted,special_Lz)"
   ]
  },
  {
   "cell_type": "code",
   "execution_count": 112,
   "metadata": {},
   "outputs": [
    {
     "data": {
      "text/plain": [
       "2-element Array{Array{Complex{Float64},1},1}:\n",
       " [-0.36404106153397714 - 0.9474057649435931im, -0.7650517889655698 + 0.6897892007469505im, 0.9320205307669887 + 0.47370288247179654im]\n",
       " [-0.36404106153397714 + 0.9474057649435931im, -0.7650517889655698 - 0.6897892007469505im, 0.9320205307669887 - 0.47370288247179654im]"
      ]
     },
     "execution_count": 112,
     "metadata": {},
     "output_type": "execute_result"
    }
   ],
   "source": [
    "#And if we try to move from this slice, we won't get the right answer\n",
    "moveback=witness_set(specialSlicez,special_Ly)"
   ]
  },
  {
   "cell_type": "markdown",
   "metadata": {},
   "source": [
    "#### Sampling points"
   ]
  },
  {
   "cell_type": "code",
   "execution_count": 128,
   "metadata": {},
   "outputs": [
    {
     "data": {
      "text/plain": [
       "3"
      ]
     },
     "execution_count": 128,
     "metadata": {},
     "output_type": "execute_result"
    }
   ],
   "source": [
    "length(solutions(W_twisted)[1])"
   ]
  },
  {
   "cell_type": "code",
   "execution_count": 133,
   "metadata": {},
   "outputs": [
    {
     "data": {
      "text/plain": [
       "sample (generic function with 1 method)"
      ]
     },
     "execution_count": 133,
     "metadata": {},
     "output_type": "execute_result"
    }
   ],
   "source": [
    "function sample(W::WitnessSet)\n",
    "    n=length(solutions(W)[1]) #number of variables\n",
    "    randomLinear = LinearSubspace(randn(ComplexF64,dim(W),n),randn(ComplexF64,dim(W)))\n",
    "    newWitness=witness_set(W,randomLinear)\n",
    "    s=solutions(newWitness)[1]\n",
    "    return s\n",
    "end"
   ]
  },
  {
   "cell_type": "code",
   "execution_count": 139,
   "metadata": {},
   "outputs": [
    {
     "data": {
      "text/plain": [
       "3-element Array{Complex{Float64},1}:\n",
       "  1.457236954966447 - 0.11384846101564677im\n",
       " 2.1105780708442516 - 0.3318083693161147im\n",
       " 3.0378364889772844 - 0.7238094829535879im"
      ]
     },
     "execution_count": 139,
     "metadata": {},
     "output_type": "execute_result"
    }
   ],
   "source": [
    "sample(W_twisted)"
   ]
  },
  {
   "cell_type": "markdown",
   "metadata": {},
   "source": [
    "#### Membership"
   ]
  },
  {
   "cell_type": "code",
   "execution_count": 141,
   "metadata": {},
   "outputs": [
    {
     "data": {
      "text/plain": [
       "1-element Array{Complex{Float64},1}:\n",
       " 0.346306699053596 - 0.22843871867509266im"
      ]
     },
     "execution_count": 141,
     "metadata": {},
     "output_type": "execute_result"
    }
   ],
   "source": [
    "A=randn(ComplexF64,1,3)\n",
    "A*sample(W_twisted)"
   ]
  },
  {
   "cell_type": "code",
   "execution_count": 150,
   "metadata": {},
   "outputs": [
    {
     "data": {
      "text/plain": [
       "membership (generic function with 1 method)"
      ]
     },
     "execution_count": 150,
     "metadata": {},
     "output_type": "execute_result"
    }
   ],
   "source": [
    "function membership(W::WitnessSet,p)\n",
    "    n=length(solutions(W)[1]) #number of variables\n",
    "    A=randn(ComplexF64,dim(W),n)\n",
    "    randomLinearThroughP = LinearSubspace(A,A*p)\n",
    "    newWitness=witness_set(W,randomLinearThroughP)\n",
    "    check=findfirst(x->x≈p,solutions(newWitness))\n",
    "    if check==nothing\n",
    "        return false\n",
    "    else\n",
    "        return true\n",
    "    end\n",
    "end\n",
    "    "
   ]
  },
  {
   "cell_type": "code",
   "execution_count": 151,
   "metadata": {},
   "outputs": [
    {
     "data": {
      "text/plain": [
       "true"
      ]
     },
     "execution_count": 151,
     "metadata": {},
     "output_type": "execute_result"
    }
   ],
   "source": [
    "membership(W_twisted,[2,4,8])"
   ]
  },
  {
   "cell_type": "code",
   "execution_count": 153,
   "metadata": {},
   "outputs": [
    {
     "name": "stdout",
     "output_type": "stream",
     "text": [
      "true\n",
      "true\n",
      "false\n",
      "true\n"
     ]
    }
   ],
   "source": [
    "#here we see again which solution in the twistedcubic+line is not on the twisted cubic\n",
    "for s in solutions(W_twisted2)\n",
    "    println(membership(W_twisted,s))\n",
    "end"
   ]
  },
  {
   "cell_type": "markdown",
   "metadata": {},
   "source": [
    "### Why a linear intersection?\n",
    "\n",
    "If you have a strong background in algebraic geometry, you may like to think of a witness set as representing some intersection class in projective space. This viewpoint is explored in\n",
    "\n",
    "*General witness sets for numerical algebraic geometry* Frank Sottile, 2020 https://arxiv.org/pdf/2002.00180.pdf\n",
    "\n",
    "\n",
    "### Why is this so powerful?\n",
    "\n",
    "One of the main reasons: **pseudo-witness sets** are easy to compute"
   ]
  },
  {
   "cell_type": "markdown",
   "metadata": {},
   "source": [
    "**Definition:** A pseudo witness set for an (irreducible) variety $X\\subset \\mathbb{C}^n$ is a quadruple \n",
    "$$(F,\\pi,\\pi^{-1}(L),S)$$\n",
    "where \n",
    "- $\\pi:\\mathbb{C}^N \\to \\mathbb{C}^n$ (really this works with any map by factoring through the graph)\n",
    "- $X$ is a component of $\\pi(\\mathcal{V}(F))$ of the same dimension as $\\mathcal{V}(F)$\n",
    "- $L$ is a linear space of complementary dimension (to $X$) in $\\mathbb{C}^n$\n",
    "- $S = \\pi^{-1}(L) \\cap \\mathcal V(F)$ (note! this is in $\\mathbb{C}^N$)"
   ]
  },
  {
   "cell_type": "markdown",
   "metadata": {},
   "source": [
    "Below is a picture of the pseudo-witness set for the projection of the twisted cubic onto the $(x,y)$-plane\n",
    "\n",
    "<img src=\"PseudoWitness.png\" width=\"500\">\n",
    "\n",
    "The points in $S$ are those which are upstairs, but it is obvious that applying $\\pi$ gives the points downstairs\n",
    "\n",
    "Be careful about the following situation; you'll need to slice once upstairs.\n",
    "\n",
    "<img src=\"Careful.png\" width=\"500\">"
   ]
  },
  {
   "cell_type": "markdown",
   "metadata": {},
   "source": [
    "\n",
    "### For images of maps\n",
    "\n",
    "If $\\varphi:\\mathbb{C}_y^d \\to \\mathbb{C}_x^n$ is some map, you can compute a pseudo witness set for $\\overline{\\varphi(\\mathbb{C}^d)}$ by taking $F = (x_1-\\varphi_1(y),\\ldots,x_n-\\varphi_n(y))$ and $\\pi:\\mathbb{C}^{d+n} \\to \\mathbb{C}^n$ sending $\\pi(y,x)=x$.\n",
    "\n",
    "Note: If you've studied symbolic computational algebraic geometry, this is elimination...which is hard"
   ]
  },
  {
   "cell_type": "code",
   "execution_count": 155,
   "metadata": {},
   "outputs": [
    {
     "name": "stdout",
     "output_type": "stream",
     "text": [
      "\r",
      "\u001b[32mTracking 2 paths... 100%|███████████████████████████████| Time: 0:00:02\u001b[39m\r\n",
      "\u001b[34m  # paths tracked:                  2\u001b[39m\r\n",
      "\u001b[34m  # non-singular solutions (real):  2 (0)\u001b[39m\r\n",
      "\u001b[34m  # singular endpoints (real):      0 (0)\u001b[39m\r\n",
      "\u001b[34m  # total solutions (real):         2 (0)\u001b[39m\n"
     ]
    },
    {
     "data": {
      "text/plain": [
       "Witness set for dimension 1 of degree 2"
      ]
     },
     "execution_count": 155,
     "metadata": {},
     "output_type": "execute_result"
    }
   ],
   "source": [
    "W_parabola = witness_set(System([y-x^2]))"
   ]
  },
  {
   "cell_type": "markdown",
   "metadata": {},
   "source": [
    "The parabola is parametrized by the first two coordinates of the twisted cubic"
   ]
  },
  {
   "cell_type": "code",
   "execution_count": 161,
   "metadata": {},
   "outputs": [
    {
     "name": "stdout",
     "output_type": "stream",
     "text": [
      "Complex{Float64}[-0.649266982668212 + 0.5004085823698871im 0.5620539810837469 - 0.11017694066993688im]\n"
     ]
    },
    {
     "data": {
      "text/plain": [
       "Witness set for dimension 1 of degree 2"
      ]
     },
     "execution_count": 161,
     "metadata": {},
     "output_type": "execute_result"
    }
   ],
   "source": [
    "println(W_parabola.L.extrinsic.A)\n",
    "Slice_For_Cubic=LinearSubspace(hcat(W_parabola.L.extrinsic.A,[0]),W_parabola.L.extrinsic.b)\n",
    "PseudoWitness=witness_set(W_twisted,Slice_For_Cubic)"
   ]
  },
  {
   "cell_type": "code",
   "execution_count": 163,
   "metadata": {},
   "outputs": [
    {
     "name": "stdout",
     "output_type": "stream",
     "text": [
      "Array{Complex{Float64},1}[[1.5834270985288863 - 1.131631007667107im, 1.2266526388419356 - 3.5837104061512948im], [-0.3029371480886612 + 0.49231854095540273im, -0.1506066300763651 - 0.2982831494964009im]]\n"
     ]
    }
   ],
   "source": [
    "println([s[1:2] for s in solutions(PseudoWitness)])"
   ]
  },
  {
   "cell_type": "code",
   "execution_count": 164,
   "metadata": {},
   "outputs": [
    {
     "name": "stdout",
     "output_type": "stream",
     "text": [
      "Array{Complex{Float64},1}[[1.5834270985288865 - 1.1316310076671072im, 1.2266526388419359 - 3.5837104061512957im], [-0.3029371480886612 + 0.49231854095540273im, -0.1506066300763651 - 0.2982831494964009im]]\n"
     ]
    }
   ],
   "source": [
    "println(solutions(W_parabola))"
   ]
  },
  {
   "cell_type": "markdown",
   "metadata": {},
   "source": [
    "You can move the witness set by moving the pseudo-witness set."
   ]
  },
  {
   "cell_type": "markdown",
   "metadata": {},
   "source": [
    "### Numerical irreducible decomposition (of equidimensional varieties)\n",
    "\n",
    "One of the most important algorithms in numerical algebraic geometry is taking a polynomial systme $F$ and computing a witness set for every irreducible component of $\\mathcal V(F)$. This is called a **numerical irreducible decomposition**. We will go through how it works for equidimensional varieties"
   ]
  },
  {
   "cell_type": "markdown",
   "metadata": {},
   "source": [
    "#### Step 1: compute a witness superset \n",
    "\n",
    "$\\mathcal V(F) \\to (F,L,S)$"
   ]
  },
  {
   "cell_type": "markdown",
   "metadata": {},
   "source": [
    "#### Step 2: \n",
    "\n",
    "Using monodromy, identify solutions as belonging to the same component until the trace test passes.\n",
    "\n",
    "$p \\in S \\to S_p=\\{q \\in S \\mid q \\text{ was found via monodromy starting from } p\\}$"
   ]
  },
  {
   "cell_type": "markdown",
   "metadata": {},
   "source": [
    "#### Step 3: \n",
    "\n",
    "If $S \\backslash \\bigcup_{p \\text{ done in step 2}} S_p \\neq \\emptyset$ pick some $q$ not identified and repeat step 2"
   ]
  },
  {
   "cell_type": "markdown",
   "metadata": {},
   "source": [
    "#### Output: \n",
    "\n",
    "Set $W_p = (F,L,S_p)$ and output the union of all $W_p$"
   ]
  },
  {
   "cell_type": "markdown",
   "metadata": {},
   "source": [
    "### Other things you can do with witness sets\n",
    "\n",
    "Given a witness set $W$ for $X$ you can also...\n",
    "\n",
    "- find a witness set for $X \\cap \\mathcal V(f)$\n",
    "- recover equations for $X$\n",
    "- compute the Newton polytope of $X$ (when $X$ is a hypersurface)\n",
    "- describe the real points of $X$\n",
    "- much more..."
   ]
  },
  {
   "cell_type": "code",
   "execution_count": null,
   "metadata": {},
   "outputs": [],
   "source": []
  }
 ],
 "metadata": {
  "kernelspec": {
   "display_name": "Julia 1.5.2",
   "language": "julia",
   "name": "julia-1.5"
  },
  "language_info": {
   "file_extension": ".jl",
   "mimetype": "application/julia",
   "name": "julia",
   "version": "1.5.2"
  }
 },
 "nbformat": 4,
 "nbformat_minor": 2
}
