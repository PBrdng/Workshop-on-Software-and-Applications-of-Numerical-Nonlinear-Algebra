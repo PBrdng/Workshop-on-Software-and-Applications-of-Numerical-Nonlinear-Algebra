{
 "cells": [
  {
   "cell_type": "markdown",
   "metadata": {},
   "source": [
    "# Lecture: Witness Sets"
   ]
  },
  {
   "cell_type": "code",
   "execution_count": 46,
   "metadata": {},
   "outputs": [],
   "source": [
    "using HomotopyContinuation"
   ]
  },
  {
   "cell_type": "markdown",
   "metadata": {},
   "source": [
    "So far, we've seen that numerical methods are very good at solving **zero-dimensional polynomial systems**"
   ]
  },
  {
   "cell_type": "markdown",
   "metadata": {},
   "source": [
    "**Question**: What do we do if we are interested in a **positive-dimensional** set of solutions?\n",
    "\n",
    "**Answer**: Slice it with enough hyperplanes until we have a zero-dimensional solution set.\n"
   ]
  },
  {
   "cell_type": "markdown",
   "metadata": {},
   "source": [
    "\n",
    "<img src=\"SimpleWitness.png\" width=\"300\">"
   ]
  },
  {
   "cell_type": "markdown",
   "metadata": {},
   "source": [
    "The data in such a *slice* is called a **witness set**.\n",
    "\n",
    "A witness set for an irreducible variety $X \\subset \\mathbb{C}^n$ is a triple \n",
    "$$W=(F,L,S)$$\n",
    "where \n",
    "    \n",
    "- $\\color{blue}{F}$ is a polynomial system for which $X$ is a component, \n",
    "- $\\color{green}{L}$ is a generic affine linear space of complementary dimension\n",
    "- $\\color{red}{S} = X \\cap L$\n",
    "\n"
   ]
  },
  {
   "cell_type": "markdown",
   "metadata": {},
   "source": [
    "<p style=\"border:3px; border-style:solid; padding: 0.5em; text-align:center\">\n",
    "How is this a good representation of the variety $X$?\n",
    "</p>\n",
    "\n",
    "\n",
    "Given a witness set $W=(F,L,S)$ for $X$...\n",
    "\n",
    "Certain information about $X$ become obvious:\n",
    "- dimension (equals the codimension of $L$)\n",
    "- degree (equals the number of points in $S$)\n",
    "\n",
    "Certain algorithms become almost trivial\n",
    "\n",
    "- Membership: is $p$ contained in $X$?\n",
    "\n",
    "- Sampling: find $100000$ points on $X$\n",
    "\n",
    "- Find a (pseudo) witness set for a projection of $X$\n",
    "\n",
    "One major advantage (compared to symbolic representations) is that they can be computed fast. \n",
    "\n",
    "One major disadvantage is that it can be difficult to prove things (but not impossible)"
   ]
  },
  {
   "cell_type": "markdown",
   "metadata": {},
   "source": [
    "<hr style=\"border:1px solid gray\"> </hr>"
   ]
  },
  {
   "cell_type": "markdown",
   "metadata": {},
   "source": [
    "## Constructing a witness set using homotopycontinuation.jl"
   ]
  },
  {
   "cell_type": "code",
   "execution_count": 47,
   "metadata": {},
   "outputs": [
    {
     "data": {
      "text/plain": [
       "System of length 3\n",
       " 3 variables: x, y, z\n",
       "\n",
       " -x*z + y^2\n",
       " -z + x*y\n",
       " -y + x^2"
      ]
     },
     "execution_count": 47,
     "metadata": {},
     "output_type": "execute_result"
    }
   ],
   "source": [
    "@var x y z\n",
    "TwistedCubic=System([y^2-x*z,x*y-z,x^2-y])"
   ]
  },
  {
   "cell_type": "code",
   "execution_count": 177,
   "metadata": {},
   "outputs": [
    {
     "data": {
      "text/plain": [
       "Witness set for dimension 1 of degree 3"
      ]
     },
     "execution_count": 177,
     "metadata": {},
     "output_type": "execute_result"
    }
   ],
   "source": [
    "#Try the following without codimension: you get an error because it expects the dimension to be zero.\n",
    "W_twisted=witness_set(TwistedCubic; codim=2)"
   ]
  },
  {
   "cell_type": "code",
   "execution_count": 178,
   "metadata": {},
   "outputs": [
    {
     "data": {
      "text/plain": [
       "3"
      ]
     },
     "execution_count": 178,
     "metadata": {},
     "output_type": "execute_result"
    }
   ],
   "source": [
    "#Degree of the twisted cubic\n",
    "degree(W_twisted)"
   ]
  },
  {
   "cell_type": "code",
   "execution_count": 179,
   "metadata": {},
   "outputs": [
    {
     "data": {
      "text/plain": [
       "1"
      ]
     },
     "execution_count": 179,
     "metadata": {},
     "output_type": "execute_result"
    }
   ],
   "source": [
    "#Dimension of the twisted cubic\n",
    "dim(W_twisted)"
   ]
  },
  {
   "cell_type": "code",
   "execution_count": 180,
   "metadata": {},
   "outputs": [
    {
     "data": {
      "text/plain": [
       "2-dim. affine linear subspace {x | Ax=b} with eltype Complex{Float64}:\n",
       "A:\n",
       "Complex{Float64}[-0.1829742479854597 + 0.7548882493402352im 0.24815572302119737 - 0.44967207103529405im 0.3511647255505307 + 0.09778167913196648im]\n",
       "b:\n",
       "Complex{Float64}[0.23506515634712388 + 0.25175255380489947im]"
      ]
     },
     "execution_count": 180,
     "metadata": {},
     "output_type": "execute_result"
    }
   ],
   "source": [
    "#Generic linear space used to slice the twisted cubic\n",
    "W_twisted.L"
   ]
  },
  {
   "cell_type": "code",
   "execution_count": 181,
   "metadata": {},
   "outputs": [
    {
     "data": {
      "text/plain": [
       "3-element Array{Array{Complex{Float64},1},1}:\n",
       " [-1.2318922827570007 + 1.9750827058453988im, -2.383393098613327 - 4.866178286275525im, 12.547188141741241 + 1.2872089870800463im]\n",
       " [0.8378937395228422 - 0.13041748804292835im, 0.6850571975441452 - 0.21855199351092955im, 0.5455021350368323 - 0.27246678599248036im]\n",
       " [0.06908492478284081 - 0.4736770883269493im, -0.21959725717364575 - 0.06544789203684467im, -0.04617202693150863 + 0.09949672668403586im]"
      ]
     },
     "execution_count": 181,
     "metadata": {},
     "output_type": "execute_result"
    }
   ],
   "source": [
    "#Witness points\n",
    "solutions(W_twisted)"
   ]
  },
  {
   "cell_type": "markdown",
   "metadata": {},
   "source": [
    "## Some simple algorithms involving witness sets"
   ]
  },
  {
   "cell_type": "markdown",
   "metadata": {},
   "source": [
    "### Moving the linear space (this is the fundamental operation)"
   ]
  },
  {
   "cell_type": "code",
   "execution_count": 182,
   "metadata": {},
   "outputs": [
    {
     "data": {
      "text/plain": [
       "2-dim. affine linear subspace {x | Ax=b} with eltype Float64:\n",
       "A:\n",
       "[-0.2672612419124243 -0.5345224838248488 -0.8017837257372732]\n",
       "b:\n",
       "[-1.3363062095621219]"
      ]
     },
     "execution_count": 182,
     "metadata": {},
     "output_type": "execute_result"
    }
   ],
   "source": [
    "L2 = LinearSubspace([1,2,3]',[5])"
   ]
  },
  {
   "cell_type": "code",
   "execution_count": 183,
   "metadata": {},
   "outputs": [
    {
     "data": {
      "text/plain": [
       "Witness set for dimension 1 of degree 3"
      ]
     },
     "execution_count": 183,
     "metadata": {},
     "output_type": "execute_result"
    }
   ],
   "source": [
    "W_twisted2=witness_set(W_twisted,L2)"
   ]
  },
  {
   "cell_type": "code",
   "execution_count": 184,
   "metadata": {},
   "outputs": [
    {
     "data": {
      "text/plain": [
       "3-element Array{Array{Complex{Float64},1},1}:\n",
       " [0.9241438381955056 - 1.793662034335766e-43im, 0.8540418336747209 - 1.3452465257518244e-43im, 0.7892574981516842 + 0.0im]\n",
       " [-0.7954052524310862 - 1.0820358328370792im, -0.5381320279484715 + 1.7213139695145148im, 2.290556436109343 - 0.786864035397317im]\n",
       " [-0.7954052524310862 + 1.0820358328370792im, -0.5381320279484714 - 1.721313969514515im, 2.290556436109343 + 0.7868640353973171im]"
      ]
     },
     "execution_count": 184,
     "metadata": {},
     "output_type": "execute_result"
    }
   ],
   "source": [
    "solutions(W_twisted2)"
   ]
  },
  {
   "cell_type": "markdown",
   "metadata": {},
   "source": [
    "### Sampling"
   ]
  },
  {
   "cell_type": "code",
   "execution_count": 185,
   "metadata": {},
   "outputs": [
    {
     "data": {
      "text/plain": [
       "sample (generic function with 1 method)"
      ]
     },
     "execution_count": 185,
     "metadata": {},
     "output_type": "execute_result"
    }
   ],
   "source": [
    "function sample(W::WitnessSet)\n",
    "    n=length(solutions(W)[1]) #number of variables\n",
    "    randomLinear = LinearSubspace(randn(ComplexF64,dim(W),n),randn(ComplexF64,dim(W)))\n",
    "    newWitness=witness_set(W,randomLinear)\n",
    "    s=solutions(newWitness)[1]\n",
    "    return s\n",
    "end"
   ]
  },
  {
   "cell_type": "code",
   "execution_count": 186,
   "metadata": {},
   "outputs": [
    {
     "data": {
      "text/plain": [
       "100-element Array{Array{Complex{Float64},1},1}:\n",
       " [0.30092071057189734 + 0.9811339155709625im, -0.8720704862325129 + 0.5904870300796039im, -0.8417709223017383 - 0.6779281541361348im]\n",
       " [0.5283859660628376 - 0.836636420428293im, -0.4207687708549093 - 0.884133886502716im, -0.962026923460231 - 0.11513345947256473im]\n",
       " [-0.5526892557128238 + 0.36316100467021534im, 0.17357949806731499 - 0.40143037075020527im, 0.04984833315295171 + 0.2849035577387317im]\n",
       " [-0.671315087394244 + 0.4355727688561184im, 0.2609403095941558 - 0.5848131427823958im, 0.0795555131252949 + 0.5062523792123658im]\n",
       " [-0.6443992898101225 + 1.611891627285316im, -2.1829441734047146 - 2.077403639747081im, 4.755237208437503 - 2.179992005840342im]\n",
       " [-0.7586795016191666 - 0.01582189205117807im, 0.575344253909028 + 0.02400749035212006im, -0.43612204789438175 - 0.027317025493087628im]\n",
       " [-0.9636290636586927 - 0.8246387820105335im, 0.24855185153191242 + 1.5892917947309104im, 1.0710798619039017 - 1.7364532601507296im]\n",
       " [-4.75678809265784 - 2.1488653428858284im, 18.00941069659558 + 20.44339415152883im, -41.73684917417545 - 135.94469236521485im]\n",
       " [-3.219785885753673 + 0.8288971044627628im, 9.679950740311812 - 5.337742395382582im, -26.742929552546038 + 25.210070766428476im]\n",
       " [-1.0742552359783624 - 0.8859895135331305im, 0.36904689393625384 + 1.903557747869775im, 1.2900816448847914 - 2.3718785556657793im]\n",
       " [-0.18396549112553492 + 1.3719584678511716im, -1.8484267355834747 - 0.5047860266841544im, 1.0325921959834563 - 2.4431015027739886im]\n",
       " [-0.9559809586952166 + 1.125375056094361im, -0.3525694234915605 - 2.151674250033541im, 2.7584901853043697 + 1.660186777607904im]\n",
       " [-1.4053228855800834 - 0.24482868266412075im, 1.9149913288800837 + 0.6881267015886254im, -2.5227079863066484 - 1.4358850062841568im]\n",
       " ⋮\n",
       " [-0.525000853970018 + 0.8019899894461677im, -0.3675620465026161 - 0.8420908586692877im, 0.8683188271577372 + 0.1473173381262769im]\n",
       " [0.5004678948581583 + 1.4656359532821956im, -1.8976206337696537 + 1.4670074803351412im, -3.0997971107352096 - 2.047030881118451im]\n",
       " [-1.226039403298719 - 0.9637163428988886im, 0.5744234288706703 + 2.363108419993954im, 1.5731004464167435 - 3.450845283326248im]\n",
       " [-0.6745236147473798 - 0.8022208295348521im, -0.1885761524877145 + 1.08223378752698im, 0.9953895548117049 - 0.5787125288852613im]\n",
       " [-1.2429711073771539 - 1.1738498629590028im, 0.16705367300551877 + 2.918122928113344im, 3.2177953103362813 - 3.823238418584032im]\n",
       " [6.100445819680404 + 8.000308917288107im, -26.789503573183485 + 97.61090218124417im, -944.3452862294853 + 381.14571584054244im]\n",
       " [-0.4701108052786683 + 1.2278460972671195im, -1.2866018693343382 - 1.154447435089031im, 2.022329218539909 - 1.0370308706371498im]\n",
       " [-0.5714575820576273 + 0.657927322405584im, -0.10630459347663147 - 0.7519551136630881im, 0.5554803804513169 + 0.35976975452428234im]\n",
       " [-0.17749600853562716 + 0.8319156500185415im, -0.6605788156996929 - 0.29532341463322576im, 0.36293427356018243 - 0.4971271275267788im]\n",
       " [-0.7195634133773159 - 0.545818784946215im, 0.21985335987105153 + 0.7855024559627152im, 0.27054356201455176 - 0.6852189221799565im]\n",
       " [-0.7232115928256733 + 0.3861289491117204im, 0.3739394426553258 - 0.5585058646463814im, -0.054782057354462656 + 0.5483067599973127im]\n",
       " [-0.6556683909884572 + 0.3844870250939464im, 0.28207076647579943 - 0.5041919781985728im, 0.008910388173732837 + 0.43903529296299487im]"
      ]
     },
     "execution_count": 186,
     "metadata": {},
     "output_type": "execute_result"
    }
   ],
   "source": [
    "MySamples=[sample(W_twisted) for i in 1:100]"
   ]
  },
  {
   "cell_type": "markdown",
   "metadata": {},
   "source": [
    "### Membership"
   ]
  },
  {
   "cell_type": "code",
   "execution_count": 187,
   "metadata": {},
   "outputs": [
    {
     "data": {
      "text/plain": [
       "membership (generic function with 1 method)"
      ]
     },
     "execution_count": 187,
     "metadata": {},
     "output_type": "execute_result"
    }
   ],
   "source": [
    "function membership(W::WitnessSet,p)\n",
    "    n=length(solutions(W)[1]) #number of variables\n",
    "    A=randn(ComplexF64,dim(W),n)\n",
    "    randomLinearThroughP = LinearSubspace(A,A*p)\n",
    "    newWitness=witness_set(W,randomLinearThroughP)\n",
    "    check=findfirst(x->x≈p,solutions(newWitness))\n",
    "    if check==nothing\n",
    "        return false\n",
    "    else\n",
    "        return true\n",
    "    end\n",
    "end\n",
    "    "
   ]
  },
  {
   "cell_type": "code",
   "execution_count": 188,
   "metadata": {},
   "outputs": [
    {
     "data": {
      "text/plain": [
       "true"
      ]
     },
     "execution_count": 188,
     "metadata": {},
     "output_type": "execute_result"
    }
   ],
   "source": [
    "membership(W_twisted,[2,4,8])"
   ]
  },
  {
   "cell_type": "code",
   "execution_count": 189,
   "metadata": {},
   "outputs": [
    {
     "data": {
      "text/plain": [
       "false"
      ]
     },
     "execution_count": 189,
     "metadata": {},
     "output_type": "execute_result"
    }
   ],
   "source": [
    "membership(W_twisted,[2,5,8])"
   ]
  },
  {
   "cell_type": "code",
   "execution_count": 190,
   "metadata": {},
   "outputs": [
    {
     "data": {
      "text/plain": [
       "100-element Array{Bool,1}:\n",
       " 1\n",
       " 1\n",
       " 1\n",
       " 1\n",
       " 1\n",
       " 1\n",
       " 1\n",
       " 1\n",
       " 1\n",
       " 1\n",
       " 1\n",
       " 1\n",
       " 1\n",
       " ⋮\n",
       " 1\n",
       " 1\n",
       " 1\n",
       " 1\n",
       " 1\n",
       " 1\n",
       " 1\n",
       " 1\n",
       " 1\n",
       " 1\n",
       " 1\n",
       " 1"
      ]
     },
     "execution_count": 190,
     "metadata": {},
     "output_type": "execute_result"
    }
   ],
   "source": [
    "[membership(W_twisted,s) for s in MySamples]"
   ]
  },
  {
   "cell_type": "markdown",
   "metadata": {},
   "source": [
    "## Pseudo witness sets"
   ]
  },
  {
   "cell_type": "markdown",
   "metadata": {},
   "source": [
    "Both the sampling and membership algorithms (and most other algorithms involving witness sets) depend on one thing:\n",
    "\n",
    "\n",
    "**the ability to move the linear space of the witness set and track the witness points**\n",
    "\n",
    "Observation: we can do this for projections trivially"
   ]
  },
  {
   "cell_type": "markdown",
   "metadata": {},
   "source": [
    "**Definition:** A pseudo witness set for an (irreducible) variety $X\\subset \\mathbb{C}^n$ is a quadruple \n",
    "$$(F,\\pi,\\pi^{-1}(L),S)$$\n",
    "where \n",
    "- $\\pi:\\mathbb{C}^N \\to \\mathbb{C}^n$ (really this works with any map by factoring through the graph)\n",
    "- $X$ is a component of $\\pi(\\mathcal{V}(F))$ of the same dimension as $\\mathcal{V}(F)$\n",
    "- $L$ is a linear space of complementary dimension (to $X$) in $\\mathbb{C}^n$\n",
    "- $S = \\pi^{-1}(L) \\cap \\mathcal V(F)$ (note! this is in $\\mathbb{C}^N$)\n",
    "\n",
    "<img src=\"PseudoWitness1.png\" width=\"300\">\n",
    "\n",
    "As the picture above shows, $\\pi^{-1}(L)$ may not be generic for $\\mathcal{V}(F)$ even though $L$ is generic for $X$\n",
    "\n",
    "\n",
    "**Warning** be careful about the following situation\n",
    "\n",
    "<img src=\"Careful.png\" width=\"200\">"
   ]
  },
  {
   "cell_type": "code",
   "execution_count": 62,
   "metadata": {},
   "outputs": [
    {
     "data": {
      "text/plain": [
       "Witness set for dimension 1 of degree 2"
      ]
     },
     "execution_count": 62,
     "metadata": {},
     "output_type": "execute_result"
    }
   ],
   "source": [
    "PseudoWitness_Parabola=witness_set(W_twisted,LinearSubspace([3,6,0]',[1]))"
   ]
  },
  {
   "cell_type": "code",
   "execution_count": 63,
   "metadata": {},
   "outputs": [
    {
     "data": {
      "text/plain": [
       "2-element Array{Array{Complex{Float64},1},1}:\n",
       " [-0.728713553878169 + 0.0im, 0.5310234436057513 + 0.0im]\n",
       " [0.22871355387816908 - 7.52316384526264e-37im, 0.05230988972758215 + 0.0im]"
      ]
     },
     "execution_count": 63,
     "metadata": {},
     "output_type": "execute_result"
    }
   ],
   "source": [
    "ProjectedSolutions=[s[1:2] for s in solutions(PseudoWitness_Parabola)]"
   ]
  },
  {
   "cell_type": "code",
   "execution_count": 64,
   "metadata": {},
   "outputs": [
    {
     "data": {
      "text/plain": [
       "Witness set for dimension 1 of degree 2"
      ]
     },
     "execution_count": 64,
     "metadata": {},
     "output_type": "execute_result"
    }
   ],
   "source": [
    "Witness_Parabola=witness_set(System([y-x^2])) #computes a witness set for the parabola\n",
    "Witness_Parabola2=witness_set(Witness_Parabola,LinearSubspace([3,6]',[1])) #moves it to the space we used above"
   ]
  },
  {
   "cell_type": "code",
   "execution_count": 65,
   "metadata": {},
   "outputs": [
    {
     "data": {
      "text/plain": [
       "2-element Array{Array{Complex{Float64},1},1}:\n",
       " [0.22871355387816908 + 3.587324068671532e-43im, 0.05230988972758215 + 8.96831017167883e-44im]\n",
       " [-0.728713553878169 + 9.62964972193618e-35im, 0.5310234436057513 - 9.62964972193618e-35im]"
      ]
     },
     "execution_count": 65,
     "metadata": {},
     "output_type": "execute_result"
    }
   ],
   "source": [
    "solutions(Witness_Parabola2)"
   ]
  },
  {
   "cell_type": "markdown",
   "metadata": {},
   "source": [
    "Membership/sampling can be easily coded for these pseudo-witness sets as well"
   ]
  },
  {
   "cell_type": "markdown",
   "metadata": {},
   "source": [
    "## Witness supersets, monodromy, the trace test, and irreducible decomposition"
   ]
  },
  {
   "cell_type": "code",
   "execution_count": 191,
   "metadata": {},
   "outputs": [
    {
     "data": {
      "text/plain": [
       "Witness set for dimension 1 of degree 4"
      ]
     },
     "execution_count": 191,
     "metadata": {},
     "output_type": "execute_result"
    }
   ],
   "source": [
    "#If we only take two of the generators, we get a complete intersection of the union of a cubic and a line\n",
    "CompleteIntersection=System([y^2-x*z,x*y-z])\n",
    "W_complete=witness_set(CompleteIntersection)"
   ]
  },
  {
   "cell_type": "markdown",
   "metadata": {},
   "source": [
    "\n",
    "<img src=\"witnesscubic.png\" width=\"200\">"
   ]
  },
  {
   "cell_type": "markdown",
   "metadata": {},
   "source": [
    "<p style=\"border:3px; border-style:solid; padding: 0.5em; text-align:center\">\n",
    "Warning: W_complete is not a witness set for the twisted cubic.\n",
    "</p>"
   ]
  },
  {
   "cell_type": "markdown",
   "metadata": {},
   "source": [
    "A **witness superset** for $\\mathcal{V}(f_1,\\ldots,f_k)$ in codimension $m$ is the triple $W=(F,L,S)$\n",
    "    \n",
    "- $\\color{blue}{F}$ is a polynomial system\n",
    "- $\\color{green}{L}$ is a generic affine linear space of dimension $m$\n",
    "- $\\color{red}{S} = X \\cap L$\n"
   ]
  },
  {
   "cell_type": "markdown",
   "metadata": {},
   "source": [
    "Let $X \\subseteq \\mathbb{C}^n$ be an (equidimensional) variety of codimension $m$.\n",
    "\n",
    "We have a branched cover \n",
    "\n",
    "\n",
    "$$Z = \\{(x,L) \\in \\mathbb{C}^n \\times \\textrm{Gr}(m+1,n+1) \\mid x \\in X \\cap L \\} \\subset \\mathbb{C}^n \\times \\textrm{Gr}(m+1,n+1)$$\n",
    "$$\\,\\,\\,\\, \\downarrow \\pi $$\n",
    "$$\\textrm{Gr}(m+1,n+1)$$\n",
    "\n",
    "\n",
    "\n",
    "**Theorem**: If $X$ is irreducible then the monodromy group of $\\pi$ is the full symmetric group.\n",
    "\n",
    "**Corollary**: If $X=X_1,\\ldots,X_k$ is equidimensional, then the monodromy group of $\\pi$  is the product of symmetric groups $\\mathfrak{S}_{\\textrm{deg}(X_1)} \\times \\cdots \\times \\mathfrak{S}_{\\textrm{deg}(X_k)}$\n",
    "\n",
    "Let's try to compute the witness points using monodromy"
   ]
  },
  {
   "cell_type": "code",
   "execution_count": 200,
   "metadata": {},
   "outputs": [
    {
     "data": {
      "text/plain": [
       "MonodromyResult\n",
       "===============\n",
       "• return_code → :success\n",
       "• 3 solutions\n",
       "• 15 tracked loops\n",
       "• random_seed → 0x4aa54664\n",
       "• trace → 3.0808358375128905e-17"
      ]
     },
     "execution_count": 200,
     "metadata": {},
     "output_type": "execute_result"
    }
   ],
   "source": [
    "M=monodromy_solve(CompleteIntersection; dim=1) "
   ]
  },
  {
   "cell_type": "code",
   "execution_count": 201,
   "metadata": {},
   "outputs": [
    {
     "data": {
      "text/plain": [
       "5-element Array{Int64,1}:\n",
       " 3\n",
       " 1\n",
       " 3\n",
       " 3\n",
       " 3"
      ]
     },
     "execution_count": 201,
     "metadata": {},
     "output_type": "execute_result"
    }
   ],
   "source": [
    "#Trying this many times will give us either 1 or 3 solutions (possibly 2 if the heuristic stop didn't work)\n",
    "[length(solutions(monodromy_solve(CompleteIntersection;dim=1))) for i in 1:5]"
   ]
  },
  {
   "cell_type": "markdown",
   "metadata": {},
   "source": [
    "**Monodromy**: allows us to find points on the same component\n",
    "\n",
    "**The trace test**: tells us when we've found all points on the same component"
   ]
  },
  {
   "cell_type": "markdown",
   "metadata": {},
   "source": [
    "\n",
    "The **trace** of a subset of points in $\\mathbb{C}^n$ is their coordinate-wise average.\n",
    "\n",
    "**Lemma**: Let $X$ be irreducible. The trace of a subset of witness points of $X$ moves linearly if and only if the subset is not proper."
   ]
  },
  {
   "cell_type": "markdown",
   "metadata": {},
   "source": [
    "\n",
    "<img src=\"TraceExample1.png\" width=\"600\">"
   ]
  },
  {
   "cell_type": "markdown",
   "metadata": {},
   "source": [
    "Now let's try moving a witness set and verifying this ourselves"
   ]
  },
  {
   "cell_type": "code",
   "execution_count": 202,
   "metadata": {},
   "outputs": [
    {
     "data": {
      "text/plain": [
       "Witness set for dimension 1 of degree 4"
      ]
     },
     "execution_count": 202,
     "metadata": {},
     "output_type": "execute_result"
    }
   ],
   "source": [
    "W_complete"
   ]
  },
  {
   "cell_type": "code",
   "execution_count": 203,
   "metadata": {},
   "outputs": [],
   "source": [
    "A=randn(ComplexF64,1,3)\n",
    "b=rand(ComplexF64)\n",
    "L₁ = LinearSubspace(A,[b])\n",
    "L₂ = LinearSubspace(A,[b+1])\n",
    "L₃ = LinearSubspace(A,[b+2]);"
   ]
  },
  {
   "cell_type": "code",
   "execution_count": 204,
   "metadata": {},
   "outputs": [
    {
     "name": "stdout",
     "output_type": "stream",
     "text": [
      "First trace: \n",
      "Complex{Float64}[-5.843550581078897 - 4.837226691475427im, -0.866988403226279 + 11.525374911525777im, 36.459481897813376 - 18.168165454802896im]\n",
      "Second trace: \n",
      "Complex{Float64}[-9.945229992090425 - 5.551123769488707im, -0.8669884032262762 + 11.525374911525775im, 43.66544106293409 - 14.413232593364057im]\n",
      "Third trace: \n",
      "Complex{Float64}[-14.046909403101957 - 6.2650208475019875im, -0.8669884032262789 + 11.525374911525777im, 50.87140022805485 - 10.658299731925203im]\n"
     ]
    }
   ],
   "source": [
    "trace₁=sum(solutions(witness_set(W_complete,L₁)))\n",
    "println(\"First trace: \\n\",trace₁)\n",
    "trace₂=sum(solutions(witness_set(W_complete,L₂)))\n",
    "println(\"Second trace: \\n\",trace₂)\n",
    "trace₃=sum(solutions(witness_set(W_complete,L₃)))\n",
    "println(\"Third trace: \\n\",trace₃)"
   ]
  },
  {
   "cell_type": "code",
   "execution_count": 205,
   "metadata": {},
   "outputs": [
    {
     "data": {
      "text/plain": [
       "3-element Array{Complex{Float64},1}:\n",
       " -3.552713678800501e-15 - 1.7763568394002505e-15im\n",
       " -5.329070518200751e-15 + 3.552713678800501e-15im\n",
       "  4.263256414560601e-14 + 1.4210854715202004e-14im"
      ]
     },
     "execution_count": 205,
     "metadata": {},
     "output_type": "execute_result"
    }
   ],
   "source": [
    "# here we check trace2 is the midpoint of trace1 and trace3\n",
    "(trace₁+trace₃)-2*trace₂"
   ]
  },
  {
   "cell_type": "code",
   "execution_count": 210,
   "metadata": {},
   "outputs": [
    {
     "data": {
      "text/plain": [
       "3.8799593666382355e-17"
      ]
     },
     "execution_count": 210,
     "metadata": {},
     "output_type": "execute_result"
    }
   ],
   "source": [
    "trace_test(W_complete)"
   ]
  },
  {
   "cell_type": "markdown",
   "metadata": {},
   "source": [
    "We can find out which solution is the one on the line by checking traces of subsets"
   ]
  },
  {
   "cell_type": "code",
   "execution_count": 216,
   "metadata": {},
   "outputs": [
    {
     "data": {
      "text/plain": [
       "3-element Array{Complex{Float64},1}:\n",
       "                    0.0 - 8.881784197001252e-16im\n",
       " -5.329070518200751e-15 + 3.552713678800501e-15im\n",
       "  4.263256414560601e-14 + 1.4210854715202004e-14im"
      ]
     },
     "execution_count": 216,
     "metadata": {},
     "output_type": "execute_result"
    }
   ],
   "source": [
    "I=[1,3,4]\n",
    "trace₁=sum(solutions(witness_set(W_complete,L₁))[I])\n",
    "trace₂=sum(solutions(witness_set(W_complete,L₂))[I])\n",
    "trace₃=sum(solutions(witness_set(W_complete,L₃))[I])\n",
    "# here we check trace2 is the midpoint of trace1 and trace 3\n",
    "(trace₁+trace₃)-2*trace₂"
   ]
  },
  {
   "cell_type": "code",
   "execution_count": 217,
   "metadata": {},
   "outputs": [
    {
     "data": {
      "text/plain": [
       "4-element Array{Bool,1}:\n",
       " 1\n",
       " 0\n",
       " 1\n",
       " 1"
      ]
     },
     "execution_count": 217,
     "metadata": {},
     "output_type": "execute_result"
    }
   ],
   "source": [
    "[membership(W_twisted,s) for s in solutions(W_complete)]"
   ]
  },
  {
   "cell_type": "markdown",
   "metadata": {},
   "source": [
    "### Numerical irreducible decomposition (of equidimensional varieties)\n",
    "\n",
    "One of the most important algorithms in numerical algebraic geometry is taking a polynomial systme $F$ and computing a witness set for every irreducible component of $\\mathcal V(F)$. This is called a **numerical irreducible decomposition**. We will go through how it works for equidimensional varieties"
   ]
  },
  {
   "cell_type": "markdown",
   "metadata": {},
   "source": [
    "#### Step 1: compute a witness superset \n",
    "\n",
    "$\\mathcal V(F) \\to (F,L,S)$"
   ]
  },
  {
   "cell_type": "markdown",
   "metadata": {},
   "source": [
    "#### Step 2: \n",
    "\n",
    "Using monodromy, identify solutions as belonging to the same component until the trace test passes.\n",
    "\n",
    "$p \\in S \\to S_p=\\{q \\in S \\mid q \\text{ was found via monodromy starting from } p\\}$"
   ]
  },
  {
   "cell_type": "markdown",
   "metadata": {},
   "source": [
    "#### Step 3: \n",
    "\n",
    "If $S \\backslash \\bigcup_{p \\text{ done in step 2}} S_p \\neq \\emptyset$ pick some $q$ not identified and repeat step 2"
   ]
  },
  {
   "cell_type": "markdown",
   "metadata": {},
   "source": [
    "#### Output: \n",
    "\n",
    "Set $W_p = (F,L,S_p)$ and output the union of all $W_p$"
   ]
  },
  {
   "cell_type": "markdown",
   "metadata": {},
   "source": [
    "### Other things you can do with witness sets\n",
    "\n",
    "Given a witness set $W$ for $X$ you can also...\n",
    "\n",
    "- find a witness set for $X \\cap \\mathcal V(f)$\n",
    "- recover equations for $X$\n",
    "- compute the Newton polytope of $X$ (when $X$ is a hypersurface)\n",
    "- describe the real points of $X$\n",
    "- much more..."
   ]
  },
  {
   "cell_type": "code",
   "execution_count": null,
   "metadata": {},
   "outputs": [],
   "source": []
  }
 ],
 "metadata": {
  "kernelspec": {
   "display_name": "Julia 1.5.2",
   "language": "julia",
   "name": "julia-1.5"
  },
  "language_info": {
   "file_extension": ".jl",
   "mimetype": "application/julia",
   "name": "julia",
   "version": "1.5.2"
  }
 },
 "nbformat": 4,
 "nbformat_minor": 2
}
