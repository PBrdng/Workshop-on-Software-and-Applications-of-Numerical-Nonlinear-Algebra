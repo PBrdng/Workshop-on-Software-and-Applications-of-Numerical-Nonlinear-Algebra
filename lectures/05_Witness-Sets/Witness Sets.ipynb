{
 "cells": [
  {
   "cell_type": "markdown",
   "metadata": {},
   "source": [
    "# Lecture: Witness Sets"
   ]
  },
  {
   "cell_type": "code",
   "execution_count": 1,
   "metadata": {},
   "outputs": [],
   "source": [
    "using HomotopyContinuation"
   ]
  },
  {
   "cell_type": "markdown",
   "metadata": {},
   "source": [
    "So far, we've seen that numerical methods are very good at solving **zero-dimensional polynomial systems**"
   ]
  },
  {
   "cell_type": "markdown",
   "metadata": {},
   "source": [
    "**Question**: What do we do if we are interested in a **positive-dimensional** set of solutions?\n",
    "\n",
    "**Answer**: Slice it with enough hyperplanes until we have a zero-dimensional solution set.\n"
   ]
  },
  {
   "cell_type": "markdown",
   "metadata": {},
   "source": [
    "\n",
    "<img src=\"PictureWitness1.png\" width=\"300\">"
   ]
  },
  {
   "cell_type": "markdown",
   "metadata": {},
   "source": [
    "The data in such a *slice* is called a **witness set**. The number of points in such a slice is called the **degree** of the variety.\n",
    "\n",
    "A witness set for an irreducible variety $X \\subset \\mathbb{C}^n$ is a triple \n",
    "$$W=(F,L,S)$$\n",
    "where \n",
    "    \n",
    "- $\\color{blue}{F}$ is a polynomial system for which $X$ is a component, \n",
    "- $\\color{green}{L}$ is a **generic** affine linear space of **complementary dimension**\n",
    "- $\\color{red}{S} = X \\cap L$\n",
    "\n"
   ]
  },
  {
   "cell_type": "markdown",
   "metadata": {},
   "source": [
    "<p style=\"border:3px; border-style:solid; padding: 0.5em; text-align:center\">\n",
    "How is this a good representation of the variety $X$?\n",
    "</p>\n",
    "\n",
    "\n",
    "Given a witness set $W=(F,L,S)$ for $X$...\n",
    "\n",
    "Certain information about $X$ become obvious:\n",
    "- dimension (equals the codimension of $L$)\n",
    "- degree (equals the number of points in $S$)\n",
    "\n",
    "Certain algorithms become almost trivial\n",
    "\n",
    "- Membership: is $p$ contained in $X$?\n",
    "\n",
    "- Sampling: find $100000$ points on $X$\n",
    "\n",
    "- Find a (pseudo) witness set for a projection of $X$\n",
    "\n",
    "One major advantage (compared to symbolic representations) is that they can be computed fast. \n",
    "\n",
    "One major disadvantage is that it can be difficult to prove things (but not impossible)"
   ]
  },
  {
   "cell_type": "markdown",
   "metadata": {},
   "source": [
    "<hr style=\"border:1px solid gray\"> </hr>"
   ]
  },
  {
   "cell_type": "markdown",
   "metadata": {},
   "source": [
    "## Constructing a witness set using homotopycontinuation.jl"
   ]
  },
  {
   "cell_type": "code",
   "execution_count": 58,
   "metadata": {},
   "outputs": [
    {
     "data": {
      "text/plain": [
       "System of length 3\n",
       " 3 variables: x, y, z\n",
       "\n",
       " -x*z + y^2\n",
       " -z + x*y\n",
       " -y + x^2"
      ]
     },
     "execution_count": 58,
     "metadata": {},
     "output_type": "execute_result"
    }
   ],
   "source": [
    "@var x y z\n",
    "TwistedCubic=System([y^2-x*z,x*y-z,x^2-y])"
   ]
  },
  {
   "cell_type": "code",
   "execution_count": 59,
   "metadata": {},
   "outputs": [
    {
     "data": {
      "text/plain": [
       "Witness set for dimension 1 of degree 3"
      ]
     },
     "execution_count": 59,
     "metadata": {},
     "output_type": "execute_result"
    }
   ],
   "source": [
    "#Try the following without codimension: you get an error because it expects the dimension to be zero.\n",
    "W_twisted=witness_set(TwistedCubic; codim=2)"
   ]
  },
  {
   "cell_type": "code",
   "execution_count": 60,
   "metadata": {},
   "outputs": [
    {
     "data": {
      "text/plain": [
       "3"
      ]
     },
     "execution_count": 60,
     "metadata": {},
     "output_type": "execute_result"
    }
   ],
   "source": [
    "#Degree of the twisted cubic\n",
    "degree(W_twisted)"
   ]
  },
  {
   "cell_type": "code",
   "execution_count": 61,
   "metadata": {},
   "outputs": [
    {
     "data": {
      "text/plain": [
       "1"
      ]
     },
     "execution_count": 61,
     "metadata": {},
     "output_type": "execute_result"
    }
   ],
   "source": [
    "#Dimension of the twisted cubic\n",
    "dim(W_twisted)"
   ]
  },
  {
   "cell_type": "code",
   "execution_count": 62,
   "metadata": {},
   "outputs": [
    {
     "data": {
      "text/plain": [
       "2-dim. affine linear subspace {x | Ax=b} with eltype Complex{Float64}:\n",
       "A:\n",
       "Complex{Float64}[-0.3530743328490211 - 0.25971483989821137im -0.6523330606087805 - 0.5875446157049901im 0.11537082805011245 + 0.15436706918171728im]\n",
       "b:\n",
       "Complex{Float64}[0.13054416364591218 + 0.055246996113177495im]"
      ]
     },
     "execution_count": 62,
     "metadata": {},
     "output_type": "execute_result"
    }
   ],
   "source": [
    "#Generic linear space used to slice the twisted cubic\n",
    "W_twisted.L"
   ]
  },
  {
   "cell_type": "code",
   "execution_count": 63,
   "metadata": {},
   "outputs": [
    {
     "data": {
      "text/plain": [
       "3-element Array{Array{Complex{Float64},1},1}:\n",
       " [-0.17678828767728638 + 0.318199517573834im, -0.06999683432435373 - 0.11250789570323344im, 0.04817457861904932 - 0.002382880682155605im]\n",
       " [4.946311503346832 - 0.9389571942662678im, 23.584356875476814 - 9.28874954229901im, 107.93383750372875 - 68.08975027315326im]\n",
       " [-0.30104061811119215 - 0.26544508615148454im, 0.020164359990799546 + 0.15981950561924313im, 0.036353011042340753 - 0.05346469303278947im]"
      ]
     },
     "execution_count": 63,
     "metadata": {},
     "output_type": "execute_result"
    }
   ],
   "source": [
    "#Witness points\n",
    "solutions(W_twisted)"
   ]
  },
  {
   "cell_type": "markdown",
   "metadata": {},
   "source": [
    "## Some simple algorithms involving witness sets"
   ]
  },
  {
   "cell_type": "markdown",
   "metadata": {},
   "source": [
    "### Moving the linear space (this is the fundamental operation)"
   ]
  },
  {
   "cell_type": "markdown",
   "metadata": {},
   "source": [
    "**KEY OBSERVATION**\n",
    "\n",
    "The projection from the incidence variety $$W_X=\\{(x,L) | x \\in X \\cap L, \\text{codim}(L) = \\text{dim}(X), L \\text{ generic}\\} \\to \\text{linear spaces of complementary dimension}$$\n",
    "is a branched cover of degree deg$(X)$, and it's monodromy group is the full symmetric group.\n",
    "\n",
    "Consequence: we can move in the parameter space of linear spaces of complementary dimension"
   ]
  },
  {
   "cell_type": "code",
   "execution_count": 64,
   "metadata": {},
   "outputs": [
    {
     "data": {
      "text/plain": [
       "2-dim. affine linear subspace {x | Ax=b} with eltype Float64:\n",
       "A:\n",
       "[-0.2672612419124243 -0.5345224838248488 -0.8017837257372732]\n",
       "b:\n",
       "[-1.3363062095621219]"
      ]
     },
     "execution_count": 64,
     "metadata": {},
     "output_type": "execute_result"
    }
   ],
   "source": [
    "L2 = LinearSubspace([1 2 3],[5])"
   ]
  },
  {
   "cell_type": "code",
   "execution_count": 65,
   "metadata": {},
   "outputs": [
    {
     "data": {
      "text/plain": [
       "Witness set for dimension 1 of degree 3"
      ]
     },
     "execution_count": 65,
     "metadata": {},
     "output_type": "execute_result"
    }
   ],
   "source": [
    "W_twisted2=witness_set(W_twisted,L2)"
   ]
  },
  {
   "cell_type": "code",
   "execution_count": 66,
   "metadata": {},
   "outputs": [
    {
     "data": {
      "text/plain": [
       "3-element Array{Array{Complex{Float64},1},1}:\n",
       " [-0.7954052524310862 + 1.0820358328370792im, -0.5381320279484716 - 1.7213139695145148im, 2.290556436109343 + 0.7868640353973169im]\n",
       " [-0.7954052524310862 - 1.0820358328370792im, -0.5381320279484714 + 1.721313969514515im, 2.290556436109343 - 0.7868640353973172im]\n",
       " [0.9241438381955056 + 3.0814879110195774e-33im, 0.8540418336747209 + 6.162975822039155e-33im, 0.7892574981516841 + 3.0814879110195774e-33im]"
      ]
     },
     "execution_count": 66,
     "metadata": {},
     "output_type": "execute_result"
    }
   ],
   "source": [
    "solutions(W_twisted2)"
   ]
  },
  {
   "cell_type": "markdown",
   "metadata": {},
   "source": [
    "### Sampling"
   ]
  },
  {
   "cell_type": "code",
   "execution_count": 67,
   "metadata": {},
   "outputs": [
    {
     "data": {
      "text/plain": [
       "sample (generic function with 1 method)"
      ]
     },
     "execution_count": 67,
     "metadata": {},
     "output_type": "execute_result"
    }
   ],
   "source": [
    "function sample(W::WitnessSet)\n",
    "    n=length(solutions(W)[1]) #number of variables\n",
    "    randomLinear = LinearSubspace(randn(ComplexF64,dim(W),n),randn(ComplexF64,dim(W)))\n",
    "    newWitness=witness_set(W,randomLinear)\n",
    "    s=solutions(newWitness)[1]\n",
    "    return s\n",
    "end"
   ]
  },
  {
   "cell_type": "code",
   "execution_count": 68,
   "metadata": {},
   "outputs": [
    {
     "data": {
      "text/plain": [
       "100-element Array{Array{Complex{Float64},1},1}:\n",
       " [-0.8516162578149665 + 0.23233026900963274im, 0.6712728966766792 - 0.3957124685422559im, -0.4797309279735182 + 0.4929521842944469im]\n",
       " [0.5653673043696308 + 1.0586366251237518im, -0.8010713152032242 + 1.197037070106358im, -1.7201268141297001 - 0.17127781205363402im]\n",
       " [0.5602315941341045 - 0.1289163350387874im, 0.2972400176262071 - 0.14444600777741237im, 0.14790179898153114 - 0.11924231090268217im]\n",
       " [-0.25839941543391165 + 1.5500185210506967im, -2.3357871577036016 - 0.8010477595024728im, 1.8452048996036456 - 3.413523082882863im]\n",
       " [0.7223867932171 - 1.2040306919033565im, -0.9278472280307904 - 1.7395517409180636im, -2.7647382698718026 - 0.13947266381049928im]\n",
       " [0.4058135063065984 + 1.455406191174615im, -1.9535225794085445 + 1.1812469790818039im, -2.5119600142608602 - 2.3638028782753353im]\n",
       " [-0.6735335496557303 + 1.0203091601447514im, -0.5873833397634398 - 1.3744249007571026im, 1.7979607020130202 + 0.3264086800651018im]\n",
       " [0.7249299110112053 + 0.43105884943415107im, 0.3397116442032199 + 0.6249749067217834im, -0.023133832214997326 + 0.5994987140036824im]\n",
       " [-2.0953341250245265 + 0.6873026618948013im, 3.918040146444619 - 2.880257443376743im, -6.229994614286353 + 8.727981132025272im]\n",
       " [-0.2521102942374166 + 0.6615475498139246im, -0.3740855602043303 - 0.3335658948712611im, 0.3149805211066545 - 0.1633799898703833im]\n",
       " [-0.6956150624088739 + 0.3068916978057652im, 0.3896978008679965 - 0.4269569750438453im, -0.1400501091101729 + 0.4165927225805809im]\n",
       " [0.8069209128091542 + 0.8208825108582117im, -0.02272673710412346 + 1.3247745299415574im, -1.105822921908666 + 1.0503322919491125im]\n",
       " [-0.22597588855653006 + 0.6205695717055165im, -0.3340414911178549 - 0.2804675207545988im, 0.24953493200209492 - 0.14391708786111182im]\n",
       " ⋮\n",
       " [-0.20248492064518997 + 0.6795970438893417im, -0.42085199897444303 - 0.2752163070052781im, 0.2722523722866382 - 0.23028262233372576im]\n",
       " [-0.19556644755625993 + 0.6053186692273312im, -0.3281644559053719 - 0.23676004356054386im, 0.2074932313499199 - 0.15234175109395004im]\n",
       " [0.06833959425495935 + 1.3621747137184146im, -1.850849650550912 + 0.1861809344797637im, -0.3800972752703816 - 2.5084570633546597im]\n",
       " [0.15912790138088842 + 1.0086964652611785im, -0.9921468700325102 + 0.32102350329466317im, -0.48169352232897744 - 0.9496912444485144im]\n",
       " [-0.5798945354637709 + 0.2922806518442775im, 0.2508496928182269 - 0.33898390565257086im, -0.04638792917920282 + 0.26989342622994045im]\n",
       " [-0.654610073275441 + 0.6786704920113193im, -0.032079288693208086 - 0.8885290810108186im, 0.6240178940980626 + 0.5598688201870595im]\n",
       " [1.0316670726772459 - 0.4081426730708909im, 0.8977565072649853 - 0.8421347135234244im, 0.5824747147637767 - 1.23521539534252im]\n",
       " [-0.2474736925434098 + 0.5117939749194588im, -0.20068984426278952 - 0.2533110895895755im, 0.17930854624790232 - 0.04002402241829345im]\n",
       " [-0.2254349606577585 + 0.4741134970806133im, -0.1739626866272436 - 0.21376351512336073im, 0.14056543911911176 - 0.0342882880964823im]\n",
       " [0.46164517855539283 - 0.050195709556906255im, 0.21059666162551927 - 0.04634521460222525im, 0.0948946025277567 - 0.0319660937308409im]\n",
       " [-0.30667583229985107 + 0.6119103224264743im, -0.2803841765752653 - 0.37531621484601846im, 0.31564691675323897 - 0.05646955932791967im]\n",
       " [0.7010683723185851 + 0.7493581661005151im, -0.07004079843609683 + 1.0507026195834561im, -0.8364559766835543 + 0.6841287310339578im]"
      ]
     },
     "execution_count": 68,
     "metadata": {},
     "output_type": "execute_result"
    }
   ],
   "source": [
    "MySamples=[sample(W_twisted) for i in 1:100]"
   ]
  },
  {
   "cell_type": "markdown",
   "metadata": {},
   "source": [
    "\n",
    "[[*Sampling real algebraic varieties for topological data analysis*](https://arxiv.org/abs/1802.07716)]Emilie Dufresne, Parker B. Edwards, Heather A. Harrington, Jonathan D. Hauenstein\n",
    "\n",
    "\n",
    "[[*Sampling algebraic varieties for sum of squares programs*](https://arxiv.org/abs/1511.06751)]Diego Cifuentes, Pablo A. Parrilo.\n",
    "\n",
    "[[*Learning algebraic varieties from samples*](https://link.springer.com/article/10.1007/s13163-018-0273-6)]Paul Breiding, Sara Kališnik, Bernd Sturmfels & Madeleine Weinstein "
   ]
  },
  {
   "cell_type": "markdown",
   "metadata": {},
   "source": [
    "### Membership"
   ]
  },
  {
   "cell_type": "code",
   "execution_count": 69,
   "metadata": {},
   "outputs": [
    {
     "data": {
      "text/plain": [
       "membership (generic function with 2 methods)"
      ]
     },
     "execution_count": 69,
     "metadata": {},
     "output_type": "execute_result"
    }
   ],
   "source": [
    "function membership(W::WitnessSet,p)\n",
    "    n=length(solutions(W)[1]) #number of variables\n",
    "    A=randn(ComplexF64,dim(W),n)\n",
    "    randomLinearThroughP = LinearSubspace(A,A*p)\n",
    "    newWitness=witness_set(W,randomLinearThroughP)\n",
    "    check=findfirst(x->x≈p,solutions(newWitness))\n",
    "    if check==nothing\n",
    "        return false\n",
    "    else\n",
    "        return true\n",
    "    end\n",
    "end\n",
    "    "
   ]
  },
  {
   "cell_type": "code",
   "execution_count": 70,
   "metadata": {},
   "outputs": [
    {
     "data": {
      "text/plain": [
       "true"
      ]
     },
     "execution_count": 70,
     "metadata": {},
     "output_type": "execute_result"
    }
   ],
   "source": [
    "membership(W_twisted,[2,4,8])"
   ]
  },
  {
   "cell_type": "code",
   "execution_count": 71,
   "metadata": {},
   "outputs": [
    {
     "data": {
      "text/plain": [
       "false"
      ]
     },
     "execution_count": 71,
     "metadata": {},
     "output_type": "execute_result"
    }
   ],
   "source": [
    "membership(W_twisted,[2,5,8])"
   ]
  },
  {
   "cell_type": "code",
   "execution_count": 72,
   "metadata": {},
   "outputs": [
    {
     "data": {
      "text/plain": [
       "100-element Array{Bool,1}:\n",
       " 1\n",
       " 1\n",
       " 1\n",
       " 1\n",
       " 1\n",
       " 1\n",
       " 1\n",
       " 1\n",
       " 1\n",
       " 1\n",
       " 1\n",
       " 1\n",
       " 1\n",
       " ⋮\n",
       " 1\n",
       " 1\n",
       " 1\n",
       " 1\n",
       " 1\n",
       " 1\n",
       " 1\n",
       " 1\n",
       " 1\n",
       " 1\n",
       " 1\n",
       " 1"
      ]
     },
     "execution_count": 72,
     "metadata": {},
     "output_type": "execute_result"
    }
   ],
   "source": [
    "[membership(W_twisted,s) for s in MySamples]"
   ]
  },
  {
   "cell_type": "code",
   "execution_count": 73,
   "metadata": {},
   "outputs": [
    {
     "data": {
      "text/plain": [
       "Witness set for dimension 1 of degree 14"
      ]
     },
     "execution_count": 73,
     "metadata": {},
     "output_type": "execute_result"
    }
   ],
   "source": [
    "# You can also do membership of subvarieties\n",
    "@var z\n",
    "W1 = witness_set(System([x^2+y^2+z^2-1]))\n",
    "W2 = witness_set(System([x^2+y^2+z^2-1, x^2*y^5-12*x*y]))\n",
    "\n",
    "W3 = witness_set(System([x^2+y^2+z^2-1.00001, x^2*y^5-12*x*y]))\n",
    "\n"
   ]
  },
  {
   "cell_type": "code",
   "execution_count": 74,
   "metadata": {},
   "outputs": [
    {
     "data": {
      "text/plain": [
       "contains (generic function with 1 method)"
      ]
     },
     "execution_count": 74,
     "metadata": {},
     "output_type": "execute_result"
    }
   ],
   "source": [
    "function contains(W1::WitnessSet,W2::WitnessSet)\n",
    "    return membership(W1,solutions(W2)[1])\n",
    "end"
   ]
  },
  {
   "cell_type": "code",
   "execution_count": 75,
   "metadata": {},
   "outputs": [
    {
     "data": {
      "text/plain": [
       "true"
      ]
     },
     "execution_count": 75,
     "metadata": {},
     "output_type": "execute_result"
    }
   ],
   "source": [
    "contains(W1,W2)"
   ]
  },
  {
   "cell_type": "code",
   "execution_count": 76,
   "metadata": {},
   "outputs": [
    {
     "data": {
      "text/plain": [
       "false"
      ]
     },
     "execution_count": 76,
     "metadata": {},
     "output_type": "execute_result"
    }
   ],
   "source": [
    "contains(W1,W3)"
   ]
  },
  {
   "cell_type": "markdown",
   "metadata": {},
   "source": [
    "## Pseudo witness sets"
   ]
  },
  {
   "cell_type": "markdown",
   "metadata": {},
   "source": [
    "Both the sampling and membership algorithms (and most other algorithms involving witness sets) depend on one thing:\n",
    "\n",
    "\n",
    "**the ability to move the linear space of the witness set and track the witness points**\n",
    "\n",
    "Observation: we can do this for projections trivially"
   ]
  },
  {
   "cell_type": "markdown",
   "metadata": {},
   "source": [
    "**Definition:** A pseudo witness set for an (irreducible) variety $X\\subset \\mathbb{C}^n$ is a quadruple \n",
    "$$(F,\\pi,\\pi^{-1}(L),S)$$\n",
    "where \n",
    "- $\\pi:\\mathbb{C}^N \\to \\mathbb{C}^n$ (really this works with any map by factoring through the graph)\n",
    "- $X$ is a component of $\\pi(\\mathcal{V}(F))$ of the same dimension as $\\mathcal{V}(F)$\n",
    "- $L$ is a linear space of complementary dimension (to $X$) in $\\mathbb{C}^n$\n",
    "- $S = \\pi^{-1}(L) \\cap \\mathcal V(F)$ (note! this is in $\\mathbb{C}^N$)\n",
    "\n",
    "<img src=\"PictureWitness2.png\" width=\"300\">\n",
    "\n",
    "As the picture above shows, $\\pi^{-1}(L)$ may not be generic for $\\mathcal{V}(F)$ even though $L$ is generic for $X$\n",
    "\n",
    "\n",
    "**Warning** be careful about the following situations\n",
    "\n",
    "<img src=\"PictureWitness3b.png\" width=\"800\">"
   ]
  },
  {
   "cell_type": "markdown",
   "metadata": {},
   "source": [
    "So let's compute a witness set for the parabola as a projection of the twisted cubic"
   ]
  },
  {
   "cell_type": "code",
   "execution_count": 77,
   "metadata": {},
   "outputs": [
    {
     "data": {
      "text/plain": [
       "Witness set for dimension 1 of degree 2"
      ]
     },
     "execution_count": 77,
     "metadata": {},
     "output_type": "execute_result"
    }
   ],
   "source": [
    "PseudoWitness_Parabola=witness_set(W_twisted,LinearSubspace([3,6,0]',[1]))"
   ]
  },
  {
   "cell_type": "code",
   "execution_count": 78,
   "metadata": {},
   "outputs": [
    {
     "data": {
      "text/plain": [
       "2-element Array{Array{Complex{Float64},1},1}:\n",
       " [-0.728713553878169 - 1.925929944387236e-34im, 0.5310234436057513 + 9.62964972193618e-35im]\n",
       " [0.22871355387816908 - 8.552847072295026e-50im, 0.05230988972758215 + 8.552847072295026e-50im]"
      ]
     },
     "execution_count": 78,
     "metadata": {},
     "output_type": "execute_result"
    }
   ],
   "source": [
    "ProjectedSolutions=[s[1:2] for s in solutions(PseudoWitness_Parabola)]"
   ]
  },
  {
   "cell_type": "markdown",
   "metadata": {},
   "source": [
    "Now let's compute a witness set for the parabola directly, move the linear space before, and check if we get the same points"
   ]
  },
  {
   "cell_type": "code",
   "execution_count": 79,
   "metadata": {},
   "outputs": [
    {
     "data": {
      "text/plain": [
       "Witness set for dimension 1 of degree 2"
      ]
     },
     "execution_count": 79,
     "metadata": {},
     "output_type": "execute_result"
    }
   ],
   "source": [
    "Witness_Parabola=witness_set(System([y-x^2])) #computes a witness set for the parabola\n",
    "Witness_Parabola2=witness_set(Witness_Parabola,LinearSubspace([3,6]',[1])) #moves it to the space we used above"
   ]
  },
  {
   "cell_type": "code",
   "execution_count": 80,
   "metadata": {},
   "outputs": [
    {
     "data": {
      "text/plain": [
       "2-element Array{Array{Complex{Float64},1},1}:\n",
       " [0.22871355387816908 - 4.81482486096809e-35im, 0.05230988972758215 + 0.0im]\n",
       " [-0.728713553878169 - 7.703719777548943e-34im, 0.5310234436057513 + 3.851859888774472e-34im]"
      ]
     },
     "execution_count": 80,
     "metadata": {},
     "output_type": "execute_result"
    }
   ],
   "source": [
    "solutions(Witness_Parabola2)"
   ]
  },
  {
   "cell_type": "markdown",
   "metadata": {},
   "source": [
    "Membership/sampling can be easily coded for these pseudo-witness sets as well"
   ]
  },
  {
   "cell_type": "markdown",
   "metadata": {},
   "source": [
    "# Witness supersets, monodromy, the trace test, and irreducible decomposition\n",
    "\n",
    "## Witness supersets\n",
    "\n",
    "Now we're going to try to compute a witness set for the twisted cubic after \"squaring up\""
   ]
  },
  {
   "cell_type": "code",
   "execution_count": 81,
   "metadata": {},
   "outputs": [
    {
     "name": "stdout",
     "output_type": "stream",
     "text": [
      "\r",
      "\u001b[32mTracking 4 paths... 100%|███████████████████████████████| Time: 0:00:02\u001b[39m\r\n",
      "\u001b[34m  # paths tracked:                  4\u001b[39m\r\n",
      "\u001b[34m  # non-singular solutions (real):  4 (0)\u001b[39m\r\n",
      "\u001b[34m  # singular endpoints (real):      0 (0)\u001b[39m\r\n",
      "\u001b[34m  # total solutions (real):         4 (0)\u001b[39m\n"
     ]
    },
    {
     "data": {
      "text/plain": [
       "Witness set for dimension 1 of degree 4"
      ]
     },
     "execution_count": 81,
     "metadata": {},
     "output_type": "execute_result"
    }
   ],
   "source": [
    "#If we only take two of the generators, we get a complete intersection of the union of a cubic and a line\n",
    "CompleteIntersection=System([y^2-x*z,x*y-z])\n",
    "W_complete=witness_set(CompleteIntersection)"
   ]
  },
  {
   "cell_type": "markdown",
   "metadata": {},
   "source": [
    "\n",
    "<img src=\"PictureWitness4.png\" width=\"200\">"
   ]
  },
  {
   "cell_type": "markdown",
   "metadata": {},
   "source": [
    "<p style=\"border:3px; border-style:solid; padding: 0.5em; text-align:center\">\n",
    "Warning: W_complete is not a witness set for the twisted cubic.\n",
    "</p>"
   ]
  },
  {
   "cell_type": "markdown",
   "metadata": {},
   "source": [
    "A **witness superset** for $\\mathcal{V}(f_1,\\ldots,f_k)$ in codimension $m$ is the triple $W=(F,L,S)$\n",
    "    \n",
    "- $\\color{blue}{F}$ is a polynomial system\n",
    "- $\\color{green}{L}$ is a generic affine linear space of dimension $m$\n",
    "- $\\color{red}{S} = X \\cap L$\n"
   ]
  },
  {
   "cell_type": "markdown",
   "metadata": {},
   "source": [
    "Let $X \\subseteq \\mathbb{C}^n$ be an (equidimensional) variety of codimension $m$.\n",
    "\n",
    "Recall, we have the \"branched cover\" \n",
    "\n",
    "\n",
    "$$W_X=\\{(x,L) | x \\in X \\cap L, \\text{codim}(L) = \\text{dim}(X), L \\text{ generic}\\}$$\n",
    "$$\\,\\,\\,\\, \\downarrow \\pi $$\n",
    "$$\\text{linear spaces of complementary dimension}$$\n",
    "\n",
    "\n",
    "\n",
    "**Recall**: If $X$ is irreducible then the monodromy group of $\\pi$ is the full symmetric group.\n",
    "\n",
    "**Corollary**: If $X=X_1 \\cup \\cdots \\cup X_k$ is equidimensional, then the monodromy group of $\\pi$  is the product of symmetric groups $\\mathfrak{S}_{\\textrm{deg}(X_1)} \\times \\cdots \\times \\mathfrak{S}_{\\textrm{deg}(X_k)}$\n",
    "\n",
    "We can use monodromy to construct witness sets"
   ]
  },
  {
   "cell_type": "code",
   "execution_count": 82,
   "metadata": {},
   "outputs": [
    {
     "data": {
      "text/plain": [
       "MonodromyResult\n",
       "===============\n",
       "• return_code → :success\n",
       "• 3 solutions\n",
       "• 9 tracked loops\n",
       "• random_seed → 0x52720008\n",
       "• trace → 2.170514254134397e-17"
      ]
     },
     "execution_count": 82,
     "metadata": {},
     "output_type": "execute_result"
    }
   ],
   "source": [
    "M=monodromy_solve(CompleteIntersection; dim=1) "
   ]
  },
  {
   "cell_type": "code",
   "execution_count": 83,
   "metadata": {},
   "outputs": [
    {
     "data": {
      "text/plain": [
       "5-element Array{Int64,1}:\n",
       " 3\n",
       " 3\n",
       " 1\n",
       " 2\n",
       " 2"
      ]
     },
     "execution_count": 83,
     "metadata": {},
     "output_type": "execute_result"
    }
   ],
   "source": [
    "#Trying this many times will give us either 1 or 3 solutions (possibly 2 if the heuristic stop didn't work)\n",
    "[length(solutions(monodromy_solve(CompleteIntersection;dim=1))) for i in 1:5]"
   ]
  },
  {
   "cell_type": "markdown",
   "metadata": {},
   "source": [
    "## The trace test"
   ]
  },
  {
   "cell_type": "markdown",
   "metadata": {},
   "source": [
    "**Monodromy**: allows us to find points on the same component\n",
    "\n",
    "**The trace test**: tells us when we've found all points on the same component"
   ]
  },
  {
   "cell_type": "markdown",
   "metadata": {},
   "source": [
    "\n",
    "**Definition:** The *trace* of a subset of points in $\\mathbb{C}^n$ is their coordinate-wise average.\n",
    "\n",
    "**Lemma**: Let $X$ be irreducible. The trace of a subset of witness points of $X$ moves linearly if and only if the subset is not proper."
   ]
  },
  {
   "cell_type": "markdown",
   "metadata": {},
   "source": [
    "\n",
    "<img src=\"PictureWitness5.png\" width=\"400\">\n",
    "<img src=\"traceline.png\" width=\"400\">\n",
    "<img src=\"nonlineartrace.png\" width=\"400\">"
   ]
  },
  {
   "cell_type": "markdown",
   "metadata": {},
   "source": [
    "Now let's try moving a witness set and verifying this ourselves"
   ]
  },
  {
   "cell_type": "code",
   "execution_count": 84,
   "metadata": {},
   "outputs": [
    {
     "data": {
      "text/plain": [
       "Witness set for dimension 1 of degree 4"
      ]
     },
     "execution_count": 84,
     "metadata": {},
     "output_type": "execute_result"
    }
   ],
   "source": [
    "W_complete"
   ]
  },
  {
   "cell_type": "code",
   "execution_count": 85,
   "metadata": {},
   "outputs": [],
   "source": [
    "A=randn(ComplexF64,1,3)\n",
    "b=rand(ComplexF64)\n",
    "L₁ = LinearSubspace(A,[b])\n",
    "L₂ = LinearSubspace(A,[b+1])\n",
    "L₃ = LinearSubspace(A,[b+2]);"
   ]
  },
  {
   "cell_type": "code",
   "execution_count": 86,
   "metadata": {},
   "outputs": [
    {
     "name": "stdout",
     "output_type": "stream",
     "text": [
      "First trace: \n",
      "Complex{Float64}[-0.9180602034838992 - 0.5293493184061389im, -1.0056292314204338 + 3.480289616645187im, -0.3743410919518926 + 5.1493281223560174im]\n",
      "Second trace: \n",
      "Complex{Float64}[-1.282356601007911 + 0.44523602097426934im, -1.0056292314204334 + 3.4802896166451878im, 4.238329984891338 + 8.347657332031524im]\n",
      "Third trace: \n",
      "Complex{Float64}[-1.646652998531923 + 1.4198213603546779im, -1.0056292314204334 + 3.4802896166451873im, 8.851001061734571 + 11.54598654170703im]\n"
     ]
    }
   ],
   "source": [
    "trace₁=sum(solutions(witness_set(W_complete,L₁)))\n",
    "println(\"First trace: \\n\",trace₁)\n",
    "trace₂=sum(solutions(witness_set(W_complete,L₂)))\n",
    "println(\"Second trace: \\n\",trace₂)\n",
    "trace₃=sum(solutions(witness_set(W_complete,L₃)))\n",
    "println(\"Third trace: \\n\",trace₃)"
   ]
  },
  {
   "cell_type": "code",
   "execution_count": 87,
   "metadata": {},
   "outputs": [
    {
     "data": {
      "text/plain": [
       "3-element Array{Complex{Float64},1}:\n",
       "                    0.0 + 3.3306690738754696e-16im\n",
       " -4.440892098500626e-16 - 8.881784197001252e-16im\n",
       "  3.552713678800501e-15 + 0.0im"
      ]
     },
     "execution_count": 87,
     "metadata": {},
     "output_type": "execute_result"
    }
   ],
   "source": [
    "# here we check trace2 is the midpoint of trace1 and trace3\n",
    "(trace₁+trace₃)-2*trace₂"
   ]
  },
  {
   "cell_type": "code",
   "execution_count": 88,
   "metadata": {},
   "outputs": [
    {
     "data": {
      "text/plain": [
       "9.500467169646352e-17"
      ]
     },
     "execution_count": 88,
     "metadata": {},
     "output_type": "execute_result"
    }
   ],
   "source": [
    "trace_test(W_complete)"
   ]
  },
  {
   "cell_type": "markdown",
   "metadata": {},
   "source": [
    "We can find out which solution is the one on the line by checking traces of subsets"
   ]
  },
  {
   "cell_type": "code",
   "execution_count": 89,
   "metadata": {},
   "outputs": [
    {
     "data": {
      "text/plain": [
       "3-element Array{Complex{Float64},1}:\n",
       " -0.07788053020048946 - 0.08311069634174828im\n",
       " -0.10029157626025675 + 0.22255790720834145im\n",
       "   0.2558858448115606 - 0.06226753628675752im"
      ]
     },
     "execution_count": 89,
     "metadata": {},
     "output_type": "execute_result"
    }
   ],
   "source": [
    "I=[1,3,4]\n",
    "trace₁=sum(solutions(witness_set(W_complete,L₁))[I])\n",
    "trace₂=sum(solutions(witness_set(W_complete,L₂))[I])\n",
    "trace₃=sum(solutions(witness_set(W_complete,L₃))[I])\n",
    "# here we check trace2 is the midpoint of trace1 and trace 3\n",
    "(trace₁+trace₃)-2*trace₂"
   ]
  },
  {
   "cell_type": "code",
   "execution_count": 90,
   "metadata": {},
   "outputs": [
    {
     "data": {
      "text/plain": [
       "4-element Array{Bool,1}:\n",
       " 1\n",
       " 1\n",
       " 1\n",
       " 0"
      ]
     },
     "execution_count": 90,
     "metadata": {},
     "output_type": "execute_result"
    }
   ],
   "source": [
    "[membership(W_twisted,s) for s in solutions(W_complete)]"
   ]
  },
  {
   "cell_type": "markdown",
   "metadata": {},
   "source": [
    "## A harder example - the power of pseudo-witness sets"
   ]
  },
  {
   "cell_type": "markdown",
   "metadata": {},
   "source": [
    "A plane quartic is called *Luroth* if it goes through the $10$ intersection points of $5$ lines.\n",
    "\n",
    "\n",
    "<img src=\"lurothquartic2.png\" width=\"600\">\n",
    "\n",
    "\n",
    "The set of *Luroth* quartics is an algebraic variety in the space of quartics $\\mathbb{C}^{15}$\n",
    "\n",
    "It is parametrized by all quartics $f(x,y)$ of the form $$\\sum_{i=1}^5 \\prod_{j \\neq i} \\ell_j(x,y)$$\n",
    "where $\\ell_j(x,y) = a_{j,1}x+a_{j,2}y+a_{j,3}$\n",
    "\n",
    "This gives a map $\\varphi: \\mathbb{C}^{15} \\to \\mathbb{C}^{15}$ whose image is a hypersurface called the *Luroth hypersurface*"
   ]
  },
  {
   "cell_type": "code",
   "execution_count": 91,
   "metadata": {},
   "outputs": [],
   "source": [
    "@var a[1:5,1:3]\n",
    "@var t\n",
    "ℓ = [a[i,1]*x+a[i,2]*y+a[i,3] for i in 1:5]\n",
    "Quartic = sum([prod(ℓ[j] for j in filter(x->x!=i,collect(1:5))) for i in 1:5])\n",
    "E=expand(Quartic);\n",
    "EC=exponents_coefficients(E,[x,y])[2]; #This is the map from C^15->C^15"
   ]
  },
  {
   "cell_type": "code",
   "execution_count": 92,
   "metadata": {},
   "outputs": [],
   "source": [
    "#You may be tempted to do the following and project as before. Don't. The graph has much higher degree than the \n",
    "#   Luroth hypersurface: moving the linear space 'vertical' will make many points go to infinity\n",
    "\n",
    "#@var q[1:15]\n",
    "#Graph = vcat([q[i]-EC[i] for i in 1:15],sum(randn(ComplexF64,15).*q) +rand(ComplexF64))\n",
    "#MS=monodromy_solve(System(Graph);dim=14, show_progress=true)"
   ]
  },
  {
   "cell_type": "markdown",
   "metadata": {},
   "source": [
    "\n",
    "<img src=\"PictureWitness6.png\" width=\"300\">"
   ]
  },
  {
   "cell_type": "code",
   "execution_count": 93,
   "metadata": {},
   "outputs": [
    {
     "name": "stdout",
     "output_type": "stream",
     "text": [
      "\r",
      "\u001b[32mSolutions found: 54 \t Time: 0:00:03\u001b[39m\r\n",
      "\u001b[34m  tracked loops (queued):            378 (0)\u001b[39m\r\n",
      "\u001b[34m  solutions in current (last) loop:  0 (0)\u001b[39m\r\n",
      "\u001b[34m  generated loops (no change):       7 (5)\u001b[39m\n"
     ]
    },
    {
     "data": {
      "text/plain": [
       "MonodromyResult\n",
       "===============\n",
       "• return_code → :heuristic_stop\n",
       "• 54 solutions\n",
       "• 378 tracked loops\n",
       "• random_seed → 0x1fb80ae5"
      ]
     },
     "execution_count": 93,
     "metadata": {},
     "output_type": "execute_result"
    }
   ],
   "source": [
    "#Instead, we will do a new kind of witness set using a fibre product\n",
    "@var m[1:15],k[1:15]\n",
    "ParametrizedLines = [m[i]+k[i]*t for i in 1:15]\n",
    "CutTheA = a[1]-1\n",
    "PseudoWitnessSystem = System(vcat(CutTheA,[EC[i]-ParametrizedLines[i] for i in 1:15]),parameters=[vec(m); vec(k)])\n",
    "\n",
    "#Note: this map is hundreds - to - one. You want to decide if two points are unique based on their \n",
    "#   associated t-value\n",
    "\n",
    "MS=monodromy_solve(PseudoWitnessSystem;show_progress=true,distance = dist(x,y)=abs(x[end]-y[end]))"
   ]
  },
  {
   "cell_type": "code",
   "execution_count": 286,
   "metadata": {},
   "outputs": [
    {
     "name": "stderr",
     "output_type": "stream",
     "text": [
      "\u001b[32mMixed volume:  148813 \t Time: 0:00:16\u001b[39m"
     ]
    },
    {
     "ename": "LoadError",
     "evalue": "InterruptException:",
     "output_type": "error",
     "traceback": [
      "InterruptException:",
      "",
      "Stacktrace:",
      " [1] _string_n at ./strings/string.jl:60 [inlined]",
      " [2] StringVector at ./iobuffer.jl:31 [inlined]",
      " [3] Base.GenericIOBuffer{Array{UInt8,1}}(; read::Bool, write::Bool, append::Nothing, truncate::Bool, maxsize::Int64, sizehint::Nothing) at ./iobuffer.jl:114",
      " [4] GenericIOBuffer at ./iobuffer.jl:112 [inlined]",
      " [5] durationstring(::Float64) at /home/taylor/.julia/packages/ProgressMeter/GhAId/src/ProgressMeter.jl:519",
      " [6] updateProgress!(::ProgressMeter.ProgressUnknown; showvalues::Tuple{}, truncate_lines::Bool, valuecolor::Symbol, desc::String) at /home/taylor/.julia/packages/ProgressMeter/GhAId/src/ProgressMeter.jl:318",
      " [7] updateProgress! at /home/taylor/.julia/packages/ProgressMeter/GhAId/src/ProgressMeter.jl:302 [inlined]",
      " [8] #20 at /home/taylor/.julia/packages/ProgressMeter/GhAId/src/ProgressMeter.jl:371 [inlined]",
      " [9] lock(::ProgressMeter.var\"#20#21\"{Base.Iterators.Pairs{Union{},Union{},Tuple{},NamedTuple{(),Tuple{}}},ProgressMeter.ProgressUnknown,Int64,Symbol}, ::ReentrantLock) at ./lock.jl:161",
      " [10] #update!#19 at /home/taylor/.julia/packages/ProgressMeter/GhAId/src/ProgressMeter.jl:368 [inlined]",
      " [11] update! at /home/taylor/.julia/packages/ProgressMeter/GhAId/src/ProgressMeter.jl:368 [inlined] (repeats 2 times)",
      " [12] mixed_volume(::Array{Array{Int32,2},1}; show_progress::Bool, kwargs::Base.Iterators.Pairs{Union{},Union{},Tuple{},NamedTuple{(),Tuple{}}}) at /home/taylor/.julia/packages/MixedSubdivisions/ZZe4K/src/MixedSubdivisions.jl:1423",
      " [13] mixed_volume(::Array{Array{Int32,2},1}) at /home/taylor/.julia/packages/MixedSubdivisions/ZZe4K/src/MixedSubdivisions.jl:1414",
      " [14] paths_to_track(::System, ::Val{:polyhedral}; only_torus::Bool, only_non_zero::Bool) at /home/taylor/.julia/packages/HomotopyContinuation/7X6xH/src/polyhedral.jl:253",
      " [15] paths_to_track(::System; start_system::Symbol, kwargs::Base.Iterators.Pairs{Symbol,Bool,Tuple{Symbol},NamedTuple{(:only_torus,),Tuple{Bool}}}) at /home/taylor/.julia/packages/HomotopyContinuation/7X6xH/src/solve.jl:666",
      " [16] mixed_volume(::System) at /home/taylor/.julia/packages/HomotopyContinuation/7X6xH/src/polyhedral.jl:259",
      " [17] top-level scope at In[286]:1",
      " [18] include_string(::Function, ::Module, ::String, ::String) at ./loading.jl:1091"
     ]
    }
   ],
   "source": [
    "mixed_volume(PseudoWitnessSystem) #This is why we use monodromy"
   ]
  },
  {
   "cell_type": "markdown",
   "metadata": {},
   "source": [
    "# Constructing witness sets for all dimensions"
   ]
  },
  {
   "cell_type": "code",
   "execution_count": 94,
   "metadata": {},
   "outputs": [],
   "source": [
    "#Let's start with the union of a sphere, a line, and 20 points\n",
    "@var x[1:3]\n",
    "Sphere=x[1]^2+x[2]^2+x[3]^2-1\n",
    "Hyperplane1 = sum(randn(Float64,3).*x)+1 \n",
    "Hyperplane2 = sum(randn(Float64,3).*x)+1 \n",
    "Hyperplane3 = sum(randn(Float64,2).*[Hyperplane1,Hyperplane2]);\n",
    "Quad1 = [x; 1]'*randn(Float64,4,4)*[x; 1]\n",
    "Quad2 = [x; 1]'*randn(Float64,4,4)*[x; 1]\n",
    "Quad3 = [x; 1]'*randn(Float64,4,4)*[x; 1]\n",
    "\n",
    "f1 = Sphere*Hyperplane1*Quad1\n",
    "f2 = Sphere*Hyperplane2*Quad2\n",
    "f3 = Sphere*Hyperplane3*Quad3;\n",
    "#We should have only the sphere in dimension 2\n",
    "#We will have only the line in dimension 1\n",
    "#We will have 20 points in dimension 0\n",
    "#  We will have the 8 intersection points of 3 quadrics in dimension 0\n",
    "#  Along with Hyperplane[1] intersect Quad[2] intersect Quad[3] and the 3 permutations thereof (3*4=12)"
   ]
  },
  {
   "cell_type": "code",
   "execution_count": 95,
   "metadata": {},
   "outputs": [
    {
     "data": {
      "text/plain": [
       "Result with 125 solutions\n",
       "=========================\n",
       "• 125 paths tracked\n",
       "• 20 non-singular solutions (2 real)\n",
       "• 105 singular solutions (0 real)\n",
       "• random_seed: 0xcdd85754\n",
       "• start_system: :polyhedral\n",
       "• multiplicity table of singular solutions:\n",
       "\u001b[2m╭\u001b[0m\u001b[2m───────\u001b[0m\u001b[2m┬\u001b[0m\u001b[2m───────\u001b[0m\u001b[2m┬\u001b[0m\u001b[2m────────\u001b[0m\u001b[2m┬\u001b[0m\u001b[2m────────────\u001b[0m\u001b[2m╮\u001b[0m\n",
       "\u001b[2m│\u001b[0m\u001b[22m mult. \u001b[0m\u001b[2m│\u001b[0m\u001b[22m total \u001b[0m\u001b[2m│\u001b[0m\u001b[22m # real \u001b[0m\u001b[2m│\u001b[0m\u001b[22m # non-real \u001b[0m\u001b[2m│\u001b[0m\n",
       "\u001b[2m├\u001b[0m\u001b[2m───────\u001b[0m\u001b[2m┼\u001b[0m\u001b[2m───────\u001b[0m\u001b[2m┼\u001b[0m\u001b[2m────────\u001b[0m\u001b[2m┼\u001b[0m\u001b[2m────────────\u001b[0m\u001b[2m┤\u001b[0m\n",
       "\u001b[2m│\u001b[0m   1   \u001b[2m│\u001b[0m  105  \u001b[2m│\u001b[0m   0    \u001b[2m│\u001b[0m    105     \u001b[2m│\u001b[0m\n",
       "\u001b[2m╰\u001b[0m\u001b[2m───────\u001b[0m\u001b[2m┴\u001b[0m\u001b[2m───────\u001b[0m\u001b[2m┴\u001b[0m\u001b[2m────────\u001b[0m\u001b[2m┴\u001b[0m\u001b[2m────────────\u001b[0m\u001b[2m╯\u001b[0m\n"
      ]
     },
     "execution_count": 95,
     "metadata": {},
     "output_type": "execute_result"
    }
   ],
   "source": [
    "WF0=solve(System([f1,f2,f3]))"
   ]
  },
  {
   "cell_type": "code",
   "execution_count": 96,
   "metadata": {},
   "outputs": [
    {
     "name": "stdout",
     "output_type": "stream",
     "text": [
      "\r",
      "\u001b[32mTracking 125 paths... 100%|█████████████████████████████| Time: 0:00:00\u001b[39m\r\n",
      "\u001b[34m  # paths tracked:                  125\u001b[39m\r\n",
      "\u001b[34m  # non-singular solutions (real):  1 (0)\u001b[39m\r\n",
      "\u001b[34m  # singular endpoints (real):      16 (0)\u001b[39m\r\n",
      "\u001b[34m  # total solutions (real):         17 (0)\u001b[39m\n"
     ]
    },
    {
     "data": {
      "text/plain": [
       "Witness set for dimension 1 of degree 1"
      ]
     },
     "execution_count": 96,
     "metadata": {},
     "output_type": "execute_result"
    }
   ],
   "source": [
    "WF1=witness_set(System([f1,f2,f3]),dim=1)"
   ]
  },
  {
   "cell_type": "code",
   "execution_count": 97,
   "metadata": {},
   "outputs": [
    {
     "name": "stdout",
     "output_type": "stream",
     "text": [
      "\r",
      "\u001b[32mTracking 125 paths... 100%|█████████████████████████████| Time: 0:00:00\u001b[39m\r\n",
      "\u001b[34m  # paths tracked:                  125\u001b[39m\r\n",
      "\u001b[34m  # non-singular solutions (real):  2 (0)\u001b[39m\r\n",
      "\u001b[34m  # singular endpoints (real):      0 (0)\u001b[39m\r\n",
      "\u001b[34m  # total solutions (real):         2 (0)\u001b[39m\n"
     ]
    },
    {
     "data": {
      "text/plain": [
       "Witness set for dimension 2 of degree 2"
      ]
     },
     "execution_count": 97,
     "metadata": {},
     "output_type": "execute_result"
    }
   ],
   "source": [
    "WF2=witness_set(System([f1,f2,f3]),dim=2)"
   ]
  },
  {
   "cell_type": "markdown",
   "metadata": {},
   "source": [
    "# The basic cascade algorithm"
   ]
  },
  {
   "cell_type": "markdown",
   "metadata": {},
   "source": [
    "Here's one way to get a witness set for many dimensional components. We follow\n",
    "\n",
    "\n",
    "[[*Numerical homotopies to compute generic points on positive dimensional algebraic sets*](https://arxiv.org/abs/math/9906198)] Andrew J. Sommese, Jan Verschelde, 1999"
   ]
  },
  {
   "cell_type": "markdown",
   "metadata": {},
   "source": [
    "1) We assume $f=(f_1,\\ldots,f_n)$ is a system of n equations in n variables (otherwise we slice to this case)\n",
    "\n",
    "2) We use slack variables $z_1,\\ldots,z_n$ and write \n",
    "\n",
    "$$F_i = \\begin{bmatrix} f_1 + \\sum_{j=1}^i \\lambda_{1,j} z_j  \\\\  f_2 + \\sum_{j=1}^i \\lambda_{2,j} z_j   \\\\ \\vdots \\\\  f_n + \\sum_{j=1}^i \\lambda_{n,j} z_j \\\\ \\ell_1(x) + z_1 \\\\ \\ell_2(x)+z_2 \\\\ \\vdots \\\\ \\ell_i(x)+z_i  \\\\ z_{i+1} \\\\ \\vdots \\\\ z_{n}\\end{bmatrix}$$\n",
    "This system has $2n$ equations in $2n$ variables, and for $i=n$, this has isolated solutions of multiplicity one\n",
    "\n",
    "3) We solve $F_n=0$ and call these solutions $S_n$\n",
    "\n",
    "4) For $i=1,\\ldots,n$,\n",
    "\n",
    "4a) Run a homotopy to solve for $F_{n-i}$ from $F_{n-i+1}$ using $S_{n-i+1}$ as a start system.\n",
    "\n",
    "4b) Call these solutions $S_{n-i}$.\n",
    "\n",
    "4c) The solutions with $z_{n-i+1}=0$ belong to the codimension $i$ witness superset. Remove these from $S_{n-i}$ \n",
    "\n",
    "5) Return witness supersets"
   ]
  },
  {
   "cell_type": "code",
   "execution_count": 98,
   "metadata": {},
   "outputs": [],
   "source": [
    "@var z[1:3],t\n",
    "F₃ = [f1+rand(ComplexF64)*z[1]+rand(ComplexF64)*z[2]+rand(ComplexF64)*z[3],\n",
    "             f2+rand(ComplexF64)*z[1]+rand(ComplexF64)*z[2]+rand(ComplexF64)*z[3],\n",
    "             f3+rand(ComplexF64)*z[1]+rand(ComplexF64)*z[2]+rand(ComplexF64)*z[3],\n",
    "             rand(ComplexF64)+sum(randn(ComplexF64,3).*x)+z[1],\n",
    "             rand(ComplexF64)+sum(randn(ComplexF64,3).*x)+z[2],\n",
    "             rand(ComplexF64)+sum(randn(ComplexF64,3).*x)+z[3]]\n",
    "E₃ = System(F₃);"
   ]
  },
  {
   "cell_type": "markdown",
   "metadata": {},
   "source": [
    "$$E_3 = \\begin{bmatrix} f_1 + \\lambda_{1,1}z_1+\\lambda_{1,2}z_2+\\lambda_{1,3}z_3 \\\\\n",
    "f_2 + \\lambda_{2,1}z_1+\\lambda_{2,2}z_2+\\lambda_{2,3}z_3 \\\\\n",
    "f_3 + \\lambda_{3,1}z_1+\\lambda_{3,2}z_2+\\lambda_{3,3}z_3\\\\\n",
    "a_0+a_1x_1+a_2x_2+a_3x_3+z_1\\\\\n",
    "b_0+b_1x_1+b_2x_2+b_3x_3+z_2\\\\\n",
    "c_0+c_1x_1+c_2x_2+c_3x_3+z_3\\\\\n",
    "\\end{bmatrix}$$"
   ]
  },
  {
   "cell_type": "code",
   "execution_count": 99,
   "metadata": {},
   "outputs": [
    {
     "data": {
      "text/plain": [
       "Result with 49 solutions\n",
       "========================\n",
       "• 125 paths tracked\n",
       "• 49 non-singular solutions (0 real)\n",
       "• random_seed: 0xa4959289\n",
       "• start_system: :polyhedral\n"
      ]
     },
     "execution_count": 99,
     "metadata": {},
     "output_type": "execute_result"
    }
   ],
   "source": [
    "Results3=solve(E₃)"
   ]
  },
  {
   "cell_type": "code",
   "execution_count": 100,
   "metadata": {},
   "outputs": [],
   "source": [
    "S3=solutions(Results3);"
   ]
  },
  {
   "cell_type": "markdown",
   "metadata": {},
   "source": [
    "$$E_3 = \\begin{bmatrix} f_1 + \\lambda_{1,1}z_1+\\lambda_{1,2}z_2+\\lambda_{1,3}z_3 \\\\\n",
    "f_2 + \\lambda_{2,1}z_1+\\lambda_{2,2}z_2+\\lambda_{2,3}z_3 \\\\\n",
    "f_3 + \\lambda_{3,1}z_1+\\lambda_{3,2}z_2+\\lambda_{3,3}z_3\\\\\n",
    "a_0+a_1x_1+a_2x_2+a_3x_3+z_1\\\\\n",
    "b_0+b_1x_1+b_2x_2+b_3x_3+z_2\\\\\n",
    "c_0+c_1x_1+c_2x_2+c_3x_3+z_3\\\\\n",
    "\\end{bmatrix} \n",
    "\\to \n",
    "\\begin{bmatrix} f_1 + \\lambda_{1,1}z_1+\\lambda_{1,2}z_2 \\\\\n",
    "f_2 + \\lambda_{2,1}z_1+\\lambda_{2,2}z_2 \\\\\n",
    "f_3 + \\lambda_{3,1}z_1+\\lambda_{3,2}z_2\\\\\n",
    "a_0+a_1x_1+a_2x_2+a_3x_3+z_1\\\\\n",
    "b_0+b_1x_1+b_2x_2+b_3x_3+z_2\\\\\n",
    "z_3\\\\\n",
    "\\end{bmatrix} =E_2\n",
    "$$"
   ]
  },
  {
   "cell_type": "code",
   "execution_count": 101,
   "metadata": {},
   "outputs": [],
   "source": [
    "F₂ = vcat([evaluate(f,z[3]=>0) for f in F₃[1:5]],z[3]);\n",
    "E₂ = System(t*F₃+(1-t)*F₂,parameters=[t]);"
   ]
  },
  {
   "cell_type": "code",
   "execution_count": 102,
   "metadata": {},
   "outputs": [
    {
     "name": "stdout",
     "output_type": "stream",
     "text": [
      "\r",
      "\u001b[32mTracking 49 paths... 100%|██████████████████████████████| Time: 0:00:02\u001b[39m\r\n",
      "\u001b[34m  # paths tracked:                  49\u001b[39m\r\n",
      "\u001b[34m  # non-singular solutions (real):  49 (0)\u001b[39m\r\n",
      "\u001b[34m  # singular endpoints (real):      0 (0)\u001b[39m\r\n",
      "\u001b[34m  # total solutions (real):         49 (0)\u001b[39m\n"
     ]
    },
    {
     "data": {
      "text/plain": [
       "Result with 49 solutions\n",
       "========================\n",
       "• 49 paths tracked\n",
       "• 49 non-singular solutions (0 real)\n",
       "• random_seed: 0x49d69488\n"
      ]
     },
     "execution_count": 102,
     "metadata": {},
     "output_type": "execute_result"
    }
   ],
   "source": [
    "Results2=solve(E₂,S3,start_parameters=[1],target_parameters=[0])"
   ]
  },
  {
   "cell_type": "code",
   "execution_count": 103,
   "metadata": {},
   "outputs": [],
   "source": [
    "S2=solutions(Results2);"
   ]
  },
  {
   "cell_type": "code",
   "execution_count": 104,
   "metadata": {},
   "outputs": [
    {
     "data": {
      "text/plain": [
       "2-element Array{Array{Complex{Float64},1},1}:\n",
       " [0.6639286053674064 - 0.1131075363254743im, 0.7469756826691714 + 0.04884840437517856im, 0.21833775962034943 + 0.17682126403970136im, 1.683558554994722e-32 + 3.8987287421627585e-32im, -2.3117877593320418e-32 - 7.549727522905743e-32im, 0.0 + 0.0im]\n",
       " [-0.043392703136766346 - 0.4504383777520121im, 0.31323942775226704 - 0.5278757828898966im, 1.1818485930278277 + 0.12337093787620083im, 5.449948935030796e-31 + 4.819643976649948e-31im, -1.1108079635478904e-31 - 9.57184821958188e-31im, 0.0 + 0.0im]"
      ]
     },
     "execution_count": 104,
     "metadata": {},
     "output_type": "execute_result"
    }
   ],
   "source": [
    "Witness_Dim_2 = filter(x->isapprox(x[5],0;atol=0.000001),S2)"
   ]
  },
  {
   "cell_type": "code",
   "execution_count": 105,
   "metadata": {},
   "outputs": [
    {
     "name": "stdout",
     "output_type": "stream",
     "text": [
      "\u001b[32mTracking 2 paths... 100%|███████████████████████████████| Time: 0:00:02\u001b[39m\n",
      "\u001b[34m  # paths tracked:                  2\u001b[39m\n",
      "\u001b[34m  # non-singular solutions (real):  2 (0)\u001b[39m\n",
      "\u001b[34m  # singular endpoints (real):      0 (0)\u001b[39m\n",
      "\u001b[34m  # total solutions (real):         2 (0)\u001b[39m\n",
      "true\n",
      "true\n"
     ]
    }
   ],
   "source": [
    "println(membership(WF2,Witness_Dim_2[1][1:3]))\n",
    "println(membership(WF2,Witness_Dim_2[2][1:3]))"
   ]
  },
  {
   "cell_type": "code",
   "execution_count": 106,
   "metadata": {},
   "outputs": [
    {
     "data": {
      "text/plain": [
       "47"
      ]
     },
     "execution_count": 106,
     "metadata": {},
     "output_type": "execute_result"
    }
   ],
   "source": [
    "filter!(s->s ∉ Witness_Dim_2, S2);\n",
    "length(S2)"
   ]
  },
  {
   "cell_type": "markdown",
   "metadata": {},
   "source": [
    "$$E_2 = \n",
    "\\begin{bmatrix} f_1 + \\lambda_{1,1}z_1+\\lambda_{1,2}z_2 \\\\\n",
    "f_2 + \\lambda_{2,1}z_1+\\lambda_{2,2}z_2 \\\\\n",
    "f_3 + \\lambda_{3,1}z_1+\\lambda_{3,2}z_2\\\\\n",
    "a_0+a_1x_1+a_2x_2+a_3x_3+z_1\\\\\n",
    "b_0+b_1x_1+b_2x_2+b_3x_3+z_2\\\\\n",
    "z_3\\\\\n",
    "\\end{bmatrix}  \\to \n",
    "\\begin{bmatrix} f_1 + \\lambda_{1,1}z_1 \\\\\n",
    "f_2 + \\lambda_{2,1}z_1 \\\\\n",
    "f_3 + \\lambda_{3,1}z_1\\\\\n",
    "a_0+a_1x_1+a_2x_2+a_3x_3+z_1\\\\\n",
    "z_2\\\\\n",
    "z_3\\\\\n",
    "\\end{bmatrix} =E_1\n",
    "$$"
   ]
  },
  {
   "cell_type": "code",
   "execution_count": 107,
   "metadata": {},
   "outputs": [],
   "source": [
    "F₁ = vcat([evaluate(f,[z[2],z[3]]=>[0,0]) for f in F₂[1:4]],[z[2],z[3]])\n",
    "E₁ = System(t*F₂+(1-t)*F₁,parameters=[t]);"
   ]
  },
  {
   "cell_type": "code",
   "execution_count": 108,
   "metadata": {},
   "outputs": [
    {
     "name": "stdout",
     "output_type": "stream",
     "text": [
      "\r",
      "\u001b[32mTracking 47 paths... 100%|██████████████████████████████| Time: 0:00:01\u001b[39m\r\n",
      "\u001b[34m  # paths tracked:                  47\u001b[39m\r\n",
      "\u001b[34m  # non-singular solutions (real):  41 (0)\u001b[39m\r\n",
      "\u001b[34m  # singular endpoints (real):      6 (0)\u001b[39m\r\n",
      "\u001b[34m  # total solutions (real):         47 (0)\u001b[39m\n"
     ]
    },
    {
     "data": {
      "text/plain": [
       "Result with 47 solutions\n",
       "========================\n",
       "• 47 paths tracked\n",
       "• 41 non-singular solutions (0 real)\n",
       "• 6 singular solutions (0 real)\n",
       "• random_seed: 0x9672acb8\n",
       "• multiplicity table of singular solutions:\n",
       "\u001b[2m╭\u001b[0m\u001b[2m───────\u001b[0m\u001b[2m┬\u001b[0m\u001b[2m───────\u001b[0m\u001b[2m┬\u001b[0m\u001b[2m────────\u001b[0m\u001b[2m┬\u001b[0m\u001b[2m────────────\u001b[0m\u001b[2m╮\u001b[0m\n",
       "\u001b[2m│\u001b[0m\u001b[22m mult. \u001b[0m\u001b[2m│\u001b[0m\u001b[22m total \u001b[0m\u001b[2m│\u001b[0m\u001b[22m # real \u001b[0m\u001b[2m│\u001b[0m\u001b[22m # non-real \u001b[0m\u001b[2m│\u001b[0m\n",
       "\u001b[2m├\u001b[0m\u001b[2m───────\u001b[0m\u001b[2m┼\u001b[0m\u001b[2m───────\u001b[0m\u001b[2m┼\u001b[0m\u001b[2m────────\u001b[0m\u001b[2m┼\u001b[0m\u001b[2m────────────\u001b[0m\u001b[2m┤\u001b[0m\n",
       "\u001b[2m│\u001b[0m   1   \u001b[2m│\u001b[0m   6   \u001b[2m│\u001b[0m   0    \u001b[2m│\u001b[0m     6      \u001b[2m│\u001b[0m\n",
       "\u001b[2m╰\u001b[0m\u001b[2m───────\u001b[0m\u001b[2m┴\u001b[0m\u001b[2m───────\u001b[0m\u001b[2m┴\u001b[0m\u001b[2m────────\u001b[0m\u001b[2m┴\u001b[0m\u001b[2m────────────\u001b[0m\u001b[2m╯\u001b[0m\n"
      ]
     },
     "execution_count": 108,
     "metadata": {},
     "output_type": "execute_result"
    }
   ],
   "source": [
    "Results1=solve(E₁,S2,start_parameters=[1],target_parameters=[0])"
   ]
  },
  {
   "cell_type": "code",
   "execution_count": 109,
   "metadata": {},
   "outputs": [],
   "source": [
    "S1=solutions(Results1);"
   ]
  },
  {
   "cell_type": "code",
   "execution_count": 110,
   "metadata": {},
   "outputs": [
    {
     "data": {
      "text/plain": [
       "1-element Array{Array{Complex{Float64},1},1}:\n",
       " [1.0013313810356586 - 0.06587252081015557im, 0.4336532904334501 - 0.24883737756619767im, 0.37402636005211315 - 0.07289316284975164im, -7.253181372112892e-33 - 5.41212915746505e-32im, 0.0 + 0.0im, 0.0 + 0.0im]"
      ]
     },
     "execution_count": 110,
     "metadata": {},
     "output_type": "execute_result"
    }
   ],
   "source": [
    "Witness_Dim_1 = filter(x->isapprox(x[4],0;atol=0.000001),S1)"
   ]
  },
  {
   "cell_type": "code",
   "execution_count": 111,
   "metadata": {},
   "outputs": [
    {
     "name": "stdout",
     "output_type": "stream",
     "text": [
      "true\n",
      "false\n"
     ]
    }
   ],
   "source": [
    "println(membership(WF1,Witness_Dim_1[1][1:3]))\n",
    "println(membership(WF2,Witness_Dim_1[1][1:3]))"
   ]
  },
  {
   "cell_type": "code",
   "execution_count": 112,
   "metadata": {},
   "outputs": [
    {
     "data": {
      "text/plain": [
       "40"
      ]
     },
     "execution_count": 112,
     "metadata": {},
     "output_type": "execute_result"
    }
   ],
   "source": [
    "filter!(s->s ∉ Witness_Dim_1, S1);\n",
    "length(S1)"
   ]
  },
  {
   "cell_type": "markdown",
   "metadata": {},
   "source": [
    "$$E_1 = \n",
    "\\begin{bmatrix} f_1 + \\lambda_{1,1}z_1 \\\\\n",
    "f_2 + \\lambda_{2,1}z_1 \\\\\n",
    "f_3 + \\lambda_{3,1}z_1\\\\\n",
    "a_0+a_1x_1+a_2x_2+a_3x_3+z_1\\\\\n",
    "z_2\\\\\n",
    "z_3\\\\\n",
    "\\end{bmatrix}\n",
    "\\to\n",
    "\\begin{bmatrix} f_1  \\\\\n",
    "f_2  \\\\\n",
    "f_3 \\\\\n",
    "z_1\\\\\n",
    "z_2\\\\\n",
    "z_3\\\\\n",
    "\\end{bmatrix} =E_0\n",
    "$$"
   ]
  },
  {
   "cell_type": "code",
   "execution_count": 113,
   "metadata": {},
   "outputs": [],
   "source": [
    "F₀ = vcat([evaluate(f,[z[1],z[2],z[3]]=>[0,0,0]) for f in F₁[1:3]],[z[1],z[2],z[3]])\n",
    "E₀ = System(t*F₁+(1-t)*F₀,parameters=[t]);"
   ]
  },
  {
   "cell_type": "code",
   "execution_count": 114,
   "metadata": {},
   "outputs": [
    {
     "name": "stdout",
     "output_type": "stream",
     "text": [
      "\r",
      "\u001b[32mTracking 40 paths... 100%|██████████████████████████████| Time: 0:00:01\u001b[39m\r\n",
      "\u001b[34m  # paths tracked:                  40\u001b[39m\r\n",
      "\u001b[34m  # non-singular solutions (real):  20 (2)\u001b[39m\r\n",
      "\u001b[34m  # singular endpoints (real):      20 (0)\u001b[39m\r\n",
      "\u001b[34m  # total solutions (real):         40 (2)\u001b[39m\n"
     ]
    },
    {
     "data": {
      "text/plain": [
       "Result with 40 solutions\n",
       "========================\n",
       "• 40 paths tracked\n",
       "• 20 non-singular solutions (2 real)\n",
       "• 20 singular solutions (0 real)\n",
       "• random_seed: 0x501f72af\n",
       "• multiplicity table of singular solutions:\n",
       "\u001b[2m╭\u001b[0m\u001b[2m───────\u001b[0m\u001b[2m┬\u001b[0m\u001b[2m───────\u001b[0m\u001b[2m┬\u001b[0m\u001b[2m────────\u001b[0m\u001b[2m┬\u001b[0m\u001b[2m────────────\u001b[0m\u001b[2m╮\u001b[0m\n",
       "\u001b[2m│\u001b[0m\u001b[22m mult. \u001b[0m\u001b[2m│\u001b[0m\u001b[22m total \u001b[0m\u001b[2m│\u001b[0m\u001b[22m # real \u001b[0m\u001b[2m│\u001b[0m\u001b[22m # non-real \u001b[0m\u001b[2m│\u001b[0m\n",
       "\u001b[2m├\u001b[0m\u001b[2m───────\u001b[0m\u001b[2m┼\u001b[0m\u001b[2m───────\u001b[0m\u001b[2m┼\u001b[0m\u001b[2m────────\u001b[0m\u001b[2m┼\u001b[0m\u001b[2m────────────\u001b[0m\u001b[2m┤\u001b[0m\n",
       "\u001b[2m│\u001b[0m   1   \u001b[2m│\u001b[0m  20   \u001b[2m│\u001b[0m   0    \u001b[2m│\u001b[0m     20     \u001b[2m│\u001b[0m\n",
       "\u001b[2m╰\u001b[0m\u001b[2m───────\u001b[0m\u001b[2m┴\u001b[0m\u001b[2m───────\u001b[0m\u001b[2m┴\u001b[0m\u001b[2m────────\u001b[0m\u001b[2m┴\u001b[0m\u001b[2m────────────\u001b[0m\u001b[2m╯\u001b[0m\n"
      ]
     },
     "execution_count": 114,
     "metadata": {},
     "output_type": "execute_result"
    }
   ],
   "source": [
    "Result0=solve(E₀,S1,start_parameters=[1],target_parameters=[0])"
   ]
  },
  {
   "cell_type": "markdown",
   "metadata": {},
   "source": [
    "### Numerical irreducible decomposition (of equidimensional varieties)\n",
    "\n",
    "One of the most important algorithms in numerical algebraic geometry is taking a polynomial systme $F$ and computing a witness set for every irreducible component of $\\mathcal V(F)$. This is called a **numerical irreducible decomposition**. We will go through how it works for equidimensional varieties"
   ]
  },
  {
   "cell_type": "markdown",
   "metadata": {},
   "source": [
    "#### Step 1: compute a witness superset \n",
    "\n",
    "$\\mathcal V(F) \\to (F,L,S)$"
   ]
  },
  {
   "cell_type": "markdown",
   "metadata": {},
   "source": [
    "#### Step 2: \n",
    "\n",
    "Using monodromy, identify solutions as belonging to the same component until the trace test passes.\n",
    "\n",
    "$p \\in S \\to S_p=\\{q \\in S \\mid q \\text{ was found via monodromy starting from } p\\}$"
   ]
  },
  {
   "cell_type": "markdown",
   "metadata": {},
   "source": [
    "#### Step 3: \n",
    "\n",
    "If $S \\backslash \\bigcup_{p \\text{ done in step 2}} S_p \\neq \\emptyset$ pick some $q$ not identified and repeat step 2"
   ]
  },
  {
   "cell_type": "markdown",
   "metadata": {},
   "source": [
    "#### Output: \n",
    "\n",
    "Set $W_p = (F,L,S_p)$ and output the union of all $W_p$"
   ]
  },
  {
   "cell_type": "code",
   "execution_count": 115,
   "metadata": {},
   "outputs": [
    {
     "name": "stderr",
     "output_type": "stream",
     "text": [
      "WARNING: using LinearAlgebra.I in module Main conflicts with an existing identifier.\n"
     ]
    }
   ],
   "source": [
    "using Bertini, LinearAlgebra"
   ]
  },
  {
   "cell_type": "code",
   "execution_count": 116,
   "metadata": {},
   "outputs": [
    {
     "data": {
      "text/plain": [
       "16-element Array{Expression,1}:\n",
       " -1 + m21^2 + m31^2 + m41^2\n",
       "          m32*m31 + m41*m42\n",
       "          m21*m23 + m41*m43\n",
       "          m21*m24 + m31*m34\n",
       "          m32*m31 + m41*m42\n",
       " -1 + m12^2 + m32^2 + m42^2\n",
       "          m13*m12 + m42*m43\n",
       "          m12*m14 + m32*m34\n",
       "          m21*m23 + m41*m43\n",
       "          m13*m12 + m42*m43\n",
       " -1 + m13^2 + m23^2 + m43^2\n",
       "          m13*m14 + m23*m24\n",
       "          m21*m24 + m31*m34\n",
       "          m12*m14 + m32*m34\n",
       "          m13*m14 + m23*m24\n",
       " -1 + m14^2 + m24^2 + m34^2"
      ]
     },
     "execution_count": 116,
     "metadata": {},
     "output_type": "execute_result"
    }
   ],
   "source": [
    "#Hollow orthogonal 4x4 matrices\n",
    "@var m12,m13,m14,m21,m23,m24,m31,m32,m34,m41,m42,m43\n",
    "M=[[0,m12, m13, m14] [m21, 0, m23, m24,] [m31, m32, 0, m34] [m41, m42, m43, 0]]\n",
    "HollowO4=vec((M*M')-LinearAlgebra.I)"
   ]
  },
  {
   "cell_type": "markdown",
   "metadata": {},
   "source": [
    "[[*Regenerative cascade homotopies for solving polynomial systems*](https://www.sciencedirect.com/science/article/abs/pii/S0096300311008150)]Jonathan D.Hauenstein Andrew J.Sommese Charles W.Wampler"
   ]
  },
  {
   "cell_type": "code",
   "execution_count": 79,
   "metadata": {},
   "outputs": [
    {
     "name": "stdout",
     "output_type": "stream",
     "text": [
      "File path: /tmp/jl_O9eWwX\n",
      "\n",
      " Bertini(TM) v1.5.1\n",
      "  (August 29, 2016)\n",
      "\n",
      " D.J. Bates, J.D. Hauenstein,\n",
      " A.J. Sommese, C.W. Wampler\n",
      "\n",
      "(using GMP v6.1.2, MPFR v3.1.4)\n",
      "\n",
      "\n",
      "\n",
      "NOTE: You have requested to use adaptive path tracking.  Please make sure that you have\n",
      "setup the following tolerances appropriately:\n",
      "CoeffBound: 2.176827000000e+00, DegreeBound: 2.000000000000e+00\n",
      "AMPSafetyDigits1: 1, AMPSafetyDigits2: 1, AMPMaxPrec: 1024\n",
      "\n",
      "\n",
      "Tracking regeneration codim 1 of 10: 2 paths to track.\n",
      "Tracking path 0 of 2\n",
      "\n",
      "Sorting codimension 1 of 10: 2 paths to sort.\n",
      "Sorting 0 of 2\n",
      "\n",
      "Preparing regeneration codim 2 of 10: 2 witness points to move.\n",
      "Moving 0 of 2\n",
      "\n",
      "Tracking regeneration codim 2 of 10: 4 paths to track.\n",
      "Tracking path 0 of 4\n",
      "\n",
      "Sorting codimension 2 of 10: 4 paths to sort.\n",
      "Sorting 0 of 4\n",
      "\n",
      "Preparing regeneration codim 3 of 10: 4 witness points to move.\n",
      "Moving 0 of 4\n",
      "\n",
      "Tracking regeneration codim 3 of 10: 8 paths to track.\n",
      "Tracking path 0 of 8\n",
      "\n",
      "Sorting codimension 3 of 10: 8 paths to sort.\n",
      "Sorting 0 of 8\n",
      "\n",
      "Preparing regeneration codim 4 of 10: 8 witness points to move.\n",
      "Moving 0 of 8\n",
      "\n",
      "Tracking regeneration codim 4 of 10: 16 paths to track.\n",
      "Tracking path 0 of 16\n",
      "\n",
      "Sorting codimension 4 of 10: 16 paths to sort.\n",
      "Sorting 0 of 16\n",
      "\n",
      "Preparing regeneration codim 5 of 10: 16 witness points to move.\n",
      "Moving 0 of 16\n",
      "\n",
      "Tracking regeneration codim 5 of 10: 32 paths to track.\n",
      "Tracking path 0 of 32\n",
      "Tracking path 20 of 32\n",
      "\n",
      "Sorting codimension 5 of 10: 32 paths to sort.\n",
      "Sorting 0 of 32\n",
      "Sorting 20 of 32\n",
      "\n",
      "Preparing regeneration codim 6 of 10: 32 witness points to move.\n",
      "Moving 0 of 32\n",
      "Moving 20 of 32\n",
      "\n",
      "Tracking regeneration codim 6 of 10: 64 paths to track.\n",
      "Tracking path 0 of 64\n",
      "Tracking path 20 of 64\n",
      "Tracking path 40 of 64\n",
      "Tracking path 60 of 64\n",
      "\n",
      "Sorting codimension 6 of 10: 64 paths to sort.\n",
      "Sorting 0 of 64\n",
      "Sorting 20 of 64\n",
      "Sorting 40 of 64\n",
      "Sorting 60 of 64\n",
      "\n",
      "Preparing regeneration codim 7 of 10: 64 witness points to move.\n",
      "Moving 0 of 64\n",
      "Moving 20 of 64\n",
      "Moving 40 of 64\n",
      "Moving 60 of 64\n",
      "\n",
      "Tracking regeneration codim 7 of 10: 128 paths to track.\n",
      "Tracking path 0 of 128\n",
      "Tracking path 20 of 128\n",
      "Tracking path 40 of 128\n",
      "Tracking path 60 of 128\n",
      "Tracking path 80 of 128\n",
      "Tracking path 100 of 128\n",
      "Tracking path 120 of 128\n",
      "\n",
      "Sorting codimension 7 of 10: 128 paths to sort.\n",
      "Sorting 0 of 128\n",
      "Sorting 20 of 128\n",
      "Sorting 40 of 128\n",
      "Sorting 60 of 128\n",
      "Sorting 80 of 128\n",
      "Sorting 100 of 128\n",
      "Sorting 120 of 128\n",
      "\n",
      "Preparing regeneration codim 8 of 10: 128 witness points to move.\n",
      "Moving 0 of 128\n",
      "Moving 20 of 128\n",
      "Moving 40 of 128\n",
      "Moving 60 of 128\n",
      "Moving 80 of 128\n",
      "Moving 100 of 128\n",
      "Moving 120 of 128\n",
      "\n",
      "Tracking regeneration codim 8 of 10: 256 paths to track.\n",
      "Tracking path 0 of 256\n",
      "Tracking path 20 of 256\n",
      "Tracking path 40 of 256\n",
      "Tracking path 60 of 256\n",
      "Tracking path 80 of 256\n",
      "Tracking path 100 of 256\n",
      "Tracking path 120 of 256\n",
      "Tracking path 140 of 256\n",
      "Tracking path 160 of 256\n",
      "Tracking path 180 of 256\n",
      "Tracking path 200 of 256\n",
      "Tracking path 220 of 256\n",
      "Tracking path 240 of 256\n",
      "\n",
      "Sorting codimension 8 of 10: 256 paths to sort.\n",
      "Sorting 0 of 256\n",
      "Sorting 20 of 256\n",
      "Sorting 40 of 256\n",
      "Sorting 60 of 256\n",
      "Sorting 80 of 256\n",
      "Sorting 100 of 256\n",
      "Sorting 120 of 256\n",
      "Sorting 140 of 256\n",
      "Sorting 160 of 256\n",
      "Sorting 180 of 256\n",
      "Sorting 200 of 256\n",
      "Sorting 220 of 256\n",
      "Sorting 240 of 256\n",
      "\n",
      "Preparing regeneration codim 9 of 10: 224 witness points to move.\n",
      "Moving 0 of 224\n",
      "Moving 20 of 224\n",
      "Moving 40 of 224\n",
      "Moving 60 of 224\n",
      "Moving 80 of 224\n",
      "Moving 100 of 224\n",
      "Moving 120 of 224\n",
      "Moving 140 of 224\n",
      "Moving 160 of 224\n",
      "Moving 180 of 224\n",
      "Moving 200 of 224\n",
      "Moving 220 of 224\n",
      "\n",
      "Tracking regeneration codim 9 of 10: 448 paths to track.\n",
      "Tracking path 0 of 448\n",
      "Tracking path 20 of 448\n",
      "Tracking path 40 of 448\n",
      "Tracking path 60 of 448\n",
      "Tracking path 80 of 448\n",
      "Tracking path 100 of 448\n",
      "Tracking path 120 of 448\n",
      "Tracking path 140 of 448\n",
      "Tracking path 160 of 448\n",
      "Tracking path 180 of 448\n",
      "Tracking path 200 of 448\n",
      "Tracking path 220 of 448\n",
      "Tracking path 240 of 448\n",
      "Tracking path 260 of 448\n",
      "Tracking path 280 of 448\n",
      "Tracking path 300 of 448\n",
      "Tracking path 320 of 448\n",
      "Tracking path 340 of 448\n",
      "Tracking path 360 of 448\n",
      "Tracking path 380 of 448\n",
      "Tracking path 400 of 448\n",
      "Tracking path 420 of 448\n",
      "Tracking path 440 of 448\n",
      "\n",
      "Sorting codimension 9 of 10: 448 paths to sort.\n",
      "Sorting 0 of 448\n",
      "Sorting 20 of 448\n",
      "Sorting 40 of 448\n",
      "Sorting 60 of 448\n",
      "Sorting 80 of 448\n",
      "Sorting 100 of 448\n",
      "Sorting 120 of 448\n",
      "Sorting 140 of 448\n",
      "Sorting 160 of 448\n",
      "Sorting 180 of 448\n",
      "Sorting 200 of 448\n",
      "Sorting 220 of 448\n",
      "Sorting 240 of 448\n",
      "Sorting 260 of 448\n",
      "Sorting 280 of 448\n",
      "Sorting 300 of 448\n",
      "Sorting 320 of 448\n",
      "Sorting 340 of 448\n",
      "Sorting 360 of 448\n",
      "Sorting 380 of 448\n",
      "Sorting 400 of 448\n",
      "Sorting 420 of 448\n",
      "Sorting 440 of 448\n",
      "\n",
      "Preparing regeneration codim 10 of 10: 280 witness points to move.\n",
      "Moving 0 of 280\n",
      "Moving 20 of 280\n",
      "Moving 40 of 280\n",
      "Moving 60 of 280\n",
      "Moving 80 of 280\n",
      "Moving 100 of 280\n",
      "Moving 120 of 280\n",
      "Moving 140 of 280\n",
      "Moving 160 of 280\n",
      "Moving 180 of 280\n",
      "Moving 200 of 280\n",
      "Moving 220 of 280\n",
      "Moving 240 of 280\n",
      "Moving 260 of 280\n",
      "\n",
      "Tracking regeneration codim 10 of 10: 560 paths to track.\n",
      "Tracking path 0 of 560\n",
      "Tracking path 20 of 560\n",
      "Tracking path 40 of 560\n",
      "Tracking path 60 of 560\n",
      "Tracking path 80 of 560\n",
      "Tracking path 100 of 560\n",
      "Tracking path 120 of 560\n",
      "Tracking path 140 of 560\n",
      "Tracking path 160 of 560\n",
      "Tracking path 180 of 560\n",
      "Tracking path 200 of 560\n",
      "Tracking path 220 of 560\n",
      "Tracking path 240 of 560\n",
      "Tracking path 260 of 560\n",
      "Tracking path 280 of 560\n",
      "Tracking path 300 of 560\n",
      "Tracking path 320 of 560\n",
      "Tracking path 340 of 560\n",
      "Tracking path 360 of 560\n",
      "Tracking path 380 of 560\n",
      "Tracking path 400 of 560\n",
      "Tracking path 420 of 560\n",
      "Tracking path 440 of 560\n",
      "Tracking path 460 of 560\n",
      "Tracking path 480 of 560\n",
      "Tracking path 500 of 560\n",
      "Tracking path 520 of 560\n",
      "Tracking path 540 of 560\n",
      "\n",
      "Sorting codimension 10 of 10: 560 paths to sort.\n",
      "Sorting 0 of 560\n",
      "Sorting 20 of 560\n",
      "Sorting 40 of 560\n",
      "Sorting 60 of 560\n",
      "Sorting 80 of 560\n",
      "Sorting 100 of 560\n",
      "Sorting 120 of 560\n",
      "Sorting 140 of 560\n",
      "Sorting 160 of 560\n",
      "Sorting 180 of 560\n",
      "Sorting 200 of 560\n",
      "Sorting 220 of 560\n",
      "Sorting 240 of 560\n",
      "Sorting 260 of 560\n",
      "Sorting 280 of 560\n",
      "Sorting 300 of 560\n",
      "Sorting 320 of 560\n",
      "Sorting 340 of 560\n",
      "Sorting 360 of 560\n",
      "Sorting 380 of 560\n",
      "Sorting 400 of 560\n",
      "Sorting 420 of 560\n",
      "Sorting 440 of 560\n",
      "Sorting 460 of 560\n",
      "Sorting 480 of 560\n",
      "Sorting 500 of 560\n",
      "Sorting 520 of 560\n",
      "Sorting 540 of 560\n",
      "\n",
      "\n",
      "************ Regenerative Cascade Summary ************\n",
      "\n",
      "NOTE: nonsingular vs singular is based on rank deficiency and identical endpoints\n",
      "\n",
      "|codim|   paths   |witness superset| nonsingular | singular |nonsolutions| inf endpoints | other bad endpoints\n",
      "----------------------------------------------------------------------------------------------------------------\n",
      "| 1   |   2       |   0            |  0          |  0       |  2         |   0           |  0\n",
      "| 2   |   4       |   0            |  0          |  0       |  4         |   0           |  0\n",
      "| 3   |   8       |   0            |  0          |  0       |  8         |   0           |  0\n",
      "| 4   |   16      |   0            |  0          |  0       |  16        |   0           |  0\n",
      "| 5   |   32      |   0            |  0          |  0       |  32        |   0           |  0\n",
      "| 6   |   64      |   0            |  0          |  0       |  64        |   0           |  0\n",
      "| 7   |   128     |   0            |  0          |  0       |  128       |   0           |  0\n",
      "| 8   |   256     |   0            |  0          |  0       |  224       |   32          |  0\n",
      "| 9   |   448     |   0            |  0          |  0       |  280       |   168         |  0\n",
      "| 10  |   560     |   80           |  80         |  0       |  0         |   480         |  0\n",
      "----------------------------------------------------------------------------------------------------------------\n",
      "|total|   1518\n",
      "\n",
      "****************************************************\n",
      "\n",
      "\n",
      "\n",
      "*************** Witness Set Summary ****************\n",
      "\n",
      "NOTE: nonsingular vs singular is based on rank deficiency and identical endpoints\n",
      "\n",
      "|codim| witness points | nonsingular | singular \n",
      "-------------------------------------------------\n",
      "| 10  |   80           |  80         |  0       \n",
      "-------------------------------------------------\n",
      "\n",
      "****************************************************\n",
      "\n",
      "\n",
      "Calculating traces for codimension 10.\n",
      "Calculating 0 of 80\n",
      "Calculating 20 of 80\n"
     ]
    },
    {
     "name": "stdout",
     "output_type": "stream",
     "text": [
      "Calculating 40 of 80\n",
      "Calculating 60 of 80\n",
      "\n",
      "Using monodromy to decompose codimension 10.\n",
      "Performing monodromy loops: 80 points left to classify\n",
      "Performing monodromy loops: 66 points left to classify\n",
      "Performing monodromy loops: 60 points left to classify\n",
      "Performing monodromy loops: 40 points left to classify\n",
      "Performing monodromy loops: 40 points left to classify\n",
      "Performing monodromy loops: 24 points left to classify\n",
      "Performing monodromy loops: 24 points left to classify\n",
      "\n",
      "Using combinatorial trace test to decompose codimension 10.\n",
      "\n",
      "\n",
      "************* Witness Set Decomposition *************\n",
      "\n",
      "| dimension | components | classified | unclassified\n",
      "-----------------------------------------------------\n",
      "|   2       |   28       |   80       |  0\n",
      "-----------------------------------------------------\n",
      "\n",
      "************** Decomposition by Degree **************\n",
      "\n",
      "Dimension 2: 28 classified components\n",
      "-----------------------------------------------------\n",
      "   degree 2: 16 components\n",
      "   degree 4: 12 components\n",
      "\n",
      "*****************************************************\n",
      "\n",
      " 21.561380 seconds (1.12 k allocations: 105.766 KiB)\n"
     ]
    },
    {
     "ename": "LoadError",
     "evalue": "ArgumentError: Cannot open 'finite_solutions': not a file",
     "output_type": "error",
     "traceback": [
      "ArgumentError: Cannot open 'finite_solutions': not a file",
      "",
      "Stacktrace:",
      " [1] readdlm_auto(::String, ::Char, ::Type{T} where T, ::Char, ::Bool; opts::Base.Iterators.Pairs{Symbol,Bool,Tuple{Symbol},NamedTuple{(:skipblanks,),Tuple{Bool}}}) at /buildworker/worker/package_linux64/build/usr/share/julia/stdlib/v1.5/DelimitedFiles/src/DelimitedFiles.jl:233",
      " [2] #readdlm#5 at /buildworker/worker/package_linux64/build/usr/share/julia/stdlib/v1.5/DelimitedFiles/src/DelimitedFiles.jl:170 [inlined]",
      " [3] #readdlm#3 at /buildworker/worker/package_linux64/build/usr/share/julia/stdlib/v1.5/DelimitedFiles/src/DelimitedFiles.jl:118 [inlined]",
      " [4] read_solutions(::String) at /home/taylor/.julia/packages/HomotopyContinuation/7X6xH/src/utils.jl:63",
      " [5] bertini(::System, ::Nothing; hom_variable_group::Bool, variable_groups::Array{Array{Variable,1},1}, parameters::Array{Variable,1}, file_path::String, start_parameters::Nothing, final_parameters::Nothing, bertini_path::String, TrackType::Int64, optionalconfig::Base.Iterators.Pairs{Union{},Union{},Tuple{},NamedTuple{(),Tuple{}}}) at /home/taylor/.julia/packages/Bertini/mowDA/src/Bertini.jl:108",
      " [6] top-level scope at In[79]:1",
      " [7] include_string(::Function, ::Module, ::String, ::String) at ./loading.jl:1091"
     ]
    }
   ],
   "source": [
    "bertini(System(HollowO4); TrackType=1)"
   ]
  },
  {
   "cell_type": "markdown",
   "metadata": {},
   "source": [
    "### Other things you can do with witness sets\n",
    "\n",
    "Given a witness set $W$ for $X$ you can also...\n",
    "\n",
    "- find a witness set for $X \\cap \\mathcal V(f)$\n",
    "- recover equations for $X$\n",
    "- compute the Newton polytope of $X$ (when $X$ is a hypersurface)\n",
    "- describe the real points of $X$\n",
    "- much more..."
   ]
  },
  {
   "cell_type": "code",
   "execution_count": null,
   "metadata": {},
   "outputs": [],
   "source": []
  },
  {
   "cell_type": "code",
   "execution_count": null,
   "metadata": {},
   "outputs": [],
   "source": []
  }
 ],
 "metadata": {
  "kernelspec": {
   "display_name": "Julia 1.5.2",
   "language": "julia",
   "name": "julia-1.5"
  },
  "language_info": {
   "file_extension": ".jl",
   "mimetype": "application/julia",
   "name": "julia",
   "version": "1.5.2"
  }
 },
 "nbformat": 4,
 "nbformat_minor": 2
}
