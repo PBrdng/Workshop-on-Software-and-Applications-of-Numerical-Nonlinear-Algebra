{
 "cells": [
  {
   "cell_type": "code",
   "execution_count": 1,
   "metadata": {},
   "outputs": [
    {
     "name": "stderr",
     "output_type": "stream",
     "text": [
      "\u001b[32m\u001b[1m  Activating\u001b[22m\u001b[39m new environment at `~/code/sanna21/lectures/certification/Project.toml`\n",
      "\u001b[32m\u001b[1m    Updating\u001b[22m\u001b[39m registry at `~/.julia/registries/General`\n",
      "\u001b[32m\u001b[1m  No Changes\u001b[22m\u001b[39m to `~/code/sanna21/lectures/certification/Project.toml`\n",
      "\u001b[32m\u001b[1m  No Changes\u001b[22m\u001b[39m to `~/code/sanna21/lectures/certification/Manifest.toml`\n"
     ]
    }
   ],
   "source": [
    "import Pkg\n",
    "Pkg.activate(@__DIR__)\n",
    "Pkg.instantiate()"
   ]
  },
  {
   "cell_type": "code",
   "execution_count": 21,
   "metadata": {},
   "outputs": [
    {
     "data": {
      "text/plain": [
       ":none"
      ]
     },
     "execution_count": 21,
     "metadata": {},
     "output_type": "execute_result"
    }
   ],
   "source": [
    "using HomotopyContinuation\n",
    "set_default_compile(:none)"
   ]
  },
  {
   "cell_type": "markdown",
   "metadata": {},
   "source": [
    "$\\newcommand{\\xn}[1]{x^{(#1)}}$\n",
    "$\\newcommand{\\C}{\\mathbb{C}}$\n",
    "$\\newcommand{\\norm}[1]{\\Vert #1 \\Vert}$\n",
    "$\\newcommand{\\IR}{\\mathbb{IR}}$\n",
    "$\\newcommand{\\IC}{\\mathbb{IC}}$"
   ]
  },
  {
   "cell_type": "markdown",
   "metadata": {},
   "source": [
    "# Lecture: Certification"
   ]
  },
  {
   "cell_type": "markdown",
   "metadata": {},
   "source": [
    "So far, we discussed numerical methods to compute (all) isolated zeros of a polynomial system $F$.\n",
    "Since we use numerical methods, we do not obtain exact zeros of $F$ but rather numerical approximations."
   ]
  },
  {
   "cell_type": "code",
   "execution_count": 9,
   "metadata": {},
   "outputs": [
    {
     "data": {
      "text/plain": [
       "2-element Vector{Vector{ComplexF64}}:\n",
       " [0.6455619111856358 + 0.0im, 0.7637079407904237 + 0.0im]\n",
       " [-0.9532542188779434 + 0.0im, -0.30216947925196225 + 0.0im]"
      ]
     },
     "execution_count": 9,
     "metadata": {},
     "output_type": "execute_result"
    }
   ],
   "source": [
    "@var x y\n",
    "F = System([x^2 + y^2 - 1; 2x - 3y + 1])\n",
    "S = solutions(solve(F))"
   ]
  },
  {
   "cell_type": "code",
   "execution_count": 8,
   "metadata": {},
   "outputs": [
    {
     "data": {
      "text/plain": [
       "2-element Vector{ComplexF64}:\n",
       " -5.551115123125783e-17 - 2.449293598294706e-16im\n",
       "                    0.0 + 7.346839692639297e-40im"
      ]
     },
     "execution_count": 8,
     "metadata": {},
     "output_type": "execute_result"
    }
   ],
   "source": [
    "F(S[2])"
   ]
  },
  {
   "cell_type": "markdown",
   "metadata": {},
   "source": [
    "For many applications, this is sufficient.\n",
    "But for some applications, in particular in pure mathematics, we want to **certify** that the obtained approximations correspond to actual zeros of $F$.\n",
    "\n",
    "Additionally, we want to certify that we found a certain number of distinct zeros, establishing a *lower bound* on the number of solutions of $F$."
   ]
  },
  {
   "cell_type": "markdown",
   "metadata": {},
   "source": [
    "It is of great interest to also certify that we found *all* isolated solutions of $F$.\n",
    "Unfortunately, this is so far only possible if an upper bound is already established and the lower bound obtained from the certification routine matches the upper bound. Establishing an upper bound for a polynomial system based on a computational method that does not involve Gröbner basis computations is an **important open problem**.\n",
    "\n",
    "A numerical method to test whether all solutions are found is given by the \\emph{trace test}.\n",
    "However, the trace test does not produce a rigorous certificate.\n",
    "The result of the trace test can be interpreted similarly to the numerical computation of the smallest eigenvalue of a matrix. If the computed smallest eigenvalue is on the order of the machine precision, then you probably conclude that the matrix is singular. But this is *not* a proof (or certificate) that the matrix is singular.\n",
    "\n"
   ]
  },
  {
   "cell_type": "markdown",
   "metadata": {},
   "source": [
    "**Example**:\n",
    "\n",
    "Our system `F` above has total degree 2 and therefore at most 2 isolated solutions.\n",
    "Our numerical computation indicates that it has in fact 2 real regular isolated solutions. But can we **proof** this?"
   ]
  },
  {
   "cell_type": "code",
   "execution_count": 13,
   "metadata": {},
   "outputs": [
    {
     "data": {
      "text/plain": [
       "CertificationResult\n",
       "===================\n",
       "• 2 solution candidates given\n",
       "• 2 certified solution intervals (2 real, 0 complex)\n",
       "• 2 distinct certified solution intervals (2 real, 0 complex)"
      ]
     },
     "execution_count": 13,
     "metadata": {},
     "output_type": "execute_result"
    }
   ],
   "source": [
    "cert = certify(F, S)"
   ]
  },
  {
   "cell_type": "markdown",
   "metadata": {},
   "source": [
    "The `certify` routine performs a computation which delivers a rigouros proof that the system `F` has exactly 2 regular isolated solutions. It also provides us interval boxes that contain the true solutions."
   ]
  },
  {
   "cell_type": "code",
   "execution_count": 17,
   "metadata": {},
   "outputs": [
    {
     "data": {
      "text/plain": [
       "SolutionCertificate:\n",
       "solution_candidate = [\n",
       "  0.6455619111856358 + 0.0im,\n",
       "  0.7637079407904237 + 0.0im,\n",
       "]\n",
       "is_certified = true\n",
       "certified_solution_interval = [\n",
       "  [0.645561911186 +/- 6.39e-13] + [+/- 2.74e-13]im,\n",
       "  [0.763707940790 +/- 6.38e-13] + [+/- 2.14e-13]im,\n",
       "]\n",
       "precision = 53\n",
       "is_real = true\n",
       "index = 1"
      ]
     },
     "execution_count": 17,
     "metadata": {},
     "output_type": "execute_result"
    }
   ],
   "source": [
    "certificates(cert)[1]"
   ]
  },
  {
   "cell_type": "code",
   "execution_count": 19,
   "metadata": {},
   "outputs": [
    {
     "data": {
      "text/plain": [
       "SolutionCertificate:\n",
       "solution_candidate = [\n",
       "  -0.9532542188779434 + 0.0im,\n",
       "  -0.30216947925196225 + 0.0im,\n",
       "]\n",
       "is_certified = true\n",
       "certified_solution_interval = [\n",
       "  [-0.953254218878 +/- 1.71e-13] + [+/- 1.14e-13]im,\n",
       "  [-0.302169479252 +/- 2.13e-13] + [+/- 1.75e-13]im,\n",
       "]\n",
       "precision = 53\n",
       "is_real = true\n",
       "index = 2"
      ]
     },
     "execution_count": 19,
     "metadata": {},
     "output_type": "execute_result"
    }
   ],
   "source": [
    "certificates(cert)[2]"
   ]
  },
  {
   "cell_type": "markdown",
   "metadata": {},
   "source": [
    "In the following we will explain what `certify` does in more detail. "
   ]
  },
  {
   "cell_type": "markdown",
   "metadata": {},
   "source": [
    "## Certification Methods\n",
    "\n",
    "We focus on two strategies to certify solutions to *square* polynomial systems:\n",
    "* Smale's $\\alpha$-theory and\n",
    "* Krawczyk's method.\n",
    "\n",
    "Both methods can certify that Newton's method starting from a given point converges super-linearly to a zero of the system.\n",
    "\n",
    "The restriction to square polynomial systems is necessary since to certify solutions to overdetermined systems additional global information is necessary.\n",
    "In [[DHS20]](https://arxiv.org/abs/1812.02851), the authors develop various techniques to certify overdetermined systems requiring different global information.\n",
    "\n",
    "Certification based on Smale's $\\alpha$-theory is implemented in the software `alphaCertified`.\n",
    "\n",
    "The `certify` method we saw earlier in action is based on Krawczyk's method and implemented in `HomotopyContinuation.jl`.\n",
    "\n",
    "\n",
    "### Smale's $\\alpha$-theory\n",
    "\n",
    "Smale's $\\alpha$-theory only requires data from one point, which is very valuable for the theory of computation.\n",
    "In particular, it is the building block for the complexity analysis of polynomial homotopy continuation methods [Beltran:Pardo:2009, Buergisser:Cucker:2011, Beltran:Leykin:2013, Lairez:2017] and certified path tracking algorithms [Beltran:Leykin:2013].\n",
    "\n",
    "In [Smale:1986], Smale introduced the notion of an *approximate zero*, the $\\alpha$-number and the $\\alpha$-theorem.\n",
    "For a square polynomial system $F$ in $n$ variables, consider the Newton iteration\n",
    "\n",
    "\\begin{equation*}\n",
    "\\begin{array}{rl}\n",
    "J_F(\\xn{j}) \\Delta \\xn{j} &= F(\\xn{j}) \\\\\n",
    "\\xn{j+1} &= \\xn{j} - \\Delta \\xn{j} \\\\ \n",
    "\\end{array}\n",
    ", \\quad j=0,1,2,\\ldots\n",
    "\\end{equation*}\n",
    "\n",
    "starting at the initial guess $\\xn{0} \\in \\C^n$ where $J_F$ is the Jacobian of $F$.\n",
    "An approximate zero of $F$ is any point $\\xn{0} \\in \\mathbb{C}^n$ such that Newton's method converges quadratically towards a zero of $F$.\n",
    "This means that the number of correct significant digits roughly doubles with each iteration of Newton's method."
   ]
  },
  {
   "cell_type": "markdown",
   "metadata": {},
   "source": [
    "#### Definition: Approximate zero\n",
    "The point $\\xn{0} \\in \\C^n$ is an approximate zero of $F$ if the Newton iterates $\\xn{j}$ are defined for $j = 1,2,\\ldots$ and satisfy\n",
    "\n",
    "$$\n",
    "\\norm{\\Delta \\xn{j}} \\le \\left( \\frac12 \\right)^{2^j - 1} \\norm{\\Delta \\xn{0}}\\,. \n",
    "$$\n",
    "\n",
    "If $\\xn{0}$ is an approximate zero, then the true zero $x^* \\in \\C^n$ of $F$ to that the iterates are converging is the *associated zero* of $\\xn{0}$."
   ]
  },
  {
   "cell_type": "markdown",
   "metadata": {},
   "source": [
    "![convergence](convergence.png)"
   ]
  },
  {
   "cell_type": "markdown",
   "metadata": {},
   "source": [
    "#### Smale's $\\alpha$-theorem\n",
    "\n",
    "Smale's \\(\\alpha\\)-theorem gives a sufficient condition for $\\xn{0}$ to be an approximate zero.\n",
    "The theorem uses\n",
    "\n",
    "\\begin{align}\\label{eq:smale_gamma}\n",
    "\\gamma(F,x) &\\,\\,=\\,\\, \\sup_{k\\geq 2}\\big\\Vert \\frac{1}{k!}\\,J_F(x)^ {-1} D^kF(x)\\big\\Vert^\\frac{1}{k-1}\\ \\text{ and } \\beta(F,x) \\,\\,=\\,\\, \\Vert J_F(x)^{-1}F(x)\\Vert\n",
    "\\end{align}\n",
    "\n",
    "where $D^kF$ is the tensor of order-$k$ derivatives of \\(F\\) and the tensor $J_F^{-1}D^kF$ is understood as a \n",
    "multilinear map $A:(\\mathbb{C}^n)^k\\to \\mathbb{C}^n$.\n",
    "\n",
    "**Theorem**\n",
    "There is a naturally defined number $\\alpha_0$ approximately equal to\n",
    "0.1307 such that if $$\\alpha(F, \\xn{0}) := \\beta(F,\\xn{0}) \\, \\gamma(F,\\xn{0}) <~\\alpha_0,$$ then $\\xn{0}$ is an approximate zero of $F$."
   ]
  },
  {
   "cell_type": "markdown",
   "metadata": {},
   "source": [
    "To avoid the computation of the $\\gamma$-number,\n",
    "Shub and Smale [Shub:Smale:1993] derived an upper bound for $\\gamma(F,x)$ that can be computed exactly and efficiently.\n",
    "Hence, one can decide algorithmically whether $x$ is an approximate zero using only the data of the point~$x$ itself and \\(F\\). \n",
    "Hauenstein and Sottile implemented these ideas in the software `alphaCertified`."
   ]
  },
  {
   "cell_type": "markdown",
   "metadata": {},
   "source": [
    "## Krawczyk's method"
   ]
  },
  {
   "cell_type": "markdown",
   "metadata": {},
   "source": [
    "Before we can talk about Krawczyks' method in detail we need to talk about about interval arithmetic."
   ]
  },
  {
   "cell_type": "markdown",
   "metadata": {},
   "source": [
    "### Interval arithmetic"
   ]
  },
  {
   "cell_type": "markdown",
   "metadata": {},
   "source": [
    "Since the 1950s researchers (see ,e.g., the work of Moore) have worked on interval arithmetic.\n",
    "Interval arithmetic allows certified computations while still using floating-point arithmetic.\n",
    "\n",
    "\n",
    "**Real interval arithmetic**\n",
    "\n",
    "Real interval arithmetic concerns computing with compact real intervals. Following \\cite{Mayer:2017} we denote the set of all compact real intervals by\n",
    "\n",
    "$$\\mathbb I\\mathbb R:= \\{[a,b]\\mid a,b\\in\\mathbb R, a\\leq b\\}.$$\n",
    "\n",
    "For $X, Y \\in \\IR$ and the binary operation $\\circ \\in \\{ +,-, \\cdot, / \\}$, we define\n",
    "\n",
    "\\begin{equation}\\label{cert:real_interval_algebra}\n",
    "X \\circ Y= \\{ x \\circ y \\,|\\, x\\in X,y\\in Y\\}\n",
    "\\end{equation}\n",
    "\n",
    "where we assume $0 \\notin Y$ in the case of division.\n",
    "The interval arithmetic version of these binary operations, as well as other standard arithmetic operations, have explicit formulas. See, e.g., \\cite[Sec. 2.6]{Mayer:2017} for more details.\n",
    "\n",
    "\n",
    "**Complex Interval Arithmetic**\n",
    "\n",
    "We define the set of *rectangular complex intervals* as\n",
    "\n",
    "$$\\IC :=\\{X + i Y\\mid X,Y\\in\\IR\\}$$\n",
    "\n",
    "where $X+iY = \\{x+iy\\mid x\\in X,y\\in Y\\}$ and $i = \\sqrt{-1}$.\n",
    "Following \\cite[Ch. 9]{Mayer:2017} we define the algebraic operations for $I = X+iY, J=W+iZ\\in\\IC$ in terms of operations on the real intervals:\n",
    "\n",
    "\\begin{alignat}{2}\\label{cert:complex_arithmetic}\n",
    "I + J &:= (X + W) + i (Y+Z),\\qquad I \\cdot J &&:= (X\\cdot W - Y \\cdot Z) + i (X\\cdot Z + Y\\cdot W)\\\\\\nonumber\n",
    "I - J &:= (X - W) + i (Y-Z),\\qquad \\;\\, \\frac{I}{J} &&:= \\frac{X \\cdot W + Y\\cdot Z}{W\\cdot W + Z\\cdot Z} + i \\frac{Y \\cdot W - X\\cdot Z}{W\\cdot W + Z\\cdot Z}\n",
    "\\end{alignat}\n",
    "\n",
    "It is necessary to use the real interval arithmetic instead of complex arithmetic for the definition of algebraic operations in $\\IC$.\n",
    "The following example from \\cite{Mayer:2017} demonstrates this:\n",
    "\n",
    "Consider the intervals $I=[1,2] + i[0,0]$ and $J = [1,1] + i[1,1]$.\n",
    "Then, $\\{x\\cdot y| x\\in I,y\\in J\\} = \\{t(1+i)\\mid 1\\leq t\\leq 2\\}$ is not a rectangular complex interval, while $I\\cdot J = [1,2] + i [1,2]$ is.\n",
    "\n",
    "The algebraic structure of $\\IC$ is given by following theorem; see, e.g., \\cite[Theorem 9.1.4]{Mayer:2017}.\n",
    "\n",
    "**$\\IC$ structure theorem**\n",
    "The following holds.\n",
    "\n",
    "* $(\\IC, +)$ is a commutative semigroup with neutral element.\n",
    "* $(\\IC, +, \\cdot)$ has no zero divisors.\n",
    "Furthermore, if $I,J,K,L\\in\\IC$, then\n",
    "* $I\\cdot (J + K) \\subseteq I\\cdot J + I\\cdot K$, but equality does not hold in general.\n",
    "* $I\\subseteq J, K\\subseteq L$, then $I \\circ K\\subseteq J\\circ L$ for $\\circ\\in\\{+,-,\\cdot, /\\}$.\n",
    "\n",
    "Working with interval arithmetic is challenging because of the third item from the previous theorem: distributivity does not hold in $\\IC$"
   ]
  },
  {
   "cell_type": "markdown",
   "metadata": {},
   "source": [
    "Here is an example to illustrate the lack of distributivity:"
   ]
  },
  {
   "cell_type": "code",
   "execution_count": 73,
   "metadata": {},
   "outputs": [],
   "source": [
    "using HomotopyContinuation.IntervalArithmetic: Interval"
   ]
  },
  {
   "cell_type": "code",
   "execution_count": 39,
   "metadata": {},
   "outputs": [
    {
     "name": "stdout",
     "output_type": "stream",
     "text": [
      "x = -0.5 ± 0.5\n",
      "y = 1.0 ± 5e-324\n",
      "z = 0.5 ± 0.5\n"
     ]
    }
   ],
   "source": [
    "x = Interval(-1, 0)\n",
    "y = Interval(1, 1)\n",
    "z = Interval(0, 1)\n",
    "@show x y z;"
   ]
  },
  {
   "cell_type": "code",
   "execution_count": 32,
   "metadata": {},
   "outputs": [
    {
     "data": {
      "text/plain": [
       "0.5000000000000002 ± 0.5"
      ]
     },
     "execution_count": 32,
     "metadata": {},
     "output_type": "execute_result"
    }
   ],
   "source": [
    "(x + y) * z"
   ]
  },
  {
   "cell_type": "code",
   "execution_count": 40,
   "metadata": {},
   "outputs": [
    {
     "data": {
      "text/plain": [
       "0.0 ± 1"
      ]
     },
     "execution_count": 40,
     "metadata": {},
     "output_type": "execute_result"
    }
   ],
   "source": [
    "x * z + y * z"
   ]
  },
  {
   "cell_type": "markdown",
   "metadata": {},
   "source": [
    "This lack of distributivity has an import consequence for the evaluation of polynomials in $\\IC$!\n",
    "\n",
    "The evaluation of polynomial maps $F: \\IC^n \\to \\IC$ is only well-defined if $F$ is defined by a straight-line program, and not just by a list of coefficients."
   ]
  },
  {
   "cell_type": "code",
   "execution_count": 41,
   "metadata": {},
   "outputs": [
    {
     "data": {
      "text/plain": [
       "(a, b, c)"
      ]
     },
     "execution_count": 41,
     "metadata": {},
     "output_type": "execute_result"
    }
   ],
   "source": [
    "@var a b c"
   ]
  },
  {
   "cell_type": "code",
   "execution_count": 43,
   "metadata": {},
   "outputs": [
    {
     "data": {
      "text/latex": [
       "$$ c*(a + b) $$"
      ],
      "text/plain": [
       "c*(a + b)"
      ]
     },
     "execution_count": 43,
     "metadata": {},
     "output_type": "execute_result"
    }
   ],
   "source": [
    "(a + b) * c"
   ]
  },
  {
   "cell_type": "code",
   "execution_count": 56,
   "metadata": {},
   "outputs": [
    {
     "data": {
      "text/latex": [
       "$$ a*c + b*c $$"
      ],
      "text/plain": [
       "a*c + b*c"
      ]
     },
     "execution_count": 56,
     "metadata": {},
     "output_type": "execute_result"
    }
   ],
   "source": [
    "expand((a + b) * c)"
   ]
  },
  {
   "cell_type": "markdown",
   "metadata": {},
   "source": [
    "Internally, every symbolic expression is turned into a list of instructions"
   ]
  },
  {
   "cell_type": "code",
   "execution_count": 57,
   "metadata": {},
   "outputs": [
    {
     "data": {
      "text/plain": [
       "ι_1 = INSTR_ADD(a, b)\n",
       "ι_2 = INSTR_MUL(c, ι_1)\n"
      ]
     },
     "execution_count": 57,
     "metadata": {},
     "output_type": "execute_result"
    }
   ],
   "source": [
    "instr, _ = ModelKit.instruction_list([(a + b) * c])\n",
    "instr"
   ]
  },
  {
   "cell_type": "code",
   "execution_count": 71,
   "metadata": {},
   "outputs": [
    {
     "data": {
      "text/plain": [
       "ι_1 = INSTR_MUL(b, c)\n",
       "ι_2 = INSTR_MULADD(a, c, ι_1)\n"
      ]
     },
     "execution_count": 71,
     "metadata": {},
     "output_type": "execute_result"
    }
   ],
   "source": [
    "instr, _ = ModelKit.instruction_list([a * c + b * c])\n",
    "instr"
   ]
  },
  {
   "cell_type": "raw",
   "metadata": {},
   "source": [
    "We can also take a look at the straight-line programm used in our initial certification example:"
   ]
  },
  {
   "cell_type": "code",
   "execution_count": 72,
   "metadata": {},
   "outputs": [
    {
     "name": "stdout",
     "output_type": "stream",
     "text": [
      "c = [-1,-3,1,2]\n",
      "t[1] = x[1]\n",
      "t[2] = x[2]\n",
      "t[3] = SQR(t[2])\n",
      "t[4] = ADD(t[3],c[1])\n",
      "t[3] = SQR(t[1])\n",
      "t[5] = ADD(t[3],t[4])\n",
      "t[3] = MULADD(c[2],t[2],c[3])\n",
      "t[4] = MULADD(c[4],t[1],t[3])\n",
      "out[1] = t[5]\n",
      "out[2] = t[4]\n"
     ]
    }
   ],
   "source": [
    "show_straight_line_program(cert)"
   ]
  },
  {
   "cell_type": "markdown",
   "metadata": {},
   "source": [
    "**Vector arithmetic**\n",
    "\n",
    "Arithmetic in $\\IC^n$ is defined in the expected way. If $I=(I_1,\\ldots,I_n),J=(J_1,\\ldots,J_n) \\in~\\IC^n$,\n",
    "\n",
    "$$I + J = (I_1+J_1,\\ldots,I_n+J_n).$$\n",
    "\n",
    "Scalar multiplication for $I\\in\\IC$ and $J\\in\\IC^n$ is defined as $I \\cdot J = (I\\cdot J_1,\\ldots,I\\cdot J_n)$.\n",
    "The product of an interval matrix $A=(A_{i,j})\\in\\IC^{n\\times n}$ and an interval vector $I\\in\\IC^n$ is\n",
    "\n",
    "\\begin{equation}\\label{cert:def_matrix_mult}A\\cdot I := I_1\\cdot \\begin{bmatrix}\n",
    "A_{1,1} \\\\\n",
    "\\vdots\\\\\n",
    "A_{n,1}\n",
    " \\end{bmatrix} + \\cdots +\n",
    " I_n\\cdot \\begin{bmatrix}\n",
    "A_{1,n} \\\\\n",
    "\\vdots\\\\\n",
    "A_{n,n}\n",
    " \\end{bmatrix}.\n",
    "\\end{equation}\n",
    "\n",
    "Similar to the one-dimensional case $(\\IC^n, +)$ is a commutative semigroup with neutral element."
   ]
  },
  {
   "cell_type": "markdown",
   "metadata": {},
   "source": [
    "### Krawcyzk's method (now really)"
   ]
  },
  {
   "cell_type": "markdown",
   "metadata": {},
   "source": [
    "In 1969, Krawczyk \\cite{Krawczyk:1969} developed an interval arithmetic version of Newton's method. Later in 1977 Moore \\cite{Moore:1977} recognized that Krawczyk's method can be used to certify the existence and uniqueness of a solution to a system of nonlinear equations."
   ]
  },
  {
   "cell_type": "markdown",
   "metadata": {},
   "source": [
    "The results in this section are stated for square polynomial systems but they hold equally for square systems of rational functions.\n",
    "Krawczyk's method is even valid for general square systems of analytic functions."
   ]
  },
  {
   "cell_type": "markdown",
   "metadata": {},
   "source": [
    "\n",
    "First, we need three definitions."
   ]
  },
  {
   "cell_type": "markdown",
   "metadata": {},
   "source": [
    "#### Interval enclosure\n",
    "Let $F: \\mathbb{C}^n \\rightarrow \\mathbb{C}^{n}$ be a system of polynomials. A map $\\square F: \\mathbb{IC}^n \\rightarrow \\mathbb{IC}^{n}$ is an interval enclosure of the system $F$ if for every $I \\in \\mathbb{IC}^n$ we have $\\{F(x) \\mid x \\in I\\} \\subseteq \\square F(I).$\n",
    "\n",
    "\n",
    "We use the notation $\\square F$ to denote the interval enclosure of $F$.\n",
    "\n",
    "Also, we do not distinguish between a point $x\\in\\mathbb C^{n}$ and the complex interval $[\\mathrm{Re}(x),\\mathrm{Re}(x)] + i[\\mathrm{Im}(x),\\mathrm{Im}(x)]$ defined by $x$. We simply use the symbol \"$x$\" for both terms so that $\\square F(x)$ is well-defined.\n",
    "\n",
    "#### Interval matrix norm\n",
    "Let $A\\in\\mathbb{IC}^{n\\times n}$. We define the operator norm of $A$ as\n",
    "$\\Vert A\\Vert_\\infty := \\max\\limits_{B\\in A} \\max\\limits_{v\\in\\mathbb C^n} \\tfrac{\\Vert Bv\\Vert_\\infty}{\\Vert v\\Vert_\\infty},$\n",
    "where $\\Vert (v_1,\\ldots,v_n) \\Vert_\\infty = \\max_{1\\leq i\\leq n}\\vert v_i\\vert$ is the infinity norm in $\\mathbb C^n$.\n",
    "\n",
    "Next, we introduce an interval version of the Newton operator.\n",
    "\n",
    "#### Krawczyk operator\n",
    "\n",
    "Let $F: \\mathbb{C}^n \\rightarrow \\mathbb{C}^n$ be a system of polynomials, and $\\mathrm{J}F$ be its Jacobian matrix seen as a function $\\mathbb C^n \\to \\mathbb C^{n\\times n}$.\n",
    "Let $\\square F$ be an interval enclosure of $F$ and $\\square \\mathrm{J}F$ be an interval enclosure of $\\mathrm{J}F$.\n",
    "Furthermore, let $I \\in \\mathbb{IC}^n$ and $x \\in \\mathbb C^n$ and let $Y \\in \\mathbb C^{n\\times n}$ be an invertible matrix.\n",
    "We define the Krawczyk operator\n",
    "\n",
    "\\begin{align*}\n",
    "K_{x,Y}(I) := x - Y \\cdot \\square F(x) + (\\mathbf 1_n - Y \\cdot \\square \\mathrm{J}F(I))(I-x).\n",
    "\\end{align*}\n",
    "\n",
    "Here, $\\mathbf 1_n$ is the ${n\\times n}$-identity matrix.\n",
    "\n",
    "\n"
   ]
  },
  {
   "cell_type": "markdown",
   "metadata": {},
   "source": [
    "**Remark:**\n",
    "In the literature, $K_{x,Y}(I)$ is often defined using $F(x)$ and not $\\square F(x)$.\n",
    "Here, we use this definition, because in practice it is usually not feasible to evaluate $F(x)$ exactly.\n",
    "Instead, $F(x)$ is replaced by an interval enclosure.\n",
    "\n",
    "\n",
    "**Remark:**\n",
    "The second part of Theorem \\ref{cert:thm:krawczyk} motivates to find a matrix $Y \\in \\C^{n \\times n}$ such that $|| 1_n - Y \\cdot \\square \\mathrm{J}F(I) ||_\\infty$ is minimized.\n",
    " A good choice is an approximation of the inverse of $\\mathrm JF(x)$.\n",
    "\n",
    "\n",
    "#### Theorem 1\n",
    "Let $F: \\mathbb{C}^n \\rightarrow \\mathbb{C}^n$ be a system of polynomials and $I\\in\\IC^n$.\n",
    "Let $x\\in I$ and $Y\\in\\mathbb{C}^{n\\times n}$ be an invertible complex $n\\times n$ matrix.\n",
    "The following holds.\n",
    "* If $K_{x,Y}(I) \\subset I$, there is a zero of $F$ in $I$.\n",
    "* If additionally $\\sqrt{2} \\, \\lVert \\mathbf 1_n - Y \\square \\mathrm{J}F(I) \\rVert_\\infty < 1$, then $F$ has exactly one zero in $I$.\n",
    "\n",
    "To simplify our language when talking about intervals $I \\in \\IC^n$ satisfying Theorem 1, we introduce the following definitions."
   ]
  },
  {
   "cell_type": "code",
   "execution_count": 63,
   "metadata": {},
   "outputs": [
    {
     "data": {
      "text/plain": [
       "SolutionCertificate:\n",
       "solution_candidate = [\n",
       "  0.6455619111856358 + 0.0im,\n",
       "  0.7637079407904237 + 0.0im,\n",
       "]\n",
       "is_certified = true\n",
       "certified_solution_interval = [\n",
       "  [0.645561911186 +/- 6.39e-13] + [+/- 2.74e-13]im,\n",
       "  [0.763707940790 +/- 6.38e-13] + [+/- 2.14e-13]im,\n",
       "]\n",
       "precision = 53\n",
       "is_real = true\n",
       "index = 1"
      ]
     },
     "execution_count": 63,
     "metadata": {},
     "output_type": "execute_result"
    }
   ],
   "source": [
    "C₁ = certificates(cert)[1]"
   ]
  },
  {
   "cell_type": "code",
   "execution_count": 65,
   "metadata": {},
   "outputs": [
    {
     "data": {
      "text/plain": [
       "2×1 AcbMatrix:\n",
       " [0.645561911186 +/- 6.39e-13] + [+/- 2.74e-13]im\n",
       " [0.763707940790 +/- 6.38e-13] + [+/- 2.14e-13]im"
      ]
     },
     "execution_count": 65,
     "metadata": {},
     "output_type": "execute_result"
    }
   ],
   "source": [
    "certified_solution_interval(C₁)"
   ]
  },
  {
   "cell_type": "code",
   "execution_count": 67,
   "metadata": {},
   "outputs": [
    {
     "data": {
      "text/plain": [
       "2×1 AcbMatrix:\n",
       "  [0.64556191118564 +/- 5.12e-15] + [+/- 2.10e-25]im\n",
       " [0.763707940790424 +/- 9.66e-16] + [+/- 1.40e-25]im"
      ]
     },
     "execution_count": 67,
     "metadata": {},
     "output_type": "execute_result"
    }
   ],
   "source": [
    "certified_solution_interval_after_krawczyk(C₁)"
   ]
  },
  {
   "cell_type": "markdown",
   "metadata": {},
   "source": [
    "#### Definition: Interval approximate zero\n",
    " Let $F: \\C^n \\rightarrow \\C^n$ be a square system of polynomials and $I \\in \\IC^n$. Let $K_{x,Y}(I)$ be the associated Krawczyk operator (see Definition \\ref{cert:def_krawczyk}).\n",
    " If there exists an invertible matrix $Y\\in\\mathbb C^{n\\times n}$ such that $K_{x,Y}(I)\\subset I$, we say that $I$ is an *interval approximate zero* $F$.\n",
    " We call $I$ a *strong interval approximate zero* of $F$ if in addition $\\sqrt{2} \\lVert \\mathbf 1_n - Y \\square \\mathrm{J}F(I) \\rVert_\\infty < 1$."
   ]
  },
  {
   "cell_type": "markdown",
   "metadata": {},
   "source": [
    "#### Definition: Interval associated zero\n",
    " If $I$ is an interval approximate zero, then, by Theorem 1, $I$ contains a zero of $F$. We call such a zero an \\emph{associated zero} of $I$.\n",
    " If $I$ is a strong interval approximate zero, then there is a unique associated zero and we refer to is as *the* associated zero of $I$.\n",
    "\n",
    "\n",
    "The notion of strong interval approximate zero is stronger than the definition suggests at first sight. We do not only certify that a unique zero of $F$ exists inside $I$ but we even certify that we can approximate this zero with arbitrary precision.\n",
    "\n",
    "#### Approximation proposition\n",
    "Let $I$ be a strong interval approximate zero of $F$ and let $x^*\\in I$ be the unique zero of $F$ inside $I$. Let $x\\in I$ be any point in $I$. We define $x_0:=x$ and for all $i\\geq 1$ we define the iterates $x_i := x_{i-1} - Y\\,F(x_{i-1})$, where $Y\\in\\mathbb C^{n\\times n}$ is the matrix from the interval approximate zero definition. Then, the sequence $(x_i)_{i\\geq 0}$ converges to $x^*$."
   ]
  },
  {
   "cell_type": "markdown",
   "metadata": {},
   "source": [
    "We can also certify the reality of a zero.\n",
    "\n",
    "#### Real zero lemma\n",
    " Let $F: \\C^n \\rightarrow \\C^n$ be a real square system of polynomials and $I \\in \\IC^n$ a strong interval approximate zero of $F$. \n",
    "Then there exists $x\\in I$ and $Y\\in \\C^{n\\times n}$ satisfying $K_{x,Y}(I) \\subset I$ and $\\sqrt{2} \\, \\lVert \\mathbf 1_n - Y \\square \\mathrm{J}F(I) \\rVert_\\infty < 1$.\n",
    " If additionally $\\{ \\bar{z} \\, | \\, z \\in K_{x,Y}(I) \\} \\subset I$, then the associated zero of $I$ is real."
   ]
  },
  {
   "cell_type": "code",
   "execution_count": 75,
   "metadata": {},
   "outputs": [
    {
     "data": {
      "text/plain": [
       "true"
      ]
     },
     "execution_count": 75,
     "metadata": {},
     "output_type": "execute_result"
    }
   ],
   "source": [
    "is_real(C₁)"
   ]
  },
  {
   "cell_type": "markdown",
   "metadata": {},
   "source": [
    "For a wide range of applications, positive real zeros are of particular interest.\n",
    "#### Positive real zero lemma\n",
    " Let $F: \\C^n \\rightarrow \\C^n$ be a real square system of polynomials and $I \\in \\IC^n$ a strong interval approximate zero of $F$ satisfying the conditions of the real zero lemma.\n",
    " If $\\mathrm{Re}(I) > 0$, then the associated zero of $I$ is real and positive."
   ]
  },
  {
   "cell_type": "code",
   "execution_count": 76,
   "metadata": {},
   "outputs": [
    {
     "data": {
      "text/plain": [
       "true"
      ]
     },
     "execution_count": 76,
     "metadata": {},
     "output_type": "execute_result"
    }
   ],
   "source": [
    "is_positive(C₁)"
   ]
  },
  {
   "cell_type": "markdown",
   "metadata": {},
   "source": [
    "#### Distinct zeros"
   ]
  },
  {
   "cell_type": "markdown",
   "metadata": {},
   "source": [
    "Given two strong interval arithmetic zeros $I$ and $J$ we know that the associated zeros are distinct if $I \\cap J = \\emptyset$.\n",
    "Using this oberservation we can produce a list of strong interval arithmetic zeros with distinct associated zeros. This establishes a **lower bound** on the number of (real) solutions of the system."
   ]
  },
  {
   "cell_type": "code",
   "execution_count": 77,
   "metadata": {},
   "outputs": [
    {
     "data": {
      "text/plain": [
       "CertificationResult\n",
       "===================\n",
       "• 2 solution candidates given\n",
       "• 2 certified solution intervals (2 real, 0 complex)\n",
       "• 2 distinct certified solution intervals (2 real, 0 complex)"
      ]
     },
     "execution_count": 77,
     "metadata": {},
     "output_type": "execute_result"
    }
   ],
   "source": [
    "cert"
   ]
  },
  {
   "cell_type": "code",
   "execution_count": null,
   "metadata": {},
   "outputs": [],
   "source": []
  }
 ],
 "metadata": {
  "kernelspec": {
   "display_name": "Julia 1.6.0-rc2",
   "language": "julia",
   "name": "julia-1.6"
  },
  "language_info": {
   "file_extension": ".jl",
   "mimetype": "application/julia",
   "name": "julia",
   "version": "1.6.0"
  }
 },
 "nbformat": 4,
 "nbformat_minor": 4
}
