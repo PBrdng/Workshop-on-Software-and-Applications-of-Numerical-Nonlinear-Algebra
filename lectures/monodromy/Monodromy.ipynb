{
 "cells": [
  {
   "cell_type": "markdown",
   "metadata": {},
   "source": [
    "# Monodromy - Taylor Brysiewicz (V 1.0)"
   ]
  },
  {
   "cell_type": "code",
   "execution_count": 1,
   "metadata": {},
   "outputs": [],
   "source": [
    "using HomotopyContinuation"
   ]
  },
  {
   "cell_type": "markdown",
   "metadata": {},
   "source": [
    "For more information about monodromy and computing  monodromy groups using numerical algebraic geometry see \n",
    "\n",
    "*Numerical computation of Galois groups*, Jonathan Hauenstein, Jose Israel Rodriguez, and Frank Sottile. Foundations of Computational Mathematics, 18 (2018) 867–890 DOI 10.1007/s10208-017-9356-x \n",
    "\n",
    "https://arxiv.org/pdf/1605.07806.pdf\n",
    "\n",
    "\n",
    "\n",
    "For more information about solve polynomial systems using monodromy see\n",
    "\n",
    "*Solving polynomial systems via homotopy continuation and monodromy*\n",
    "Tim Duff, Cvetelina Hill, Anders Jensen, Kisun Lee, Anton Leykin, and Jeff Sommars.\n",
    "IMA Journal of Numerical Analysis, 2018\n",
    "\n",
    "https://arxiv.org/pdf/1609.08722.pdf"
   ]
  },
  {
   "cell_type": "markdown",
   "metadata": {},
   "source": [
    "## Branched Covers\n",
    "\n",
    "As in Sascha's talk, we consider a family of $0$-dimensional polynomial systems parametrized by some variety $Q$ (let's just take $Q=\\mathbb{C}^k$ for some $k$)\n",
    "$$Z = \\{(x,p) \\in \\mathbb{C}^n \\times Q \\mid F(x;p) =0\\} \\subset \\mathbb{C}^n \\times Q$$\n",
    "$$\\,\\,\\,\\, \\downarrow \\pi $$\n",
    "$$Q$$\n",
    "\n",
    "Over *most* parameters, there are $d$ solutions.\n",
    "\n",
    "The map $\\pi$ is called a **branched cover** \n",
    "\n",
    "(technically this means $Z \\xrightarrow{\\pi} Q$ is a dominant map of irreducible varieties of the same dimension)\n",
    "\n",
    "There is a variety $D \\subsetneq Q$ called the **discriminant** (or branch locus) consisting of the parameter values giving solutions with multiplicity.\n",
    "\n",
    "On $U = Q \\backslash D$ (the regular values), the map $\\pi:Z|_{\\pi^{-1}(U)} \\to U$ is a $d$-to-$1$ **covering space**.\n",
    "\n",
    "\n",
    "\n",
    "\n"
   ]
  },
  {
   "cell_type": "markdown",
   "metadata": {},
   "source": [
    "<img src=\"coveringspace.png\" width=\"500\">"
   ]
  },
  {
   "cell_type": "markdown",
   "metadata": {},
   "source": [
    "\n",
    "### Example\n",
    "\n",
    "$$F(x;a,b) = x^2+ax+b$$\n"
   ]
  },
  {
   "cell_type": "code",
   "execution_count": 2,
   "metadata": {},
   "outputs": [
    {
     "data": {
      "text/plain": [
       "System of length 1\n",
       " 1 variables: x\n",
       " 2 parameters: a, b\n",
       "\n",
       " b + a*x + x^2"
      ]
     },
     "execution_count": 2,
     "metadata": {},
     "output_type": "execute_result"
    }
   ],
   "source": [
    "@var x a b\n",
    "F = System([x^2 + a * x + b], parameters = [a, b])"
   ]
  },
  {
   "cell_type": "markdown",
   "metadata": {},
   "source": [
    "**Remember**: $U$ is connected as a **real** manifold.\n",
    "\n",
    "Consequence: There exist loops $\\gamma: [0,1] \\to U$ around $D$ and based at $p=\\gamma(0)=\\gamma(1) \\in U$."
   ]
  },
  {
   "cell_type": "markdown",
   "metadata": {},
   "source": [
    "<img src=\"monodromy1b.png\" width=\"500\">"
   ]
  },
  {
   "cell_type": "code",
   "execution_count": 3,
   "metadata": {},
   "outputs": [
    {
     "data": {
      "text/plain": [
       "2-element Array{Int64,1}:\n",
       "  0\n",
       " -1"
      ]
     },
     "execution_count": 3,
     "metadata": {},
     "output_type": "execute_result"
    }
   ],
   "source": [
    "S₀=[[-1],[1]]\n",
    "p₀=[0,-1]"
   ]
  },
  {
   "cell_type": "code",
   "execution_count": 4,
   "metadata": {},
   "outputs": [
    {
     "data": {
      "text/plain": [
       "2-element Array{Complex{Int64},1}:\n",
       " 0 + 0im\n",
       " 0 - 1im"
      ]
     },
     "execution_count": 4,
     "metadata": {},
     "output_type": "execute_result"
    }
   ],
   "source": [
    "p₁ = [0, im]\n",
    "p₂ = [0,1]\n",
    "p₃ = [0,-im]"
   ]
  },
  {
   "cell_type": "code",
   "execution_count": 5,
   "metadata": {},
   "outputs": [
    {
     "name": "stdout",
     "output_type": "stream",
     "text": [
      "\r",
      "\u001b[32mTracking 2 paths... 100%|███████████████████████████████| Time: 0:00:06\u001b[39m\r\n",
      "\u001b[34m  # paths tracked:                  2\u001b[39m\r\n",
      "\u001b[34m  # non-singular solutions (real):  2 (0)\u001b[39m\r\n",
      "\u001b[34m  # singular endpoints (real):      0 (0)\u001b[39m\r\n",
      "\u001b[34m  # total solutions (real):         2 (0)\u001b[39m\n"
     ]
    },
    {
     "data": {
      "text/plain": [
       "Result with 2 solutions\n",
       "=======================\n",
       "• 2 paths tracked\n",
       "• 2 non-singular solutions (2 real)\n",
       "• random_seed: 0x2ca5764e\n"
      ]
     },
     "execution_count": 5,
     "metadata": {},
     "output_type": "execute_result"
    }
   ],
   "source": [
    "#p0->p1\n",
    "S₁ = solve(F,S₀; start_parameters=p₀,target_parameters=p₁)\n",
    "#p1->p2\n",
    "S₂ = solve(F,S₁; start_parameters=p₁,target_parameters=p₂)\n",
    "#p2->p3\n",
    "S₃ = solve(F,S₂; start_parameters=p₂,target_parameters=p₃)\n",
    "#p3->p0 again\n",
    "S₀2 = solve(F,S₃; start_parameters=p₃,target_parameters=p₀)"
   ]
  },
  {
   "cell_type": "code",
   "execution_count": 6,
   "metadata": {},
   "outputs": [
    {
     "name": "stdout",
     "output_type": "stream",
     "text": [
      "2×5 Array{Array{Complex{Float64},1},2}:\n",
      " [-1.0+0.0im]  [-0.707107+0.707107im]  [0.0+1.0im]  [0.707107+0.707107im]   [1.0+0.0im]\n",
      " [1.0+0.0im]   [0.707107-0.707107im]   [0.0-1.0im]  [-0.707107-0.707107im]  [-1.0+0.0im]"
     ]
    }
   ],
   "source": [
    "show(stdout,\"text/plain\",hcat(S₀,solutions(S₁),solutions(S₂),solutions(S₃),solutions(S₀2)))"
   ]
  },
  {
   "cell_type": "markdown",
   "metadata": {},
   "source": [
    "Note that the solutions have permuted.\n",
    "<img src=\"monodromy1b.png\" width=\"500\">"
   ]
  },
  {
   "cell_type": "code",
   "execution_count": 7,
   "metadata": {},
   "outputs": [
    {
     "data": {
      "text/plain": [
       "monodromy_loop (generic function with 1 method)"
      ]
     },
     "execution_count": 7,
     "metadata": {},
     "output_type": "execute_result"
    }
   ],
   "source": [
    "#This function automates the process above, given a parametrized polynomial system F, start solutions \n",
    "# Sols, and a loop γ which is just a sequence of parameter values starting and ending with the parameter\n",
    "# value for Sols\n",
    "\n",
    "function monodromy_loop(F,Sols,γ)\n",
    "    S=Sols;\n",
    "    P=γ[1]\n",
    "    for NewP in γ[2:end]\n",
    "        newS=solve(F,S; start_parameters=P, target_parameters=NewP)\n",
    "        S=newS\n",
    "        P=NewP\n",
    "    end\n",
    "    return S\n",
    "end"
   ]
  },
  {
   "cell_type": "code",
   "execution_count": 8,
   "metadata": {},
   "outputs": [
    {
     "data": {
      "text/plain": [
       "2-element Array{Array{Complex{Float64},1},1}:\n",
       " [-1.0 + 0.0im]\n",
       " [1.0 + 0.0im]"
      ]
     },
     "execution_count": 8,
     "metadata": {},
     "output_type": "execute_result"
    }
   ],
   "source": [
    "#Now let's take the loop again and see that we return to the solutions [[-1],[1]] in order.\n",
    "M=monodromy_loop(F,solutions(S₀2),[p₀,p₁,p₂,p₃,p₀]);\n",
    "solutions(M)"
   ]
  },
  {
   "cell_type": "markdown",
   "metadata": {},
   "source": [
    "### Solving Systems using Monodromy"
   ]
  },
  {
   "cell_type": "code",
   "execution_count": 9,
   "metadata": {},
   "outputs": [
    {
     "data": {
      "text/plain": [
       "1-element Array{Array{Complex{Float64},1},1}:\n",
       " [-1.0 + 0.0im]"
      ]
     },
     "execution_count": 9,
     "metadata": {},
     "output_type": "execute_result"
    }
   ],
   "source": [
    "#What if we only knew about the solution 1?\n",
    "#  Then performing the monodromy loop *discovers* the solution -1\n",
    "solutions(monodromy_loop(F,[1],[p₀,p₁,p₂,p₃,p₀]))"
   ]
  },
  {
   "cell_type": "code",
   "execution_count": 10,
   "metadata": {},
   "outputs": [
    {
     "data": {
      "text/plain": [
       "System of length 1\n",
       " 1 variables: x\n",
       " 20 parameters: c₁, c₂, c₃, c₄, c₅, c₆, c₇, c₈, c₉, c₁₀, c₁₁, c₁₂, c₁₃, c₁₄, c₁₅, c₁₆, c₁₇, c₁₈, c₁₉, c₂₀\n",
       "\n",
       " c₁ + x*c₂ + x^2*c₃ + x^3*c₄ + x^4*c₅ + x^5*c₆ + x^6*c₇ + x^7*c₈ + x^8*c₉ + x^9*c₁₀ + x^10*c₁₁ + x^11*c₁₂ + x^12*c₁₃ + x^13*c₁₄ + x^14*c₁₅ + x^15*c₁₆ + x^16*c₁₇ + x^17*c₁₈ + x^18*c₁₉ + x^19*c₂₀"
      ]
     },
     "execution_count": 10,
     "metadata": {},
     "output_type": "execute_result"
    }
   ],
   "source": [
    "@var c[1:20]\n",
    "f = sum([c[i]*x^(i-1) for i in 1:20])\n",
    "F = System([f],parameters=c)"
   ]
  },
  {
   "cell_type": "markdown",
   "metadata": {},
   "source": [
    "We just need a start solution"
   ]
  },
  {
   "cell_type": "code",
   "execution_count": 11,
   "metadata": {},
   "outputs": [
    {
     "data": {
      "text/plain": [
       "-1.1102230246251565e-16 + 1.3877787807814457e-16im"
      ]
     },
     "execution_count": 11,
     "metadata": {},
     "output_type": "execute_result"
    }
   ],
   "source": [
    "#So we can force the start solution to be 0.923+0.2im\n",
    "S=[0.923+0.2*im]\n",
    "C = randn(ComplexF64,20)\n",
    "evaluation = sum([C[i]*S[1]^(i-1) for i in 1:20])\n",
    "C[1]-=evaluation\n",
    "evaluation = sum([C[i]*S[1]^(i-1) for i in 1:20])"
   ]
  },
  {
   "cell_type": "markdown",
   "metadata": {},
   "source": [
    "Now we have 1 solution to some degree 19 polynomial "
   ]
  },
  {
   "cell_type": "code",
   "execution_count": 12,
   "metadata": {},
   "outputs": [
    {
     "name": "stdout",
     "output_type": "stream",
     "text": [
      "We found a new solution (Total:2)\n",
      "We found a new solution (Total:3)\n",
      "We found a new solution (Total:4)\n",
      "We found a new solution (Total:5)\n",
      "We found a new solution (Total:6)\n",
      "We found a new solution (Total:7)\n",
      "We found a new solution (Total:8)\n",
      "We found a new solution (Total:9)\n",
      "We found a new solution (Total:10)\n",
      "We found a new solution (Total:11)\n",
      "We found a new solution (Total:12)\n",
      "We found a new solution (Total:13)\n",
      "We found a new solution (Total:14)\n",
      "We found a new solution (Total:15)\n",
      "We found a new solution (Total:16)\n",
      "We found a new solution (Total:17)\n",
      "We found a new solution (Total:18)\n",
      "We found a new solution (Total:19)\n",
      "Finished after 4115 loops\n"
     ]
    }
   ],
   "source": [
    "SolutionsFound=[S]\n",
    "loop_num=0\n",
    "while length(SolutionsFound)<19\n",
    "    loop_num+=1\n",
    "    newSolution=solutions(monodromy_loop(F,S,[C,5*randn(ComplexF64,20),3*randn(ComplexF64,20),C]))\n",
    "    if findfirst(x->x[1]≈(newSolution[1][1]),SolutionsFound)==nothing\n",
    "        push!(SolutionsFound,newSolution[1])\n",
    "        println(\"We found a new solution (Total:\",length(SolutionsFound),\")\")\n",
    "        flush(stdout)\n",
    "    end\n",
    "end\n",
    "println(\"Finished after \",loop_num, \" loops\")\n",
    "    "
   ]
  },
  {
   "cell_type": "markdown",
   "metadata": {},
   "source": [
    "<img src=\"dumbmonodromy.png\" width=\"500\">"
   ]
  },
  {
   "cell_type": "code",
   "execution_count": 13,
   "metadata": {},
   "outputs": [
    {
     "data": {
      "text/plain": [
       "MonodromyResult\n",
       "===============\n",
       "• return_code → :heuristic_stop\n",
       "• 19 solutions\n",
       "• 228 tracked loops\n",
       "• random_seed → 0xf4549049"
      ]
     },
     "execution_count": 13,
     "metadata": {},
     "output_type": "execute_result"
    }
   ],
   "source": [
    "#All of this is implemented in HomotopyContinuation.jl in a smarter way following Duff et.al.\n",
    "\n",
    "MonSolve=monodromy_solve(F,S,C; show_progress=true)"
   ]
  },
  {
   "cell_type": "markdown",
   "metadata": {},
   "source": [
    "<img src=\"smartermonodromy.png\" width=\"500\">"
   ]
  },
  {
   "cell_type": "markdown",
   "metadata": {},
   "source": [
    "Under the assumption that random monodromy loops sample randomly from the set of possible permutations (which is completely not the case), as $\\# solutions \\to \\infty$ you expect to only need two loops.\n",
    "\n",
    "Let's check that we got the same answers"
   ]
  },
  {
   "cell_type": "code",
   "execution_count": 14,
   "metadata": {},
   "outputs": [
    {
     "data": {
      "text/plain": [
       "19-element Array{Array{Complex{Float64},1},1}:\n",
       " [-0.1110328323963439 - 0.901303004926522im]\n",
       " [0.15755124127140735 + 0.9871303370403146im]\n",
       " [-0.1943648926064032 + 0.6317701112189877im]\n",
       " [-0.2549371304226953 - 1.03379297378494im]\n",
       " [0.34947884523782413 - 0.9442874888326988im]\n",
       " [0.41677816104791265 + 0.9261127501202253im]\n",
       " [-0.4276930702027745 + 0.829879796461804im]\n",
       " [0.624463342550689 + 0.35052237621886345im]\n",
       " [0.7013718047647444 - 0.919029510780225im]\n",
       " [0.7087359677690267 - 0.3737800940437113im]\n",
       " [-0.7679106199345467 - 0.8671702466058969im]\n",
       " [0.8044682462062381 + 0.7799677662558236im]\n",
       " [-0.8380628626072111 + 0.7644498306770194im]\n",
       " [-0.8678529595611992 - 0.4151224877042829im]\n",
       " [0.923 + 0.19999999999999998im]\n",
       " [0.9947356196139029 - 0.31257396232446644im]\n",
       " [-1.0646731383858952 + 0.07701072074828227im]\n",
       " [-1.074517329689185 + 0.3920909900027887im]\n",
       " [-2.4849310703859375 - 0.46037859329255004im]"
      ]
     },
     "execution_count": 14,
     "metadata": {},
     "output_type": "execute_result"
    }
   ],
   "source": [
    "sort(solutions(MonSolve);lt=(x,y)->abs(real(x[1]))<abs(real(y[1])))"
   ]
  },
  {
   "cell_type": "code",
   "execution_count": 15,
   "metadata": {},
   "outputs": [
    {
     "data": {
      "text/plain": [
       "19-element Array{Array{Complex{Float64},1},1}:\n",
       " [-0.11103283239634384 - 0.9013030049265219im]\n",
       " [0.15755124127140735 + 0.9871303370403146im]\n",
       " [-0.1943648926064032 + 0.6317701112189877im]\n",
       " [-0.2549371304226953 - 1.03379297378494im]\n",
       " [0.34947884523782413 - 0.9442874888326988im]\n",
       " [0.41677816104791265 + 0.9261127501202253im]\n",
       " [-0.4276930702027745 + 0.829879796461804im]\n",
       " [0.624463342550689 + 0.35052237621886345im]\n",
       " [0.7013718047647444 - 0.919029510780225im]\n",
       " [0.7087359677690267 - 0.3737800940437114im]\n",
       " [-0.7679106199345467 - 0.8671702466058969im]\n",
       " [0.8044682462062381 + 0.7799677662558236im]\n",
       " [-0.8380628626072111 + 0.7644498306770194im]\n",
       " [-0.8678529595611992 - 0.4151224877042829im]\n",
       " [0.923 + 0.2im]\n",
       " [0.9947356196139029 - 0.31257396232446644im]\n",
       " [-1.064673138385895 + 0.07701072074828229im]\n",
       " [-1.074517329689185 + 0.3920909900027887im]\n",
       " [-2.4849310703859375 - 0.4603785932925501im]"
      ]
     },
     "execution_count": 15,
     "metadata": {},
     "output_type": "execute_result"
    }
   ],
   "source": [
    "sort(SolutionsFound;lt=(x,y)->abs(real(x[1]))<abs(real(y[1])))"
   ]
  },
  {
   "cell_type": "markdown",
   "metadata": {},
   "source": [
    "## Monodromy Group\n",
    "\n",
    "Let $\\pi:Z|_U \\to U$ be a $d$-to-one branched cover and $S_d$ the symmetric group acting on the points $\\pi^{-1}(p)$ for  some $p \\in U$.\n",
    "\n",
    "\n",
    "**Definition**: A loop $\\gamma$ based at some point $p \\in U$ induces a permutation $g_\\gamma \\in S_d$ on the fibre $\\pi^{-1}(p)$ via homotopy continuation.\n",
    "\n",
    "**Definition**: The monodromy group $G_\\pi$ of $\\pi$ is the group of permutations $$G_\\pi = \\{g_\\gamma \\in S_d | \\gamma \\text{ is a loop in }U \\text{ based at } p\\}$$\n",
    "\n",
    "**Exercise**: This doesn't depend on the base point $p \\in U$"
   ]
  },
  {
   "cell_type": "code",
   "execution_count": 16,
   "metadata": {},
   "outputs": [
    {
     "data": {
      "text/plain": [
       "monodromy_element (generic function with 1 method)"
      ]
     },
     "execution_count": 16,
     "metadata": {},
     "output_type": "execute_result"
    }
   ],
   "source": [
    "#This function will produce the permutation on the fibre BaseSols (over BaseParam) induced by the loop γ\n",
    "#  which is just a sequence of parameter values starting and ending with BaseParam\n",
    "#  If no such loop is given, it will randomly make one\n",
    "\n",
    "\n",
    "function monodromy_element(F,BaseSols,BaseParam;γ=nothing)\n",
    "    #If no loop is given, randomly make one\n",
    "    if γ==nothing\n",
    "        γ = [BaseParam] #starting at BaseParam\n",
    "        for i in 1:3\n",
    "            push!(γ,2*randn(ComplexF64,length(F.parameters))) #with 3 other parameter values\n",
    "        end\n",
    "        push!(γ,BaseParam) #and ending again at BaseParam\n",
    "    end\n",
    "    M = solutions(monodromy_loop(F,BaseSols,γ)) #Take the solutions after the loop\n",
    "    S = (BaseSols) #And those before\n",
    "    gᵧ= [findfirst(x->x≈S[i],M) for i in 1:length(M)] #and see which solutions were permuted\n",
    "    return gᵧ\n",
    "end"
   ]
  },
  {
   "cell_type": "code",
   "execution_count": 17,
   "metadata": {},
   "outputs": [
    {
     "data": {
      "text/plain": [
       "2-element Array{Int64,1}:\n",
       " 2\n",
       " 1"
      ]
     },
     "execution_count": 17,
     "metadata": {},
     "output_type": "execute_result"
    }
   ],
   "source": [
    "@var x a b\n",
    "F = System([x^2 + a * x + b], parameters = [a, b])\n",
    "#Here's the monodromy element from before written as a permutation\n",
    "monodromy_element(F,[[-1],[1]],p₀;γ=[p₀,p₁,p₂,p₃,p₀])"
   ]
  },
  {
   "cell_type": "code",
   "execution_count": 18,
   "metadata": {},
   "outputs": [],
   "source": [
    "#here are 1000 random monodromy elements based at p_0\n",
    "random_elements=[monodromy_element(F,[[-1],[1]],Array{ComplexF64,1}(p₀)) for i in 1:1000];"
   ]
  },
  {
   "cell_type": "code",
   "execution_count": 19,
   "metadata": {},
   "outputs": [
    {
     "data": {
      "text/plain": [
       "tally (generic function with 1 method)"
      ]
     },
     "execution_count": 19,
     "metadata": {},
     "output_type": "execute_result"
    }
   ],
   "source": [
    "#this is a quick function to tally them\n",
    "function tally(S)\n",
    "    D=Dict{Any,Int}()\n",
    "    for s in S\n",
    "        D[s]=get(D,s,0)+1\n",
    "    end\n",
    "    return D\n",
    "end"
   ]
  },
  {
   "cell_type": "code",
   "execution_count": 20,
   "metadata": {},
   "outputs": [
    {
     "data": {
      "text/plain": [
       "Dict{Any,Int64} with 2 entries:\n",
       "  [2, 1] => 345\n",
       "  [1, 2] => 655"
      ]
     },
     "execution_count": 20,
     "metadata": {},
     "output_type": "execute_result"
    }
   ],
   "source": [
    "#here's the tally\n",
    "tally(random_elements)"
   ]
  },
  {
   "cell_type": "markdown",
   "metadata": {},
   "source": [
    "Take $$f(x,y) = y^4-2y^2-x,\\\\ g(x,y)=x-t$$\n",
    "\n",
    "\n",
    "<img src=\"monondromy2.png\" width=\"500\">"
   ]
  },
  {
   "cell_type": "code",
   "execution_count": 21,
   "metadata": {},
   "outputs": [
    {
     "data": {
      "text/plain": [
       "System of length 2\n",
       " 2 variables: x, y\n",
       " 1 parameters: t\n",
       "\n",
       " -x - 2*y^2 + y^4\n",
       " -t + x"
      ]
     },
     "execution_count": 21,
     "metadata": {},
     "output_type": "execute_result"
    }
   ],
   "source": [
    "@var x,y,t\n",
    "G=System([y^4-2*y^2-x,x-t],parameters=[t])"
   ]
  },
  {
   "cell_type": "code",
   "execution_count": 22,
   "metadata": {},
   "outputs": [
    {
     "name": "stdout",
     "output_type": "stream",
     "text": [
      "\r",
      "\u001b[32mTracking 4 paths... 100%|███████████████████████████████| Time: 0:00:03\u001b[39m\r\n",
      "\u001b[34m  # paths tracked:                  4\u001b[39m\r\n",
      "\u001b[34m  # non-singular solutions (real):  4 (4)\u001b[39m\r\n",
      "\u001b[34m  # singular endpoints (real):      0 (0)\u001b[39m\r\n",
      "\u001b[34m  # total solutions (real):         4 (4)\u001b[39m\n"
     ]
    },
    {
     "data": {
      "text/plain": [
       "4-element Array{Array{Complex{Float64},1},1}:\n",
       " [-0.5 - 3.587324068671532e-43im, 1.3065629648763766 + 8.96831017167883e-44im]\n",
       " [-0.5 + 0.0im, 0.541196100146197 + 0.0im]\n",
       " [-0.5 - 3.587324068671532e-43im, -1.3065629648763766 - 8.96831017167883e-44im]\n",
       " [-0.5 + 2.465190328815662e-32im, -0.541196100146197 + 0.0im]"
      ]
     },
     "execution_count": 22,
     "metadata": {},
     "output_type": "execute_result"
    }
   ],
   "source": [
    "p₀ = [-1/2]\n",
    "S=solutions(solve(G,target_parameters=p₀))"
   ]
  },
  {
   "cell_type": "code",
   "execution_count": 23,
   "metadata": {},
   "outputs": [
    {
     "name": "stdout",
     "output_type": "stream",
     "text": [
      "\r",
      "\u001b[32mTracking 4 paths... 100%|███████████████████████████████| Time: 0:00:01\u001b[39m\r\n",
      "\u001b[34m  # paths tracked:                  4\u001b[39m\r\n",
      "\u001b[34m  # non-singular solutions (real):  4 (0)\u001b[39m\r\n",
      "\u001b[34m  # singular endpoints (real):      0 (0)\u001b[39m\r\n",
      "\u001b[34m  # total solutions (real):         4 (0)\u001b[39m\n"
     ]
    }
   ],
   "source": [
    "random_elements=[monodromy_element(G,S,Array{ComplexF64,1}(p₀)) for i in 1:1000];"
   ]
  },
  {
   "cell_type": "code",
   "execution_count": 24,
   "metadata": {},
   "outputs": [
    {
     "data": {
      "text/plain": [
       "Dict{Any,Int64} with 5 entries:\n",
       "  [2, 1, 4, 3] => 106\n",
       "  [1, 4, 3, 2] => 352\n",
       "  [1, 2, 3, 4] => 521\n",
       "  [4, 1, 2, 3] => 9\n",
       "  [2, 3, 4, 1] => 12"
      ]
     },
     "execution_count": 24,
     "metadata": {},
     "output_type": "execute_result"
    }
   ],
   "source": [
    "tally(random_elements)"
   ]
  },
  {
   "cell_type": "code",
   "execution_count": 25,
   "metadata": {},
   "outputs": [
    {
     "name": "stdout",
     "output_type": "stream",
     "text": [
      " ┌───────┐   GAP 4.11.0 of 29-Feb-2020\n",
      " │  GAP  │   https://www.gap-system.org\n",
      " └───────┘   Architecture: x86_64-pc-linux-gnu-julia64-kv7-v1.5\n",
      " Configuration:  gmp 6.1.2, Julia GC, Julia 1.5.2, readline\n",
      " Loading the library and packages ...\n",
      " Packages:   AClib 1.3.2, Alnuth 3.1.2, AtlasRep 2.1.0, AutoDoc 2019.09.04, \n",
      "             AutPGrp 1.10.2, CRISP 1.4.5, Cryst 4.1.23, CrystCat 1.1.9, \n",
      "             CTblLib 1.2.2, FactInt 1.6.3, FGA 1.4.0, Forms 1.2.5, \n",
      "             GAPDoc 1.6.3, genss 1.6.6, IO 4.7.0, IRREDSOL 1.4, LAGUNA 3.9.3, \n",
      "             orb 4.8.3, Polenta 1.3.9, Polycyclic 2.15.1, PrimGrp 3.4.0, \n",
      "             RadiRoot 2.8, recog 1.3.2, ResClasses 4.7.2, SmallGrp 1.4.1, \n",
      "             Sophus 1.24, SpinSym 1.5.2, TomLib 1.2.9, TransGrp 2.0.5, \n",
      "             utils 0.69\n",
      " Try '??help' for help. See also '?copyright', '?cite' and '?authors'\n"
     ]
    },
    {
     "data": {
      "text/plain": [
       "describe_group (generic function with 1 method)"
      ]
     },
     "execution_count": 25,
     "metadata": {},
     "output_type": "execute_result"
    }
   ],
   "source": [
    "using GAP;\n",
    "function describe_group(L)\n",
    "    L=unique(L)\n",
    "    Sym=GAP.Globals.SymmetricGroup(length(L[1]))\n",
    "    GAPL=[]\n",
    "    for l in L\n",
    "        push!(GAPL,GAP.Globals.PermList(GAP.julia_to_gap(l)))\n",
    "    end\n",
    "    GAPL=GAP.julia_to_gap(GAPL)\n",
    "    G=GAP.Globals.Subgroup(Sym,GAPL)\n",
    "    return (GAP.Globals.StructureDescription(G),G)\n",
    "end"
   ]
  },
  {
   "cell_type": "code",
   "execution_count": 26,
   "metadata": {},
   "outputs": [
    {
     "data": {
      "text/plain": [
       "(GAP: \"D8\", GAP: D8)"
      ]
     },
     "execution_count": 26,
     "metadata": {},
     "output_type": "execute_result"
    }
   ],
   "source": [
    "describe_group(random_elements)"
   ]
  },
  {
   "cell_type": "markdown",
   "metadata": {},
   "source": [
    "**Observation**: There is a surjective map from the fundamental group of $U$ to the monodromy group. \n",
    "\n",
    "So given generators $\\gamma_1,\\ldots,\\gamma_k$ of the fundamental group of $U$, the permutations they give in the monodromy group must generate the monodromy group."
   ]
  },
  {
   "cell_type": "markdown",
   "metadata": {},
   "source": [
    "**Example**: here the branch locus is $t=-1$ and $t=0$. Loops around $t=-1$ and $t=0$ should generate $G_\\pi$\n",
    "<img src=\"monondromy2.png\" width=\"500\">"
   ]
  },
  {
   "cell_type": "code",
   "execution_count": 27,
   "metadata": {},
   "outputs": [
    {
     "data": {
      "text/plain": [
       "4-element Array{Int64,1}:\n",
       " 2\n",
       " 1\n",
       " 4\n",
       " 3"
      ]
     },
     "execution_count": 27,
     "metadata": {},
     "output_type": "execute_result"
    }
   ],
   "source": [
    "g₁ = monodromy_element(G,S,Array{ComplexF64,1}(p₀),γ=[p₀,[-1+im],[-1.2],[-1-im],p₀])"
   ]
  },
  {
   "cell_type": "code",
   "execution_count": 28,
   "metadata": {},
   "outputs": [
    {
     "data": {
      "text/plain": [
       "4-element Array{Int64,1}:\n",
       " 1\n",
       " 4\n",
       " 3\n",
       " 2"
      ]
     },
     "execution_count": 28,
     "metadata": {},
     "output_type": "execute_result"
    }
   ],
   "source": [
    "g₂ = monodromy_element(G,S,Array{ComplexF64,1}(p₀),γ=[p₀,[0+im],[0.2],[0-im],p₀])"
   ]
  },
  {
   "cell_type": "code",
   "execution_count": 29,
   "metadata": {},
   "outputs": [
    {
     "data": {
      "text/plain": [
       "8"
      ]
     },
     "execution_count": 29,
     "metadata": {},
     "output_type": "execute_result"
    }
   ],
   "source": [
    "Gal=describe_group([g₁,g₂])\n",
    "GAP.Globals.Order(Gal[2])"
   ]
  },
  {
   "cell_type": "markdown",
   "metadata": {},
   "source": [
    "More generally: If $\\ell$ is a general line in $Q$ (intersects $D$ at $\\deg(D)$ many points), then the monodromy group $G_\\pi$ is generated by the images of the loops around $D \\cap \\ell$ within $\\ell$. "
   ]
  },
  {
   "cell_type": "markdown",
   "metadata": {},
   "source": [
    "**Exercise**: The monodromy group $G_\\pi$ is transitive if and only if $Z$ is an irreducible variety.\n",
    "\n",
    "**Exercise**: The monodromy group $G_\\pi$ is $k$-transitive if and only if $\\underline{\\,\\,\\,\\,\\,\\,\\,\\,\\,\\,\\,\\,}$ is an irreducible variety.\n",
    "\n",
    "**Consequence**: If $Z$ is irreducible, and $s \\in \\pi^{-1}(p)$ then we can use monodromy to find **all** solutions. Otherwise we will fail at finding all solutions."
   ]
  },
  {
   "cell_type": "code",
   "execution_count": 30,
   "metadata": {},
   "outputs": [],
   "source": [
    "#Put it all together and compute monodromy group of 27 lines on cubic surface"
   ]
  },
  {
   "cell_type": "markdown",
   "metadata": {},
   "source": [
    "**Cayley and Salmon**: There are exactly $27$ lines on every smooth cubic surface in $\\mathbb{P}^3$."
   ]
  },
  {
   "cell_type": "markdown",
   "metadata": {},
   "source": [
    "Let's solve for these $27$ lines using monodromy, then compute the monodromy group!"
   ]
  },
  {
   "cell_type": "markdown",
   "metadata": {},
   "source": [
    "*Source: Greg Egan* \n",
    "\n",
    "<img src=\"clebsch_diagonal_cubic-1-1.gif\" width=\"500\">\n",
    "(The Clebsch cubic, a cubic surface with all 27 lines real; it is also special, as it has Eckhardt points)"
   ]
  },
  {
   "cell_type": "code",
   "execution_count": 31,
   "metadata": {
    "scrolled": true
   },
   "outputs": [
    {
     "data": {
      "text/plain": [
       "System of length 4\n",
       " 4 variables: k₁, k₂, k₃, k₄\n",
       " 64 parameters: c₀₋₀₋₀, c₁₋₀₋₀, c₂₋₀₋₀, c₃₋₀₋₀, c₀₋₁₋₀, c₁₋₁₋₀, c₂₋₁₋₀, c₃₋₁₋₀, c₀₋₂₋₀, c₁₋₂₋₀, c₂₋₂₋₀, c₃₋₂₋₀, c₀₋₃₋₀, c₁₋₃₋₀, c₂₋₃₋₀, c₃₋₃₋₀, c₀₋₀₋₁, c₁₋₀₋₁, c₂₋₀₋₁, c₃₋₀₋₁, c₀₋₁₋₁, c₁₋₁₋₁, c₂₋₁₋₁, c₃₋₁₋₁, c₀₋₂₋₁, c₁₋₂₋₁, c₂₋₂₋₁, c₃₋₂₋₁, c₀₋₃₋₁, c₁₋₃₋₁, c₂₋₃₋₁, c₃₋₃₋₁, c₀₋₀₋₂, c₁₋₀₋₂, c₂₋₀₋₂, c₃₋₀₋₂, c₀₋₁₋₂, c₁₋₁₋₂, c₂₋₁₋₂, c₃₋₁₋₂, c₀₋₂₋₂, c₁₋₂₋₂, c₂₋₂₋₂, c₃₋₂₋₂, c₀₋₃₋₂, c₁₋₃₋₂, c₂₋₃₋₂, c₃₋₃₋₂, c₀₋₀₋₃, c₁₋₀₋₃, c₂₋₀₋₃, c₃₋₀₋₃, c₀₋₁₋₃, c₁₋₁₋₃, c₂₋₁₋₃, c₃₋₁₋₃, c₀₋₂₋₃, c₁₋₂₋₃, c₂₋₂₋₃, c₃₋₂₋₃, c₀₋₃₋₃, c₁₋₃₋₃, c₂₋₃₋₃, c₃₋₃₋₃\n",
       "\n",
       " c₃₋₀₋₀ + k₃*c₂₋₁₋₀ + k₃^2*c₁₋₂₋₀ + k₃^3*c₀₋₃₋₀ + k₄*c₂₋₀₋₁ + k₄^2*c₁₋₀₋₂ + k₄^3*c₀₋₀₋₃ + k₄*k₃*c₁₋₁₋₁ + k₄*k₃^2*c₀₋₂₋₁ + k₄^2*k₃*c₀₋₁₋₂\n",
       " c₂₋₀₋₀ + k₁*c₂₋₁₋₀ + k₂*c₂₋₀₋₁ + k₃*c₁₋₁₋₀ + k₃^2*c₀₋₂₋₀ + k₄*c₁₋₀₋₁ + k₄^2*c₀₋₀₋₂ + 2*k₃*k₁*c₁₋₂₋₀ + k₃*k₂*c₁₋₁₋₁ + 3*k₃^2*k₁*c₀₋₃₋₀ + k₃^2*k₂*c₀₋₂₋₁ + k₄*k₁*c₁₋₁₋₁ + 2*k₄*k₂*c₁₋₀₋₂ + k₄*k₃*c₀₋₁₋₁ + k₄^2*k₁*c₀₋₁₋₂ + 3*k₄^2*k₂*c₀₋₀₋₃ + 2*k₄*k₃*k₁*c₀₋₂₋₁ + 2*k₄*k₃*k₂*c₀₋₁₋₂\n",
       " c₁₋₀₋₀ + k₁*c₁₋₁₋₀ + k₁^2*c₁₋₂₋₀ + k₂*c₁₋₀₋₁ + k₂^2*c₁₋₀₋₂ + k₃*c₀₋₁₋₀ + k₄*c₀₋₀₋₁ + k₂*k₁*c₁₋₁₋₁ + 2*k₃*k₁*c₀₋₂₋₀ + 3*k₃*k₁^2*c₀₋₃₋₀ + k₃*k₂*c₀₋₁₋₁ + k₃*k₂^2*c₀₋₁₋₂ + k₄*k₁*c₀₋₁₋₁ + k₄*k₁^2*c₀₋₂₋₁ + 2*k₄*k₂*c₀₋₀₋₂ + 3*k₄*k₂^2*c₀₋₀₋₃ + 2*k₃*k₂*k₁*c₀₋₂₋₁ + 2*k₄*k₂*k₁*c₀₋₁₋₂\n",
       " c₀₋₀₋₀ + k₁*c₀₋₁₋₀ + k₁^2*c₀₋₂₋₀ + k₁^3*c₀₋₃₋₀ + k₂*c₀₋₀₋₁ + k₂^2*c₀₋₀₋₂ + k₂^3*c₀₋₀₋₃ + k₂*k₁*c₀₋₁₋₁ + k₂*k₁^2*c₀₋₂₋₁ + k₂^2*k₁*c₀₋₁₋₂"
      ]
     },
     "execution_count": 31,
     "metadata": {},
     "output_type": "execute_result"
    }
   ],
   "source": [
    "# lines are parametrized as t->(t,k1+k3t,k2+k4t)\n",
    "@var k[1:4]\n",
    "# the coefficient of x^iy^jz^k in a general cubic will be c[i,j,k]\n",
    "@var c[0:3,0:3,0:3]\n",
    "# we need these variables too\n",
    "@var t\n",
    "@var x,y,z\n",
    "\n",
    "#here's a cubic\n",
    "cubic=sum([c[i+1,j+1,k+1]x^i*y^j*z^k for i in 0:3 for j in 0:3-i for k in 0:3-i-j])\n",
    "#here's our line\n",
    "line = [t,k[1]+k[3]*t,k[2]+k[4]*t]\n",
    "#E is cubic(line(t))\n",
    "E=evaluate(cubic,[x,y,z]=>line)\n",
    "#and we construct the system where the coefficients of t^i for t=0..3 are zero (i.e. E=0)\n",
    "F = System(exponents_coefficients(E,[t])[2],parameters=vec(c))"
   ]
  },
  {
   "cell_type": "markdown",
   "metadata": {},
   "source": [
    "### Great! Now solutions are parametrized lines \n",
    "$$ t \\xrightarrow{\\ell} (t,k1+k3t,k2+k4t) $$\n",
    "\n",
    "such that \n",
    "\n",
    "$$cubic(\\ell) = 0$$"
   ]
  },
  {
   "cell_type": "code",
   "execution_count": 32,
   "metadata": {},
   "outputs": [
    {
     "name": "stdout",
     "output_type": "stream",
     "text": [
      "  7.365505 seconds (16.20 M allocations: 819.006 MiB, 2.20% gc time)\n"
     ]
    },
    {
     "data": {
      "text/plain": [
       "MonodromyResult\n",
       "===============\n",
       "• return_code → :heuristic_stop\n",
       "• 27 solutions\n",
       "• 189 tracked loops\n",
       "• random_seed → 0x28407f00"
      ]
     },
     "execution_count": 32,
     "metadata": {},
     "output_type": "execute_result"
    }
   ],
   "source": [
    "@time MS=monodromy_solve(F)"
   ]
  },
  {
   "cell_type": "markdown",
   "metadata": {},
   "source": [
    "Monodromy quickly solved the system!"
   ]
  },
  {
   "cell_type": "code",
   "execution_count": 33,
   "metadata": {},
   "outputs": [],
   "source": [
    "#Output of monodromy_solve knows a fibre pi^(-1)(P) = S\n",
    "S=solutions(MS);\n",
    "P=parameters(MS);"
   ]
  },
  {
   "cell_type": "code",
   "execution_count": 34,
   "metadata": {},
   "outputs": [
    {
     "name": "stdout",
     "output_type": "stream",
     "text": [
      "  2.765097 seconds (6.38 M allocations: 312.349 MiB, 3.57% gc time)\n"
     ]
    }
   ],
   "source": [
    "@time random_elements=[monodromy_element(F,S,P) for i in 1:50];"
   ]
  },
  {
   "cell_type": "code",
   "execution_count": 35,
   "metadata": {},
   "outputs": [
    {
     "data": {
      "text/plain": [
       "47"
      ]
     },
     "execution_count": 35,
     "metadata": {},
     "output_type": "execute_result"
    }
   ],
   "source": [
    "#Here we filter out anything funny that happened numerically (note we weren't particularly\n",
    "#  careful with our code earlier)\n",
    "filter!(x->!(nothing in x) && sort(x) == collect(1:27),random_elements);\n",
    "length(random_elements)"
   ]
  },
  {
   "cell_type": "code",
   "execution_count": 36,
   "metadata": {},
   "outputs": [
    {
     "data": {
      "text/plain": [
       "Dict{Any,Int64} with 46 entries:\n",
       "  [26, 14, 3, 5, 4, 21, 25, 1, 15, 8  …  7, 19, 11, 6, 2, 9, 17, 23, 16, 2… => 1\n",
       "  [22, 21, 12, 9, 5, 3, 6, 24, 18, 8  …  13, 15, 16, 25, 26, 1, 7, 17, 23,… => 1\n",
       "  [18, 4, 19, 9, 7, 1, 14, 25, 11, 17  …  21, 13, 5, 12, 16, 6, 20, 22, 24… => 1\n",
       "  [18, 4, 26, 1, 24, 25, 13, 8, 10, 19  …  2, 15, 20, 3, 12, 23, 22, 6, 14… => 1\n",
       "  [15, 14, 2, 22, 17, 18, 19, 6, 20, 13  …  5, 23, 4, 3, 27, 25, 16, 12, 1… => 1\n",
       "  [18, 24, 15, 8, 17, 13, 27, 19, 12, 9  …  26, 4, 6, 5, 23, 11, 16, 3, 1,… => 1\n",
       "  [9, 15, 8, 24, 4, 10, 11, 18, 7, 19  …  13, 25, 3, 14, 1, 16, 27, 20, 21… => 1\n",
       "  [20, 21, 26, 14, 16, 12, 23, 27, 2, 3  …  13, 6, 19, 18, 4, 10, 17, 15, … => 1\n",
       "  [27, 21, 4, 3, 17, 25, 7, 2, 22, 11  …  14, 6, 19, 8, 9, 23, 15, 5, 1, 2… => 1\n",
       "  [16, 4, 3, 1, 20, 12, 23, 27, 18, 26  …  17, 7, 22, 2, 21, 24, 13, 15, 6… => 1\n",
       "  [1, 19, 18, 26, 2, 15, 6, 4, 12, 8  …  16, 3, 13, 25, 9, 22, 11, 20, 27,… => 1\n",
       "  [1, 17, 4, 19, 3, 27, 14, 10, 23, 16  …  15, 5, 21, 9, 11, 20, 22, 24, 8… => 1\n",
       "  [10, 12, 16, 23, 1, 3, 2, 19, 24, 5  …  9, 15, 27, 25, 26, 14, 18, 13, 1… => 1\n",
       "  [12, 16, 20, 11, 24, 26, 8, 23, 17, 25  …  10, 9, 14, 6, 7, 18, 15, 2, 2… => 1\n",
       "  [15, 2, 17, 18, 23, 10, 5, 13, 21, 9  …  14, 24, 16, 27, 11, 12, 20, 26,… => 1\n",
       "  [19, 10, 4, 16, 18, 8, 24, 17, 6, 1  …  23, 7, 21, 11, 2, 14, 13, 20, 25… => 1\n",
       "  [4, 17, 10, 9, 3, 16, 26, 2, 13, 11  …  18, 21, 5, 15, 6, 20, 14, 24, 8,… => 1\n",
       "  [9, 24, 21, 12, 2, 18, 17, 22, 5, 8  …  23, 10, 27, 20, 14, 1, 6, 16, 11… => 1\n",
       "  [11, 17, 2, 10, 21, 27, 20, 9, 19, 4  …  23, 12, 14, 15, 18, 26, 24, 5, … => 1\n",
       "  [20, 16, 12, 3, 24, 25, 13, 5, 1, 26  …  6, 14, 9, 10, 19, 18, 15, 2, 22… => 1\n",
       "  [4, 10, 9, 8, 25, 11, 27, 19, 5, 12  …  1, 26, 13, 15, 23, 20, 7, 14, 18… => 1\n",
       "  [15, 1, 10, 5, 9, 17, 13, 8, 26, 19  …  14, 24, 11, 3, 4, 25, 21, 20, 22… => 1\n",
       "  [25, 12, 11, 4, 13, 23, 7, 21, 8, 9  …  26, 18, 6, 3, 22, 15, 14, 1, 27,… => 1\n",
       "  [3, 21, 4, 12, 1, 2, 6, 26, 24, 8  …  20, 5, 17, 25, 18, 15, 7, 23, 16, … => 1\n",
       "  [25, 13, 23, 9, 16, 7, 26, 11, 2, 17  …  21, 4, 5, 22, 6, 1, 3, 8, 12, 2… => 1\n",
       "  ⋮                                                                         => ⋮"
      ]
     },
     "execution_count": 36,
     "metadata": {},
     "output_type": "execute_result"
    }
   ],
   "source": [
    "tally(unique(random_elements))"
   ]
  },
  {
   "cell_type": "markdown",
   "metadata": {},
   "source": [
    " So we may have lost some permutations, but we still have plenty, and since there aren't any duplicates (seemingly), the group is probably pretty big"
   ]
  },
  {
   "cell_type": "code",
   "execution_count": 37,
   "metadata": {},
   "outputs": [
    {
     "name": "stdout",
     "output_type": "stream",
     "text": [
      "GAP: \"O(5,3) : C2\"\n"
     ]
    },
    {
     "data": {
      "text/plain": [
       "51840"
      ]
     },
     "execution_count": 37,
     "metadata": {},
     "output_type": "execute_result"
    }
   ],
   "source": [
    "Gal=describe_group(random_elements)\n",
    "println(Gal[1])\n",
    "GAP.Globals.Order(Gal[2])"
   ]
  },
  {
   "cell_type": "markdown",
   "metadata": {},
   "source": [
    "##### This is the Weyl group of E6\n",
    "\n",
    "It is exactly the group of permutations which are possible given how the $27$ lines must intersect.\n",
    "\n",
    "General philosophy: the monodromy group is always as big as possible given the geometric obstructions (not actually a mathematical statement)"
   ]
  },
  {
   "cell_type": "markdown",
   "metadata": {},
   "source": [
    "## Conclusion\n",
    "- we can solve systems using monodromy provided we know the incidence variety is irreducible\n",
    " - How do we know when to stop? (stay tuned for witness sets talk)\n",
    "- we can compute monodromy groups which reveal structure about our system\n",
    " - Find your favorite family of zero-dimensional varieties and compute their monodromy groups\n",
    "   - Schubert Problems\n",
    "   - Sparse polynomial systems\n",
    "   - Computer vision"
   ]
  },
  {
   "cell_type": "code",
   "execution_count": null,
   "metadata": {},
   "outputs": [],
   "source": []
  }
 ],
 "metadata": {
  "kernelspec": {
   "display_name": "Julia 1.5.2",
   "language": "julia",
   "name": "julia-1.5"
  },
  "language_info": {
   "file_extension": ".jl",
   "mimetype": "application/julia",
   "name": "julia",
   "version": "1.5.2"
  }
 },
 "nbformat": 4,
 "nbformat_minor": 2
}
