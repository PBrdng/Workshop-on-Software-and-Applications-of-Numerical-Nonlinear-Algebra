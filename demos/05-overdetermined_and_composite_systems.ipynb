{
 "cells": [
  {
   "cell_type": "markdown",
   "metadata": {},
   "source": [
    "<hr style=\"border:1px solid gray\"> </hr>\n",
    "\n",
    "# Overdetermined systems\n",
    "\n",
    "*Documentation*: https://www.juliahomotopycontinuation.org/HomotopyContinuation.jl/stable/start_systems/#Overdetermined\n",
    "\n",
    "A system of polynomial equations $f=(f_1(x_1,\\ldots, x_m),\\ldots,  f_n(x_1,\\ldots,x_m))$ is called *overdetermined*, if it has more equations than variables; i.e., when $n>m$. HomotopyContinuation.jl can solve overdetermined systems. Here is a simple example.\n",
    "\n",
    "$$f(x,y,z) = \\begin{bmatrix} xz-y^2 \\\\\\ y-z^2 \\\\\\ x-yz \\\\\\ x + y + z + 1\\end{bmatrix}.$$\n",
    "\n",
    "This system has 4 equation in 3 variables. One might expect that it has no solution, but actually it has solutions, as is explained [here](https://en.wikipedia.org/wiki/Rational_normal_curve).\n",
    "\n",
    "The Julia code is as follows"
   ]
  },
  {
   "cell_type": "code",
   "execution_count": null,
   "metadata": {},
   "outputs": [],
   "source": [
    "using HomotopyContinuation\n",
    "@var x y z\n",
    "f = [\n",
    "    x*z - y^2, \n",
    "    y - z^2, \n",
    "    x - y*z, \n",
    "    x + y + z + 1\n",
    "]\n",
    "\n",
    "solve(f)"
   ]
  },
  {
   "cell_type": "markdown",
   "metadata": {},
   "source": [
    "Internally, HomotopyContinuation multiplies $f$ with a random $3\\times 4$ matrix $A$ and then solves the quadratic system $Af$. For a generic $A$ the isolated zeros of $f$ are isolated zeros of $Af$. We can do this by hand:"
   ]
  },
  {
   "cell_type": "code",
   "execution_count": null,
   "metadata": {},
   "outputs": [],
   "source": [
    "A = randn(ComplexF64, 3, 4)\n",
    "S = solve(A*f)"
   ]
  },
  {
   "cell_type": "markdown",
   "metadata": {},
   "source": [
    "and sort out the zeros of $f$ by hand by first evaluation $f$ at the entries of `S`"
   ]
  },
  {
   "cell_type": "code",
   "execution_count": null,
   "metadata": {},
   "outputs": [],
   "source": [
    "f_values = map(s -> [fi([x, y, z] => s) for fi in f], solutions(S))"
   ]
  },
  {
   "cell_type": "markdown",
   "metadata": {},
   "source": [
    "and then sorting out the zero entries"
   ]
  },
  {
   "cell_type": "code",
   "execution_count": null,
   "metadata": {},
   "outputs": [],
   "source": [
    "zero_entries = findall(v -> maximum(abs.(v)) < 1e-10, f_values)\n",
    "println(\"\\n and the zeros are at $zero_entries\")"
   ]
  },
  {
   "cell_type": "markdown",
   "metadata": {},
   "source": [
    "However, evaluation of $f$ at the solutions of $Af$ is not a stable way of finding the zeros of $f$. This is because $f$ and $tf$ have the same zeros for all $t\\in\\mathbb{C}\\backslash\\{0\\}$. HomotopyContinuation.jl checks which zeros of $Af$ converge quadratically fast towards zeros of $f$ in order to make a decision."
   ]
  }
 ],
 "metadata": {
  "kernelspec": {
   "display_name": "Julia 1.6.1",
   "language": "julia",
   "name": "julia-1.6"
  },
  "language_info": {
   "file_extension": ".jl",
   "mimetype": "application/julia",
   "name": "julia",
   "version": "1.6.1"
  }
 },
 "nbformat": 4,
 "nbformat_minor": 4
}
