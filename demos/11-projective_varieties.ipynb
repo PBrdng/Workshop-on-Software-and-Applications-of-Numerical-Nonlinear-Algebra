{
 "cells": [
  {
   "cell_type": "markdown",
   "metadata": {},
   "source": [
    "<hr style=\"border:1px solid gray\"> </hr>\n",
    "\n",
    "# Solution sets in $\\mathbb{P}^n$"
   ]
  },
  {
   "cell_type": "markdown",
   "metadata": {},
   "source": [
    "*Documentation*: https://www.juliahomotopycontinuation.org/HomotopyContinuation.jl/stable/solve/#HomotopyContinuation.solve\n",
    "\n",
    "In the previous examples we have always computed solutions $\\mathbb{C}^n$, also called affine space.\n",
    "\n",
    "On the other hand, for some polynomial systems it is more natural to consider their zero sets in [projective space](https://en.wikipedia.org/wiki/Projective_space) $\\mathbb{P}^n$. For instance, think of the parabola $y-x^2=0$. A line $ax+by=c$ is tangent to the parabola at $(x,y)\\in\\mathbb{C^2}$, if and only if \n",
    "\n",
    "$$ax+by=c \\quad \\text{ and } \\quad\\det\\begin{bmatrix} a & b \\\\ -2x & 1\\end{bmatrix}=0.$$\n",
    "\n",
    "Ususally, there is one point of intersection, but if $b=0$, then the last condition says that $a=0$. Consequently, if $b=0$ and $a\\neq 0$ then this system has no solution. Geometrically this means that the line and the parabola intersect  tagentially *asymptotically* at a point at infinity. \n",
    "\n",
    "Nevertheless, the same problem in $\\mathbb{P}^2$ **always** has a solution!\n",
    "\n",
    "Let us see this in action. We compute the solutions to the same equations, but homogenized."
   ]
  },
  {
   "cell_type": "code",
   "execution_count": 4,
   "metadata": {},
   "outputs": [
    {
     "data": {
      "text/plain": [
       "System of length 2\n",
       " 3 variables: x, y, z\n",
       " 3 parameters: a, b, c\n",
       "\n",
       " a*x + b*y + c*z\n",
       " a*z + 2*b*x"
      ]
     },
     "execution_count": 4,
     "metadata": {},
     "output_type": "execute_result"
    }
   ],
   "source": [
    "using HomotopyContinuation, LinearAlgebra\n",
    "@var x y z\n",
    "@var a b c\n",
    "f1 = a * x + b * y + c * z\n",
    "f2 = det([a b; -2x z])\n",
    "F = System([f1; f2], variables = [x;y;z], parameters = [a;b;c])"
   ]
  },
  {
   "cell_type": "markdown",
   "metadata": {},
   "source": [
    "Now, let us specify $a=1,\\, b=0, \\, c=i$ and solve the system "
   ]
  },
  {
   "cell_type": "code",
   "execution_count": 6,
   "metadata": {},
   "outputs": [
    {
     "data": {
      "text/plain": [
       "Result with 1 solution\n",
       "======================\n",
       "• 1 path tracked\n",
       "• 1 non-singular solution (0 real)\n",
       "• random_seed: 0x8e92a08d\n",
       "• start_system: :polyhedral\n"
      ]
     },
     "execution_count": 6,
     "metadata": {},
     "output_type": "execute_result"
    }
   ],
   "source": [
    "R = solve(F, target_parameters = [1;0;im])"
   ]
  },
  {
   "cell_type": "code",
   "execution_count": 10,
   "metadata": {},
   "outputs": [
    {
     "data": {
      "text/plain": [
       "PathResult:\n",
       " • return_code → :success\n",
       " • solution → Complex{Float64}[0.0 + 0.0im, 0.564187237486871 - 0.2153342301566137im, 0.0 + 0.0im]\n",
       " • accuracy → 3.4384e-17\n",
       " • residual → 2.8523e-17\n",
       " • condition_jacobian → 1.4801\n",
       " • steps → 15 / 0\n",
       " • extended_precision → false\n",
       " • path_number → 1\n"
      ]
     },
     "execution_count": 10,
     "metadata": {},
     "output_type": "execute_result"
    }
   ],
   "source": [
    "R[1]"
   ]
  }
 ],
 "metadata": {
  "kernelspec": {
   "display_name": "Julia 1.6.1",
   "language": "julia",
   "name": "julia-1.6"
  },
  "language_info": {
   "file_extension": ".jl",
   "mimetype": "application/julia",
   "name": "julia",
   "version": "1.6.1"
  }
 },
 "nbformat": 4,
 "nbformat_minor": 4
}
