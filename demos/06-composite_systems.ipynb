{
 "cells": [
  {
   "cell_type": "markdown",
   "metadata": {},
   "source": [
    "<hr style=\"border:1px solid gray\"> </hr>\n",
    "\n",
    "# Composite systems\n",
    "\n",
    "*Documentation*: https://www.juliahomotopycontinuation.org/HomotopyContinuation.jl/stable/systems/#HomotopyContinuation.compose\n",
    "\n",
    "If your polynomial system $f$ is given as the composition of systems it is more efficient to *not* expand $f$, but exploit this structure! \n",
    "\n",
    "For instance, if\n",
    "\n",
    "$$ f = \\begin{bmatrix} ab - 2\\\\  ac- 1\\end{bmatrix}, \\quad\\text{and}\\quad g =  \\begin{bmatrix}x + y\\\\ y + 3\\\\ x + 2\\end{bmatrix},$$\n",
    "\n",
    "then you solve $f\\circ g$ by"
   ]
  },
  {
   "cell_type": "code",
   "execution_count": null,
   "metadata": {},
   "outputs": [],
   "source": [
    "using HomotopyContinuation\n",
    "@var a b c x y\n",
    "f = System([a * b - 2, a * c- 1])\n",
    "g = System([x + y, y + 3, x + 2])\n",
    "\n",
    "solve(f ∘ g)"
   ]
  },
  {
   "cell_type": "markdown",
   "metadata": {},
   "source": [
    "It is also possible to iterate the above process:"
   ]
  },
  {
   "cell_type": "code",
   "execution_count": null,
   "metadata": {},
   "outputs": [],
   "source": [
    "@var u v\n",
    "h = System([u^2 - 1, u + v - 2])\n",
    "solve(f ∘ g ∘ h)"
   ]
  }
 ],
 "metadata": {
  "kernelspec": {
   "display_name": "Julia 1.5.3",
   "language": "julia",
   "name": "julia-1.5"
  },
  "language_info": {
   "file_extension": ".jl",
   "mimetype": "application/julia",
   "name": "julia",
   "version": "1.5.3"
  }
 },
 "nbformat": 4,
 "nbformat_minor": 4
}
