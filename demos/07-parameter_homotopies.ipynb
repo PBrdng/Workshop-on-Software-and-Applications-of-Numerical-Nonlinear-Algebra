{
 "cells": [
  {
   "cell_type": "markdown",
   "metadata": {},
   "source": [
    "<hr style=\"border:1px solid gray\"> </hr>\n",
    "\n",
    "# Parameter homotopies\n",
    "\n",
    "*Documentation*: https://www.juliahomotopycontinuation.org/HomotopyContinuation.jl/stable/solve/\n",
    "\n",
    "Consider the situation in which one has to solve a specific instance of a *parametrized* family of polynomial systems\n",
    "\n",
    "\n",
    "$$\n",
    "P = \\{F(x,p)  \\mid p \\in \\mathbb{C}^m\\}.\n",
    "$$\n",
    "\n",
    "For instance, let $P = \\{F(x,y,a,b) \\mid (a,b)\\in\\mathbb{C}^2\\}$ where\n",
    "\n",
    "$$F(x,y,a,b) = \\begin{bmatrix} x^2-a \\\\ xy-a+b \\end{bmatrix}.$$\n",
    "\n"
   ]
  },
  {
   "cell_type": "code",
   "execution_count": null,
   "metadata": {},
   "outputs": [],
   "source": [
    "using HomotopyContinuation\n",
    "@var x y a b\n",
    "f = [x^2 - a, x * y - a + b]\n",
    "F = System(f, variables = [x;y], parameters = [a;b])"
   ]
  },
  {
   "cell_type": "markdown",
   "metadata": {},
   "source": [
    "For solving systems with parameters one should **first solve the system for a random set of complex parameters $q$**. \n",
    "\n",
    "After this one should track the solutions towards the parameters $p$ one is interested in by using the *parameter homotopy*\n",
    "\n",
    "$$H(x,t) := F(x, (1-t)p + tq)$$\n",
    "\n",
    "Suppose we are interested in solving the system given by $(a,b)=(3,5)$. Then, following the rule above we solve it as follows."
   ]
  },
  {
   "cell_type": "code",
   "execution_count": null,
   "metadata": {},
   "outputs": [],
   "source": [
    "random_complex_parameters = randn(ComplexF64,2)\n",
    "\n",
    "S0 = solve(F; target_parameters = random_complex_parameters)"
   ]
  },
  {
   "cell_type": "markdown",
   "metadata": {},
   "source": [
    "Then, we track the solutions `S0` towards $(a,b)=(3,5)$ using a parameter homotopy."
   ]
  },
  {
   "cell_type": "code",
   "execution_count": null,
   "metadata": {},
   "outputs": [],
   "source": [
    "S = solve(F, \n",
    "        solutions(S0), \n",
    "        start_parameters = random_complex_parameters, \n",
    "        target_parameters = [3,5])"
   ]
  },
  {
   "cell_type": "markdown",
   "metadata": {},
   "source": [
    "<hr style=\"border:1px solid gray\"> </hr>\n",
    "\n",
    "# Tracking towards many parameters\n",
    "\n",
    "The above computational scheme is particularly useful when one has to solve a system for many different sets of parameters.\n",
    "\n",
    "Here is an example: consider the real algebraic variety $V=\\{f=0\\}\\subset\\mathbb{R}^2$, where\n",
    "\n",
    "$$f(x,y) = x^2y + 2xy - y^3,$$\n",
    "\n",
    "and consider the problem of generating points on $V$. \n",
    "\n",
    "A way of getting points on $V$ is to intersect it with varying *real* linear spaces and record the real \n",
    "intersection points. \n",
    "\n",
    "In the above framework, the coefficients of the linear space would be the parameters.\n",
    "\n",
    "Let us set up the system in Julia and solve it for a random *complex* linear space."
   ]
  },
  {
   "cell_type": "code",
   "execution_count": null,
   "metadata": {},
   "outputs": [],
   "source": [
    "using HomotopyContinuation\n",
    "@var x y\n",
    "@var a b c # variables for the linear space\n",
    "p = [a, b, c] # collect the parameters in a vector\n",
    "\n",
    "F = System([x^2 * y + 2x * y - y^3 + 1; a * x + b * y + c],\n",
    "            variables = [x;y],\n",
    "            parameters = [a;b;c]\n",
    "    )"
   ]
  },
  {
   "cell_type": "code",
   "execution_count": null,
   "metadata": {},
   "outputs": [],
   "source": [
    "# now we solve one particular instance for a,b,c complex. we use this as start system\n",
    "p₀ = randn(ComplexF64, 3)\n",
    "\n",
    "complex_result = solve(F, target_parameters = p₀)\n",
    "S_p₀ = solutions(complex_result)"
   ]
  },
  {
   "cell_type": "markdown",
   "metadata": {},
   "source": [
    "We track these solutions towards <u>many</u> choices of random real parameters $a,b,c$."
   ]
  },
  {
   "cell_type": "code",
   "execution_count": null,
   "metadata": {},
   "outputs": [],
   "source": [
    "many = 1000\n",
    "\n",
    "results = solve(F,\n",
    "                S_p₀,\n",
    "                start_parameters = p₀,\n",
    "                target_parameters = [randn(3) for _ in 1:many]);"
   ]
  },
  {
   "cell_type": "markdown",
   "metadata": {},
   "source": [
    "We can also pass an option to filter solutions with an additional function. \n",
    "\n",
    "Say we only want the real solution points, but not the whole result `struct`."
   ]
  },
  {
   "cell_type": "code",
   "execution_count": null,
   "metadata": {},
   "outputs": [],
   "source": [
    "points = solve(F,\n",
    "                S_p₀,\n",
    "                start_parameters = p₀,\n",
    "                target_parameters = [randn(3) for _ in 1:many],\n",
    "                transform_result = (x,p) -> real_solutions(x),\n",
    "                flatten = true\n",
    "                );"
   ]
  },
  {
   "cell_type": "markdown",
   "metadata": {},
   "source": [
    "Here is the result:"
   ]
  },
  {
   "cell_type": "code",
   "execution_count": null,
   "metadata": {},
   "outputs": [],
   "source": [
    "using Plots\n",
    "points_as_matrix = hcat(points...)\n",
    "scatter(points_as_matrix[1,:], points_as_matrix[2,:], \n",
    "        xlims = (-10,10), ylims = (-10,10), \n",
    "        markersize = 2,\n",
    "        markercolor = :steelblue,\n",
    "        markerstrokecolor = :steelblue)"
   ]
  },
  {
   "cell_type": "markdown",
   "metadata": {},
   "source": [
    "<hr style=\"border:1px solid gray\"> </hr>\n",
    "\n",
    "# Parameter homotopies of composite systems"
   ]
  },
  {
   "cell_type": "markdown",
   "metadata": {},
   "source": [
    "You can also track a parameter homotopies for composite system. If\n",
    "\n",
    "$$ f = \\begin{bmatrix} ab - q\\\\  ac - p\\end{bmatrix}, \\quad g =  \\begin{bmatrix}x + y\\\\ y + 3\\\\ x + 2\\end{bmatrix},$$\n",
    "\n",
    "and you want to track solutions from random complex parameters to $(p,q) = (2, 3)$, this is how it works:"
   ]
  },
  {
   "cell_type": "code",
   "execution_count": null,
   "metadata": {},
   "outputs": [],
   "source": [
    "@var a b c x y \n",
    "@var p q\n",
    "f = System([a * b - q, a * c - p], variables = [a;b;c], parameters = [p;q])\n",
    "g = System([x + y, y + 3, x + 2], variables = [x;y])\n",
    "\n",
    "parameters(f ∘ g)"
   ]
  },
  {
   "cell_type": "code",
   "execution_count": null,
   "metadata": {},
   "outputs": [],
   "source": [
    "complex_parameters = randn(ComplexF64, 2)\n",
    "S_complex = solve(f ∘ g, \n",
    "            target_parameters = complex_parameters, \n",
    "            start_system = :total_degree) "
   ]
  },
  {
   "cell_type": "markdown",
   "metadata": {},
   "source": [
    "Then, we track the solution in `S_complex` to the parameters $(2,3)$."
   ]
  },
  {
   "cell_type": "code",
   "execution_count": null,
   "metadata": {},
   "outputs": [],
   "source": [
    "S = solve(f ∘ g, \n",
    "        solutions(S_complex), \n",
    "        start_parameters = complex_parameters, \n",
    "        target_parameters=[2, 3])"
   ]
  },
  {
   "cell_type": "markdown",
   "metadata": {},
   "source": [
    "It does not matter at which level the parameters are."
   ]
  }
 ],
 "metadata": {
  "kernelspec": {
   "display_name": "Julia 1.6.1",
   "language": "julia",
   "name": "julia-1.6"
  },
  "language_info": {
   "file_extension": ".jl",
   "mimetype": "application/julia",
   "name": "julia",
   "version": "1.6.1"
  }
 },
 "nbformat": 4,
 "nbformat_minor": 4
}
