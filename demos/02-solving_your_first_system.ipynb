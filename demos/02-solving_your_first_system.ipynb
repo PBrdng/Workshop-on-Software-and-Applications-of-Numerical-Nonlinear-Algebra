{
 "cells": [
  {
   "cell_type": "markdown",
   "metadata": {},
   "source": [
    "<hr style=\"border:1px solid gray\"> </hr>\n",
    "\n",
    "# Solve your first system of equations\n",
    "\n",
    "Consider the following simple system of two polynomials in two variables.\n",
    "\n",
    "\n",
    "$$\n",
    "f=\\begin{bmatrix}x^2+2y \\\\\\\\ y^2-2 \\end{bmatrix}\n",
    "$$\n",
    "\n",
    "\n",
    "Solving the equation $f=0$ can be accomplished as follows"
   ]
  },
  {
   "cell_type": "markdown",
   "metadata": {},
   "source": [
    "<hr style=\"border:1px solid gray\"> </hr>\n",
    "\n",
    "# Using Bertini"
   ]
  },
  {
   "cell_type": "code",
   "execution_count": null,
   "metadata": {},
   "outputs": [],
   "source": [
    "using Bertini # load the package into the current Julia session\n",
    "@var x y; # declare the variables x and y\n",
    "f = [x^2 + 2y, y^2 - 2]\n",
    "result0 = bertini(f); # solve f"
   ]
  },
  {
   "cell_type": "code",
   "execution_count": null,
   "metadata": {},
   "outputs": [],
   "source": [
    "result0"
   ]
  },
  {
   "cell_type": "markdown",
   "metadata": {},
   "source": [
    "<hr style=\"border:1px solid gray\"> </hr>\n",
    "\n",
    "# Using PHCPack"
   ]
  },
  {
   "cell_type": "code",
   "execution_count": null,
   "metadata": {},
   "outputs": [],
   "source": [
    "using PHCpack # load the package into the current Julia session\n",
    "@var x y; # declare the variables x and y\n",
    "f = [x^2 + 2y, y^2 - 2]\n",
    "result1 = phc(f); # solve f"
   ]
  },
  {
   "cell_type": "markdown",
   "metadata": {},
   "source": [
    "<hr style=\"border:1px solid gray\"> </hr>\n",
    "\n",
    "# Using HomotopyContinuation.jl\n",
    "\n",
    "*Documentation:* https://www.juliahomotopycontinuation.org/HomotopyContinuation.jl/stable/solve/"
   ]
  },
  {
   "cell_type": "code",
   "execution_count": null,
   "metadata": {},
   "outputs": [],
   "source": [
    "using HomotopyContinuation # load the package into the current Julia session\n",
    "@var x y; # declare the variables x and y\n",
    "f = [x^2 + 2y, y^2 - 2]\n",
    "result = solve(f) # solve f"
   ]
  },
  {
   "cell_type": "markdown",
   "metadata": {},
   "source": [
    "The solutions of $f=0$ (without any additional information) are returned by"
   ]
  },
  {
   "cell_type": "code",
   "execution_count": null,
   "metadata": {},
   "outputs": [],
   "source": [
    "solutions(result)"
   ]
  },
  {
   "cell_type": "markdown",
   "metadata": {},
   "source": [
    "The real zeros of $f$ are returned by"
   ]
  },
  {
   "cell_type": "code",
   "execution_count": null,
   "metadata": {},
   "outputs": [],
   "source": [
    "real_solutions(result)"
   ]
  },
  {
   "cell_type": "markdown",
   "metadata": {},
   "source": [
    "<hr style=\"border:1px solid gray\"> </hr>\n",
    "\n",
    "## The `Result` of a HC.jl computation\n",
    "\n",
    "Above, the command `result = solve(f)` produced a `Result`. This is a particular data structure that contains all information about the computation. \n",
    "\n",
    "A `Result` contains an array whose entries are `PathResults`, which is another structure that contains information about a single path tracking. Let us inspect the first one."
   ]
  },
  {
   "cell_type": "code",
   "execution_count": null,
   "metadata": {},
   "outputs": [],
   "source": [
    "result[1]"
   ]
  },
  {
   "cell_type": "markdown",
   "metadata": {},
   "source": [
    "The information that we see is this:\n",
    "\n",
    "* `return_code`: One of `:success`, `:at_infinity` or any error code in [`PathTrackerStatus.states`](@ref) converted to a `Symbol`.\n",
    "* `solution`: The solution vector.\n",
    "* `accuracy::Union{Nothing, Float64}`: An approximation of ``||x-x^*||₂`` where ``x`` is the computed solution and ``x^*`` is the true solution.\n",
    "* `residual::Union{Nothing, Float64}`: The value of the 2-norm of `H(solution, 0)`.\n",
    "* `condition_jacobian::Union{Nothing, Float64}`: This is the condition number of the row-equilibrated Jacobian at the solution. A high condition number indicates a singularity."
   ]
  },
  {
   "cell_type": "markdown",
   "metadata": {},
   "source": [
    "<hr style=\"border:1px solid gray\"> </hr>\n",
    "\n",
    "# Singular solutions\n",
    "\n",
    "Consider now the system\n",
    "\n",
    "\n",
    "$$\n",
    "g=\\begin{bmatrix}(x+2y)^2 \\\\\\\\ y^2-2 \\end{bmatrix}\n",
    "$$\n",
    "\n",
    "Again, let's solve it."
   ]
  },
  {
   "cell_type": "code",
   "execution_count": null,
   "metadata": {
    "scrolled": true
   },
   "outputs": [],
   "source": [
    "g = [(x + 2y)^2, y^2 - 2]\n",
    "result2 = bertini(g)"
   ]
  },
  {
   "cell_type": "code",
   "execution_count": null,
   "metadata": {},
   "outputs": [],
   "source": [
    "result3 = solve(g)"
   ]
  },
  {
   "cell_type": "markdown",
   "metadata": {},
   "source": [
    "What can you see in the outputs of the softwares? "
   ]
  }
 ],
 "metadata": {
  "kernelspec": {
   "display_name": "Julia 1.6.1",
   "language": "julia",
   "name": "julia-1.6"
  },
  "language_info": {
   "file_extension": ".jl",
   "mimetype": "application/julia",
   "name": "julia",
   "version": "1.6.1"
  }
 },
 "nbformat": 4,
 "nbformat_minor": 4
}
