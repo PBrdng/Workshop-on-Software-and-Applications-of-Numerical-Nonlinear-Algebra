{
 "cells": [
  {
   "cell_type": "markdown",
   "metadata": {},
   "source": [
    "<hr style=\"border:1px solid gray\"> </hr>\n",
    "\n",
    "# Solve your first system of equations\n",
    "Consider the following simple system of two polynomials in two variables.\n",
    "\n",
    "\n",
    "$$\n",
    "f=\\begin{bmatrix}x^2+2y \\\\\\\\ y^2-2 \\end{bmatrix}\n",
    "$$\n",
    "\n",
    "\n",
    "Solving the equation $f=0$ can be accomplished as follows"
   ]
  },
  {
   "cell_type": "markdown",
   "metadata": {},
   "source": [
    "<hr style=\"border:1px solid gray\"> </hr>\n",
    "\n",
    "# Using Bertini"
   ]
  },
  {
   "cell_type": "code",
   "execution_count": 1,
   "metadata": {},
   "outputs": [
    {
     "name": "stdout",
     "output_type": "stream",
     "text": [
      "File path: /var/folders/dm/81rrvn3d6hxb31lf0brq019m0000gn/T/jl_1tfGsb\n",
      "\n",
      "   Bertini(TM) v1.6\n",
      "    (May 22, 2018)\n",
      "\n",
      " D.J. Bates, J.D. Hauenstein,\n",
      " A.J. Sommese, C.W. Wampler\n",
      "\n",
      "(using GMP v6.1.2, MPFR v4.1.0)\n",
      "\n",
      "\n",
      "\n",
      "NOTE: You have requested to use adaptive path tracking.  Please make sure that you have\n",
      "setup the following tolerances appropriately:\n",
      "CoeffBound: 2.117946000000e+00, DegreeBound: 2.000000000000e+00\n",
      "AMPSafetyDigits1: 1, AMPSafetyDigits2: 1, AMPMaxPrec: 1024\n",
      "\n",
      "Tracking path 0 of 4\n",
      "\n",
      "Finite Solution Summary\n",
      "\n",
      "NOTE: nonsingular vs singular is based on condition number and identical endpoints\n",
      "\n",
      "\t\t| Number of real solns\t|  Number of non-real solns\t|  Total\n",
      "------------------------------------------------------------------------------------------\n",
      "Non-singular\t|\t2\t\t|\t\t2\t\t|   4\n",
      "Singular\t|\t0\t\t|\t\t0\t\t|   0\n",
      "------------------------------------------------------------------------------------------\n",
      "Total\t\t|\t2\t\t|\t\t2\t\t|   4\n",
      "\n",
      "\n",
      "Finite Multiplicity Summary\n",
      "\n",
      "  Multiplicity\t|  Number of real solns\t|  Number of non-real solns\n",
      "------------------------------------------------------------------------------------------\n",
      "\t1\t|\t2\t\t|\t2\n",
      "\n",
      "\n",
      "------------------------------------------------------------------------------------------\n",
      "The following files may be of interest to you:\n",
      "\n",
      "main_data:             A human-readable version of the solutions - main output file.\n",
      "raw_solutions:         A list of the solutions with the corresponding path numbers.\n",
      "raw_data:              Similar to the previous, but with the points in Bertini's homogeneous\n",
      "                         coordinates along with more information about the solutions.\n",
      "real_finite_solutions: A list of all real finite solutions.\n",
      "finite_solutions:      A list of all finite solutions.\n",
      "nonsingular_solutions: A list of all nonsingular solutions.\n",
      "singular_solutions:    A list of all singular solutions.\n",
      "------------------------------------------------------------------------------------------\n",
      "\n",
      "Paths Tracked: 4\n",
      "  0.250629 seconds (189 allocations: 16.062 KiB)\n"
     ]
    }
   ],
   "source": [
    "using Bertini # load the package into the current Julia session\n",
    "@var x y; # declare the variables x and y\n",
    "f = [x^2 + 2y, y^2 - 2]\n",
    "result0 = bertini(f); # solve f"
   ]
  },
  {
   "cell_type": "code",
   "execution_count": null,
   "metadata": {},
   "outputs": [],
   "source": [
    "result0"
   ]
  },
  {
   "cell_type": "markdown",
   "metadata": {},
   "source": [
    "The rest of the exercises is explained with HC.jl. But you are free to use Bertini as well. "
   ]
  },
  {
   "cell_type": "markdown",
   "metadata": {},
   "source": [
    "<hr style=\"border:1px solid gray\"> </hr>\n",
    "\n",
    "# Using PHCPack"
   ]
  },
  {
   "cell_type": "code",
   "execution_count": null,
   "metadata": {},
   "outputs": [],
   "source": [
    "using PHCPack # load the package into the current Julia session\n",
    "@var x y; # declare the variables x and y\n",
    "f = [x^2 + 2y, y^2 - 2]\n",
    "result1 = phc(f); # solve f"
   ]
  },
  {
   "cell_type": "markdown",
   "metadata": {},
   "source": [
    "<hr style=\"border:1px solid gray\"> </hr>\n",
    "\n",
    "# Using HomotopyContinuation.jl"
   ]
  },
  {
   "cell_type": "code",
   "execution_count": 2,
   "metadata": {},
   "outputs": [
    {
     "name": "stdout",
     "output_type": "stream",
     "text": [
      "\u001b[32mTracking 4 paths... 100%|███████████████████████████████| Time: 0:00:07\u001b[39m\n",
      "\u001b[34m  # paths tracked:                  4\u001b[39m\n",
      "\u001b[34m  # non-singular solutions (real):  4 (2)\u001b[39m\n",
      "\u001b[34m  # singular endpoints (real):      0 (0)\u001b[39m\n",
      "\u001b[34m  # total solutions (real):         4 (2)\u001b[39m\n"
     ]
    },
    {
     "data": {
      "text/plain": [
       "Result with 4 solutions\n",
       "=======================\n",
       "• 4 paths tracked\n",
       "• 4 non-singular solutions (2 real)\n",
       "• random_seed: 0xbc5c7127\n",
       "• start_system: :polyhedral\n"
      ]
     },
     "execution_count": 2,
     "metadata": {},
     "output_type": "execute_result"
    }
   ],
   "source": [
    "using HomotopyContinuation # load the package into the current Julia session\n",
    "@var x y; # declare the variables x and y\n",
    "f = [x^2 + 2y, y^2 - 2]\n",
    "result = solve(f) # solve f"
   ]
  },
  {
   "cell_type": "markdown",
   "metadata": {},
   "source": [
    "The solutions of $f=0$ (without any additional information) are returned by"
   ]
  },
  {
   "cell_type": "code",
   "execution_count": 3,
   "metadata": {},
   "outputs": [
    {
     "data": {
      "text/plain": [
       "4-element Array{Array{Complex{Float64},1},1}:\n",
       " [7.703719777548943e-34 + 1.681792830507429im, 1.414213562373095 + 3.76158192263132e-37im]\n",
       " [1.681792830507429 + 1.3684555315672042e-48im, -1.414213562373095 + 1.3363823550460978e-51im]\n",
       " [-9.62964972193618e-35 - 1.681792830507429im, 1.4142135623730951 - 2.350988701644575e-38im]\n",
       " [-1.681792830507429 - 1.3684555315672042e-48im, -1.414213562373095 + 1.3363823550460978e-51im]"
      ]
     },
     "execution_count": 3,
     "metadata": {},
     "output_type": "execute_result"
    }
   ],
   "source": [
    "solutions(result)"
   ]
  },
  {
   "cell_type": "markdown",
   "metadata": {},
   "source": [
    "The real zeros of $f$ are returned by"
   ]
  },
  {
   "cell_type": "code",
   "execution_count": 4,
   "metadata": {},
   "outputs": [
    {
     "data": {
      "text/plain": [
       "2-element Array{Array{Float64,1},1}:\n",
       " [1.681792830507429, -1.414213562373095]\n",
       " [-1.681792830507429, -1.414213562373095]"
      ]
     },
     "execution_count": 4,
     "metadata": {},
     "output_type": "execute_result"
    }
   ],
   "source": [
    "real_solutions(result)"
   ]
  },
  {
   "cell_type": "markdown",
   "metadata": {},
   "source": [
    "<hr style=\"border:1px solid gray\"> </hr>\n",
    "\n",
    "## The `Result` of a HC.jl computation\n",
    "\n",
    "Above, the command `result = solve(f)` produced a `Result`. This is a particular data structure that contains all information about the computation. \n",
    "\n",
    "A `Result` contains an array whose entries are `PathResults`, which is another structure that contains information about a single path tracking. Let us inspect the first one."
   ]
  },
  {
   "cell_type": "code",
   "execution_count": 5,
   "metadata": {},
   "outputs": [
    {
     "data": {
      "text/plain": [
       "PathResult:\n",
       " • return_code → :success\n",
       " • solution → Complex{Float64}[7.703719777548943e-34 + 1.681792830507429im, 1.414213562373095 + 3.76158192263132e-37im]\n",
       " • accuracy → 1.0683e-16\n",
       " • residual → 4.4409e-16\n",
       " • condition_jacobian → 2.1694\n",
       " • steps → 15 / 0\n",
       " • extended_precision → false\n",
       " • path_number → 1\n"
      ]
     },
     "execution_count": 5,
     "metadata": {},
     "output_type": "execute_result"
    }
   ],
   "source": [
    "result[1]"
   ]
  },
  {
   "cell_type": "markdown",
   "metadata": {},
   "source": [
    "The information that we see is this:\n",
    "\n",
    "* `return_code`: One of `:success`, `:at_infinity` or any error code in [`PathTrackerStatus.states`](@ref) converted to a `Symbol`.\n",
    "* `solution`: The solution vector.\n",
    "* `accuracy::Union{Nothing, Float64}`: An approximation of ``||x-x^*||₂`` where ``x`` is the computed solution and ``x^*`` is the true solution.\n",
    "* `residual::Union{Nothing, Float64}`: The value of the 2-norm of `H(solution, 0)`.\n",
    "* `condition_jacobian::Union{Nothing, Float64}`: This is the condition number of the row-equilibrated Jacobian at the solution. A high condition number indicates a singularity."
   ]
  },
  {
   "cell_type": "markdown",
   "metadata": {},
   "source": [
    "<hr style=\"border:1px solid gray\"> </hr>\n",
    "\n",
    "# Singular solutions\n",
    "\n",
    "Consider now the system\n",
    "\n",
    "\n",
    "$$\n",
    "g=\\begin{bmatrix}(x+2y)^2 \\\\\\\\ y^2-2 \\end{bmatrix}\n",
    "$$\n",
    "\n",
    "Again, let's solve it."
   ]
  },
  {
   "cell_type": "code",
   "execution_count": 2,
   "metadata": {
    "scrolled": true
   },
   "outputs": [
    {
     "name": "stdout",
     "output_type": "stream",
     "text": [
      "File path: /var/folders/dm/81rrvn3d6hxb31lf0brq019m0000gn/T/jl_jSwTQO\n",
      "\n",
      "   Bertini(TM) v1.6\n",
      "    (May 22, 2018)\n",
      "\n",
      " D.J. Bates, J.D. Hauenstein,\n",
      " A.J. Sommese, C.W. Wampler\n",
      "\n",
      "(using GMP v6.1.2, MPFR v4.1.0)\n",
      "\n",
      "\n",
      "\n",
      "NOTE: You have requested to use adaptive path tracking.  Please make sure that you have\n",
      "setup the following tolerances appropriately:\n",
      "CoeffBound: 4.967674000000e+00, DegreeBound: 2.000000000000e+00\n",
      "AMPSafetyDigits1: 1, AMPSafetyDigits2: 1, AMPMaxPrec: 1024\n",
      "\n",
      "Tracking path 0 of 4\n",
      "\n",
      "Finite Solution Summary\n",
      "\n",
      "NOTE: nonsingular vs singular is based on condition number and identical endpoints\n",
      "\n",
      "\t\t| Number of real solns\t|  Number of non-real solns\t|  Total\n",
      "------------------------------------------------------------------------------------------\n",
      "Non-singular\t|\t0\t\t|\t\t0\t\t|   0\n",
      "Singular\t|\t2\t\t|\t\t0\t\t|   2\n",
      "------------------------------------------------------------------------------------------\n",
      "Total\t\t|\t2\t\t|\t\t0\t\t|   2\n",
      "\n",
      "\n",
      "Finite Multiplicity Summary\n",
      "\n",
      "  Multiplicity\t|  Number of real solns\t|  Number of non-real solns\n",
      "------------------------------------------------------------------------------------------\n",
      "\t2\t|\t2\t\t|\t0\n",
      "\n",
      "\n",
      "------------------------------------------------------------------------------------------\n",
      "The following files may be of interest to you:\n",
      "\n",
      "main_data:             A human-readable version of the solutions - main output file.\n",
      "raw_solutions:         A list of the solutions with the corresponding path numbers.\n",
      "raw_data:              Similar to the previous, but with the points in Bertini's homogeneous\n",
      "                         coordinates along with more information about the solutions.\n",
      "real_finite_solutions: A list of all real finite solutions.\n",
      "finite_solutions:      A list of all finite solutions.\n",
      "nonsingular_solutions: A list of all nonsingular solutions.\n",
      "singular_solutions:    A list of all singular solutions.\n",
      "------------------------------------------------------------------------------------------\n",
      "\n",
      "Paths Tracked: 4\n",
      "  0.020772 seconds (59 allocations: 5.953 KiB)\n"
     ]
    },
    {
     "data": {
      "text/plain": [
       "Dict{Symbol,Any} with 3 entries:\n",
       "  :runtime          => 0.006385\n",
       "  :file_path        => \"/var/folders/dm/81rrvn3d6hxb31lf0brq019m0000gn/T/jl_jSw…\n",
       "  :finite_solutions => Array{Complex{Float64},1}[[2.82843-4.19442e-13im, -1.414…"
      ]
     },
     "execution_count": 2,
     "metadata": {},
     "output_type": "execute_result"
    }
   ],
   "source": [
    "g = [(x + 2y)^2, y^2 - 2]\n",
    "result2 = bertini(g)"
   ]
  },
  {
   "cell_type": "code",
   "execution_count": 3,
   "metadata": {},
   "outputs": [
    {
     "ename": "LoadError",
     "evalue": "UndefVarError: solve not defined",
     "output_type": "error",
     "traceback": [
      "UndefVarError: solve not defined",
      "",
      "Stacktrace:",
      " [1] top-level scope at In[3]:1",
      " [2] include_string(::Function, ::Module, ::String, ::String) at ./loading.jl:1091"
     ]
    }
   ],
   "source": [
    "result3 = solve(g)"
   ]
  },
  {
   "cell_type": "markdown",
   "metadata": {},
   "source": [
    "What can you see in the outputs of the softwares? "
   ]
  }
 ],
 "metadata": {
  "kernelspec": {
   "display_name": "Julia 1.5.3",
   "language": "julia",
   "name": "julia-1.5"
  },
  "language_info": {
   "file_extension": ".jl",
   "mimetype": "application/julia",
   "name": "julia",
   "version": "1.5.3"
  }
 },
 "nbformat": 4,
 "nbformat_minor": 4
}
