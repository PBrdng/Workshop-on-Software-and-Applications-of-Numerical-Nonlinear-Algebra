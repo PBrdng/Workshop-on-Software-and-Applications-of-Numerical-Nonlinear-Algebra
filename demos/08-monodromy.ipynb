{
 "cells": [
  {
   "cell_type": "markdown",
   "metadata": {},
   "source": [
    "<hr style=\"border:1px solid gray\"> </hr>\n",
    "\n",
    "# Monodromy \n",
    "\n",
    "*Documentation*: https://www.juliahomotopycontinuation.org/HomotopyContinuation.jl/stable/monodromy/\n",
    "\n",
    "An alternative to using the `solve` function is solving a polynomial system $F=(f_1,\\ldots,f_n)$ by monodromy. \n",
    "\n",
    "Here is the basic idea:\n",
    "\n",
    "\n",
    "Suppose $x$ is a solution $F(x)=0$ and that $F(x)=F(x,u)$ is a point in a family of polynomial systems \n",
    "\n",
    "$$P=\\{F(x,u) \\mid u\\in \\mathbb{C}^k\\}.$$\n",
    "\n",
    "The monodromy method consists in moving around $u$ in a loop starting and ending at $u_0$ while tracking $x$ along that loop. After one iteration usually one has found a new solution $y\\in \\mathbb{C}^n$. This process then is repeated until some stopping criterion is fulfilled.\n",
    "\n",
    "\n",
    "Here is a simple example: take\n",
    "\n",
    "$$F(x,y,u_1,u_2) = \\begin{bmatrix} x^4 + y - 2u_1\\\\\\ x^4 + x^2 - 2u_2y^2 \\end{bmatrix}.$$\n",
    "\n",
    "For the initial parameters $u_0=(1,1)$ we have the solution $(x,y) = (1,1)$. For finding all solutions of $F(x,y,1,1)$ we use"
   ]
  },
  {
   "cell_type": "code",
   "execution_count": 1,
   "metadata": {},
   "outputs": [
    {
     "data": {
      "text/plain": [
       "System of length 2\n",
       " 2 variables: x, y\n",
       " 2 parameters: u₁, u₂\n",
       "\n",
       " -2*u₁ + y + x^4\n",
       " -2*y^2*u₂ + x^2 + x^4"
      ]
     },
     "execution_count": 1,
     "metadata": {},
     "output_type": "execute_result"
    }
   ],
   "source": [
    "using HomotopyContinuation\n",
    "@var x y \n",
    "@var u[1:2] # u are the parameters\n",
    "F = System([x^4 + y - 2u[1], x^4 + x^2 - 2*u[2]*y^2],\n",
    "            variables = [x;y],\n",
    "            parameters = u)"
   ]
  },
  {
   "cell_type": "code",
   "execution_count": 5,
   "metadata": {},
   "outputs": [
    {
     "data": {
      "text/plain": [
       "MonodromyResult\n",
       "===============\n",
       "• return_code → :heuristic_stop\n",
       "• 8 solutions\n",
       "• 64 tracked loops\n",
       "• random_seed → 0xfff3066c"
      ]
     },
     "execution_count": 5,
     "metadata": {},
     "output_type": "execute_result"
    }
   ],
   "source": [
    "initial_solutions = [[1; 1]]\n",
    "initial_parameter = [1, 1]\n",
    "monodromy_solve(F, initial_solutions, initial_parameter)"
   ]
  },
  {
   "cell_type": "markdown",
   "metadata": {},
   "source": [
    "It is possible to not pass initial solution and initial parameters. \n",
    "\n",
    "In this case, the software will generate random complex parameters and try to compute one solutions with Newton's method."
   ]
  },
  {
   "cell_type": "code",
   "execution_count": 3,
   "metadata": {},
   "outputs": [
    {
     "data": {
      "text/plain": [
       "MonodromyResult\n",
       "===============\n",
       "• return_code → :heuristic_stop\n",
       "• 8 solutions\n",
       "• 96 tracked loops\n",
       "• random_seed → 0xce480673"
      ]
     },
     "execution_count": 3,
     "metadata": {},
     "output_type": "execute_result"
    }
   ],
   "source": [
    "S = monodromy_solve(F)"
   ]
  },
  {
   "cell_type": "code",
   "execution_count": 8,
   "metadata": {},
   "outputs": [
    {
     "data": {
      "text/plain": [
       "2-element Array{Complex{Float64},1}:\n",
       "   0.4189819491408889 + 0.3004480087427145im\n",
       " -0.03157549028095419 - 0.08537273995692989im"
      ]
     },
     "execution_count": 8,
     "metadata": {},
     "output_type": "execute_result"
    }
   ],
   "source": [
    "parameters(S)"
   ]
  },
  {
   "cell_type": "markdown",
   "metadata": {},
   "source": [
    "<hr style=\"border:1px solid gray\"> </hr>\n",
    "\n",
    "# Group Actions"
   ]
  },
  {
   "cell_type": "markdown",
   "metadata": {},
   "source": [
    "If the set of solutions of `F` is invariant under some group actions you can exploit this in your computation.\n",
    "\n",
    "\n",
    "In the above example, the group that interchanges `x` and `y` acts on the solution set of `F`. We can use the group that multiplies `x` by $\\pm 1$."
   ]
  },
  {
   "cell_type": "code",
   "execution_count": 10,
   "metadata": {},
   "outputs": [
    {
     "data": {
      "text/plain": [
       "MonodromyResult\n",
       "===============\n",
       "• return_code → :heuristic_stop\n",
       "• 4 classes of solutions (modulo group action)\n",
       "• 24 tracked loops\n",
       "• random_seed → 0x799266a7"
      ]
     },
     "execution_count": 10,
     "metadata": {},
     "output_type": "execute_result"
    }
   ],
   "source": [
    "G = GroupActions( a -> ([-a[1], a[2]], ))\n",
    "monodromy_solve(F, \n",
    "                initial_solutions, \n",
    "                initial_parameter, \n",
    "                group_actions = G)"
   ]
  },
  {
   "cell_type": "markdown",
   "metadata": {},
   "source": [
    "Now, we found only 4 solutions: one from each orbit. If we suppress computing with equivalence classes, then"
   ]
  },
  {
   "cell_type": "code",
   "execution_count": 11,
   "metadata": {},
   "outputs": [
    {
     "data": {
      "text/plain": [
       "MonodromyResult\n",
       "===============\n",
       "• return_code → :heuristic_stop\n",
       "• 8 solutions\n",
       "• 64 tracked loops\n",
       "• random_seed → 0x8afc689b"
      ]
     },
     "execution_count": 11,
     "metadata": {},
     "output_type": "execute_result"
    }
   ],
   "source": [
    "monodromy_solve(F, \n",
    "                initial_solutions, \n",
    "                initial_parameter, \n",
    "                group_actions = G, \n",
    "                equivalence_classes = false)"
   ]
  },
  {
   "cell_type": "markdown",
   "metadata": {},
   "source": [
    "This also works:"
   ]
  },
  {
   "cell_type": "code",
   "execution_count": 12,
   "metadata": {},
   "outputs": [
    {
     "data": {
      "text/plain": [
       "MonodromyResult\n",
       "===============\n",
       "• return_code → :heuristic_stop\n",
       "• 4 classes of solutions (modulo group action)\n",
       "• 28 tracked loops\n",
       "• random_seed → 0xf413b603"
      ]
     },
     "execution_count": 12,
     "metadata": {},
     "output_type": "execute_result"
    }
   ],
   "source": [
    "monodromy_solve(F, group_actions = G)"
   ]
  },
  {
   "cell_type": "code",
   "execution_count": null,
   "metadata": {},
   "outputs": [],
   "source": []
  }
 ],
 "metadata": {
  "kernelspec": {
   "display_name": "Julia 1.5.3",
   "language": "julia",
   "name": "julia-1.5"
  },
  "language_info": {
   "file_extension": ".jl",
   "mimetype": "application/julia",
   "name": "julia",
   "version": "1.5.3"
  }
 },
 "nbformat": 4,
 "nbformat_minor": 4
}
