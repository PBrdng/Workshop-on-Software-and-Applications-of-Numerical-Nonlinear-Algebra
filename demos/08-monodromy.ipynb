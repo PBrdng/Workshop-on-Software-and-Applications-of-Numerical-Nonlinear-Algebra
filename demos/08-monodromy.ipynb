{
 "cells": [
  {
   "cell_type": "markdown",
   "metadata": {},
   "source": [
    "<hr style=\"border:1px solid gray\"> </hr>\n",
    "\n",
    "# Monodromy \n",
    "\n",
    "*Documentation*: https://www.juliahomotopycontinuation.org/HomotopyContinuation.jl/stable/monodromy/\n",
    "\n",
    "An alternative to using the `solve` function is solving a polynomial system $F=(f_1,\\ldots,f_n)$ by monodromy. \n",
    "\n",
    "Here is the basic idea:\n",
    "\n",
    "\n",
    "Suppose $x$ is a solution $F(x)=0$ and that $F(x)=F(x,u)$ is a point in a family of polynomial systems \n",
    "\n",
    "$$P=\\{F(x,u) \\mid u\\in \\mathbb{C}^k\\}.$$\n",
    "\n",
    "The monodromy method consists in moving around $u$ in a loop starting and ending at $u_0$ while tracking $x$ along that loop. After one iteration usually one has found a new solution $y\\in \\mathbb{C}^n$. This process then is repeated until some stopping criterion is fulfilled.\n",
    "\n",
    "\n",
    "Here is a simple example: take\n",
    "\n",
    "$$F(x,y,u_1,u_2) = \\begin{bmatrix} x^4 + y - 2u_1\\\\\\ x^4 + x^2 - 2u_2y^2 \\end{bmatrix}.$$\n",
    "\n",
    "For the initial parameters $u_0=(1,1)$ we have the solution $(x,y) = (1,1)$. For finding all solutions of $F(x,y,1,1)$ we use"
   ]
  },
  {
   "cell_type": "code",
   "execution_count": 1,
   "metadata": {},
   "outputs": [
    {
     "data": {
      "text/plain": [
       "System of length 2\n",
       " 2 variables: x, y\n",
       " 2 parameters: u₁, u₂\n",
       "\n",
       " -2*u₁ + y + x^4\n",
       " -2*y^2*u₂ + x^2 + x^4"
      ]
     },
     "execution_count": 1,
     "metadata": {},
     "output_type": "execute_result"
    }
   ],
   "source": [
    "using HomotopyContinuation\n",
    "@var x y \n",
    "@var u[1:2] # u are the parameters\n",
    "F = System([x^4 + y - 2u[1], x^4 + x^2 - 2*u[2]*y^2],\n",
    "            variables = [x;y],\n",
    "            parameters = u)"
   ]
  },
  {
   "cell_type": "code",
   "execution_count": 2,
   "metadata": {},
   "outputs": [
    {
     "name": "stdout",
     "output_type": "stream",
     "text": [
      "\r",
      "\u001b[32mSolutions found: 8 \t Time: 0:00:02\u001b[39m\r\n",
      "\u001b[34m  tracked loops (queued):            96 (0)\u001b[39m\r\n",
      "\u001b[34m  solutions in current (last) loop:  0 (0)\u001b[39m\r\n",
      "\u001b[34m  generated loops (no change):       12 (5)\u001b[39m\n"
     ]
    },
    {
     "data": {
      "text/plain": [
       "MonodromyResult\n",
       "===============\n",
       "• return_code → :heuristic_stop\n",
       "• 8 solutions\n",
       "• 96 tracked loops\n",
       "• random_seed → 0x3eefcad6"
      ]
     },
     "execution_count": 2,
     "metadata": {},
     "output_type": "execute_result"
    }
   ],
   "source": [
    "initial_solutions = [[1; 1]]\n",
    "initial_parameter = [1, 1]\n",
    "monodromy_solve(F, initial_solutions, initial_parameter)"
   ]
  },
  {
   "cell_type": "markdown",
   "metadata": {},
   "source": [
    "It is possible to not pass initial solution and initial parameters. \n",
    "\n",
    "In this case, the software will generate random complex parameters and try to compute one solutions with Newton's method."
   ]
  },
  {
   "cell_type": "code",
   "execution_count": 3,
   "metadata": {},
   "outputs": [
    {
     "data": {
      "text/plain": [
       "MonodromyResult\n",
       "===============\n",
       "• return_code → :heuristic_stop\n",
       "• 8 solutions\n",
       "• 72 tracked loops\n",
       "• random_seed → 0xdb4ef88e"
      ]
     },
     "execution_count": 3,
     "metadata": {},
     "output_type": "execute_result"
    }
   ],
   "source": [
    "S = monodromy_solve(F)"
   ]
  },
  {
   "cell_type": "code",
   "execution_count": 4,
   "metadata": {},
   "outputs": [
    {
     "data": {
      "text/plain": [
       "2-element Vector{ComplexF64}:\n",
       " -0.15997161328947587 + 0.3942054554810579im\n",
       "  0.23224876736623443 - 0.11205578552447898im"
      ]
     },
     "execution_count": 4,
     "metadata": {},
     "output_type": "execute_result"
    }
   ],
   "source": [
    "parameters(S)"
   ]
  },
  {
   "cell_type": "markdown",
   "metadata": {},
   "source": [
    "<hr style=\"border:1px solid gray\"> </hr>\n",
    "\n",
    "# Group Actions\n",
    "\n",
    "If the set of solutions of `F` is invariant under some group actions you can exploit this in your computation.\n",
    "\n",
    "\n",
    "In the above example, the group that interchanges `x` and `y` acts on the solution set of `F`. We can use the group that multiplies `x` by $\\pm 1$."
   ]
  },
  {
   "cell_type": "code",
   "execution_count": 5,
   "metadata": {},
   "outputs": [
    {
     "data": {
      "text/plain": [
       "MonodromyResult\n",
       "===============\n",
       "• return_code → :heuristic_stop\n",
       "• 4 classes of solutions (modulo group action)\n",
       "• 32 tracked loops\n",
       "• random_seed → 0x202149d5"
      ]
     },
     "execution_count": 5,
     "metadata": {},
     "output_type": "execute_result"
    }
   ],
   "source": [
    "G = GroupActions( a -> ([-a[1], a[2]], ))\n",
    "monodromy_solve(F, \n",
    "                initial_solutions, \n",
    "                initial_parameter, \n",
    "                group_actions = G)"
   ]
  },
  {
   "cell_type": "markdown",
   "metadata": {},
   "source": [
    "Now, we found only 4 solutions: one from each orbit. If we suppress computing with equivalence classes, then"
   ]
  },
  {
   "cell_type": "code",
   "execution_count": 6,
   "metadata": {},
   "outputs": [
    {
     "data": {
      "text/plain": [
       "MonodromyResult\n",
       "===============\n",
       "• return_code → :heuristic_stop\n",
       "• 8 solutions\n",
       "• 56 tracked loops\n",
       "• random_seed → 0x49cb810a"
      ]
     },
     "execution_count": 6,
     "metadata": {},
     "output_type": "execute_result"
    }
   ],
   "source": [
    "monodromy_solve(F, \n",
    "                initial_solutions, \n",
    "                initial_parameter, \n",
    "                group_actions = G, \n",
    "                equivalence_classes = false)"
   ]
  },
  {
   "cell_type": "markdown",
   "metadata": {},
   "source": [
    "This also works:"
   ]
  },
  {
   "cell_type": "code",
   "execution_count": 7,
   "metadata": {},
   "outputs": [
    {
     "data": {
      "text/plain": [
       "MonodromyResult\n",
       "===============\n",
       "• return_code → :heuristic_stop\n",
       "• 2 classes of solutions (modulo group action)\n",
       "• 12 tracked loops\n",
       "• random_seed → 0x06296412"
      ]
     },
     "execution_count": 7,
     "metadata": {},
     "output_type": "execute_result"
    }
   ],
   "source": [
    "monodromy_solve(F, group_actions = G)"
   ]
  },
  {
   "cell_type": "markdown",
   "metadata": {},
   "source": [
    "<hr style=\"border:1px solid gray\"> </hr>\n",
    "\n",
    "# Permutations\n",
    "\n",
    "Monodromy loops incude a permutations on the zeros of $F=0$. \n",
    "\n",
    "They can be extracted as follows:"
   ]
  },
  {
   "cell_type": "code",
   "execution_count": 19,
   "metadata": {},
   "outputs": [
    {
     "data": {
      "text/plain": [
       "MonodromyResult\n",
       "===============\n",
       "• return_code → :heuristic_stop\n",
       "• 8 solutions\n",
       "• 72 tracked loops\n",
       "• random_seed → 0x7ac03e60"
      ]
     },
     "execution_count": 19,
     "metadata": {},
     "output_type": "execute_result"
    }
   ],
   "source": [
    "S = monodromy_solve(F; permutations = true) # the default is `permutations = false`"
   ]
  },
  {
   "cell_type": "code",
   "execution_count": 20,
   "metadata": {},
   "outputs": [
    {
     "data": {
      "text/plain": [
       "8×5 Matrix{Int64}:\n",
       " 1  2  1  1  1\n",
       " 2  3  5  4  7\n",
       " 3  4  3  3  3\n",
       " 4  1  6  2  8\n",
       " 5  7  2  8  5\n",
       " 6  8  4  7  6\n",
       " 7  6  7  5  2\n",
       " 8  5  8  6  4"
      ]
     },
     "execution_count": 20,
     "metadata": {},
     "output_type": "execute_result"
    }
   ],
   "source": [
    "permutations(S)"
   ]
  },
  {
   "cell_type": "markdown",
   "metadata": {},
   "source": [
    "This table shows the permuted indices in each column. The column represent different loops"
   ]
  },
  {
   "cell_type": "code",
   "execution_count": 22,
   "metadata": {},
   "outputs": [
    {
     "data": {
      "text/plain": [
       "8×9 Matrix{Int64}:\n",
       " 1  1  2  1  1  1  1  1  1\n",
       " 2  2  3  5  4  2  7  5  2\n",
       " 3  3  4  3  3  3  3  3  3\n",
       " 4  4  1  6  2  4  8  6  4\n",
       " 5  5  7  2  8  5  5  2  5\n",
       " 6  6  8  4  7  6  6  4  6\n",
       " 7  7  6  7  5  7  2  7  7\n",
       " 8  8  5  8  6  8  4  8  8"
      ]
     },
     "execution_count": 22,
     "metadata": {},
     "output_type": "execute_result"
    }
   ],
   "source": [
    "permutations(S; reduced = false)"
   ]
  },
  {
   "cell_type": "code",
   "execution_count": null,
   "metadata": {},
   "outputs": [],
   "source": []
  }
 ],
 "metadata": {
  "kernelspec": {
   "display_name": "Julia 1.6.1",
   "language": "julia",
   "name": "julia-1.6"
  },
  "language_info": {
   "file_extension": ".jl",
   "mimetype": "application/julia",
   "name": "julia",
   "version": "1.6.1"
  }
 },
 "nbformat": 4,
 "nbformat_minor": 4
}
