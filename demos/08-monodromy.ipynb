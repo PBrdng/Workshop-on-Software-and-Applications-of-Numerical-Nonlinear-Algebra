{
 "cells": [
  {
   "cell_type": "markdown",
   "metadata": {},
   "source": [
    "<hr style=\"border:1px solid gray\"> </hr>\n",
    "\n",
    "# Monodromy \n",
    "\n",
    "*Documentation*: https://www.juliahomotopycontinuation.org/HomotopyContinuation.jl/stable/monodromy/\n",
    "\n",
    "An alternative to using the `solve` function is solving a polynomial system $F=(f_1,\\ldots,f_n)$ by monodromy. \n",
    "\n",
    "Here is the basic idea:\n",
    "\n",
    "\n",
    "Suppose $x$ is a solution $F(x)=0$ and that $F(x)=F(x,u)$ is a point in a family of polynomial systems \n",
    "\n",
    "$$P=\\{F(x,u) \\mid u\\in \\mathbb{C}^k\\}.$$\n",
    "\n",
    "The monodromy method consists in moving around $u$ in a loop starting and ending at $u_0$ while tracking $x$ along that loop. After one iteration usually one has found a new solution $y\\in \\mathbb{C}^n$. This process then is repeated until some stopping criterion is fulfilled.\n",
    "\n",
    "\n",
    "Here is a simple example: take\n",
    "\n",
    "$$F(x,y,u_1,u_2) = \\begin{bmatrix} x^4 + y - 2u_1\\\\\\ x^4 + x^2 - 2u_2y^2 \\end{bmatrix}.$$\n",
    "\n",
    "For the initial parameters $u_0=(1,1)$ we have the solution $(x,y) = (1,1)$. For finding all solutions of $F(x,y,1,1)$ we use"
   ]
  },
  {
   "cell_type": "code",
   "execution_count": null,
   "metadata": {},
   "outputs": [],
   "source": [
    "using HomotopyContinuation\n",
    "@var x y \n",
    "@var u[1:2] # u are the parameters\n",
    "F = System([x^4 + y - 2u[1], x^4 + x^2 - 2*u[2]*y^2],\n",
    "            variables = [x;y],\n",
    "            parameters = u)"
   ]
  },
  {
   "cell_type": "code",
   "execution_count": null,
   "metadata": {},
   "outputs": [],
   "source": [
    "initial_solutions = [[1; 1]]\n",
    "initial_parameter = [1, 1]\n",
    "monodromy_solve(F, initial_solutions, initial_parameter)"
   ]
  },
  {
   "cell_type": "markdown",
   "metadata": {},
   "source": [
    "It is possible to not pass initial solution and initial parameters. \n",
    "\n",
    "In this case, the software will generate random complex parameters and try to compute one solutions with Newton's method."
   ]
  },
  {
   "cell_type": "code",
   "execution_count": null,
   "metadata": {},
   "outputs": [],
   "source": [
    "S = monodromy_solve(F)"
   ]
  },
  {
   "cell_type": "code",
   "execution_count": null,
   "metadata": {},
   "outputs": [],
   "source": [
    "parameters(S)"
   ]
  },
  {
   "cell_type": "markdown",
   "metadata": {},
   "source": [
    "<hr style=\"border:1px solid gray\"> </hr>\n",
    "\n",
    "# Group Actions\n",
    "\n",
    "If the set of solutions of `F` is invariant under some group actions you can exploit this in your computation.\n",
    "\n",
    "\n",
    "In the above example, the group that interchanges `x` and `y` acts on the solution set of `F`. We can use the group that multiplies `x` by $\\pm 1$."
   ]
  },
  {
   "cell_type": "code",
   "execution_count": null,
   "metadata": {},
   "outputs": [],
   "source": [
    "G = GroupActions( a -> ([-a[1], a[2]], ))\n",
    "monodromy_solve(F, \n",
    "                initial_solutions, \n",
    "                initial_parameter, \n",
    "                group_actions = G)"
   ]
  },
  {
   "cell_type": "markdown",
   "metadata": {},
   "source": [
    "Now, we found only 4 solutions: one from each orbit. If we suppress computing with equivalence classes, then"
   ]
  },
  {
   "cell_type": "code",
   "execution_count": null,
   "metadata": {},
   "outputs": [],
   "source": [
    "monodromy_solve(F, \n",
    "                initial_solutions, \n",
    "                initial_parameter, \n",
    "                group_actions = G, \n",
    "                equivalence_classes = false)"
   ]
  },
  {
   "cell_type": "markdown",
   "metadata": {},
   "source": [
    "This also works:"
   ]
  },
  {
   "cell_type": "code",
   "execution_count": null,
   "metadata": {},
   "outputs": [],
   "source": [
    "monodromy_solve(F, group_actions = G)"
   ]
  },
  {
   "cell_type": "markdown",
   "metadata": {},
   "source": [
    "<hr style=\"border:1px solid gray\"> </hr>\n",
    "\n",
    "# Permutations\n",
    "\n",
    "Monodromy loops incude a permutations on the zeros of $F=0$. \n",
    "\n",
    "They can be extracted as follows:"
   ]
  },
  {
   "cell_type": "code",
   "execution_count": null,
   "metadata": {},
   "outputs": [],
   "source": [
    "S = monodromy_solve(F; permutations = true) # the default is `permutations = false`"
   ]
  },
  {
   "cell_type": "code",
   "execution_count": null,
   "metadata": {},
   "outputs": [],
   "source": [
    "permutations(S)"
   ]
  },
  {
   "cell_type": "markdown",
   "metadata": {},
   "source": [
    "This table shows the permuted indices in each column. \n",
    "\n",
    "The columns represent different loops.\n",
    "\n",
    "The table does not show repeated permutations. \n",
    "\n",
    "If you want a table that shows in the $i$-th column the permutations induced by the $i$-th loop, then this works:"
   ]
  },
  {
   "cell_type": "code",
   "execution_count": null,
   "metadata": {},
   "outputs": [],
   "source": [
    "permutations(S; reduced = false)"
   ]
  }
 ],
 "metadata": {
  "kernelspec": {
   "display_name": "Julia 1.6.1",
   "language": "julia",
   "name": "julia-1.6"
  },
  "language_info": {
   "file_extension": ".jl",
   "mimetype": "application/julia",
   "name": "julia",
   "version": "1.6.1"
  }
 },
 "nbformat": 4,
 "nbformat_minor": 4
}
