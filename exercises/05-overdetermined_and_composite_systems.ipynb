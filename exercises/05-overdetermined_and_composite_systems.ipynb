{
 "cells": [
  {
   "cell_type": "markdown",
   "metadata": {},
   "source": [
    "<hr style=\"border:1px solid gray\"> </hr>\n",
    "\n",
    "# Overdetermined systems\n",
    "\n",
    "A system of polynomial equations $f=(f_1(x_1,\\ldots, x_m),\\ldots,  f_n(x_1,\\ldots,x_m))$ is called *overdetermined*, if it has more equations than variables; i.e., when $n>m$. HomotopyContinuation.jl can solve overdetermined systems. Here is a simple example.\n",
    "\n",
    "$$f(x,y,z) = \\begin{bmatrix} xz-y^2 \\\\\\ y-z^2 \\\\\\ x-yz \\\\\\ x + y + z + 1\\end{bmatrix}.$$\n",
    "\n",
    "This system has 4 equation in 3 variables. One might expect that it has no solution, but actually it has solutions, as is explained [here](https://en.wikipedia.org/wiki/Rational_normal_curve).\n",
    "\n",
    "The Julia code is as follows"
   ]
  },
  {
   "cell_type": "code",
   "execution_count": 1,
   "metadata": {},
   "outputs": [
    {
     "name": "stdout",
     "output_type": "stream",
     "text": [
      "\u001b[32mTracking 5 paths... 100%|███████████████████████████████| Time: 0:00:08\u001b[39m\n",
      "\u001b[34m  # paths tracked:                  5\u001b[39m\n",
      "\u001b[34m  # non-singular solutions (real):  3 (1)\u001b[39m\n",
      "\u001b[34m  # singular endpoints (real):      0 (0)\u001b[39m\n",
      "\u001b[34m  # total solutions (real):         3 (1)\u001b[39m\n"
     ]
    },
    {
     "data": {
      "text/plain": [
       "Result with 3 solutions\n",
       "=======================\n",
       "• 5 paths tracked\n",
       "• 3 non-singular solutions (1 real)\n",
       "• 2 excess solutions\n",
       "• random_seed: 0x09097a52\n",
       "• start_system: :polyhedral\n"
      ]
     },
     "execution_count": 1,
     "metadata": {},
     "output_type": "execute_result"
    }
   ],
   "source": [
    "using HomotopyContinuation\n",
    "@var x y z\n",
    "f = [\n",
    "    x*z - y^2, \n",
    "    y - z^2, \n",
    "    x - y*z, \n",
    "    x + y + z + 1\n",
    "]\n",
    "\n",
    "solve(f)"
   ]
  },
  {
   "cell_type": "markdown",
   "metadata": {},
   "source": [
    "Internally, HomotopyContinuation multiplies $f$ with a random $3\\times 4$ matrix $A$ and then solves the quadratic system $Af$. For a generic $A$ the isolated zeros of $f$ are isolated zeros of $Af$. We can do this by hand:"
   ]
  },
  {
   "cell_type": "code",
   "execution_count": 2,
   "metadata": {},
   "outputs": [
    {
     "name": "stdout",
     "output_type": "stream",
     "text": [
      "\u001b[32mTracking 6 paths... 100%|███████████████████████████████| Time: 0:00:02\u001b[39m\n",
      "\u001b[34m  # paths tracked:                  6\u001b[39m\n",
      "\u001b[34m  # non-singular solutions (real):  5 (1)\u001b[39m\n",
      "\u001b[34m  # singular endpoints (real):      0 (0)\u001b[39m\n",
      "\u001b[34m  # total solutions (real):         5 (1)\u001b[39m\n"
     ]
    },
    {
     "data": {
      "text/plain": [
       "Result with 5 solutions\n",
       "=======================\n",
       "• 6 paths tracked\n",
       "• 5 non-singular solutions (1 real)\n",
       "• random_seed: 0x1c225a19\n",
       "• start_system: :polyhedral\n"
      ]
     },
     "execution_count": 2,
     "metadata": {},
     "output_type": "execute_result"
    }
   ],
   "source": [
    "A = randn(ComplexF64, 3, 4)\n",
    "S = solve(A*f)"
   ]
  },
  {
   "cell_type": "markdown",
   "metadata": {},
   "source": [
    "and sort out the zeros of $f$ by hand by first evaluation $f$ at the entries of `S`"
   ]
  },
  {
   "cell_type": "code",
   "execution_count": 3,
   "metadata": {},
   "outputs": [
    {
     "data": {
      "text/plain": [
       "5-element Array{Array{Complex{Float64},1},1}:\n",
       " [-0.012158421332225916 - 0.10406022887657514im, 0.3967818617169086 - 0.03225032557197248im, -0.32874183818540786 - 0.48373817985195605im, 1.0649512911632886 - 0.12264532784621052im]\n",
       " [-2.220446049250313e-16 - 1.2854157372834284e-16im, 2.220446049250313e-16 - 2.3232446801547724e-16im, 1.520267170027599e-16 + 4.440892098500626e-16im, 3.984190017847113e-17 - 7.771561172376096e-16im]\n",
       " [-2.220446049250313e-16 - 5.927276076647478e-17im, 0.0 + 1.0142380740177176e-16im, 2.220446049250313e-16 + 1.4389058481998623e-16im, -2.220446049250313e-16 - 2.870804064647678e-16im]\n",
       " [-2.220446049250313e-16 - 2.8970810878801883e-16im, 2.220446049250313e-16 - 7.095843253537515e-17im, 2.29577964005159e-16 - 4.440892098500626e-16im, -6.299789632200459e-16 - 8.881784197001252e-16im]\n",
       " [0.11694769383670156 - 0.3198258313947999im, 1.1988542569725888 + 0.4868758430996216im, -0.24648549288642396 - 1.8850087298907705im, 3.2704845012492303 + 1.2020190949217011im]"
      ]
     },
     "execution_count": 3,
     "metadata": {},
     "output_type": "execute_result"
    }
   ],
   "source": [
    "f_values = map(s -> [fi([x, y, z] => s) for fi in f], solutions(S))"
   ]
  },
  {
   "cell_type": "markdown",
   "metadata": {},
   "source": [
    "and then sorting out the zero entries"
   ]
  },
  {
   "cell_type": "code",
   "execution_count": 4,
   "metadata": {},
   "outputs": [
    {
     "name": "stdout",
     "output_type": "stream",
     "text": [
      "\n",
      " and the zeros are at [2, 3, 4]\n"
     ]
    }
   ],
   "source": [
    "zero_entries = findall(v -> maximum(abs.(v)) < 1e-10, f_values)\n",
    "println(\"\\n and the zeros are at $zero_entries\")"
   ]
  },
  {
   "cell_type": "markdown",
   "metadata": {},
   "source": [
    "However, evaluation of $f$ at the solutions of $Af$ is not a stable way of finding the zeros of $f$. This is because $f$ and $tf$ have the same zeros for all $t\\in\\mathbb{C}\\backslash\\{0\\}$. HomotopyContinuation.jl checks which zeros of $Af$ converge quadratically fast towards zeros of $f$ in order to make a decision."
   ]
  },
  {
   "cell_type": "markdown",
   "metadata": {},
   "source": [
    "<hr style=\"border:1px solid gray\"> </hr>\n",
    "\n",
    "# Composite systems\n",
    "\n",
    "If your polynomial system $f$ is given as the composition of systems it is more efficient to *not* expand $f$, but exploit this structure! \n",
    "\n",
    "For instance, if\n",
    "\n",
    "$$ f = \\begin{bmatrix} ab - 2\\\\  ac- 1\\end{bmatrix}, \\quad\\text{and}\\quad g =  \\begin{bmatrix}x + y\\\\ y + 3\\\\ x + 2\\end{bmatrix},$$\n",
    "\n",
    "then you solve $f\\circ g$ by"
   ]
  },
  {
   "cell_type": "code",
   "execution_count": 6,
   "metadata": {},
   "outputs": [
    {
     "name": "stdout",
     "output_type": "stream",
     "text": [
      "\u001b[32mTracking 4 paths... 100%|███████████████████████████████| Time: 0:00:02\u001b[39m\n",
      "\u001b[34m  # paths tracked:                  4\u001b[39m\n",
      "\u001b[34m  # non-singular solutions (real):  2 (2)\u001b[39m\n",
      "\u001b[34m  # singular endpoints (real):      0 (0)\u001b[39m\n",
      "\u001b[34m  # total solutions (real):         2 (2)\u001b[39m\n"
     ]
    },
    {
     "data": {
      "text/plain": [
       "Result with 2 solutions\n",
       "=======================\n",
       "• 4 paths tracked\n",
       "• 2 non-singular solutions (2 real)\n",
       "• random_seed: 0x2e4fc417\n",
       "• start_system: :polyhedral\n"
      ]
     },
     "execution_count": 6,
     "metadata": {},
     "output_type": "execute_result"
    }
   ],
   "source": [
    "using HomotopyContinuation\n",
    "@var a b c x y\n",
    "f = System([a * b - 2, a * c- 1])\n",
    "g = System([x + y, y + 3, x + 2])\n",
    "\n",
    "solve(f ∘ g)"
   ]
  },
  {
   "cell_type": "markdown",
   "metadata": {},
   "source": [
    "It is also possible to iterate the above process:"
   ]
  },
  {
   "cell_type": "code",
   "execution_count": 7,
   "metadata": {},
   "outputs": [
    {
     "name": "stdout",
     "output_type": "stream",
     "text": [
      "\u001b[32mTracking 8 paths... 100%|███████████████████████████████| Time: 0:00:02\u001b[39m\n",
      "\u001b[34m  # paths tracked:                  8\u001b[39m\n",
      "\u001b[34m  # non-singular solutions (real):  4 (2)\u001b[39m\n",
      "\u001b[34m  # singular endpoints (real):      0 (0)\u001b[39m\n",
      "\u001b[34m  # total solutions (real):         4 (2)\u001b[39m\n"
     ]
    },
    {
     "data": {
      "text/plain": [
       "Result with 4 solutions\n",
       "=======================\n",
       "• 8 paths tracked\n",
       "• 4 non-singular solutions (2 real)\n",
       "• random_seed: 0x9dbfe33e\n",
       "• start_system: :polyhedral\n"
      ]
     },
     "execution_count": 7,
     "metadata": {},
     "output_type": "execute_result"
    }
   ],
   "source": [
    "@var u v\n",
    "h = System([u^2 - 1, u + v - 2])\n",
    "solve(f ∘ g ∘ h)"
   ]
  },
  {
   "cell_type": "code",
   "execution_count": null,
   "metadata": {},
   "outputs": [],
   "source": []
  }
 ],
 "metadata": {
  "kernelspec": {
   "display_name": "Julia 1.5.3",
   "language": "julia",
   "name": "julia-1.5"
  },
  "language_info": {
   "file_extension": ".jl",
   "mimetype": "application/julia",
   "name": "julia",
   "version": "1.5.3"
  }
 },
 "nbformat": 4,
 "nbformat_minor": 4
}
