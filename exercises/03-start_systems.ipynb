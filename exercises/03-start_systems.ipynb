{
 "cells": [
  {
   "cell_type": "markdown",
   "metadata": {},
   "source": [
    "# Start systems\n",
    "\n",
    "For a given polynomial system there are *infinitely many* possible start systems and homotopies.\n",
    "We say that a homotopy is *optimal* if $H(x,1)$ has the same number of solutions as $F(x)=H(x,0)$. Optimal homotopies only need to track the minimal number of paths to  get *all* solutions of $F(x)$. But constructing optimal homotopies is in general *not* possible. We don't even know an efficient method to compute the number of solutions of $F(x)$. \n",
    "\n",
    "Instead of aiming at optimal homotopies, we construct homotopies $H(x,t)$ such that the number of solutions of the start system $H(x,1)$ is greater or equal than the number of solutions of the target $H(x,0)$.\n",
    "\n",
    "\n",
    "## Polyhedral homotopy - the standard strategy\n",
    "\n",
    "\n",
    "Let $F=(f_1,\\ldots,f_n)$ be a system of $n$ polynomials in $n$ variables $x=(x_1,\\ldots,x_n)$. By default `HomotopyContinuation.jl` uses the so called polyhedral homotopy for solving $F(x)=0$. I.e.\n",
    "\n",
    "```julia\n",
    "solve(F)\n",
    "```\n",
    "\n",
    "performs a polyhedral homotopy. This is a sophisticated method.\n",
    "\n",
    "For instance, let $F=(f_1,f_2)$ with\n",
    "\n",
    "$$    f_1(x,y) = (x^4 + y^4 - 1)(x^2 + y^2 - 2) + x^5y  \\quad \\text{ and } \\quad f_2(x,y) =  x^2 + 2xy^2 - 2y^2 - \\frac{1}{2} \\,.$$\n",
    "\n",
    "Then solving for $F=0$ works as follows."
   ]
  },
  {
   "cell_type": "code",
   "execution_count": 7,
   "metadata": {},
   "outputs": [
    {
     "data": {
      "text/plain": [
       "Result with 18 solutions\n",
       "========================\n",
       "• 18 paths tracked\n",
       "• 18 non-singular solutions (4 real)\n",
       "• random_seed: 0x84a75786\n",
       "• start_system: :polyhedral\n"
      ]
     },
     "execution_count": 7,
     "metadata": {},
     "output_type": "execute_result"
    }
   ],
   "source": [
    "using HomotopyContinuation\n",
    "@var x y\n",
    "f1 = (x^4 + y^4 - 1)*(x^2 + y^2 - 2) + x^5*y\n",
    "f2 = x^2 + 2x*y^2 - 2y^2 - 1/2\n",
    "\n",
    "F = System([f1; f2])\n",
    "\n",
    "solve(F)"
   ]
  },
  {
   "cell_type": "markdown",
   "metadata": {},
   "source": [
    "Exercise: how can you see from the output which start system was used?"
   ]
  },
  {
   "cell_type": "markdown",
   "metadata": {},
   "source": [
    "# Totaldegree homotopy \n",
    "\n",
    "Instead, we can also use the more simple totaldegree homotopy, which works as follows. Suppose that the $i$-th polynomial has degree $d_i$. Then the totaldegree homotopy for $F$ is\n",
    "\n",
    "$$H(x,t) = tG(x) + (1-t)F(x), \\text{ where } G(x) = \\lambda\\,\\begin{bmatrix}x_1^{d_1}-1\\\\\\ \\vdots\\\\\\ x_n^{d_n}-1\\end{bmatrix}$$\n",
    "\n",
    "and where $\\lambda$ is a random complex number. This works as follows."
   ]
  },
  {
   "cell_type": "code",
   "execution_count": 8,
   "metadata": {},
   "outputs": [
    {
     "data": {
      "text/plain": [
       "Result with 18 solutions\n",
       "========================\n",
       "• 18 paths tracked\n",
       "• 18 non-singular solutions (4 real)\n",
       "• random_seed: 0x237888fb\n",
       "• start_system: :total_degree\n"
      ]
     },
     "execution_count": 8,
     "metadata": {},
     "output_type": "execute_result"
    }
   ],
   "source": [
    "solve(F, start_system = :total_degree)"
   ]
  },
  {
   "cell_type": "markdown",
   "metadata": {},
   "source": [
    "It is often insightful to check the number of paths that need to be tracked in total:"
   ]
  },
  {
   "cell_type": "code",
   "execution_count": 9,
   "metadata": {},
   "outputs": [
    {
     "data": {
      "text/plain": [
       "(18, 18)"
      ]
     },
     "execution_count": 9,
     "metadata": {},
     "output_type": "execute_result"
    }
   ],
   "source": [
    "paths_to_track(F), paths_to_track(F, start_system = :total_degree)"
   ]
  },
  {
   "cell_type": "markdown",
   "metadata": {},
   "source": [
    "## Multiprojective totaldegree\n",
    "\n",
    "Sometimes, the variables can be grouped to obtain a better start system.\n",
    "\n",
    "A generalization of Bezout's theorem by [Shafarevich](https://en.wikipedia.org/wiki/Multi-homogeneous_Bézout_theorem) works over products of projective spaces. We can exploit this theorem to generate start systems."
   ]
  },
  {
   "cell_type": "code",
   "execution_count": 10,
   "metadata": {},
   "outputs": [
    {
     "name": "stdout",
     "output_type": "stream",
     "text": [
      "\u001b[32mTracking 24 paths... 100%|██████████████████████████████| Time: 0:00:01\u001b[39m\n",
      "\u001b[34m  # paths tracked:                  24\u001b[39m\n",
      "\u001b[34m  # non-singular solutions (real):  18 (4)\u001b[39m\n",
      "\u001b[34m  # singular endpoints (real):      0 (0)\u001b[39m\n",
      "\u001b[34m  # total solutions (real):         18 (4)\u001b[39m\n"
     ]
    },
    {
     "data": {
      "text/plain": [
       "Result with 18 solutions\n",
       "========================\n",
       "• 24 paths tracked\n",
       "• 18 non-singular solutions (4 real)\n",
       "• random_seed: 0xa6517fdb\n",
       "• start_system: :total_degree\n"
      ]
     },
     "execution_count": 10,
     "metadata": {},
     "output_type": "execute_result"
    }
   ],
   "source": [
    "F₂ = System([f1; f2], variable_groups = [[x], [y]])\n",
    "solve(F₂)"
   ]
  },
  {
   "cell_type": "markdown",
   "metadata": {},
   "source": [
    "(In this example it is actually worse to use the grouping $\\{x\\}, \\{y\\}$.)"
   ]
  },
  {
   "cell_type": "code",
   "execution_count": null,
   "metadata": {},
   "outputs": [],
   "source": []
  }
 ],
 "metadata": {
  "kernelspec": {
   "display_name": "Julia 1.5.3",
   "language": "julia",
   "name": "julia-1.5"
  },
  "language_info": {
   "file_extension": ".jl",
   "mimetype": "application/julia",
   "name": "julia",
   "version": "1.5.3"
  }
 },
 "nbformat": 4,
 "nbformat_minor": 4
}
