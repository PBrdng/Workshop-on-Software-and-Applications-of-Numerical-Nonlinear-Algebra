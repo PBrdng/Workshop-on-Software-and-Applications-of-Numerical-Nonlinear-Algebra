{
 "cells": [
  {
   "cell_type": "markdown",
   "metadata": {},
   "source": [
    "# Exercise: Circles tangent to 3 conics "
   ]
  },
  {
   "cell_type": "markdown",
   "metadata": {},
   "source": [
    "A *conic* is the zero set of a quadratic polynomial\n",
    "$$\n",
    "c(x,y) = a_1 x^2 + a_2 x y + a_3 y^2 + a_4 x + a_5 y + a_6\n",
    "$$\n",
    "with $a_i \\in \\mathbb{C}$.\n",
    "\n",
    "[Emiris and Tzoumas](http://www.win.tue.nl/EWCG2005/Proceedings/38.pdf) write that there are 184 complex circles that are tangent to 3 general conics $C_1$, $C_2$ and $C_3$. This means, that there are 184 complex solutions $(a_1,a_2,r)$ such that there exists some $(x,y)\\in\\mathbb{C}^2$ with\n",
    "\n",
    "* $(x-a_1)^2 + (y-a_2)^2 = r$,\n",
    "\n",
    "* $(x,y)\\in C_i$ for $1\\leq i\\leq 3$ and\n",
    "\n",
    "* $(x-a_1, y-a_2)$ spans the normal space of $C_i$ at $(x,y)$ for $1\\leq i\\leq 3$.\n"
   ]
  },
  {
   "cell_type": "markdown",
   "metadata": {},
   "source": [
    "**1)**: Setup the polynomial system for 3 general conics and verify that this system has indeed 184 solutions\n",
    "\n",
    "**2)**:\n",
    "Consider the three conics\n",
    "\n",
    "$$C_1 = \\{y=-x^2+2x+5\\}, C_2 = \\{y = 2x^2+5x-8\\} \\text{ and } C_3 = \\{y = 8x^2-3x-2\\}.$$\n",
    "\n",
    "How many circles are tangent to these 3 conics? How many of them are real?\n",
    "\n",
    "**3)**: Find a configuration of 3 conics with as many real solutions as possible. It is possible to find 184 real solutions?"
   ]
  }
 ],
 "metadata": {
  "kernelspec": {
   "display_name": "Julia 1.1.0",
   "language": "julia",
   "name": "julia-1.1"
  },
  "language_info": {
   "file_extension": ".jl",
   "mimetype": "application/julia",
   "name": "julia",
   "version": "1.1.0"
  }
 },
 "nbformat": 4,
 "nbformat_minor": 2
}
