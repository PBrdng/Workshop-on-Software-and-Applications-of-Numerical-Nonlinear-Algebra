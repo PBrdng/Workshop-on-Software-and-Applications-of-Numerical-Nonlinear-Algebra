{
 "cells": [
  {
   "cell_type": "markdown",
   "metadata": {},
   "source": [
    "# Parameter homotopies\n",
    "\n",
    "Consider the situation in which one has to solve a specific instance of a *parametrized* family of polynomial systems\n",
    "\n",
    "\n",
    "$$\n",
    "P = \\{F(x,p)  \\mid p \\in \\mathbb{C}^m\\}.\n",
    "$$\n",
    "\n",
    "It is a rule of thumb that for solving systems with parameters one should **first solve the system for a random set of complex parameters $q$**. Only after this one should track the solutions towards the parameters $p$ one is interested in by using the *parameter homotopy*\n",
    "\n",
    "$$H(x,t) := F(x, (1-t)p + tq)$$\n",
    "\n",
    "For instance, let $P = \\{F(x,y,a,b) \\mid (a,b)\\in\\mathbb{C}^2\\}$ where\n",
    "\n",
    "$$F(x,y,a,b) = \\begin{bmatrix} x^2-a \\\\ xy-a+b \\end{bmatrix}.$$\n",
    "\n",
    "Suppose we are interested in solving the system given by $(a,b)=(3,5)$. Then, following the rule above we solve it as follows."
   ]
  },
  {
   "cell_type": "code",
   "execution_count": null,
   "metadata": {},
   "outputs": [],
   "source": [
    "using HomotopyContinuation\n",
    "@polyvar x y a b\n",
    "F = [x^2 - a, x * y - a + b]\n",
    "\n",
    "random_complex_parameters = randn(ComplexF64,2)\n",
    "S0 = solve([subs(f, [a,b] => random_complex_parameters) for f in F])"
   ]
  },
  {
   "cell_type": "markdown",
   "metadata": {},
   "source": [
    "Then, we track the solutions `S0` towards $(a,b)=(3,5)$ using a parameter homotopy."
   ]
  },
  {
   "cell_type": "code",
   "execution_count": null,
   "metadata": {},
   "outputs": [],
   "source": [
    "S = solve(F, solutions(S0), \n",
    "        parameters = [a,b], \n",
    "        start_parameters = random_complex_parameters, \n",
    "        target_parameters = [3,5])"
   ]
  },
  {
   "cell_type": "markdown",
   "metadata": {},
   "source": [
    "## Tracking towards many parameters\n",
    "\n",
    "The above computational scheme is particularly useful when one has to solve a system for many different sets of parameters.\n",
    "\n",
    "Here is an example: consider the real algebraic variety $V=\\{f=0\\}\\subset\\mathbb{R}^2$, where\n",
    "\n",
    "$$f(x,y) = x^2y + 2xy - y^3,$$\n",
    "\n",
    "and consider the problem of generating points on $V$ (for instance as input for persistence homology). \n",
    "\n",
    "A way of getting points on $V$ is to intersect it with varying *real* linear spaces and record the real intersection points. In the above framework, the coefficients of the linear space would be the parameters.\n",
    "\n",
    "Let us set up the system in Julia and solve it for a random *complex* linear space."
   ]
  },
  {
   "cell_type": "code",
   "execution_count": null,
   "metadata": {},
   "outputs": [],
   "source": [
    "using HomotopyContinuation\n",
    "@polyvar x y\n",
    "@polyvar a b c # variables for the linear space\n",
    "p = [a, b, c] # collect the parameters in a vector\n",
    "\n",
    "F = [x^2 * y + 2x * y - y^3 + 1; a * x + b * y + c]\n",
    "\n",
    "# now we solve one particular instance for a,b,c complex. we use this as start system\n",
    "p₀ = randn(ComplexF64, 3)\n",
    "F₀ = [subs(f, p => p₀) for f in F]\n",
    "complex_result = solve(F₀)\n",
    "S_p₀ = solutions(complex_result)"
   ]
  },
  {
   "cell_type": "markdown",
   "metadata": {},
   "source": [
    "As before, we can now track the complex parameters towards parameters we are interested in. Here, HomotopyContinuation.jl has a distinguished feature: we can create an object `tracker` and manipulate it for tracking efficiently many parameters."
   ]
  },
  {
   "cell_type": "code",
   "execution_count": null,
   "metadata": {},
   "outputs": [],
   "source": [
    "tracker = pathtracker(F; parameters=p, start_parameters=p₀, target_parameters = randn(3))\n",
    "\n",
    "# we compute 1000 random intersections\n",
    "data = [randn(3) for _ in 1:1000]\n",
    "points = Vector{Vector{Float64}}()\n",
    "for pp in data\n",
    "    for s in S_p₀\n",
    "        result = track(tracker, s; target_parameters=pp)\n",
    "        # check that the tracking was successfull and that we have a real solution\n",
    "        if is_success(result) && is_real(result)\n",
    "            # only store the solutions\n",
    "            s = real(solution(result))\n",
    "            push!(points, s)\n",
    "        end\n",
    "    end\n",
    "end"
   ]
  },
  {
   "cell_type": "markdown",
   "metadata": {},
   "source": [
    "Here is the result:"
   ]
  },
  {
   "cell_type": "code",
   "execution_count": null,
   "metadata": {},
   "outputs": [],
   "source": [
    "using Plots\n",
    "points_as_matrix = hcat(points...)\n",
    "scatter(points_as_matrix[1,:], points_as_matrix[2,:], \n",
    "        xlims = (-10,10), ylims = (-10,10), \n",
    "        markersize = 2,\n",
    "        markercolor = :steelblue,\n",
    "        markerstrokealpha = 0.0)"
   ]
  },
  {
   "cell_type": "markdown",
   "metadata": {},
   "source": [
    "## Parameter homotopies of composite systems"
   ]
  },
  {
   "cell_type": "markdown",
   "metadata": {},
   "source": [
    "You can also track a parameter homotopies for composite system. If\n",
    "\n",
    "$$ f = \\begin{bmatrix} ab - q\\\\  ac - p\\end{bmatrix}, \\quad g =  \\begin{bmatrix}x + y\\\\ y + 3\\\\ x + 2\\end{bmatrix},$$\n",
    "\n",
    "and you want to track solutions from random complex parameters to $(p,q) = (2, 3)$, this is how it works:"
   ]
  },
  {
   "cell_type": "code",
   "execution_count": null,
   "metadata": {},
   "outputs": [],
   "source": [
    "@polyvar a b c x y \n",
    "@polyvar p q\n",
    "f = [a * b - q, a * c - p]\n",
    "g = [x + y, y + 3, x + 2]\n",
    "\n",
    "complex_parameters = randn(ComplexF64, 2)\n",
    "f_complex = [subs(fi, [p, q] => complex_parameters) for fi in f]\n",
    "S_complex = solve(f_complex ∘ g)"
   ]
  },
  {
   "cell_type": "markdown",
   "metadata": {},
   "source": [
    "Then, we track the solution in `S_complex` to the parameters $(2,3)$."
   ]
  },
  {
   "cell_type": "code",
   "execution_count": null,
   "metadata": {},
   "outputs": [],
   "source": [
    "S = solve(f ∘ g, solutions(S_complex), \n",
    "        parameters=[p, q], \n",
    "        start_parameters = complex_parameters, \n",
    "        target_parameters=[2, 3])"
   ]
  },
  {
   "cell_type": "markdown",
   "metadata": {},
   "source": [
    "It does not matter at which level the parameters are."
   ]
  }
 ],
 "metadata": {
  "kernelspec": {
   "display_name": "Julia 1.5.3",
   "language": "julia",
   "name": "julia-1.5"
  },
  "language_info": {
   "file_extension": ".jl",
   "mimetype": "application/julia",
   "name": "julia",
   "version": "1.5.3"
  }
 },
 "nbformat": 4,
 "nbformat_minor": 4
}
