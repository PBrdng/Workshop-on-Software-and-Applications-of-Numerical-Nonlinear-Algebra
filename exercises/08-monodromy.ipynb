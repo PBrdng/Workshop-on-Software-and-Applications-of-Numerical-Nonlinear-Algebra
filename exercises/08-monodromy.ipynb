{
 "cells": [
  {
   "cell_type": "markdown",
   "metadata": {},
   "source": [
    "# The monodromy method\n",
    "\n",
    "An alternative to using the `solve` function is solving a polynomial system $F=(f_1,\\ldots,f_n)$ by monodromy. This approach is more efficient, but requires the user to provide at least one solution of $F=0$. Here is the basic idea:\n",
    "\n",
    "\n",
    "Suppose $x$ is a solution $F(x)=0$ and that $F(x)=F(x,u)$ is a point in a family of polynomial systems \n",
    "\n",
    "$$P=\\{F(x,u) \\mid u\\in \\mathbb{C}^k\\}.$$\n",
    "\n",
    "The monodromy method consists in moving around $u$ in a loop starting and ending at $u_0$ while tracking $x$ along that loop. After one iteration usually one has found a new solution $y\\in \\mathbb{C}^n$. This process then is repeated until some stopping criterion is fulfilled.\n",
    "\n",
    "\n",
    "Here is a simple example: take\n",
    "\n",
    "$$F(x,y,u_1,u_2) = \\begin{bmatrix} x^4 + y - 2u_1\\\\\\ x^4 + x^2 - 2u_2y^2 \\end{bmatrix}.$$\n",
    "\n",
    "For the initial parameters $u_0=(1,1)$ we have the solution $(x,y) = (1,1)$. For finding all solutions of $F_2$ we use"
   ]
  },
  {
   "cell_type": "code",
   "execution_count": null,
   "metadata": {},
   "outputs": [],
   "source": [
    "using HomotopyContinuation\n",
    "@polyvar x y \n",
    "@polyvar u[1:2] # u are the parameters\n",
    "F = [x^4 + y - 2u[1], x^4 + x^2 - 2*u[2]*y^2]\n",
    "\n",
    "initial_solutions = [[1; 1]]\n",
    "initial_parameter = [1, 1]\n",
    "monodromy_solve(F, initial_solutions, initial_parameter, parameters = u)"
   ]
  },
  {
   "cell_type": "markdown",
   "metadata": {},
   "source": [
    "## Group Actions"
   ]
  },
  {
   "cell_type": "markdown",
   "metadata": {},
   "source": [
    "If the set of solutions of `F` is invariant under some group actions you can exploit this in your computation.\n",
    "\n",
    "\n",
    "In the above example, the group that interchanges `x` and `y` acts on the solution set of `F`. We can use the group that multiplies `x` by $\\pm 1$."
   ]
  },
  {
   "cell_type": "code",
   "execution_count": null,
   "metadata": {},
   "outputs": [],
   "source": [
    "G = GroupActions( a -> ([-a[1], a[2]], ))\n",
    "monodromy_solve(F, initial_solutions, initial_parameter, parameters = u, group_actions = G)"
   ]
  },
  {
   "cell_type": "markdown",
   "metadata": {},
   "source": [
    "Now, we found only 4 solutions: one from each orbit. If we suppress computing with equivalence classes, then"
   ]
  },
  {
   "cell_type": "code",
   "execution_count": null,
   "metadata": {},
   "outputs": [],
   "source": [
    "monodromy_solve(F, initial_solutions, initial_parameter, \n",
    "        parameters = u, \n",
    "        group_actions = G, \n",
    "        equivalence_classes = false)"
   ]
  }
 ],
 "metadata": {
  "kernelspec": {
   "display_name": "Julia 1.1.0",
   "language": "julia",
   "name": "julia-1.1"
  },
  "language_info": {
   "file_extension": ".jl",
   "mimetype": "application/julia",
   "name": "julia",
   "version": "1.1.0"
  }
 },
 "nbformat": 4,
 "nbformat_minor": 2
}
