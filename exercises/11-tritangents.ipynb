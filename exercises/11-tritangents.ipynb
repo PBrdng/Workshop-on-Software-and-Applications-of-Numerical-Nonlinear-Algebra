{
 "cells": [
  {
   "cell_type": "markdown",
   "metadata": {},
   "source": [
    "<hr style=\"border:1px solid gray\"> </hr>\n",
    "\n",
    "# Tritangents on quartic surface"
   ]
  },
  {
   "cell_type": "markdown",
   "metadata": {},
   "source": [
    "Consider a general quartic surface $f \\in \\mathbb{C}[x,y,z]$. \n",
    "\n",
    "This is defined by a random polynomial $f\\in \\mathbb{C}[x,y,z]$ of degree 4.\n",
    "\n",
    "We want to count the number of planes in three-space which are tangent to $f$ in at least 3 points."
   ]
  },
  {
   "cell_type": "markdown",
   "metadata": {},
   "source": [
    "**1)**: Set up polynomial systems to compute all tritangent planes of a general quartic surface. (Hint you should obtain a polynomial system in 11 variables).\n",
    "\n",
    "**2)**: What is the Bezout bound of the system in 1).\n",
    "\n",
    "**3)**: Use the monodromy method to solve the system from 1)."
   ]
  }
 ],
 "metadata": {
  "kernelspec": {
   "display_name": "Julia 1.5.3",
   "language": "julia",
   "name": "julia-1.5"
  },
  "language_info": {
   "file_extension": ".jl",
   "mimetype": "application/julia",
   "name": "julia",
   "version": "1.5.3"
  }
 },
 "nbformat": 4,
 "nbformat_minor": 4
}
