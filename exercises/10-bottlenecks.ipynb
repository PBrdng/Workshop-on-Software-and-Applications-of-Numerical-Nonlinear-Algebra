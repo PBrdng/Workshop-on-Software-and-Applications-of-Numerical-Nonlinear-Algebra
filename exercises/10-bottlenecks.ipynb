{
 "cells": [
  {
   "cell_type": "markdown",
   "metadata": {},
   "source": [
    "# Bottlenecks"
   ]
  },
  {
   "cell_type": "markdown",
   "metadata": {},
   "source": [
    "A real algebraic variety is the common zero set of polynomials $f_1, \\ldots, f_m \\in \\mathbb{R}[x_1,\\ldots,x_n]$ denoted by $X=V(f_1,\\ldots,f_m)$.\n",
    "\n",
    "A bottleneck of $X$ is defined to be a pair of distinct points $x, y ∈ X$ such that $x-y$ is orthogonal to the tangent space $\\mathrm{T}_x X$ and to $\\mathrm{T}_y X$. In other words, $(x,y)$ is a bottleneck, if and only if $x-y\\in\\mathrm{N}_x X$ and $x-y\\in\\mathrm{N}_y X$, the normal spaces at $x$ and $y$.\n",
    "\n",
    "In [DEW18](https://arxiv.org/abs/1904.04502) it is shown that a generic plane curve of degree $d$ has $d^4 −5d^2 +4d$ bottleneck pairs. This is called the *bottleneck degree* of the curve."
   ]
  },
  {
   "cell_type": "markdown",
   "metadata": {},
   "source": [
    "<figure>\n",
    "<img src=\"images/bottlenecks.png\" alt=\"ED\" style=\"width: 500px;\"/>\n",
    "<figcaption style=\"color:DIMGRAY\">The bottlenecks of the variety $X=V( x_1^4 + x_2^4+1-4x_2 - x_1^2x_2^2-4x_1^2-x_1-2x_2^2)$</figcaption>\n",
    "</figure>"
   ]
  },
  {
   "cell_type": "markdown",
   "metadata": {},
   "source": [
    "### Exercise\n",
    "\n",
    "Consider the curve $X=V(f)$ defined by $f=(x^4 + y^4 - 1)(x^2 + y^2 - 2) + x^5y$."
   ]
  },
  {
   "cell_type": "markdown",
   "metadata": {},
   "source": [
    "**1)**: Write down definining equations for computing all bottlenecks.\n",
    "\n",
    "**2)**: What is the Bottleneck degree of $X$? How many real bottlenecks does it have?\n",
    "\n",
    "**3)**: What are the coordinates smallest bottleneck pair?\n",
    "\n",
    "**4)**: What effect do different start systems have on the number of paths necessary to track?\n",
    "\n",
    "**5)**: Visualize all bottlenecks for your favorite plane curve"
   ]
  }
 ],
 "metadata": {
  "@webio": {
   "lastCommId": null,
   "lastKernelId": null
  },
  "kernelspec": {
   "display_name": "Julia 1.1.0",
   "language": "julia",
   "name": "julia-1.1"
  },
  "language_info": {
   "file_extension": ".jl",
   "mimetype": "application/julia",
   "name": "julia",
   "version": "1.1.0"
  }
 },
 "nbformat": 4,
 "nbformat_minor": 2
}
